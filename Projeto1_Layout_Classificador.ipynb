{
 "cells": [
  {
   "cell_type": "markdown",
   "metadata": {},
   "source": [
    "# Projeto 1 - Ciência dos Dados"
   ]
  },
  {
   "cell_type": "markdown",
   "metadata": {},
   "source": [
    "Nome: Gustavo Pinheiro de Carvalho\n",
    "\n",
    "Nome: Maria Eduarda Matta Mercer Mourão"
   ]
  },
  {
   "cell_type": "markdown",
   "metadata": {},
   "source": [
    "Atenção: Serão permitidos grupos de três pessoas, mas com uma rubrica mais exigente. Grupos deste tamanho precisarão fazer um questionário de avaliação de trabalho em equipe"
   ]
  },
  {
   "cell_type": "markdown",
   "metadata": {},
   "source": [
    "___\n",
    "Carregando algumas bibliotecas:"
   ]
  },
  {
   "cell_type": "code",
   "execution_count": 868,
   "metadata": {},
   "outputs": [],
   "source": [
    "%matplotlib inline\n",
    "import pandas as pd\n",
    "import matplotlib.pyplot as plt\n",
    "import numpy as np\n",
    "import os"
   ]
  },
  {
   "cell_type": "code",
   "execution_count": 869,
   "metadata": {
    "scrolled": false
   },
   "outputs": [
    {
     "name": "stdout",
     "output_type": "stream",
     "text": [
      "Esperamos trabalhar no diretório\n",
      "/Users/gustavopinheiro/P1-CD21-1\n"
     ]
    }
   ],
   "source": [
    "print('Esperamos trabalhar no diretório')\n",
    "print(os.getcwd())"
   ]
  },
  {
   "cell_type": "markdown",
   "metadata": {},
   "source": [
    "### Carregando a base de dados com os tweets classificados como relevantes e não relevantes:"
   ]
  },
  {
   "cell_type": "code",
   "execution_count": 870,
   "metadata": {},
   "outputs": [],
   "source": [
    "filename = 'Xiaomi.xlsx'"
   ]
  },
  {
   "cell_type": "code",
   "execution_count": 871,
   "metadata": {},
   "outputs": [
    {
     "data": {
      "text/html": [
       "<div>\n",
       "<style scoped>\n",
       "    .dataframe tbody tr th:only-of-type {\n",
       "        vertical-align: middle;\n",
       "    }\n",
       "\n",
       "    .dataframe tbody tr th {\n",
       "        vertical-align: top;\n",
       "    }\n",
       "\n",
       "    .dataframe thead th {\n",
       "        text-align: right;\n",
       "    }\n",
       "</style>\n",
       "<table border=\"1\" class=\"dataframe\">\n",
       "  <thead>\n",
       "    <tr style=\"text-align: right;\">\n",
       "      <th></th>\n",
       "      <th>Treinamento</th>\n",
       "      <th>Classificação</th>\n",
       "    </tr>\n",
       "  </thead>\n",
       "  <tbody>\n",
       "    <tr>\n",
       "      <td>0</td>\n",
       "      <td>@baixinho04 xiaomi seria uma boa opção. eu ten...</td>\n",
       "      <td>1</td>\n",
       "    </tr>\n",
       "    <tr>\n",
       "      <td>1</td>\n",
       "      <td>ainda bem q tenho xiaomi e ele tá cm 73%, dura...</td>\n",
       "      <td>0</td>\n",
       "    </tr>\n",
       "    <tr>\n",
       "      <td>2</td>\n",
       "      <td>@tetenc555 @naegiwcat eu vó compra um xiaomi r...</td>\n",
       "      <td>0</td>\n",
       "    </tr>\n",
       "    <tr>\n",
       "      <td>3</td>\n",
       "      <td>@10icarocaldas por esse preço tu comprar o xia...</td>\n",
       "      <td>0</td>\n",
       "    </tr>\n",
       "    <tr>\n",
       "      <td>4</td>\n",
       "      <td>vcs que tem xiaomi sabiam que dá p/ usar o you...</td>\n",
       "      <td>0</td>\n",
       "    </tr>\n",
       "  </tbody>\n",
       "</table>\n",
       "</div>"
      ],
      "text/plain": [
       "                                         Treinamento  Classificação\n",
       "0  @baixinho04 xiaomi seria uma boa opção. eu ten...              1\n",
       "1  ainda bem q tenho xiaomi e ele tá cm 73%, dura...              0\n",
       "2  @tetenc555 @naegiwcat eu vó compra um xiaomi r...              0\n",
       "3  @10icarocaldas por esse preço tu comprar o xia...              0\n",
       "4  vcs que tem xiaomi sabiam que dá p/ usar o you...              0"
      ]
     },
     "execution_count": 871,
     "metadata": {},
     "output_type": "execute_result"
    }
   ],
   "source": [
    "train = pd.read_excel(filename)\n",
    "train.head(5)"
   ]
  },
  {
   "cell_type": "code",
   "execution_count": 872,
   "metadata": {},
   "outputs": [
    {
     "data": {
      "text/html": [
       "<div>\n",
       "<style scoped>\n",
       "    .dataframe tbody tr th:only-of-type {\n",
       "        vertical-align: middle;\n",
       "    }\n",
       "\n",
       "    .dataframe tbody tr th {\n",
       "        vertical-align: top;\n",
       "    }\n",
       "\n",
       "    .dataframe thead th {\n",
       "        text-align: right;\n",
       "    }\n",
       "</style>\n",
       "<table border=\"1\" class=\"dataframe\">\n",
       "  <thead>\n",
       "    <tr style=\"text-align: right;\">\n",
       "      <th></th>\n",
       "      <th>Teste</th>\n",
       "      <th>Classificação</th>\n",
       "    </tr>\n",
       "  </thead>\n",
       "  <tbody>\n",
       "    <tr>\n",
       "      <td>0</td>\n",
       "      <td>@luffyoficial_ entt amg,  omo eu ainda não ten...</td>\n",
       "      <td>0</td>\n",
       "    </tr>\n",
       "    <tr>\n",
       "      <td>1</td>\n",
       "      <td>a xiaomi me prometeu qualidade</td>\n",
       "      <td>0</td>\n",
       "    </tr>\n",
       "    <tr>\n",
       "      <td>2</td>\n",
       "      <td>algum sugar daddy on pra me dar o robo aspirad...</td>\n",
       "      <td>0</td>\n",
       "    </tr>\n",
       "    <tr>\n",
       "      <td>3</td>\n",
       "      <td>@xiaomibrasil me salva aí, xiaomi com os bugs....</td>\n",
       "      <td>0</td>\n",
       "    </tr>\n",
       "    <tr>\n",
       "      <td>4</td>\n",
       "      <td>meu celular ja ta em fim de carreira n vejo a ...</td>\n",
       "      <td>0</td>\n",
       "    </tr>\n",
       "  </tbody>\n",
       "</table>\n",
       "</div>"
      ],
      "text/plain": [
       "                                               Teste  Classificação\n",
       "0  @luffyoficial_ entt amg,  omo eu ainda não ten...              0\n",
       "1                     a xiaomi me prometeu qualidade              0\n",
       "2  algum sugar daddy on pra me dar o robo aspirad...              0\n",
       "3  @xiaomibrasil me salva aí, xiaomi com os bugs....              0\n",
       "4  meu celular ja ta em fim de carreira n vejo a ...              0"
      ]
     },
     "execution_count": 872,
     "metadata": {},
     "output_type": "execute_result"
    }
   ],
   "source": [
    "test = pd.read_excel(filename, sheet_name = 'Teste')\n",
    "test.head(5)"
   ]
  },
  {
   "cell_type": "markdown",
   "metadata": {},
   "source": [
    "### Definindo as variáveis qualitativas como categóricas"
   ]
  },
  {
   "cell_type": "markdown",
   "metadata": {},
   "source": [
    "#### Treinamento"
   ]
  },
  {
   "cell_type": "code",
   "execution_count": 873,
   "metadata": {},
   "outputs": [
    {
     "data": {
      "text/html": [
       "<div>\n",
       "<style scoped>\n",
       "    .dataframe tbody tr th:only-of-type {\n",
       "        vertical-align: middle;\n",
       "    }\n",
       "\n",
       "    .dataframe tbody tr th {\n",
       "        vertical-align: top;\n",
       "    }\n",
       "\n",
       "    .dataframe thead th {\n",
       "        text-align: right;\n",
       "    }\n",
       "</style>\n",
       "<table border=\"1\" class=\"dataframe\">\n",
       "  <thead>\n",
       "    <tr style=\"text-align: right;\">\n",
       "      <th></th>\n",
       "      <th>Treinamento</th>\n",
       "      <th>Classificação</th>\n",
       "    </tr>\n",
       "  </thead>\n",
       "  <tbody>\n",
       "    <tr>\n",
       "      <td>0</td>\n",
       "      <td>@baixinho04 xiaomi seria uma boa opção. eu ten...</td>\n",
       "      <td>Relevante</td>\n",
       "    </tr>\n",
       "    <tr>\n",
       "      <td>1</td>\n",
       "      <td>ainda bem q tenho xiaomi e ele tá cm 73%, dura...</td>\n",
       "      <td>Irrelevnte</td>\n",
       "    </tr>\n",
       "    <tr>\n",
       "      <td>2</td>\n",
       "      <td>@tetenc555 @naegiwcat eu vó compra um xiaomi r...</td>\n",
       "      <td>Irrelevnte</td>\n",
       "    </tr>\n",
       "    <tr>\n",
       "      <td>3</td>\n",
       "      <td>@10icarocaldas por esse preço tu comprar o xia...</td>\n",
       "      <td>Irrelevnte</td>\n",
       "    </tr>\n",
       "    <tr>\n",
       "      <td>4</td>\n",
       "      <td>vcs que tem xiaomi sabiam que dá p/ usar o you...</td>\n",
       "      <td>Irrelevnte</td>\n",
       "    </tr>\n",
       "    <tr>\n",
       "      <td>5</td>\n",
       "      <td>@10icarocaldas xiaomi é o melhor celular custo...</td>\n",
       "      <td>Relevante</td>\n",
       "    </tr>\n",
       "    <tr>\n",
       "      <td>6</td>\n",
       "      <td>@_lucast7 @g1 verdade, mas pelo menos o preço ...</td>\n",
       "      <td>Irrelevnte</td>\n",
       "    </tr>\n",
       "    <tr>\n",
       "      <td>7</td>\n",
       "      <td>a xiaomi lançou um celular com a acabamento em...</td>\n",
       "      <td>Irrelevnte</td>\n",
       "    </tr>\n",
       "    <tr>\n",
       "      <td>8</td>\n",
       "      <td>@mathmj @madunixs @affectionmauro xiaomi alem ...</td>\n",
       "      <td>Relevante</td>\n",
       "    </tr>\n",
       "    <tr>\n",
       "      <td>9</td>\n",
       "      <td>@nn_carvalhosa @g1 no caso da xiaomi o consumi...</td>\n",
       "      <td>Irrelevnte</td>\n",
       "    </tr>\n",
       "  </tbody>\n",
       "</table>\n",
       "</div>"
      ],
      "text/plain": [
       "                                         Treinamento Classificação\n",
       "0  @baixinho04 xiaomi seria uma boa opção. eu ten...     Relevante\n",
       "1  ainda bem q tenho xiaomi e ele tá cm 73%, dura...    Irrelevnte\n",
       "2  @tetenc555 @naegiwcat eu vó compra um xiaomi r...    Irrelevnte\n",
       "3  @10icarocaldas por esse preço tu comprar o xia...    Irrelevnte\n",
       "4  vcs que tem xiaomi sabiam que dá p/ usar o you...    Irrelevnte\n",
       "5  @10icarocaldas xiaomi é o melhor celular custo...     Relevante\n",
       "6  @_lucast7 @g1 verdade, mas pelo menos o preço ...    Irrelevnte\n",
       "7  a xiaomi lançou um celular com a acabamento em...    Irrelevnte\n",
       "8  @mathmj @madunixs @affectionmauro xiaomi alem ...     Relevante\n",
       "9  @nn_carvalhosa @g1 no caso da xiaomi o consumi...    Irrelevnte"
      ]
     },
     "execution_count": 873,
     "metadata": {},
     "output_type": "execute_result"
    }
   ],
   "source": [
    "\n",
    "train.Classificação = train.Classificação.astype('category')\n",
    "train.Classificação.cat.categories = ('Irrelevnte', 'Relevante')\n",
    "train.head(10)"
   ]
  },
  {
   "cell_type": "markdown",
   "metadata": {},
   "source": [
    "#### Teste"
   ]
  },
  {
   "cell_type": "code",
   "execution_count": 874,
   "metadata": {},
   "outputs": [
    {
     "data": {
      "text/html": [
       "<div>\n",
       "<style scoped>\n",
       "    .dataframe tbody tr th:only-of-type {\n",
       "        vertical-align: middle;\n",
       "    }\n",
       "\n",
       "    .dataframe tbody tr th {\n",
       "        vertical-align: top;\n",
       "    }\n",
       "\n",
       "    .dataframe thead th {\n",
       "        text-align: right;\n",
       "    }\n",
       "</style>\n",
       "<table border=\"1\" class=\"dataframe\">\n",
       "  <thead>\n",
       "    <tr style=\"text-align: right;\">\n",
       "      <th></th>\n",
       "      <th>Teste</th>\n",
       "      <th>Classificação</th>\n",
       "    </tr>\n",
       "  </thead>\n",
       "  <tbody>\n",
       "    <tr>\n",
       "      <td>0</td>\n",
       "      <td>@luffyoficial_ entt amg,  omo eu ainda não ten...</td>\n",
       "      <td>Irrelevante</td>\n",
       "    </tr>\n",
       "    <tr>\n",
       "      <td>1</td>\n",
       "      <td>a xiaomi me prometeu qualidade</td>\n",
       "      <td>Irrelevante</td>\n",
       "    </tr>\n",
       "    <tr>\n",
       "      <td>2</td>\n",
       "      <td>algum sugar daddy on pra me dar o robo aspirad...</td>\n",
       "      <td>Irrelevante</td>\n",
       "    </tr>\n",
       "    <tr>\n",
       "      <td>3</td>\n",
       "      <td>@xiaomibrasil me salva aí, xiaomi com os bugs....</td>\n",
       "      <td>Irrelevante</td>\n",
       "    </tr>\n",
       "    <tr>\n",
       "      <td>4</td>\n",
       "      <td>meu celular ja ta em fim de carreira n vejo a ...</td>\n",
       "      <td>Irrelevante</td>\n",
       "    </tr>\n",
       "    <tr>\n",
       "      <td>5</td>\n",
       "      <td>a xiaomi mi band 6 estará mesmo a chegar?\\nhtt...</td>\n",
       "      <td>Irrelevante</td>\n",
       "    </tr>\n",
       "    <tr>\n",
       "      <td>6</td>\n",
       "      <td>xiaomi não decepciona em nada 👏</td>\n",
       "      <td>Relevante</td>\n",
       "    </tr>\n",
       "    <tr>\n",
       "      <td>7</td>\n",
       "      <td>@wos4you vai ser o mesmo lugar q eu vou mandar...</td>\n",
       "      <td>Irrelevante</td>\n",
       "    </tr>\n",
       "    <tr>\n",
       "      <td>8</td>\n",
       "      <td>@kaiiirtss xiaomi sksksks</td>\n",
       "      <td>Irrelevante</td>\n",
       "    </tr>\n",
       "    <tr>\n",
       "      <td>9</td>\n",
       "      <td>@jopedrobf gastou dinheiro atoa... a não ser q...</td>\n",
       "      <td>Irrelevante</td>\n",
       "    </tr>\n",
       "  </tbody>\n",
       "</table>\n",
       "</div>"
      ],
      "text/plain": [
       "                                               Teste Classificação\n",
       "0  @luffyoficial_ entt amg,  omo eu ainda não ten...   Irrelevante\n",
       "1                     a xiaomi me prometeu qualidade   Irrelevante\n",
       "2  algum sugar daddy on pra me dar o robo aspirad...   Irrelevante\n",
       "3  @xiaomibrasil me salva aí, xiaomi com os bugs....   Irrelevante\n",
       "4  meu celular ja ta em fim de carreira n vejo a ...   Irrelevante\n",
       "5  a xiaomi mi band 6 estará mesmo a chegar?\\nhtt...   Irrelevante\n",
       "6                    xiaomi não decepciona em nada 👏     Relevante\n",
       "7  @wos4you vai ser o mesmo lugar q eu vou mandar...   Irrelevante\n",
       "8                          @kaiiirtss xiaomi sksksks   Irrelevante\n",
       "9  @jopedrobf gastou dinheiro atoa... a não ser q...   Irrelevante"
      ]
     },
     "execution_count": 874,
     "metadata": {},
     "output_type": "execute_result"
    }
   ],
   "source": [
    "test.Classificação = test.Classificação.astype('category')\n",
    "test.Classificação.cat.categories = ('Irrelevante', 'Relevante')\n",
    "test.head(10)"
   ]
  },
  {
   "cell_type": "markdown",
   "metadata": {},
   "source": [
    "### Estudo dos valores e quantidades de tweets de cada classificação"
   ]
  },
  {
   "cell_type": "markdown",
   "metadata": {},
   "source": [
    "#### Treinamento"
   ]
  },
  {
   "cell_type": "code",
   "execution_count": 875,
   "metadata": {},
   "outputs": [
    {
     "data": {
      "text/plain": [
       "Irrelevnte    0.733333\n",
       "Relevante     0.266667\n",
       "Name: Classificação, dtype: float64"
      ]
     },
     "execution_count": 875,
     "metadata": {},
     "output_type": "execute_result"
    }
   ],
   "source": [
    "train.Classificação.value_counts(True)"
   ]
  },
  {
   "cell_type": "code",
   "execution_count": 876,
   "metadata": {},
   "outputs": [
    {
     "name": "stdout",
     "output_type": "stream",
     "text": [
      "-------------------------------------------------------\n",
      "Irrelevante\n",
      "-------------------------------------------------------\n",
      "contagem               = 220\n",
      "---------------------------------------------\n",
      "Relevante\n",
      "---------------------------------------------\n",
      "contagem               = 80\n"
     ]
    }
   ],
   "source": [
    "train_classificacao = train.Classificação.value_counts()\n",
    "i=0\n",
    "for title, var_quanti in (('Irrelevante', train_classificacao[0]), ('Relevante', train_classificacao[1])):\n",
    "    print('-' * 5 * len(title))\n",
    "    print(title)\n",
    "    print('-' * 5 * len(title))\n",
    "    print(f'contagem               = {train_classificacao[i]}')\n",
    "    i += 1"
   ]
  },
  {
   "cell_type": "markdown",
   "metadata": {},
   "source": [
    "##### Gráfico"
   ]
  },
  {
   "cell_type": "code",
   "execution_count": 877,
   "metadata": {},
   "outputs": [
    {
     "data": {
      "text/plain": [
       "<matplotlib.axes._subplots.AxesSubplot at 0x1a1e65fa50>"
      ]
     },
     "execution_count": 877,
     "metadata": {},
     "output_type": "execute_result"
    },
    {
     "data": {
      "image/png": "[encoded data removed]",
      "text/plain": [
       "<Figure size 432x288 with 1 Axes>"
      ]
     },
     "metadata": {},
     "output_type": "display_data"
    }
   ],
   "source": [
    "\n",
    "train_classificacao.plot(kind='pie', title='Quantidade de tweets por categoria', autopct=\"%.2f\")"
   ]
  },
  {
   "cell_type": "markdown",
   "metadata": {},
   "source": [
    "#### Teste"
   ]
  },
  {
   "cell_type": "code",
   "execution_count": 878,
   "metadata": {},
   "outputs": [
    {
     "data": {
      "text/plain": [
       "Irrelevante    0.643333\n",
       "Relevante      0.356667\n",
       "Name: Classificação, dtype: float64"
      ]
     },
     "execution_count": 878,
     "metadata": {},
     "output_type": "execute_result"
    }
   ],
   "source": [
    "test.Classificação.value_counts(True)"
   ]
  },
  {
   "cell_type": "code",
   "execution_count": 879,
   "metadata": {},
   "outputs": [
    {
     "name": "stdout",
     "output_type": "stream",
     "text": [
      "-------------------------------------------------------\n",
      "Irrelevante\n",
      "-------------------------------------------------------\n",
      "contagem               = 193\n",
      "---------------------------------------------\n",
      "Relevante\n",
      "---------------------------------------------\n",
      "contagem               = 107\n"
     ]
    }
   ],
   "source": [
    "test_classificacao = test.Classificação.value_counts()\n",
    "i=0\n",
    "for title, var_quanti in (('Irrelevante', test_classificacao[0]), ('Relevante', test_classificacao[1])):\n",
    "    print('-' * 5 * len(title))\n",
    "    print(title)\n",
    "    print('-' * 5 * len(title))\n",
    "    print(f'contagem               = {test_classificacao[i]}')\n",
    "    i += 1"
   ]
  },
  {
   "cell_type": "markdown",
   "metadata": {},
   "source": [
    "##### Gráfico"
   ]
  },
  {
   "cell_type": "code",
   "execution_count": 880,
   "metadata": {},
   "outputs": [
    {
     "data": {
      "text/plain": [
       "<matplotlib.axes._subplots.AxesSubplot at 0x1a1e8a6410>"
      ]
     },
     "execution_count": 880,
     "metadata": {},
     "output_type": "execute_result"
    },
    {
     "data": {
      "image/png": "[encoded data removed]",
      "text/plain": [
       "<Figure size 432x288 with 1 Axes>"
      ]
     },
     "metadata": {},
     "output_type": "display_data"
    }
   ],
   "source": [
    "\n",
    "test_classificacao.plot(kind='pie', title='Quantidade de tweets por categoria', autopct=\"%.2f\")"
   ]
  },
  {
   "cell_type": "markdown",
   "metadata": {},
   "source": [
    "___\n",
    "## Classificador automático de sentimento\n"
   ]
  },
  {
   "cell_type": "markdown",
   "metadata": {},
   "source": [
    "Faça aqui uma descrição do seu produto e o que considerou como relevante ou não relevante na classificação dos tweets.\n",
    "\n",
    " A marca escolhida para o classificador Naive-Bayes foi a Xiaomi, empresa chinesa de eletrônicos que divide opiniões a respeito da qualidade e da aceitabilidade dos seus produtos no mercado brasileiro. \n",
    "\n",
    "Consideramos como relevantes todos aqueles tweets que expressavam opiniões dos usuários e consumidores sobre os produtos da marca, tanto positivos como negativos. Assim, podemos selecionar os tweets que podem apontar a situação atual da marca, e também os problemas e acertos nos produtos comercializados nacionalmente.\n",
    "\n",
    "Como estamos obtendo nossas informações do Twitter, decidimos considerar como não relevantes os tweets que não expressavam nenhum tipo de opinião, ou aqueles que eram a respeito de sorteios e premiações, algo bem comum dentro dessa plataforma."
   ]
  },
  {
   "cell_type": "markdown",
   "metadata": {},
   "source": [
    "Portanto, durante a análise, encontramos a necessidade de cálculas as seguintes probabilidades para que nosso classificador desempenhasse a função desejada:\n",
    "\n",
    "- $P(Tweet|Classificação)$: probabilidade do tweet pertencer a categoria Relevante;\n",
    "- $P(Classificação)$: probabilidade da categoria dentre o total de tweets (TREINAMENTO);\n",
    "- $P(Tweet)$: probabilidade de uma frase ocorrer na língua portuguesa. XXX\n",
    "- $P(Palavra|Classificação)$: probabilidade de uma palavra ser de dada categoria;\n",
    "- $P(Classificação|Tweet)$: probabilidade de dado tweet ser classificado com alguma das categorias;"
   ]
  },
  {
   "cell_type": "markdown",
   "metadata": {},
   "source": [
    "Para fazer o cálculo das probabilidades, começamos com o básico do Naive-Bayes:\n",
    "\n",
    "$$P(Classificação)=\\frac{∑(PalavrasDaClassificação)}{∑(PalavrasDoVocabulário)}\\hspace{3cm}\\mbox{(I)}$$\n",
    "\n",
    "Onde a probabilidade de um tweet ser de dada classificação P(Tweet|Classificação) seria calculado pela probabilidade de classificação de cada palavra (ou emoji) presente no tweet.\n",
    "\n",
    "$$P(Tweet|Classificação) = P(Palavra1|Classificação)*P(Palavra2|Classificação)*P(Palavra3|Classificação)\\hspace{3cm}\\mbox{(II)}$$\n",
    "\n",
    "Onde a probabilidade de uma dessas palavras pertencencer a uma dada classificação ficaria definida por:\n",
    "\n",
    "$$P(Palavra|Classificação) = \\frac{∑(ApariçõesDaPalavraNaClassificação)}{∑(PalavrasDaClassificação)}\\hspace{3cm}\\mbox{(III)}$$\n",
    "\n",
    "Para que a probabilidade de uma dada palavra ser classificada por uma das categorias fosse calculada, surgiu um grande problema: O que aconteceria caso surgisse uma palavra nova que não estivesse previamente inserida em uma das categorias?\n",
    "\n",
    "Entra ai a necessidade de aplicarmos o 'La Place Smoothing', que é justamente uma técnica que lida com a possibilidade de uma probabilidade de uma palavra que não esta no treinamento receber probabilidade zero. Podemos representar P(Palavra|Classificação) por:\n",
    "\n",
    "$$P(Palavra|Classificação)=\\frac{∑(ApariçõesDaPalavraNaClassificação)+1}{∑(PalavrasDaClassificação) + ∑(Vocabulário)}\\hspace{3cm}\\mbox{(IV)}$$\n",
    "\n",
    "Assim, podemos calcular a probabilidade de um tweet ser categorizado com umas das categorias:\n",
    "\n",
    "$$P(Classificação|Tweet) = P(PalavrasNoTweet|Classificação)*P(Classificação)\\hspace{3cm}\\mbox{(V)}$$"
   ]
  },
  {
   "cell_type": "markdown",
   "metadata": {},
   "source": [
    "### Função de limpeza dos tweets:"
   ]
  },
  {
   "cell_type": "code",
   "execution_count": 881,
   "metadata": {},
   "outputs": [],
   "source": [
    "import re\n",
    "\n",
    "def cleanup(tweet_og):\n",
    "    tweet = re.sub(r'http\\S+', '', tweet_og, flags=re.MULTILINE) # Remove as URL\n",
    "    tweet = \" \".join(re.findall(\"(\\w+|[^\\w ]+)\", tweet)) # Adiciona espaços entre os Emojis\n",
    "    tweet = re.sub(re.compile(\"\"\"[!-',.:)\"(?;#@]\"\"\"), '', tweet) # Remove as pontuações\n",
    "    tweet = re.sub('\\s{2,}', ' ', tweet) # Remove espaços múltiplos\n",
    "    tweet = re.sub('#\\S+', ' ', tweet) # Remove Hashtags\n",
    "    tweet = re.sub('@\\S+', ' ', tweet) # Remove menções de usuários\n",
    "    tweet = re.sub('\\n','', tweet) #Remove '\\n'\n",
    "    tweet = re.sub('rt','', tweet) #Remove os 'rt'\n",
    "    tweet = tweet.lower() # Transforma o texto em letras minúsculas\n",
    "    \n",
    "    \n",
    "    return tweet\n"
   ]
  },
  {
   "cell_type": "markdown",
   "metadata": {},
   "source": [
    "#### Teste funçao de limpeza:"
   ]
  },
  {
   "cell_type": "code",
   "execution_count": 882,
   "metadata": {},
   "outputs": [
    {
     "name": "stdout",
     "output_type": "stream",
     "text": [
      "['xiaomi', 'é', 'muito', 'boa', '👏', 'kkkkkkk', 'mesmooo']\n"
     ]
    }
   ],
   "source": [
    "tweet_teste = 'Xiaomi é muito boa 👏, kkkkkkk mesmooo'\n",
    "tweet_teste = cleanup(tweet_teste)\n",
    "tweet_teste = tweet_teste.split()\n",
    "print(tweet_teste)"
   ]
  },
  {
   "cell_type": "markdown",
   "metadata": {},
   "source": [
    "___\n",
    "### Montando um Classificador Naive-Bayes\n",
    "\n",
    "A ideia de criar uma classe para o nosso Classificador Naive-Bayes é que poderemos utiliza-la para diferentes datasets \n",
    "\n",
    "Considerando apenas as mensagens da planilha Treinamento, ensine  seu classificador."
   ]
  },
  {
   "cell_type": "code",
   "execution_count": 883,
   "metadata": {},
   "outputs": [],
   "source": [
    "# Classificador Naive Bayes Primário:\n",
    "\n",
    "# Aplicando função de limpeza\n",
    "\n",
    "relevante = []\n",
    "irrelevante = [] \n",
    "\n",
    "for tweet in range(len(train.Treinamento)):\n",
    "    tweet_treinamento = cleanup(train.Treinamento[tweet]).split()\n",
    "    for palavra in tweet_treinamento:\n",
    "         if palavra[0] == '@' or palavra[:5] == 'https':\n",
    "            tweet_treinamento.remove(palavra)\n",
    "    \n",
    "#print(tweet_treinamento)\n",
    "    \n",
    "\n",
    "    for i in range(len(tweet_treinamento)):\n",
    "        if train.Classificação[tweet] == 'Relevante':\n",
    "            relevante.append(tweet_treinamento[i])\n",
    "        else:\n",
    "            irrelevante.append(tweet_treinamento[i])\n",
    "            \n",
    "#print(irrelevante)\n"
   ]
  },
  {
   "cell_type": "code",
   "execution_count": 884,
   "metadata": {},
   "outputs": [
    {
     "data": {
      "text/plain": [
       "0    baixinho04\n",
       "1        xiaomi\n",
       "2         seria\n",
       "3           uma\n",
       "4           boa\n",
       "5         opção\n",
       "6            eu\n",
       "7         tenho\n",
       "8      motorola\n",
       "9             e\n",
       "dtype: object"
      ]
     },
     "execution_count": 884,
     "metadata": {},
     "output_type": "execute_result"
    }
   ],
   "source": [
    "relevante\n",
    "serie_relevante = pd.Series(relevante)\n",
    "serie_relevante.head(10)"
   ]
  },
  {
   "cell_type": "code",
   "execution_count": 885,
   "metadata": {},
   "outputs": [
    {
     "data": {
      "text/plain": [
       "xiaomi     86\n",
       "o          50\n",
       "e          42\n",
       "é          40\n",
       "eu         37\n",
       "           ..\n",
       "cuidar      1\n",
       "honra       1\n",
       "quesito     1\n",
       "fepesco     1\n",
       "mta         1\n",
       "Length: 607, dtype: int64"
      ]
     },
     "execution_count": 885,
     "metadata": {},
     "output_type": "execute_result"
    }
   ],
   "source": [
    "tabela_relevante = serie_relevante.value_counts()\n",
    "tabela_relevante"
   ]
  },
  {
   "cell_type": "code",
   "execution_count": 886,
   "metadata": {},
   "outputs": [
    {
     "data": {
      "text/plain": [
       "xiaomi     0.055520\n",
       "o          0.032279\n",
       "e          0.027114\n",
       "é          0.025823\n",
       "eu         0.023886\n",
       "             ...   \n",
       "cuidar     0.000646\n",
       "honra      0.000646\n",
       "quesito    0.000646\n",
       "fepesco    0.000646\n",
       "mta        0.000646\n",
       "Length: 607, dtype: float64"
      ]
     },
     "execution_count": 886,
     "metadata": {},
     "output_type": "execute_result"
    }
   ],
   "source": [
    "tabela_relevante_relativa = serie_relevante.value_counts(True)\n",
    "tabela_relevante_relativa"
   ]
  },
  {
   "cell_type": "code",
   "execution_count": 887,
   "metadata": {},
   "outputs": [
    {
     "data": {
      "text/plain": [
       "0     ainda\n",
       "1       bem\n",
       "2         q\n",
       "3     tenho\n",
       "4    xiaomi\n",
       "5         e\n",
       "6       ele\n",
       "7        tá\n",
       "8        cm\n",
       "9        73\n",
       "dtype: object"
      ]
     },
     "execution_count": 887,
     "metadata": {},
     "output_type": "execute_result"
    }
   ],
   "source": [
    "irrelevante\n",
    "serie_irrelevante = pd.Series(irrelevante)\n",
    "serie_irrelevante.head(10)"
   ]
  },
  {
   "cell_type": "code",
   "execution_count": 888,
   "metadata": {},
   "outputs": [
    {
     "data": {
      "text/plain": [
       "xiaomi       223\n",
       "o             94\n",
       "e             79\n",
       "de            75\n",
       "da            71\n",
       "            ... \n",
       "lixo           1\n",
       "prime          1\n",
       "memoria        1\n",
       "tijolo         1\n",
       "discípula      1\n",
       "Length: 1576, dtype: int64"
      ]
     },
     "execution_count": 888,
     "metadata": {},
     "output_type": "execute_result"
    }
   ],
   "source": [
    "tabela_irrelevante = serie_irrelevante.value_counts()\n",
    "tabela_irrelevante"
   ]
  },
  {
   "cell_type": "code",
   "execution_count": 889,
   "metadata": {},
   "outputs": [
    {
     "data": {
      "text/plain": [
       "xiaomi       0.051561\n",
       "o            0.021734\n",
       "e            0.018266\n",
       "de           0.017341\n",
       "da           0.016416\n",
       "               ...   \n",
       "lixo         0.000231\n",
       "prime        0.000231\n",
       "memoria      0.000231\n",
       "tijolo       0.000231\n",
       "discípula    0.000231\n",
       "Length: 1576, dtype: float64"
      ]
     },
     "execution_count": 889,
     "metadata": {},
     "output_type": "execute_result"
    }
   ],
   "source": [
    "tabela_irrelevante_relativa = serie_irrelevante.value_counts(True)\n",
    "tabela_irrelevante_relativa"
   ]
  },
  {
   "cell_type": "code",
   "execution_count": 890,
   "metadata": {},
   "outputs": [
    {
     "name": "stdout",
     "output_type": "stream",
     "text": [
      "Total de palavras: 1913\n",
      "Total de palavras relevantes: 607\n",
      "Total de palavras não relevantes: 1576\n"
     ]
    }
   ],
   "source": [
    "# Cálculo e contagem de palavras:\n",
    "        \n",
    "palavras_relevante = [[palavra, relevante.count(palavra)] for palavra in set(relevante)]\n",
    "#palavras_relevante = np.unique(palavras_relevante)\n",
    "palavras_irrelevante = [[palavra, irrelevante.count(palavra)] for palavra in set(irrelevante)]\n",
    "#palavras_irrelevante = np.unique(palavras_irrelevante)\n",
    "vocabulario = np.unique(palavras_relevante + palavras_irrelevante)\n",
    "\n",
    "#print(palavras_relevante)\n",
    "        \n",
    "print('Total de palavras:', len(vocabulario))\n",
    "print('Total de palavras relevantes:', len(palavras_relevante))\n",
    "print('Total de palavras não relevantes:', len(palavras_irrelevante))"
   ]
  },
  {
   "cell_type": "code",
   "execution_count": 891,
   "metadata": {},
   "outputs": [
    {
     "name": "stdout",
     "output_type": "stream",
     "text": [
      "['luffyoficial_', 'entt', 'amg', 'omo', 'eu', 'ainda', 'não', 'tenho', 'meu', 'próprio', 'dinheiro', 'minha', 'mãe', 'disse', 'que', 'eu', 'poderia', 'pegar', 'um', 'por', 'até', '1400', 'e', 'é', 'difícil', 'achar', 'um', 'celular', 'atual', 'e', 'que', 'seja', 'bom', 'para', 'o', 'que', 'eu', 'quero', 'mas', 'infelizmente', 'é', 'minha', 'única', 'opção', 'agr', 'e', 'ai', 'eu', 'achei', 'o', 'xiaomi', 'mas', 'ainda', 'estou', 'receosa']\n",
      "['a', 'xiaomi', 'me', 'prometeu', 'qualidade']\n",
      "['algum', 'sugar', 'daddy', 'on', 'pra', 'me', 'dar', 'o', 'robo', 'aspirador', 'roborock', 'xiaomi', 's5', 'max', '🥺']\n",
      "['xiaomibrasil', 'me', 'salva', 'aí', 'xiaomi', 'com', 'os', 'bugs', 'após', 'atualização', 'reiniciou', 'e', 'olha', 'a', 'merda', 'aí']\n",
      "['meu', 'celular', 'ja', 'ta', 'em', 'fim', 'de', 'carreira', 'n', 'vejo', 'a', 'hora', 'de', 'comprar', 'um', 'xiaomi']\n",
      "['a', 'xiaomi', 'mi', 'band', '6', 'estará', 'mesmo', 'a', 'chegar']\n",
      "['xiaomi', 'não', 'decepciona', 'em', 'nada', '👏']\n",
      "['wos4you', 'vai', 'ser', 'o', 'mesmo', 'lugar', 'q', 'eu', 'vou', 'mandar', 'tu', 'procurar', 'seu', 'xiaomi', 'tv']\n",
      "['kaiiiss', 'xiaomi', 'sksksks']\n",
      "['jopedrobf', 'gastou', 'dinheiro', 'atoa', 'a', 'não', 'ser', 'que', 'a', 'escova', 'seja', 'da', 'xiaomi']\n",
      "['mano', 'eu', 'ganhei', 'aquele', 'fone', 'sem', 'fio', 'da', 'xiaomi', 'de', 'aniversário', 'e', 'a', 'surra', 'que', 'ele', 'da', 'num', 'airpod']\n",
      "['coe', 'do', 'eua', 'liberou', 'xiaomi', 'de', 'lista', 'negra', 'do', 'depaamento', 'de', 'defesa', 'nacional', 'confira', 'via', 'prog_brasil']\n",
      "['baguitriste', 'tu', 'precisa', 'de', '1', 'galinha', 'um', 'xiaomi', '3', 'reais', 'chinelo', 'azul', 'da', 'havaiana', 'e', 'criatividade']\n",
      "['tô', 'aderindo', 'a', 'todos', 'os', 'acessórios', 'da', 'xiaomi', '🥵🥵', 'mds', 'muito', 'bom', 'porém', 'o', 'celular', 'não']\n",
      "['2', 'pcs', '-', 'elough', 'quick', 'charge', '3', '0', 'usb', 'charger', 'for', 'iphone', '11', '7', 'xiaomi', 'samsung', 'huawei', '5v', '3a', 'digital', 'display', 'fast', 'charging', 'wall', 'phone', 'charger', 'aliexpress', 'r', '55', '60', 'r', '27', '8', 'cada', '6x', 'sem', 'juros', 'cupom', '10menos2', 'frete', 'grátis', 'cód', 'l']\n",
      "['andrepandelot', '10icarocaldas', 'comprei', 'meu', 'xiaomi', 'dia', '30', 'de', 'novembro', 'de', '2019', 'e', 'até', 'hoje', 'coloquei', 'pra', 'carregar', '2', 'vezes', 'só']\n",
      "['promoções', 'aliexpress', 'hoje', 'às', '21h', 'xiaomi', 'band', '5', '9', '9', 'r', '58', '65', 'cupom', 'sdmiband55', 'radio', 'control', 'car', 'toys', '24', 'r', '142', '18', 'cupom', 'sdtoycar', 'edifier', 'tws1', 'pro', '19', 'r', '112', '56', 'cupom', 'sdedifier']\n",
      "['daniel_miorim', 'deus', 'me', 'livre', 'ter', 'um', 'iphone', 'prefiro', 'comprar', 'um', 'xiaomi', 'bem', 'simplezinho', 'e', 'o', 'usar', 'o', 'resto', 'da', 'grana', 'em', 'shitcoin']\n",
      "['velvetdiets', 'enquanto', 'aqui', 'em', 'casa', 'vc', 'olha', 'a', 'geladeira', 'e', 'só', 'tem', 'um', 'resto', 'de', 'comida', 'do', 'almoço', 'um', 'queijo', 'as', 'vezes', 'nem', 'isso', 'tem', 'eu', 'nem', 'me', 'considero', 'pobre', 'pq', 'n', 'passo', 'fome', 'eu', 'tenho', 'um', 'tablet', 'minha', 'mãe', 'tem', 'um', 'xiaomi', 'eu', 'tenho', 'oq', 'quero', 'mas', 'a', 'diferença', 'é', 'a', 'gnt', 'ficou', 'um', 'ano', 'inteiro', 'juntando']\n",
      "['mandaram', '100', 'travazap', 'no', 'grupo', 'do', 'cllr', 'e', 'nenhum', 'conseguiu', 'derrubar', 'meu', 'xiaomi']\n",
      "['uma', 'coisa', 'que', 'me', 'decepciona', 'muito', 'no', 'celular', 'da', 'xiaomi', 'é', 'o', 'aplicativo', 'de', 'câmera', 'dele', 'é', 'horrível', 'lento', 'pra', 'porra', 'e', 'fica', 'apresentando', 'erros']\n",
      "['a', 'joom', 'vende', 'eletrodomésticos', 'da', 'xiaomi', 'what']\n",
      "['clairored', 'cherryminaswan', 'updatechauc', 'meu', 'pai', 'usa', 'a', 'xiaomi', 'e', 'não', 'é', 'melhor', 'em', 'termos', 'de', 'câmera', 'não', 'a', 'bateria', 'é', 'bem', 'melhor', 'mas', 'a', 'câmera', 'não']\n",
      "['esse', 'fone', 'sem', 'fio', 'da', 'xiaomi', 'vale', 'o', 'investimento', 'tô', 'pensando', 'em', 'comprar', 'ele']\n",
      "['camera', 'lazarenta', 'de', 'ruim', 'tudo', 'embaçada', 'tnc', 'xiaomi']\n",
      "['xiaomi', 'mi', 'band', '5', 'aliexpress', 'r', '91', '01', '6x', 'sem', 'juros', 'cupom', 'realme12', 'cupom', 'mibr12', 'cupons', 'de', 'primeira', 'compra', 'frete', 'grátis']\n",
      "['queria', 'tanto', 'sair', 'do', 'iphone', 'e', 'voltar', 'pro', 'xiaomi', '😏']\n",
      "['flickerwallshs1', 'eu', 'com', 'eu', 'xiaomi', 'na', 'mão', '✊']\n",
      "['poco', 'x3', 'pro', 'está', 'mesmo', 'ao', 'virar', 'da', 'esquina', 'e', 'as', 'suas', 'fotografias', 'vão', 'impressionar', 'poco', 'xiaomi', 'pocox3pro', 'indiapoco', 'pocoglobal']\n",
      "['baixinho04', 'o', 'meu', 'xiaomi', 'e', 'super', 'recomendo', 'a', 'câmera', 'é', 'maravilhosa', 'e', 'o', 'desempenho', 'e', 'bateria', 'maravilhosos']\n",
      "['caraio', 'bateria', 'da', 'xiaomi', 'é', 'realmente', 'tudo', 'isso', 'que', 'dizem', 'eu', 'venho', 'de', 'um', 'iphone', 'muito', 'mal', 'acostumado', 'mesmo']\n",
      "['cupom', 'aliexpress', 'cupom', 'de', 'primeira', 'compra', 'válido', 'para', 'vários', 'produtos', 'do', 'site', '12', 'r', '71', '43', 'em', 'compras', 'acima', 'de', '20', 'r', '119', '05', 'cupom', 'mibr12', 'cupom', 'realme12']\n",
      "['juninhorufi', 'cherryminaswan', 'updatechauc', 'nem', 'vem', 'com', 'essa', 'desculpa', 'de', 'câmera', 'não', 'pq', 'xiaomi', 'já', 'tá', 'dando', 'de', 'mil', 'a', 'zero', 'a', 'muitooo', 'tempo', 'as', 'pessoas', 'compram', 'por', 'status', 'sim', 'pq', 'não', 'tem', 'nada', 'de', 'bom', 'nesse', 'celular']\n",
      "['thayyshp', 'sim', 'achei', 'um', 'xiaomi', 'em', 'conta', 'e', 'com', 'uma', 'bateria', 'estrondosa', 'poco', 'm3']\n",
      "['elderdiaz__', 'xiaomi', 'es', 'como', 'huawei']\n",
      "['moltencs', 'guizin_y', 'lógico', 'tá', 'usando', 'um', 'xiaomi', 'mi', 'note', '2', '32gb', 'quer', 'oq']\n",
      "['giubilugs', 'giubs', 'tive', 'iphone', 'por', 'anos', 'aí', 'me', 'recusei', 'a', 'pagar', 'tão', 'caro', 'quando', 'tive', 'q', 'trocar', 'e', 'tô', 'usando', 'xiaomi', 'não', 'tenho', 'reclamação', 'nenhuma', 'pra', 'fazer', 'dá', 'uma', 'olhada', 'pra', 'mim', 'compensou', 'super']\n",
      "['alacktic', 'muito', 'obrigado', 'assim', 'que', 'meu', 'xiaomi', 'velho', 'de', 'guerra', 'recarregar', 'eu', 'vou', 'ver', 'se', 'mostrob', 'a', 'albânia', 'outro', 'raro', 'país', 'que', 'ainda', 'recebe', 'brasileiros']\n",
      "['xiaomi', 'black', 'shark', '4', 'revelados', 'mais', 'pormenores', 'do', 'smaphone', 'gaming']\n",
      "['2', 'anos', 'de', 'xiaomi', 'hj', 'e', 'o', 'bicho', 'ainda', 'não', 'tá', 'travando', 'os', '900', 'reais', 'mais', 'bem', 'gastos', 'da', 'minha', 'vida', '🤝']\n",
      "['eu', 'e', 'mais', '3', 'amigos', 'temos', 'xiaomi', 'e', 'todos', 'tem', 'o', 'mesmo', 'toque', 'e', 'som', 'de', 'notificação', 'isso', 'é', 'difícil']\n",
      "['thegoodvirgo_', 'g1', 'eu', 'vejo', 'que', 'cada', 'um', 'enfia', 'o', 'dinheiro', 'no', 'cu', 'de', 'várias', 'formas', 'uma', 'dessas', 'formas', 'é', 'comprar', 'celular', 'sem', 'carregador', 'e', 'não', 'tem', 'essa', 'de', 'apple', 'n', 'xiaomi', 'e', 'samsung', 'tbm', 'fazem', 'isso']\n",
      "['na', 'saga', 'atras', 'de', 'airdots', 'xiaomi', 'com', 'entrega', 'urgente', 'as', 'avaliaçoes', 'sao', 'metade', '⭐️⭐️⭐️⭐️⭐️', 'produto', 'original', 'excelente', 'super', 'recomendo', 'supriu', 'todas', 'as', 'expectativas', 'metade', '⭐️', 'pessimo', 'falsificado', 'cheio', 'de', 'ruído', 'pior', 'compra', 'da', 'minha', 'vida', 'em', 'uma', 'semana', 'o', 'fone', 'explodiu', 'no', 'meu', 'ouviso']\n",
      "['juliocesarajr', 'kd', 'o', 'testemunha', 'da', 'xiaomi', 'agora']\n",
      "['usando', 'meu', 'celular', 'sem', 'recarregar', 'por', '12h', 'ininterruptas', 'e', 'ele', 'tá', '41', 'sou', 'testemunha', 'de', 'xiaomi']\n",
      "['xiaomi', 'qualquer', 'coisa', 'kkkk']\n",
      "['zaumoraes', 'essa', 'da', 'sala', 'que', 'fica', 'quase', 'igual', 'a', 'música', 'é', 'xiaomi', 'as', 'outras', 'positivo', 'haha']\n",
      "['xiaomi', 'miui', '12', 'conheça', 'o', 'android', 'turbinado', 'dos', 'celulares', 'mi', 'e', 'redmi', '|', 'celular', '|', 'techtudo']\n",
      "['10icarocaldas', 'poco', 'x3', 'nfc', 'subsidiária', 'da', 'xiaomi', 'tem', 'erro', 'não', 'e', 'o', 'preço', 'é', 'de', 'intermediário']\n",
      "['thelma', 'original', 'xiaomi', 'mi', 'mochila', '10l', 'saco', '8', 'cores', '165g', 'urbano', 'lazer', 'espoes', 'peito', '🛍', 'loja', 'aliexpress', '🏷️', 'cupom', '10menos2', '💵', 'preço', 'r', '58', '64', 'já', 'com', 'frete', 'e', 'seguro', '💳', 'parcele', 'em', 'até', '6x', 'sem', 'juros', '📲', 'link', 'lojas', 'parceiras']\n",
      "['izukc4l', 'mds', 'que', 'tristeza', 'roubaram', 'meu', 'xiaomi']\n",
      "['19', 'sem', 'carregador', 'xiaomi', 'se', 'supera', 'e', 'guenta', 'até', '00h', 'pfv']\n",
      "['pelo', 'amor', 'de', 'deus', 'alguém', 'me', 'fala', 'se', 'vende', 'xiaomi', 'em', 'loja', 'física']\n",
      "['n__evil', 'se', 'for', 'da', 'xiaomi', 'mesmo', 'tá', 'valendo', 'muito', 'a', 'pena', 'pq', 'o', 'que', 'eu', 'tô', 'pensando', 'em', 'comprar', 'é', 'de', '30', 'reais', 'kkkkk']\n",
      "['quase', 'comprando', 'um', 'xiaomi', 'mas', 'cadê', 'que', 'consigo', 'desapegar', 'de', 'iphone']\n",
      "['por', 'isso', 'que', 'a', 'apple', 'é', 'filha', 'da', 'xiaomi']\n",
      "['to', 'muito', 'puto', 'o', 'lixo', 'do', 'meu', 'xiaomi', 'começou', 'a', 'reiniciar', 'sozinho', 'do', 'nada']\n",
      "['bora', 'você', 'que', 'tem', 'um', 'xiaomi', 'vai', 'tomar', 'no', 'cu', 'rapidão']\n",
      "['gabezitu', 'tasjessica', 'igual', 'a', 'xiaomi', 'está', 'fazendo']\n",
      "['provadoanjo', '🛒', 'xiaomi', 'mijia', '1c', '2', 'in', '1', 'sma', 'robot', 'vacuum', 'cleaner', 'mop', 'visual', 'dynamic', 'navigation', 'vslam', '🛍', 'loja', 'banggood', '💵', 'preço', 'r', '1588', '42', 'já', 'incluso', 'o', 'frete', '💳', 'parcele', 'em', 'até', '12x', '📲', 'link', 'lojas', 'parceiras']\n",
      "['updatechauc', 'espero', 'que', 'processe', 'a', 'xiaomi', 'por', 'vender', 'sem', 'fone', 'e', 'a', 'samsung', 'por', 'vender', 'os', 'notes', 'sem', 'as', 'ponteiras', 'da', 'caneta', 'e', 'sem', 'carregador', 'e', 'fone', 'também']\n",
      "['kkkkkkkeu', 'não', 'duvido', 'que', 'a', 'xiaomi', 'dê', 'essa', 'surra', 'de', 'obsolescências', 'não', 'programada']\n",
      "['samsung', 'meu', 'filho', 'pq', 'vc', 'ta', 'parecendo', 'xiaomi']\n",
      "['maiamore_', 'uso', 'xiaomi', 'e', 'é', 'bom']\n",
      "['10icarocaldas', 'xiaomi', 'comprei', 'o', 'meu', 'semana', 'passada']\n",
      "['a', 'xiaomi', 'é', 'incrível', 'mano', 'vsfd']\n",
      "['g1', 'vai', 'multar', 'a', 'samsung', 'e', 'a', 'xiaomi', 'também', 'que', 'já', 'estão', 'seguindo', 'essa', 'ideia']\n",
      "['fiquei', 'doida', 'nesse', 'xiaomi', '🥺']\n",
      "['xiaomi', 'mi', 'band', '6', 'primeira', 'imagem', 'real', 'apanhada', 'online']\n",
      "['cristianespina', 'humbeoismae14', 'g1', 'então', 'não', 'compra', 'tem', 'a', 'samsung', 'lg', 'motorola', 'xiaomi', 'realme', 'nokia', 'positivo', 'asus', 'vivo', 'huawei', 'e', 'caralhadas', 'de', 'outras', 'marcas', 'você', 'não', 'é', 'obrigada', 'a', 'comprar', 'um', 'iphone', 'nesse', 'caso', 'você', 'tem', 'opções', 'milhares', 'de', 'opções']\n",
      "['10icarocaldas', 'xiaomi', 'é', 'vida']\n",
      "['multa', 'a', 'xiaomi', 'também', 'por', 'vender', 'celular', 'sem', 'fone']\n",
      "['eu', 'passei', 'mais', 'de', 'ano', 'ouvindo', 'música', 'de', 'um', 'lado', 'só', 'pq', 'era', 'o', 'q', 'pegava', 'do', 'meu', 'xiaomi', 'falso', 'q', 'a', 'banggood', 'me', 'enviou', 'agora', 'to', 'aqui', 'maravilhada', 'com', 'o', 'headphone', 'stereo', 'da', 'empresa', 'como', 'se', 'fosse', 'algo', 'inovador']\n",
      "['a', 'internet', 'voltou', 'mas', 'já', 'desinstalei', 'o', 'jogo', 'que', 'ódio', 'dessa', 'merda', 'de', 'telefone', 'só', 'trava', 'essa', 'desgraça', 'xiaomi', 'sua', 'puta', 'te', 'odeio', 'vcs', 'me', 'prometeram']\n",
      "['assimdisseojoao', 'infelizmente', 'meu', 'xiaomi', 'não', 'tem', 'garantia', 'contra', 'exposição', 'a', 'radiação', 'desse', 'vacilo', 'e', 'agora', 'pegou', 'câncer', 'online']\n",
      "['oq', 'será', 'que', 'o', 'fiona', 'xiaomi', 'ta', 'fazendo', 'agr']\n",
      "['aliciabeninca', 'eu', 'antes', 'de', 'comprar', 'o', 'meu', 'ouvi', 'uma', 'glr', 'que', 'comprou', 'em', 'outras', 'lojas', 'ceas', 'reclamando', 'aí', 'preferi', 'n', 'arriscar', 'e', 'comprei', 'no', 'site', 'da', 'xiaomi', 'msm', 'nem', 'amazon', 'eu', 'arrisquei', 'pq', 'eh', 'o', 'vendedor', 'que', 'coloca', 'lá', 'né']\n",
      "['me', 'tornei', 'aquilo', 'que', 'mais', 'temia', 'xau', 'xiaomi']\n",
      "['dei', 'um', 'xiaomi', 'pra', 'mamae', 'no', 'aniversário', 'dela', 'acho', 'q', 'ela', 'ainda', 'nao', 'precisou', 'colocar', 'p', 'carregar', 'slc']\n",
      "['dundermilfs', 'aaaaa', 'sim', 'o', 'meu', 'é', 'xiaomi']\n",
      "['g1', 'depois', 'a', 'apple', 'sai', 'do', 'brasil', 'não', 'adianta', 'chorar', '😭😭😭😭😭😭', 'fodase', 'fico', 'com', 'meu', 'xiaomi', 'que', 'vem', 'com', 'carregador']\n",
      "['isso', 'q', 'da', 'fazer', 'live', 'em', 'xiaomi']\n",
      "['3', 'pcs', '-', 'kuulaa', 'mini', 'usb', 'car', 'charger', 'quick', 'charge', '4', '0', 'pd', '3', '0', '36w', 'fast', 'charging', 'charger', 'for', 'iphone', 'huawei', 'xiaomi', 'mi', 'type', 'c', 'mobile', 'phone', 'aliexpress', 'r', '59', '35', 'r', '19', '78', 'cada', '6x', 'sem', 'juros', 'cupom', '10menos2', 'frete', 'grátis', 'cód', 'l']\n",
      "['lançamento', 'eminente', 'surgem', 'a', 'primeira', 'imagem', 'da', 'xiaomi', 'mi', 'band', '6']\n",
      "['gui25br', 'lian', 'li', 'e', 'o', 'cara', 'vendendo', 'por', '700', 'conto', 'acho', 'que', 'anuncio', 'não', 'durou', 'meia', 'hr', 'tipo', 'quando', 'vendi', 'meu', 'primeiro', 'xiaomi', 'no', 'mercado', 'livre']\n",
      "['te', 'cuida', 'samsung', 'vazam', 'imagens', 'do', 'futuro', 'celular', 'dobrável', 'da', 'xiaomi']\n",
      "['eu', 'coloquei', 'meu', 'xiaomi', 'na', 'tomada', 'as', '21h', 'e', 'fui', 'estudar', 'terminei', 'agora', 'já', 'está', 'em', '100', 'obs', 'dura', 'ao', 'menos', '10h', 'de', 'uso', 'contínuo', '🥵']\n",
      "['mari_steyer', 'amiga', 'e', 'qnt', 'tá', 'os', 'telefones', 'hahaha', 'queria', 'tanto', 'um', 'da', 'xiaomi']\n",
      "['meu', 'airdots', 'parou', 'de', 'funcionar', 'caralho', 'xiaomi', 'te', 'odeio']\n",
      "['10icarocaldas', 'põe', 'mais', '200', 'reais', 'que', 'você', 'acha', 'um', 'note', '7', 'ou', '8', 'da', 'xiaomi', 'bem', 'melhor']\n",
      "['tem', 'meia', 'hora', 'que', 'eu', 'tô', 'escutando', 'essa', 'música', 'no', 'volume', 'máximo', 'do', 'xiaomi', 'pra', 'quem', 'não', 'sabe', 'equivale', 'a', 'um', 'paredão', 'de', 'som', 'quem', 'vê', 'até', 'pensa', 'que', 'tô', 'festando']\n",
      "['maiamore_', 'falaram', 'q', 'da', 'xiaomi', 'é', 'bom']\n",
      "['o', 'mi', 'car', 'pode', 'estar', 'saindo', 'da', 'garagem', 'tecmundo']\n",
      "['trasdelrbd', 'xiaomi', 'uma', 'vez', 'no', 'dia']\n",
      "['xdsfalicia', 'amiga', 'eu', 'era', 'cadelinha', 'da', 'xiaomi', 'voltei', 'pra', 'apple', 'e', 'hoje', 'agradeço', 'pq', 'nossa', 'os', 'jogos', 'rodam', 'melhor', 'kkkk']\n",
      "['wollioti', 'mathmj', 'madunixs', 'xiaomi', 'é', 'mais', 'interessante', 'que', 'maçã']\n",
      "['minha', 'vontade', 'era', 'de', 'debuiar', 'o', 'cll', 'no', 'chão', 'não', 'comprem', 'xiaomi']\n",
      "['comewitnessme', 'eu', 'não', 'comprei', 'mas', 'já', 'vi', 'várias', 'análises', 'e', 'recomendam', 'bastante', 'os', 'airdots', 'da', 'xiaomi']\n",
      "['xiaomi', 'note', '10', 'ou', 'o', 'galaxy', 'm51', '🤔🤔']\n",
      "['poco', 'x3', 'pro', 'loja', 'oficial', 'da', 'xiaomi', 'revela', 'todos', 'os', 'segredos', 'antes', 'da', 'apresentação']\n",
      "['xiaomi', 'poco', 'm3', '64gb', '4gb', 'ram', 'versão', 'global', 'preto']\n",
      "['meu', 'deus', 'que', 'ódio', 'não', 'tem', 'nenhum', 'fone', 'da', 'xiaomi', 'que', 'seja', 'venda', 'nacional', 'tudo', 'demora', 'um', 'mês', 'pra', 'chegar']\n",
      "['boleirogruno911', 'g1', 'noia', '🤝', 'apple', 'vender', 'smaphone', 'sem', 'carregador', 'noia', '🤝', 'samsung', 'vender', 'smaphone', 'sem', 'carregador', 'noia', '🤝', 'xiaomi', 'vender', 'smaphone', 'sem', 'carregador', 'noia', '🤝', 'lg', 'essa', 'aí', 'ngm', 'liga', 'todo', 'mundo', 'quer', 'que', 'acabe']\n",
      "['madurezende12', 'lu2zyy', 'rreinaldoliv18', 'g1', 'não', 'é', 'pra', 'rir', 'não', 'sou', 'a', 'favor', 'da', 'multa', 'mas', 'tem', 'muita', 'informação', 'errada', 'gerada', 'aqui', 'iphone', 'não', 'é', 'produzido', 'no', 'brasil', 'sendo', 'assim', 'não', 'tem', 'grande', 'diferença', 'em', 'qual', 'empresa', 'é', 'vendido', 'o', 'micro', 'também', 'paga', 'impostos', 'xiaomi', 'já', 'tinha', 'smaphone', 'aqui', 'antes', 'de', 'vim', 'oficialmente']\n",
      "['xiaomi', 'sdjqr01rr', 'vacuum', 'w', '55', 'décibels', 'blanc', 'robotsaspirateurs']\n",
      "['poco', 'x3', 'pro', 'loja', 'oficial', 'da', 'xiaomi', 'deixa', 'escapar', 'especificações']\n",
      "['simplejcrz', 'poco', 'x3', 'melhor', 'custo', 'benéfico', 'da', 'xiaomi', 'no', 'momento', 'ou', 'samsung', 'm51', 'bateria', 'infinita']\n",
      "['anasemsal', 'não', 'é', 'do', 'cll', 'é', 'dessa', 'merda', 'incompetente', 'dessa', 'xiaomi', 'fodeu', 'todo', 'o', 'celular', 'era', 'uma', 'delícia', 'na', 'miui', '11', 'era', 'o', 'meu', 'orgulho', 'mas', 'a', 'xiaomi', 'ta', 'conseguindo', 'foder', 'minha', 'vida', 'coisa', 'que', 'eu', 'nunca', 'achei', 'que', 'fosse', 'fazer']\n",
      "['zbstore', 'zhongpotter', 'henrycosmic', 'adm', 'nao', 'tenho', 'tiktok', 'e', 'nao', 'tenho', 'espaço', 'pra', 'baixar', 'pra', 'seguir', 'vcs', 'msm', 'q', 'tenha', '4gb', 'se', 'eu', 'baixo', 'mais', 'q', 'isso', 'meu', 'celular', 'trava', 'todo', 'xiaomi', 'vc', 'me', 'prometeu']\n",
      "['crlh', 'e', 'foda', 'achar', 'a', 'capa', 'pra', 'esse', 'xiaomi', '👎🏾']\n",
      "['laraanjito', 'tinha', 'que', 'ser', 'essa', 'máquina', 'sou', 'fan', 'da', 'xiaomi', 'mas', 'das', 'gamas', 'mais', 'baixas']\n",
      "['ferrisicaro', 'g1', 'xiaomi', 'vem', 'com', 'carregador', 'foda', '-', 'se']\n",
      "['te', 'cuida', 'samsung', 'vazam', 'imagens', 'do', 'futuro', 'celular', 'dobr', 'vel', 'da', 'xiaomi']\n",
      "['guizisx', 'vc', 'não', 'tinha', 'um', 'xiaomi']\n",
      "['promoções', 'aliexpress', 'hoje', 'às', '21h', 'redragon', 'gw900', 'hd', 'webcam', 'r', '154', '03', 'cupom', 'sdcamera', '//', 'xiaomi', 'band', '5', 'r', '58', '65', 'cupom', 'sdmiband55', 'pincéis', 'de', 'maquiagem', 'r', '71', '09', 'cupom', 'sdmakeup']\n",
      "['meu', 'irmão', 'tem', 'uma', 'lâmpada', 'da', 'xiaomi', 'e', 'quando', 'o', 'servidor', 'da', 'empresa', 'dele', 'cai', 'ela', 'fica', 'vermelha', 'esse', 'desgraçado', 'tá', 'na', 'casa', 'da', 'namorada', 'e', 'essa', 'desgraça', 'já', 'caiu', 'duas', 'vezes', 'e', 'eu', 'não', 'sei', 'mais', 'se', 'é', 'o', 'servidor', 'ou', 'se', 'é', 'o', 'capeta', 'tirando', 'uma', 'comigo']\n",
      "['luciglub', 'tudo', 'da', 'xiaomi', 'eh', 'bom', 'amiga']\n",
      "['hugotiburcio_', 'veja', 'os', 'fones', 'da', 'xiaomi', 'e', 'haylou']\n",
      "['thiamluz', 'xiaomi', 'mi', '8', 'lite', 'não', 'tenho', 'com', 'tanta', 'frequência', 'mas', 'já', 'me', 'ocorreu', 'tela', 'preta', 'crash', 'os', 'mais', 'frequentes', 'são', 'drop', 'rates', 'trocar', 'a', 'arma', 'errada', 'ao', 'lootear', 'desync', 'grudar', 'em', 'paredes', 'quinas', 'mesmo', 'que', 'por', 'instantes', 'já', 'morri', 'por', 'conta', 'disso']\n",
      "['jukeboxjnts', '_lucast7', 'g1', 'a', 'xiaomi', 'sempre', 'vendeu', 'sem', 'fone', 'é', 'da', 'cultura', 'das', 'empresas', 'chinesas']\n",
      "['cupom', 'aliexpress', '2', 'r', '11', '98', 'em', 'compras', 'de', '10', 'r', '59', '90', 'cupom', '10menos2', 'válido', 'para', 'todos', 'produtos', 'da', 'página']\n",
      "['essa', 'nova', 'atualização', 'da', 'xiaomi', 'tá', 'um', 'lixo', 'mermão']\n",
      "['desculpe', 'xiaomers', 'mas', 'dropei', 'do', 'xiaomi', 'de', 'última', 'hora', 'pq', 'comecei', 'a', 'ver', 'vídeos', 'que', 'não', 'falavam', 'muito', 'bem', 'fui', 'de', 'motorola', 'mesmo']\n",
      "['morre', 'redmi', 'xiaomi', 't', 'odeio', 'bomba', 'do', 'caralho']\n",
      "['g1', 'comprem', 'um', 'xiaomi', 'muito', 'melhor']\n",
      "['_lucast7', 'g1', 'a', 'xiaomi', 'vai', 'dar', 'opção', 'de', 'você', 'pegar', 'o', 'carregador', 'de', 'graça']\n",
      "['amessymind', 'amiga', 'iphone', 'em', '2021', 'ios', 'é', 'tão', 'anos', '2015', '\\U0001f971\\U0001f971', 'hoje', 'a', 'juventude', 'descolada', 'só', 'quer', 'saber', 'da', 'xiaomi']\n",
      "['rickbigode', 'thsouzareis', 'fora', 'que', 'xiaomi', 'é', 'muito', 'bom', 'mesmo']\n",
      "['xiaomi', 'é', 'uma', 'giria', 'da', 'bahia', 'q', 'a', 'gente', 'usa', 'pra', 'algum', 'homem', 'que', 'está', 'reclamando', '/', 'chorando', 'ex', 'chia', 'demais', 'viu', 'homi']\n",
      "['ourswiftaylor', 'microfone', 'não', 'sei', 'mas', 'airdots', 'da', 'xiaomi']\n",
      "['mantovaniilah', 'pega', 'no', 'xiaomi', 'tbm', '😍']\n",
      "['essa', 'tour', 'de', 'foto', 'sem', 'filtro', 'n', 'serve', 'pra', 'mim', 'pq', 'n', 'uso', 'filtro', 'algum', 'nunca', 'foi', 'deus', 'sempre', 'foi', 'a', 'camera', 'do', 'xiaomi']\n",
      "['lottusdream', 'meu', 'celular', 'é', 'um', 'xiaomi', 'redmi', 'note', '8', '+', 'e', 'trava', 'muitooooooo', 'não', 'tem', 'condições', 'de', 'jogar']\n",
      "['cauan', '🛒', 'xiaomi', 'mijia', 'ssxcq01xy', 'handheld', 'poable', 'handy', 'car', 'home', 'vacuum', 'cleaner', '120w', '13000pa', '🛍', 'loja', 'banggood', '🏷', 'cupom', 'bghkxmutr', '💵', 'preço', 'r', '323', '63', 'já', 'incluso', 'o', 'frete', '💳', 'parcele', 'em', 'até', '12x', '📲', 'link', 'lojas', 'parceiras']\n",
      "['maximffwanda', 'qual', 'eh', 'o', 'seu', 'xiaomi', 'amg']\n",
      "['te', 'cuida', 'samsung', 'vazam', 'imagens', 'do', 'futuro', 'celular', 'dobr', 'vel', 'da', 'xiaomi']\n",
      "['lançamento', 'eminente', 'surgem', 'a', 'primeira', 'imagem', 'da', 'xiaomi', 'mi', 'band', '6', 'há', 'algum', 'tempo', 'que', 'os', 'rumores', 'sobre', 'uma', 'nova', 'smaband', 'da', 'xiaomi', 'começaram', 'a', 'circular', 'é', 'óbvio', 'que', 'esta', 'será', 'a', 'mi', 'band', '6', 'que', 'dará', 'continuidade', 'ao', 'trabalho', 'que', 'a', 'marca', 'chinesa', 'tem']\n",
      "['rulhaa', 'ju', 'serio', 'eu', 'abomino', 'aquele', 'lugar', 'ele', 'chamando', 'o', 'visao', 'de', 'brincalhao', 'brincalhao', 'julia', 'o', 'xiaomi', 'em', 'forma', 'humana', 'alguem', 'tira', 'aquela', 'rede', 'social', 'do', 'ar']\n",
      "['thaenarey', 'kkkkkkkkkkkkkkkk', 'socorro', 'muljer', 'nao', 'acredito', 'pelo', 'menos', 'foi', 'o', 'de', 'tras', 'inclusive', 'qual', 'o', 'teu', 'to', 'querendo', 'comprar', 'um', 'xiaomi']\n",
      "['cnnbrasil', 'um', 'telefone', 'bosta', 'com', 'configuração', 'de', 'moto', 'g9', 'em', 'quanto', 'tiver', 'otário', 'para', 'comprar', 'eles', 'vão', 'continuar', 'assim', 'tantas', 'opções', 'melhores', 'como', 'samsung', 's21', '/', 'xiaomi', 'mi', 'note', '10']\n",
      "['bratzve', 'e', 'eu', 'to', 'de', 'xiaomi', 'vulgo', 'xaolin']\n",
      "['mateusgarcez12', 'idoug_', 'oliveiranandx', 'oh_matthh', 'lennonbossa_', 'de', 'xiaomi', 'pra', 'xiaomi', 'também', 'dá', 'pra', 'fazer', 'isso']\n",
      "['cat_tryna', 'xiaomi', 'redmi', 'note', '9', 'pro', 'na', 'semana', 'passada', 'saiu', 'o', 'redmi', 'note', '10', 'pro', 'que', 'é', 'melhor', 'mas', 'um', 'bocado', 'mais', 'caro']\n",
      "['gente', 'comprei', 'esse', 'fone', 'da', 'xiaomi', 'no', 'mercado', 'livre', 'tá', 'pra', 'chegar', 'alguém', 'que', 'ja', 'tenha', 'comprado', 'sabe', 'se', 'vale', 'a', 'pena']\n",
      "['eu', '/', 'meu', 'sobrenome', 'maldita', 'câmera', 'xiaomi', 'que', 'deixa', 'tudo', 'cinza', 'kkkk']\n",
      "['o', 'aplicativo', 'padrao', 'de', 'video', 'do', 'xiaomi', 'tem', 'proteçao', 'contra', 'direitos', 'autorais', 'e', 'impede', 'alguns', 'videos', 'de', 'serem', 'reproduzidos', '/', 'coa', 'o', 'áudio']\n",
      "['eu', 'quero', 'tanto', 'um', 'celular', 'novo', 'pq', 'esse', 'xiaomi', 'nao', 'ta', 'dando', 'mais', 'mas', 'eu', 'to', 'com', 'pena', 'de', 'gastar', 'dinheiro']\n",
      "['que', 'multe', 'a', 'xiaomi', 'também', 'ainda', 'não', 'superei', 'que', 'essas', 'desgraça', 'me', 'vendeu', 'um', 'fone', 'sem', 'carregador']\n",
      "['boni_tic', 'tranquilo', 'pô', 'eu', 'pretendo', 'continuar', 'com', 'minha', 'webcam', '-', 'uma', 'logitech', 'c270', 'hd', '-', 'mas', 'mudar', 'o', 'microfone', 'quando', 'uso', 'o', 'mic', 'geralmente', 'é', 'com', 'um', 'headset', 'corsair', 'hs50', 'fones', '-', 'quando', 'não', 'tô', 'usando', 'o', 'mic', '-', 'eu', 'intercalo', 'entre', 'um', 'akg', 'k92', 'e', 'um', 'kz', 'zsn', 'e', 'tô', 'testando', 'xiaomi', 'redmi', 'airdots', '2']\n",
      "['ivanrodrigues09', 'fernandoferomal', 'não', 'necessariamente', 'tem', 'adaptador', 'ou', 'fones', 'bluetooth', 'né', 'eu', 'uso', 'um', 'bluetooth', 'da', 'xiaomi', 'kkkk']\n",
      "['10icarocaldas', 'xiaomi', 'é', 'bom', 'demais', 'tenho', 'um', '9s', 'de', '128gb', 'uma', 'nave', 'mas', 'antes', 'tinha', 'um', 'note', '8', 'o', 'custo', 'benefício', 'é', 'muito', 'bom', 'e', 'está', 'na', 'faixa', 'de', 'preço', 'que', 'você', 'quer']\n",
      "['faelzinxntj', 'e', 'eu', 'aqui', 'sem', 'conseguir', 'jogar', 'sem', 'todos', 'os', 'pacotes', 'baixados', 'pq', 'meu', 'xiaomi', 'quase', 'não', 'roda', 'mais', 'freefire', '🤡🤡']\n",
      "['euhenriquemarra', 'xiaomi', 'é', 'custo', 'e', 'benefício', 'chega', 'ser', 'até', 'mais', 'barato', 'as', 'vezes', 'os', 'moto', 'g', 'e', 'melhores']\n",
      "['comunista', 'mas', 'olha', 'meu', 'tenis', 'da', 'nike', 'casaco', 'da', 'adidas', 'e', 'celular', 'xiaomi', '🙈🤣🤑😝☝️', 'eu', 'amo', 'a', 'china']\n",
      "['amo', 'que', 'a', 'dona', 'xiaomi', 'é', 'daltônica', 'e', 'fica', 'inveendo', 'cor', 'eu', 'não', 'estou', 'mais', 'entendendo', 'isso']\n",
      "['94_lin3', 'amg', 'mesmo', 'que', 'samsung', 'seja', 'mais', 'barato', 'não', 'vai', 'de', 'samsung', 'vais', 'passar', 'mt', 'estresse', 'procura', 'motorola', 'ou', 'xiaomi', 'e', 'vê', 'alguns', 'usados', 'em', 'bom', 'estado']\n",
      "['loud_jojo', 'loud_babi', 'mds', 'o', 'xiaomi', 'dele', 'é', 'igual', 'o', 'meu']\n",
      "['baiano', 'não', 'me', 'deu', 'um', 'xiaomi', 'de', 'presente', 'não', 'né', '😍😍📲']\n",
      "['trasdelrbd', 'xiaomi', 'carrega', 'enquanto', 'durmo', 'cerca', 'de', 'seis', 'a', 'sete', 'horas', 'dura', 'o', 'dia', 'todo', 'e', 'eu', 'uso', 'muitoooooooooo']\n",
      "['10icarocaldas', 'vai', 'pro', 'xiaomi', 'zé']\n",
      "['todo', 'dono', 'de', 'xiaomi', 'só', 'fala', 'bem', 'dele', 'no', 'primeiro', 'mês', 'incrível']\n",
      "['eivitorp', 'blogmalapink', 'g1', 'a', 'desculpa', 'que', 'a', 'apple', 'deu', 'para', 'não', 'dar', 'carregador', 'foi', 'questões', 'ecológicas', 'mas', 'eles', 'vendem', 'separado', 'pra', 'quem', 'precisa', 'então', 'o', 'que', 'faria', 'ais', 'sentido', 'era', 'uma', 'opção', 'do', 'consumidor', 'levar', 'ou', 'não', 'o', 'carregador', 'se', 'nenhu', 'preço', 'adicional', 'como', 'fez', 'a', 'xiaomi']\n",
      "['mano', 'quero', 'morrer', 'com', 'esse', 'negócio', 'de', 'twitter', 'for', 'android', 'não', 'poderia', 'ser', 'pelo', 'menos', 'twitter', 'for', 'galaxy', 'twitter', 'for', 'xiaomi', 'sabe', '😂😂😂']\n",
      "['nossa', 'mas', 'quem', 'e', 'este', 'gatinho', 'que', 'eu', 'vejo', 'na', 'tela', 'do', 'meu', 'xiaomi']\n",
      "['biacalixtobb', 'eu', 'tenho', 'um', 'celular', 'relativamente', 'novo', 'chamado', 'redmi', 'note', '9', 'e', 'ele', 'já', 'veio', 'todo', 'bugado', 'trava', 'horrores', 'não', 'recomendo', 'xiaomi', 'vou', 'acompanhar', 'pq', 'quero', 'um', 'cel', 'novo', 'tbm', 'kkkk']\n",
      "['o', 'relógio', 'da', 'xiaomi', 'foi', 'minha', 'melhor', 'aquisição', 'desse', 'ano']\n",
      "['baixinho04', 'cara', 'a', 'xiaomi', 'tá', 'bem', 'legal', 'em', 'câmera', 'e', 'bateria', 'sem', 'falar', 'no', 'desempenho', 'eu', 'nem', 'vou', 'mexer', 'no', 'meu', 'celular', 'vou', 'trocar', 'por', 'um', 'xiaomi', 'tbm']\n",
      "['gellersfuck', 'o', 'xiaomi', 'da', '25', 'de', 'março']\n",
      "['sabrinasteinke', 'kkkkkkkk', 'o', 'cabo', 'pra', 'carregar', 'mas', 'sem', 'o', 'carregador', 'muito', 'bom', 'nota', '0', 'já', 'falei', 'pra', 'tu', 'vir', 'pro', 'lado', 'xiaomi', 'da', 'força', 'chefinha']\n",
      "['mutuals', 'qual', 'celular', 'eu', 'compro', 'samsung', 'xiaomi', 'lg', 'ou', 'motorola', 'iphone', 'ta', 'de', 'fora', 'pq', 'ainda', 'n', 'posso']\n",
      "['o', 'meu', 'xiaomi', 'permite', 'esconder', 'aplicativos', 'e', 'colocar', 'senha', 'neles', 'além', 'de', 'ngm', 'ver', 'no', 'seu', 'celular', 'ngm', 'pode', 'entrar', 'kasdjkqwjas', 'socorro']\n",
      "['eu', 'amo', 'meu', 'xiaomi', 'mas', 'queria', 'um', 'iphone', 'rpa', 'tirar', 'ft', 'dos', 'meus', 'bolos']\n",
      "['xiaomi', 'e', 'diferenciado', 'mermo', 'ultima', 'vez', 'que', 'carreguei', 'ele', 'foi', 'quaa']\n",
      "['sim', 'eu', 'sou', 'usuária', 'da', 'xiaomi', 'e', 'se', 'pudesse', 'usava', 'até', 'a', 'escova', 'elétrica', 'da', 'marca']\n",
      "['______bona', 'eu', 'compraria', 'um', 'iphone', 'so', 'p', 'tira', 'foto', 'todo', 'android', 'q', 'eu', 'pego', 'a', 'camera', 'e', 'ruim', 'provavelmente', 'pq', 'xiaomi', 'e', 'samsung', 'q', 'sao', 'os', 'unicos', 'q', 'pego', 'e', 'de', 'marca', 'chinesa', 'entao', 'eles', 'fazem', 'issonde', 'clarear', 'a', 'pele', 'e', 'blabla']\n",
      "['simplejcrz', 'amiga', 'eu', 'sou', 'xiaominion', 'então', 'indico', 'xiaomi']\n",
      "['xiaomi', 'mi', '11', 'ultra', 'deve', 'ser', 'o', 'primeiro', 'a', 'contar', 'com', 'sensor', 'de', '50', 'mp', 'da', 'samsung']\n",
      "['rfaelhenriquee', 'xiaomi', 'da', 'um', 'pau', 'na', 'samsung', 'tô', 'te', 'falando']\n",
      "['não', 'me', 'adaptei', 'nada', 'com', 'iphone', 'prefiro', 'mil', 'vezes', 'meu', 'xiaomi', '😂']\n",
      "['bruhercu', 'meu', 'xiaomi', 'tá', 'na', 'mão', '✋']\n",
      "['e', 'os', 'testemunhas', 'de', 'xiaomi', 'vão', 'a', 'loucura']\n",
      "['alefassis44', 'sei', 'lá', 'essa', 'desgraça', 'desconecta', 'toda', 'hora', 'do', 'meu', 'celular', 'não', 'carrega', 'direito', 'descarrega', 'rápido', 'não', 'tem', 'conectividade', 'direito', 'com', 'meu', 'celular', 'que', 'também', 'é', 'xiaomi', 'começo', 'a', 'pensar', 'que', 'comprei', 'essa', 'desgraça', 'pirata']\n",
      "['marcosbretasfla', 'caesalpiniaechi', '😅😅😅😅😅😅', 'então']\n",
      "['claquinhax', 'pelo', 'que', 'eu', 'vi', 'aqui', 'no', 'meu', 'xiaomi', 'da', 'sim', 'é', 'aqui', 'oj']\n",
      "['quem', 'usa', 'xiaomi', 'aqui']\n",
      "['🔥', 'ofea', 'relâmpago', 'só', 'hoje', '🔥🛒', 'supoe', 'do', 'tripé', 'de', 'nagnahz', '40', 'polegada', 'universal', 'fotografia', 'para', 'gopro', 'iphone', 'samsung', 'xiaomi', 'huawei', 'telefone', 'alumínio', 'aliexpress', 'comprar', '👉🏽🏷️', 'cupom', 'novo', 'usuário', '+', 'phsduqh5', '🔥', 'r', '70', '12', '🇧🇷', '🔥€', '8', '63', '🇪🇺💳', 'em', 'até', '6x', 'sem', 'juros']\n",
      "['evansmcavoy', 'eu', 'achei', 'que', 'compensou', 'muito', 'amiga', 'tô', 'usando', 'pra', 'desenhar', 'no', 'meu', 'xiaomi', 'não', 'tenho', 'nada', 'da', 'apple', 'e', 'nossa', 'incrível']\n",
      "['telegram', '🛒', 'xiaomi', 'redmi', 'nota', '10', '4gb', 'ram', '64gb', '/', '128gb', 'snapdragon', '678', '33w', 'amoled', 'display', '🛍', 'loja', 'aliexpress', 'cupom', 'não', 'precisa', '💵', 'preço', 'r', '1', '184', '53', 'já', 'com', 'frete', 'e', 'seguro', '💳', 'parcele', 'em', 'até', '6x', 'sem', 'juros', '📲', 'link', 'lojas', 'parceiras']\n",
      "['joohyunius', 'xiaomi', 'é', 'bom', 'amg', 'tenho', 'que', 'trocar', 'o', 'meu', 'esse', 'ano']\n",
      "['g1', 'pra', 'que', 'vou', 'querer', 'uma', 'desgraça', 'dessa', 'de', '7', '8', 'mil', 'sem', 'carregador', 'fico', 'com', 'meu', 'xiaomi', 'basico', 'mesmo', 'tranquilo']\n",
      "['sanriofaggot', 'se', 'for', 'xiaomi', '/', 'samsung', 'procuras', 'no', 'youtube', 'e', 'tem', 'tutoriais', 'para', 'fazer', 'isso', 'como', 'para', 'fazer', 'do', 'insta', 'e', 'do', 'yt', 'senão', 'crias', 'um', 'shocut', 'da', 'mobile', 'web', 'version', 'do', 'twitter', 'e', 'ya']\n",
      "['punkdodevops', 'detalhe', 'estou', 'usando', 'o', 'mesmo', 'xiaomi', 'há', '2', 'anos', 'mi', 'mix', '2s', 'na', 'linha', 'android', 'já', 'tive', 'motorola', 'e', 'samsung', 'não', 'estou', 'arrependido']\n",
      "['ahurescroto', '🛒', 'xiaomi', 'mijia', 'mini', 'aparador', 'de', 'nariz', 'elétrico', 'poátil', 'orelha', 'nariz', 'cabelo', '🛍', 'loja', 'aliexpress', '🏷', 'cupom', '10menos2', 'r', '58', '04', 'já', 'com', 'frete', 'e', 'seguro', '💳', 'parcele', 'em', 'até', '6x', 'sem', 'juros', '📲', 'link', 'lojas', 'parceiras']\n",
      "['tucked18', 'updatechauc', 'ate', 'o', 'iphone', '5s', 'faz', 'fotos', 'melhores', 'que', 'trava', '-', 'trava', 'dos', 'xiaomi']\n",
      "['mdstales', 'acho', 'q', 'é', 'mais', 'por', 'causa', 'das', 'testemunhas', 'de', 'xiaomi', '🤣']\n",
      "['eu', 'iphoner', 'em', '1000000', 'grupos', 'da', 'xiaomi', 'kkkkk', 'sofro', 'quando', 'leio', 'comentarios', 'sobre', 'a', 'bateria', 'do', 'iphone', 'pois', 'sofro', 'de', 'verdade', 'com', 'isso']\n",
      "['yfx___', 'jessica41730172', 'alba2alba', 'thegoodvirgo_', 'g1', 'a', 'margem', 'de', 'lucro', 'da', 'xiaomi', 'por', 'exemplo', 'que', 'tem', 'celulares', 'baratos', 'é', 'de', '7', '2', '/']\n",
      "['o', 'lacre', 'por', 'cell', 'mdss', 'e', 'fala', 'de', 'qualidade', 'quando', 'a', 'huawei', 'tem', 'literalmente', 'as', 'melhores', 'câmeras', '😭😭', 'isso', 'sem', 'contar', 'pixel', 'sony', 'samsung', 'vish', 'a', 'lista', 'é', 'grande', 'até', 'os', 'top', 'de', 'linha', 'da', 'xiaomi', 'tão', 'melhores', '😭']\n",
      "['gabrielhorner', 'ba', 'que', 'massa', 'qual', 'tu', 'comprou', 'xiaomi']\n",
      "['decostaangelo', 'amigo', 'mas', 'tu', 'já', 'viu', 'a', 'câmera', 'de', 'um', 'xiaomi']\n",
      "['cupons', 'aliexpress', 'funcionando', 'válido', 'para', 'os', 'produtos', 'dessa', 'página', 'u', '5', 'r', '29', '62', 'desconto', 'em', 'compras', 'de', 'u', '35', 'r', '207', '34', 'cupom', 'sd355', 'u', '12', 'r', '71', '08', 'desconto', 'em', 'compras', 'de', 'u', '99', 'r', '586', '47', 'cupom', 'sd9912']\n",
      "['📡', '🚀', 'xiaomi', 'mi', '11', 'pro', 'e', 'mi', 'mix', '4', 'têm', 'detalhes', 'confirmados', 'em', 'ceificação', '💡', 'zirigozagroup', 'e', '-', 'commerce', 'marketing', 'enkil', 'es', '8020', '🔔']\n",
      "['quem', 'tem', 'celular', 'xiaomi', 'f1', 'que', 'tentou', 'hakear', 'meu', 'facebook', 'e', 'meu', 'instagram', 'tente', 'novamente', '😘']\n",
      "['ebsilva2015', 'luizfs22', 'realmente', 'esse', 'tipo', 'de', 'carregamento', 'começou', 'nos', 'top', 'de', 'linha', 'de', '3', 'anos', 'pra', 'cá', 'começou', 'a', 'ser', 'implantados', 'mais', 'foemente', 'nos', 'celulares', 'intermediários', 'premium', 'e', 'intermediários', 'tá', 'começando', 'de', 'um', 'ano', 'pra', 'cá', 'a', 'chegar', 'nos', 'básicos', 'exclusivamente', 'por', 'pae', 'da', 'xiaomi', '[]']\n",
      "['mari_chrry', 'esperando', 'aparecer', 'algum', 'idol', 'c', 'um', 'xiaomi', 'p', 'combinar', 'cmg', '💔']\n",
      "['precisoviajar', 'eu', 'ñ', 'paro', 'de', 'pensar', 'nisso', 'lembra', 'q', 'comentei', 'qnd', 'vc', 'comprou', 'a', 'balança', 'da', 'xiaomi', 'q', 'eu', 'tbm', 'estava', 'me', 'cuidando', 'e', 'tal', 'eu', 'tava', 'treinando', 'tão', 'bem', 'queimando', 'tanta', 'gordura', 'peso', 'diminuindo', 'alimentação', 'massa', '😫😭', 'agora', 'deu', 'essa', 'brecada', 'e', 'eu', 'ainda', 'não', 'cheguei', 'onde', 'devo', 'tá', 'foda']\n",
      "['isabella_nog', 'é', 'a', 'da', 'xiaomi']\n",
      "['ah', 'mas', 'se', 'comprou', 'iphone', 'é', 'porque', 'tem', 'condições', 'pra', 'isso', 'meu', 'amor', 'eu', 'passei', '1', 'ano', 'economizando', 'para', 'comprar', 'um', 'xiaomi', 'imagina', 'o', 'povo', 'que', 'quer', 'um', 'iphone', 'e', 'o', 'pior', 'querer', 'o', 'iphone', 'e', 'ele', 'vir', 'sem', 'fone', 'e', 'carregador', 'comprar', 'ambos', 'a', 'pae', 'vocês', 'são', 'muito', 'burros']\n",
      "['eu', 'não', 'creio', 'que', 'descobri', 'o', 'gesto', 'de', 'print', 'do', 'samsung', 'sem', 'querer', 'kkk', 'e', 'não', 'é', 'por', 'nada', 'não', 'mas', 'a', 'samsung', 'precisa', 'aprender', 'sobre', 'praticidade', 'com', 'a', 'xiaomi', 'kkkkkkkkkkkkkk']\n",
      "['shouzichew', 'ei', 'tio', 'me', 'dá', 'um', 'xiaomi', 'de', 'presente', '🎁']\n"
     ]
    },
    {
     "name": "stdout",
     "output_type": "stream",
     "text": [
      "['nem', 'a', 'mão', 'de', 'um', 'gigante', 'consegue', 'segurar', 'esse', 'celular', 'note', 'da', 'xiaomi', 'bicho']\n",
      "['mn', 'celular', 'da', 'xiaomi', 'é', 'bom', 'para', 'foto', 'mas', 'para', 'vídeo', 'é', 'uma', 'merda', '🤦🏽\\u200d♂️']\n",
      "['qual', 'marca', 'do', 'seu', 'celular', '—', 'xiaomi', 'mi', '9t']\n",
      "['pretomathe', 'sdds', 'da', 'porra', 'do', 'finado', 'xiaomi']\n",
      "['paidisanto', 'myrocklee', 'ddevilni', 'samhiddles_', 'calebefernandss', 'stylestme', 'enfia', 'esse', 'xiaomi', 'no', 'teu', 'rabo']\n",
      "['tem', 'como', 'bloquear', 'um', 'prefixo', 'no', 'xiaomi', 'e', 'ninguém', 'me', 'avisa', 'bloqueei', 'o', 'ddd', '11', 'e', 'agora', 'não', 'recebo', 'mais', 'as', '15', 'ligações', 'chatas', 'de', 'são', 'paulo', 'por', 'dia', 'que', 'maravilha']\n",
      "['daniel_miorim', 'só', 'concordo', 'com', 'a', 'pae', 'do', 'xiaomi', 'gt', 'gt', 'gt', 'gt', 'samsung']\n",
      "['xiaomi', 'devolve', 'meu', 'dinheiro', 'sua', 'cachorra']\n",
      "['disponível', 'para', 'samsung', 'e', 'xiaomi']\n",
      "['rrcristiano1', 'vou', 'mamar', 'o', 'dono', 'da', 'xiaomi', 'e', 'já', 'volto', 'aqui']\n",
      "['eu', 'chegando', 'whatsapp', 'que', 'eu', 'nem', 'conheço', 'super', 'tímida', 'pra', 'perguntar', 'iai', 'tu', 'tá', 'vendendo', 'xiaomi', '\\U0001f9cd🏼\\u200d♀️']\n",
      "['a', 'caoa', 'cherry', 'de', 'carros', 'pulou', 'da', '24ª', 'para', '11ª', 'posição', 'no', 'mercado', 'de', '2017', 'a', '2020', 'a', 'xiaomi', 'já', 'está', 'entre', 'as', 'líderes', 'em', 'celulares', 'e', 'há', 'menos', 'de', 'dois', 'meses', 'chegou', 'ao', 'país', 'a', 'realme', 'que', 'quer', 'estar', 'entre', 'as', 'principais', 'empresas', 'do', 'país', 'com', 'aparelhos', '5g']\n",
      "['tu', 'quebrou', 'a', 'caneta', 'da', 'mesa', 'jogando', 'osu', 'conseguiu', 'o', 'xiaomi', 'e', 'um', 'celular', 'falta', 'a', 'cadeira', 'a', 'mesa', 'e', 'o', 'switch']\n",
      "['te', 'cuida', 'samsung', 'vazam', 'imagens', 'do', 'futuro', 'celular', 'dobr', 'vel', 'da', 'xiaomi']\n",
      "['gente', 'decidi', 'que', 'vou', 'comprar', 'outro', 'celular', 'deixe', 'aqui', 'sua', 'sugestão', '-', 'r', '1500', 'até', 'r', '2500', '-', 'sem', 'ser', 'xiaomi', '-', 'sem', 'ser', 'motorola', 'definitivamente', 'não', '-', 'gosto', 'de', 'espaço', 'câmera', 'e', 'q', 'n', 'trave', 'pelo', 'amor', 'de', 'dios']\n",
      "['juninhorufi', 'cherryminaswan', 'updatechauc', 'se', 'você', 'só', 'acha', 'que', 'iphone', 'tem', 'câmera', 'boa', 'me', 'desculpa', 'viu', 'xiaomi', 'samsung', 'tanto', 'a', 's', 'como', 'a', 'note', 'e', 'a', 'sony', 'são', 'do', 'mesmo', 'nível', 'as', 'vezes', 'até', 'superior']\n",
      "['andrepandelot', '10icarocaldas', 'yasyasyaz', 'a', 'única', 'coisa', 'da', 'xiaomi', 'q', 'eu', 'não', 'cuo', 'tnt', 'comparado', 'a', 'outros', 'aparelhos', 'é', 'a', 'câmera', 'não', 'sei', 'se', 'com', 'outros', 'tem', 'esse', 'percepção']\n",
      "['nequitiascurra', 'kaynnanlopes', 'gabtiei', 'ferrisicaro', 'g1', 'o', 'mercado', 'se', 'autorregular', 'kkkkkkkkkk', 'serio', 'quem', 'manda', 'são', 'os', 'grandes', 'eu', 'acredito', 'no', 'pouca', 'interferência', 'sem', 'descaar', 'a', 'proteção', 'ao', 'consumidor', 'ou', 'vc', 'acha', 'que', 'as', 'grandes', 'industrias', 'não', 'vão', 'aproveitar', 'opounidades', 'para', 'se', 'darem', 'bem']\n",
      "['betodecascais', 'xiaomi', 'é', 'melhor', 'moço']\n",
      "['aprecia', 'esta', 'versão', 'lxstrxvxn']\n",
      "['fabiojoose', 'tiagolordelo1', 'ferrisicaro', 'g1', 'se', 'nenhum', 'consumidor', 'aceita', 'é', 'só', 'não', 'comprar', 'se', 'ninguém', 'comprar', 'a', 'apple', 'vai', 'parar', 'de', 'fazer', 'isso', 'assim', 'como', 'a', 'xiaomi', 'tentou', 'fazer', 'mas', 'depois', 'que', 'levou', 'hate', 'voltou', 'a', 'colocar', 'novamente', 'e', 'não', 'indo', 'no', 'papai', 'estado', 'obrigando', 'a', 'empresa', 'de', 'algo', 'que', 'ela', 'não', 'é', 'obrigada']\n",
      "['deus', 'eu', 'preciso', 'me', 'decidir', 'um', 'poco', 'm3', 'ou', 'um', 'redmi', '9', 'xiaomi']\n",
      "['8marcelorodrigo', 'mathsnthnl', 'eu', 'e', 'meu', 'xiaomi', 'temos', 'um', 'relacionamento', 'super', 'abusivo', 'ele', 'me', 'deixa', 'na', 'mão', 'quando', 'preciso', 'e', 'volta', 'quando', 'quer', 'uma', 'hora', 'eu', 'largo', 'esse', 'ridículo', '😆😆']\n",
      "['novos', 'topos', 'de', 'gama', 'da', 'xiaomi', 'acabam', 'de', 'ter', 'detalhes', 'confirmados', 'em', 'nova', 'ceificação', '🔥', 'xiaomi', 'mi11pro', 'mi11ultra', 'mimix4']\n",
      "['se', 'um', 'dia', 'eu', 'falei', 'mal', 'do', 'xiaomi', 'eu', 'tava', 'muito', 'equivocada', 'celular', 'bom', 'da', 'porra']\n",
      "['mathcaverna', 'ah', 'sim', 'eu', 'pai', 'pro', 'lado', 'xiaomi', 'da', 'força', 'pq', 'tava', 'mais', 'barato', 'kkkkkk']\n",
      "['santanasperces2', 'juninhorufi', 'cherryminaswan', 'updatechauc', 'eu', 'uso', 'xiaomi', 'e', 'afirmo', 'que', 'sobre', 'qualidade', 'de', 'câmera', 'nenhum', 'cllr', 'está', 'acima', 'do', 'iphone']\n",
      "['so', 'qria', 'fancam', 'da', 'minha', 'rose', 'em', 'otg', 'seria', 'pedir', 'muito', 'xiaomi']\n",
      "['clairored', 'cherryminaswan', 'updatechauc', 'não', 'tem', 'nada', 'lá', 'mas', 'enfim', 'concordo', 'que', 'a', 'câmera', 'do', 'xiaomi', 'seja', 'bem', 'qualificada', 'só', 'não', 'acho', 'melhor', 'ao', 'menos', 'ainda']\n",
      "['clairored', 'juninhorufi', 'cherryminaswan', 'updatechauc', 'eu', 'tenho', 'o', '8', 'e', 'eu', 'posso', 'dizer', 'que', 'ele', 'é', 'muito', 'bom', 'nãe', 'impoo', 'muito', 'com', 'câmera', 'pois', 'não', 'costumo', 'tirar', 'muitas', 'fotos', 'eu', 'gosto', 'bastante', 'de', 'xiaomi', 'aqui', 'em', 'casa', 'todo', 'mundo', 'tem']\n",
      "['xiaomi', 'obrigado', 'por', 'essa', 'maravilha', 'de', 'fone', '❤️']\n",
      "['chaech4e', 'uso', 'xiaomi', 'dos', 'mais', 'baratos', 'ainda', '💀💀💀', 'mas', 'é', 'um', 'celular', 'mto', 'bom', 'meu', 'sonho', 'um', 'note', 'da', 'samsung', 'ou', 'esse', 'galaxy', 'novo', 'q', 'lançou']\n",
      "['veí', 'pq', 'nos', 'meus', 'recomendados', 'de', 'quem', 'seguir', 'apareceu', 'a', 'conta', 'oficial', 'da', 'xiaomi']\n",
      "['kainanfranco', 'nn_carvalhosa', 'lucasdeour', 'g1', 'e', 'com', 'a', 'xiaomi', 'podem', 'escolher']\n",
      "['silvioboy_', 'oferece', 'um', 'xiaomi', 'pra', 'ele']\n",
      "['10icarocaldas', 'xiaomi', 'é', 'a', 'melhor']\n",
      "['derrubei', 'meu', 'celular', 'de', 'uma', 'altura', 'consideravelmente', 'alta', 'pra', 'um', 'celular', 'cair', 'e', 'quebrar', 'e', 'bateu', 'no', 'meu', 'dedo', 'mas', 'a', 'xiaomi', 'é', 'mais', 'fácil', 'quebrar', 'o', 'dedo', 'doq', 'o', 'celular', 'e', 'olha', 'q', 'tá', 'sem', 'película', 'e', 'o', 'fundo', 'eh', 'de', 'vidro']\n",
      "['hoje', 'em', 'pleno', '2021', 'poucos', 'anos', 'depois', 'do', 'iphone', 'e', 'galaxy', 's', 'xiaomi', 'mi', 'a', 'gente', 'tem', 'que', 'torcer', 'pra', 'vir', 'com', 'carregador', 'na', 'caixa', 'e', 'se', 'vier', 'já', 'é', 'motivo', 'de', 'satisfação', 'infelizmente']\n",
      "['cara', 'eu', 'vou', 'ir', 'dnv', 'naquele', 'shopping', 'lá', 'nos', 'cafuné', 'de', 'são', 'paulo', 'só', 'pra', 'comprar', 'outro', 'fone', 'da', 'xiaomi', 'e', 'esse', 'a', 'chuva', 'nao', 'vai', 'levar']\n",
      "['finalmente', 'a', 'xiaomi', 'tirou', 'essa', 'configuração', 'horrível', 'de', 'escurecer', 'os', 'prints']\n",
      "['kitsuhitsuyy2', 'cadê', 'twitter', 'for', 'xiaomi']\n",
      "['o', 'vinicius', 'tá', 'rindo', 'da', 'minha', 'cara', 'pq', 'eu', 'to', 'procurando', 'celular', 'e', 'tava', 'tentado', 'ao', 'xiaomi', 'mas', 'to', 'vendo', 'outro', 'e', 'nas', 'diferenças', 'eu', 'disse', 'tem', 'barômetro', 'e', 'ele', 'começou', 'a', 'rir', 'pq', 'ontem', 'eu', 'tava', 'falando', 'que', 'queria', 'barômetro', 'pra', 'saber', 'as', 'altitudes', 'que', 'eu', 'to']\n",
      "['minha', 'mãe', 'maldito', 'muai', 'thai', 'ela', 'quis', 'dizer', 'o', 'telefone', 'xiaomi', 'dela']\n",
      "['yatisbored', 'juninhorufi', 'cherryminaswan', 'updatechauc', 'o', 'foco', 'dessa', 'linha', 'não', 'é', 'câmera', 'eu', 'estava', 'a', 'todo', 'momento', 'me', 'referindo', 'a', 'linha', 'mi', 'ex', 'xiaomi', 'mi11', 'mais', 'informações', 'da', 'câmera']\n",
      "['celular', 'relógio', 'e', 'airdots', 'será', 'que', 'eu', 'gosto', 'da', 'xiaomi']\n",
      "['jurislibeario', 'meio', 'complexo', 'a', 'xiaomi', 'e', 'a', 'samsung', 'também', 'começaram', 'com', 'isso', 'se', 'vira', 'uma', 'tendência', 'de', 'mercado', 'igual', 'os', 'fones', 'que', 'pararam', 'de', 'vir', 'fica', 'difícil']\n",
      "['setecentos', 'pau', 'uma', 'barraca', 'da', 'xiaomi']\n",
      "['xiaomi', 'redmi', 'note', '9', 'vs', 'note', '9s', 'vs', 'note', '9', 'pro', '-', 'entenda', 'qual', 'o', 'melhor', 'pra', 'via', 'youtube']\n",
      "['daniel_miorim', 'samsung', 'gt', 'iphone', 'gt', 'xiaomi', 'já', 'tive', 'vários', 'modelos', 'das', '3', 'marcas']\n",
      "['agr', 'q', 'eu', 'tenho', 'um', 'xiaomi', 'eu', 'tenho', 'absoluta', 'ceeza', 'q', 'eu', 'não', 'mudaria', 'por', 'nada', 'meu', 'deus', 'do', 'ceu', 'que', 'perfeição', 'de', 'configurações']\n",
      "['twitando', 'do', 'meu', 'novo', 'xiaomi', 'chupa', 'iphone']\n",
      "['gente', 'acho', 'q', 'eu', 'quero', 'ter', 'um', 'iphone', 'dnv', 'cansei', 'de', 'xiaomi', 'mas', 'nao', 'quero', 'ter', 'q', 'pagar', 'por', 'um', 'iphone', 'ent', 'to', 'aceitando', 'de', 'presente', 'ok']\n",
      "['judai___', 'sim', 'era', 'só', 'um', 'bug', 'que', 'o', 'xiaomi', 'trava', 'é', 'só', 'colocar', 'um', 'comando', 'e', 'reinicia']\n",
      "['guilh_rmino', 'é', 'da', 'mesma', 'seita', 'que', 'os', 'embaixadores', 'de', 'apple', 'e', 'xiaomi']\n",
      "['rafritasx', 'ish', 'pior', 'que', 'ja', 'vi', 'essa', 'reclamação', 'no', 'grupo', 'de', 'xiaomi', 'que', 'eu', 'to', 'no', 'facebook']\n",
      "['xiaomi', 'segue', 'na', 'justiça', 'para', 'perder', 'selo', 'de', 'comunista', '’', 'nos', 'eua', 'mercado']\n",
      "['meu', 'twitter', 'tá', 'travando', 'mais', 'do', 'que', 'tudo', 'xiaomi', 'vc', 'me', 'paga', 'seu', 'fudido']\n",
      "['os', 'emojis', 'no', 'xiaomi', 'fica', 'mt', 'feio', 'sdds', 'samsung']\n",
      "['ainnn', 'você', 'tá', 'com', 'inveja', 'de', 'quem', 'tem', 'um', 'iphone', 'amigão', 'vendi', 'o', 'meu', 'não', 'botei', 'nem', 'guardei', '1', 'centavo', 'e', 'peguei', 'meu', 'xiaomi', 'kkkkkkk']\n",
      "['na', 'moralzinha', 'me', 'arrependo', 'foemente', 'de', 'ter', 'comprado', 'um', 'xiaomi', 'comprei', 'um', 'redmi', 'note', '8', 'e', 'nao', 'é', 'nem', 'um', 'pouco', 'tudo', 'o', 'que', 'me', 'falaram']\n",
      "['amessymind', 'oi', 'vc', 'ja', 'ouviu', 'a', 'palavra', 'da', 'xiaomi']\n",
      "['n', 'supoo', 'mais', 'por', 'o', 'celular', 'p', 'carregar', 'tres', 'vezes', 'ao', 'dia', 'vou', 'trocar', 'pelo', 'xiaomi', 'esse', 'carai']\n",
      "['acho', 'que', 'vou', 'comprar', 'um', 'xiaomi']\n",
      "['tô', 'quase', 'desistindo', 'de', 'comprar', 'o', 'xiaomi', 'redmi', 'note', '8', 'pra', 'comprar', 'o', 'xiaomi', 'redmi', 'note', '9']\n",
      "['umpotiguar', 'eu', 'uso', 'o', 'da', 'minha', 'pulseira', 'da', 'xiaomi', 'mesmo', 'mas', 'essa', 'porra', 'não', 'marcou', 'hoje']\n",
      "['wang', 'yibo', 'me', 'dê', 'um', 'xiaomi', 'de', 'presente']\n",
      "['lincos_rocha', 'kaynnanlopes', 'gabtiei', 'ferrisicaro', 'g1', 'o', 'que', 'eu', 'quero', 'dizer', 'é', 'que', 'a', 'obrigação', 'do', 'estado', 'não', 'é', 'interferir', 'na', 'economia', 'julgando', 'que', 'o', 'livre', 'mercado', 'se', 'auto', 'regula', 'com', 'a', 'lei', 'de', 'ofea', 'e', 'demanda', 'tem', 'a', 'apple', 'sem', 'carregador', 'tem', 'a', 'xiaomi', 'botando', 'carregador']\n",
      "['vcs', 'acham', 'que', 'dá', 'pra', 'se', 'exercitar', 'com', 'os', 'airdots', 'da', 'xiaomi', 'ou', 'ele', 'vai', 'cair']\n",
      "['10icarocaldas', 'xiaomi', 'muito', 'mais', 'pelo', 'custo', 'benefício']\n",
      "['baikal442', 'achetez', 'xiaomi']\n",
      "['xiaomi', 'cria', 'patente', 'para', 'a', 'sua', 'própria', 'stylus', 'apple', 'patentes']\n",
      "['pagar', 'youtube', 'premium', 'pra', 'ver', 'vídeos', 'em', 'segundo', 'plano', 'ou', 'com', 'a', 'tela', 'desligada', 'meu', 'xiaomi', 'faz', 'isso', 'de', 'graça']\n",
      "['queria', 'trocar', 'meu', 'celular', 'num', 'xiaomi']\n",
      "['paícipe', 'do', 'soeio', 'de', 'um', 'xiaomi', '9t', 'pro', 'xiaomi', 'soeio', 'xiaomi9tpro', 'giveaway', 'smaphone', 'soeo']\n",
      "['alguém', 'sabe', 'dividir', 'tela', 'no', 'xiaomi', '9c']\n",
      "['resetando', 'meu', 'celular', 'pq', 'a', 'xiaomi', 'é', 'uma', 'bomba', 'que', 'delicia']\n",
      "['_b4rbara', 'só', 'na', 'da', 'xiaomi', 'ou', 'loja', 'especializada', 'em', 'celular', 'impoado']\n",
      "['zekyojn', '4sirius', 'tava', 'falando', 'do', 'meu', 'xiaomi', 'ate', 'agr', 'agr', 'vem', 'c', 'essa', 'haaa', 'pare', 'nw']\n",
      "['sangueiatino', 'do', 'xiaomi', 'tbm', 'quando', 'abro', 'o', 'celular', 'da', 'minha', 'mãe', 'viro', 'outra', 'pessoa']\n",
      "['amando', 'esse', 'negócio', 'de', 'carregar', 'o', 'celular', 'dia', 'sim', 'dia', 'não', 'né', 'a', 'xiaomi', 'segue', 'fazendo', 'tudo']\n",
      "['a', 'camera', 'do', 'xiaomi', 'tão', 'natural', 'como', 'a', 'luz', 'do', 'dia']\n",
      "['costavictorg', 'ljoga', 'é', 'o', 'mi', 'fit', 'ele', 'é', 'usado', 'qnd', 'vc', 'tem', 'uma', 'mi', 'band', 'que', 'consegue', 'pegar', 'o', 'qnt', 'vc', 'dorme', 'anda', 'seus', 'batimentos', 'cardíacos', 'e', 'essas', 'coisas', 'é', 'uma', 'pulseira', 'inteligente', 'da', 'xiaomi']\n",
      "['txcbglow', 'é', 'da', 'balança', 'da', 'xiaomi']\n",
      "['10icarocaldas', 'tenho', 'xiaomi', 'desde', '2017', 'nunca', 'tive', 'problemas', 'e', 'tem', 'um', 'custo', 'benefício', 'muito', 'bom', 'já', 'fiz', 'toda', 'minha', 'família', 'migrar', 'pra', 'xiaomi', 'kkkkkkkkkk']\n",
      "['pra', 'mim', 'quem', 'fala', 'q', 'xiaomi', 'é', 'melhor', 'q', 'iphone', 'é', 'retardado']\n",
      "['meu', 'carregador', 'tá', 'todo', 'fudido', 'mesmo', 'assim', 'não', 'para', 'de', 'funcionar', 'xiaomi', 'eu', 'te', 'amo']\n",
      "['giopiterr', 'ljoga', 'é', 'um', 'app', 'pra', 'quem', 'tem', 'pulseira', 'relógio', 'e', 'outras', 'coisas', 'da', 'xiaomi']\n",
      "['já', 'resetei', 'meu', 'airdots', '500', 'vezes', 'e', 'não', 'quer', 'sincronizar', 'xiaomi', 'vc', 'me', 'prometeu', '🤡🤡']\n",
      "['10icarocaldas', 'comprei', 'o', 'meu', 'primeiro', 'xiaomi', 'e', 'tô', 'gostando', 'bastante']\n",
      "['d19niel', 'mano', 'comprei', 'um', 'sem', 'fio', 'da', 'xiaomi']\n"
     ]
    }
   ],
   "source": [
    "# Limpando as planilhas teste:\n",
    "            \n",
    "for tweet in range(len(test.Teste)):\n",
    "    tweet_test = cleanup(test.Teste[tweet]).split()\n",
    "    \n",
    "    print(tweet_test)           "
   ]
  },
  {
   "cell_type": "code",
   "execution_count": 892,
   "metadata": {},
   "outputs": [
    {
     "name": "stdout",
     "output_type": "stream",
     "text": [
      "Probabilidade de uma palavra pertencer a categoria RELEVANTE é de 0.2667.\n",
      "Probabilidade de uma palavra pertencer a categoria IRRELEVANTE é de 0.7333.\n"
     ]
    }
   ],
   "source": [
    "# Calculando as probabilidades das classificações dos Tweets:\n",
    "\n",
    "# 𝑃(𝐶𝑙𝑎𝑠𝑠𝑖𝑓𝑖𝑐𝑎çã𝑜) = ∑(𝑃𝑎𝑙𝑎𝑣𝑟𝑎𝑠 𝐷𝑎 𝐶𝑙𝑎𝑠𝑠𝑖𝑓𝑖𝑐𝑎çã𝑜) / ∑(𝑃𝑎𝑙𝑎𝑣𝑟𝑎𝑠 𝐷𝑜 𝑉𝑜𝑐𝑎𝑏𝑢𝑙á𝑟𝑖𝑜)\n",
    "\n",
    "P_relevante = len(palavras_relevante)/(len(palavras_relevante)+len(palavras_irrelevante))\n",
    "P_irrelevante =  len(palavras_irrelevante)/(len(palavras_relevante)+len(palavras_irrelevante))\n",
    "\n",
    "print(f'Probabilidade de uma palavra pertencer a categoria RELEVANTE é de {prob_relevante:.4g}.')\n",
    "print(f'Probabilidade de uma palavra pertencer a categoria IRRELEVANTE é de {prob_irrelevante:.4g}.')\n",
    "        "
   ]
  },
  {
   "cell_type": "code",
   "execution_count": 893,
   "metadata": {},
   "outputs": [],
   "source": [
    "# Calculando as probabilidades de uma palavra ser de dada classificação\n",
    "\n",
    "# P(Tweet|Classificação) = P(Palavra1|Classificação)*P(Palavra2|Classificação)*P(Palavra3|Classificação)\n",
    "\n",
    "# P(Palavra|Classificação) = ∑(𝐴𝑝𝑎𝑟𝑖çõ𝑒𝑠 𝐷𝑎 𝑃𝑎𝑙𝑎𝑣𝑟𝑎)+1 / ∑(𝑃𝑎𝑙𝑎𝑣𝑟𝑎𝑠 𝐷𝑎 𝐶𝑙𝑎𝑠𝑠𝑖𝑓𝑖𝑐𝑎çã𝑜) + ∑(𝑃𝑎𝑙𝑎𝑣𝑟𝑎𝑠𝐷𝑜𝑉𝑜𝑐𝑎𝑏𝑢𝑙á𝑟𝑖𝑜)\n",
    " \n",
    "def P_tweet_dado_relevante(frase):\n",
    "    frase = cleanup(frase).split()\n",
    "    P_palavra_dado_relevante = 1\n",
    "    for palavra in frase:\n",
    "        if palavra in tabela_relevante:\n",
    "            P_palavra_dado_relevante *= (tabela_relevante[palavra] + 1)/((len(palavras_relevante) + (len(vocabulario)))) # relevante\n",
    "        else:\n",
    "            P_palavra_dado_relevante *= 1/((len(palavras_relevante) + (len(vocabulario))))\n",
    "    return P_palavra_dado_relevante  \n",
    "\n",
    "def P_tweet_dado_irrelevante(frase):\n",
    "    P_palavra_dado_irrelevante = 1\n",
    "    frase = cleanup(frase).split()\n",
    "    for palavra in frase:\n",
    "        if palavra in tabela_irrelevante:\n",
    "            P_palavra_dado_irrelevante *= (tabela_irrelevante[palavra] + 1)/((len(palavras_irrelevante) + (len(vocabulario))))            \n",
    "        else:\n",
    "            P_palavra_dado_irrelevante *= 1/((len(palavras_irrelevante) + (len(vocabulario))))\n",
    "    return P_palavra_dado_irrelevante"
   ]
  },
  {
   "cell_type": "code",
   "execution_count": 894,
   "metadata": {},
   "outputs": [
    {
     "name": "stdout",
     "output_type": "stream",
     "text": [
      "['d19niel', 'mano', 'comprei', 'um', 'sem', 'fio', 'da', 'xiaomi']\n"
     ]
    }
   ],
   "source": [
    "print(tweet_test)"
   ]
  },
  {
   "cell_type": "code",
   "execution_count": 895,
   "metadata": {},
   "outputs": [],
   "source": [
    "# 𝑃(𝐶𝑙𝑎𝑠𝑠𝑖𝑓𝑖𝑐𝑎çã𝑜|𝑇𝑤𝑒𝑒𝑡)=𝑃(𝑃𝑎𝑙𝑎𝑣𝑟𝑎|𝐶𝑙𝑎𝑠𝑠𝑖𝑓𝑖𝑐𝑎çã𝑜)∗𝑃(𝐶𝑙𝑎𝑠𝑠𝑖𝑓𝑖𝑐𝑎çã𝑜)\n",
    "\n",
    "def NaiveBayes(tweet):\n",
    "    P_relevante_dado_tweet = P_tweet_dado_relevante(tweet) * P_relevante\n",
    "    P_irrelevante_dado_tweet = P_tweet_dado_irrelevante(tweet) * P_irrelevante\n",
    "    P_lista = [P_irrelevante_dado_tweet,\n",
    "               P_relevante_dado_tweet]\n",
    "    return P_lista.index(max(P_lista))"
   ]
  },
  {
   "cell_type": "code",
   "execution_count": 896,
   "metadata": {
    "scrolled": false
   },
   "outputs": [
    {
     "data": {
      "text/html": [
       "<div>\n",
       "<style scoped>\n",
       "    .dataframe tbody tr th:only-of-type {\n",
       "        vertical-align: middle;\n",
       "    }\n",
       "\n",
       "    .dataframe tbody tr th {\n",
       "        vertical-align: top;\n",
       "    }\n",
       "\n",
       "    .dataframe thead th {\n",
       "        text-align: right;\n",
       "    }\n",
       "</style>\n",
       "<table border=\"1\" class=\"dataframe\">\n",
       "  <thead>\n",
       "    <tr style=\"text-align: right;\">\n",
       "      <th></th>\n",
       "      <th>Teste</th>\n",
       "      <th>Classificação</th>\n",
       "      <th>Predição</th>\n",
       "    </tr>\n",
       "  </thead>\n",
       "  <tbody>\n",
       "    <tr>\n",
       "      <td>0</td>\n",
       "      <td>@luffyoficial_ entt amg,  omo eu ainda não ten...</td>\n",
       "      <td>Irrelevante</td>\n",
       "      <td>0</td>\n",
       "    </tr>\n",
       "    <tr>\n",
       "      <td>1</td>\n",
       "      <td>a xiaomi me prometeu qualidade</td>\n",
       "      <td>Irrelevante</td>\n",
       "      <td>0</td>\n",
       "    </tr>\n",
       "    <tr>\n",
       "      <td>2</td>\n",
       "      <td>algum sugar daddy on pra me dar o robo aspirad...</td>\n",
       "      <td>Irrelevante</td>\n",
       "      <td>0</td>\n",
       "    </tr>\n",
       "    <tr>\n",
       "      <td>3</td>\n",
       "      <td>@xiaomibrasil me salva aí, xiaomi com os bugs....</td>\n",
       "      <td>Irrelevante</td>\n",
       "      <td>1</td>\n",
       "    </tr>\n",
       "    <tr>\n",
       "      <td>4</td>\n",
       "      <td>meu celular ja ta em fim de carreira n vejo a ...</td>\n",
       "      <td>Irrelevante</td>\n",
       "      <td>0</td>\n",
       "    </tr>\n",
       "    <tr>\n",
       "      <td>...</td>\n",
       "      <td>...</td>\n",
       "      <td>...</td>\n",
       "      <td>...</td>\n",
       "    </tr>\n",
       "    <tr>\n",
       "      <td>295</td>\n",
       "      <td>meu carregador tá todo fudido mesmo assim não ...</td>\n",
       "      <td>Relevante</td>\n",
       "      <td>0</td>\n",
       "    </tr>\n",
       "    <tr>\n",
       "      <td>296</td>\n",
       "      <td>@giopiterr @ljoga é um app pra quem tem pulsei...</td>\n",
       "      <td>Irrelevante</td>\n",
       "      <td>0</td>\n",
       "    </tr>\n",
       "    <tr>\n",
       "      <td>297</td>\n",
       "      <td>já resetei meu airdots 500 vezes e não quer si...</td>\n",
       "      <td>Relevante</td>\n",
       "      <td>0</td>\n",
       "    </tr>\n",
       "    <tr>\n",
       "      <td>298</td>\n",
       "      <td>@10icarocaldas comprei o meu primeiro xiaomi e...</td>\n",
       "      <td>Relevante</td>\n",
       "      <td>0</td>\n",
       "    </tr>\n",
       "    <tr>\n",
       "      <td>299</td>\n",
       "      <td>@d19niel mano comprei um sem fio da xiaomi</td>\n",
       "      <td>Irrelevante</td>\n",
       "      <td>0</td>\n",
       "    </tr>\n",
       "  </tbody>\n",
       "</table>\n",
       "<p>300 rows × 3 columns</p>\n",
       "</div>"
      ],
      "text/plain": [
       "                                                 Teste Classificação  Predição\n",
       "0    @luffyoficial_ entt amg,  omo eu ainda não ten...   Irrelevante         0\n",
       "1                       a xiaomi me prometeu qualidade   Irrelevante         0\n",
       "2    algum sugar daddy on pra me dar o robo aspirad...   Irrelevante         0\n",
       "3    @xiaomibrasil me salva aí, xiaomi com os bugs....   Irrelevante         1\n",
       "4    meu celular ja ta em fim de carreira n vejo a ...   Irrelevante         0\n",
       "..                                                 ...           ...       ...\n",
       "295  meu carregador tá todo fudido mesmo assim não ...     Relevante         0\n",
       "296  @giopiterr @ljoga é um app pra quem tem pulsei...   Irrelevante         0\n",
       "297  já resetei meu airdots 500 vezes e não quer si...     Relevante         0\n",
       "298  @10icarocaldas comprei o meu primeiro xiaomi e...     Relevante         0\n",
       "299         @d19niel mano comprei um sem fio da xiaomi   Irrelevante         0\n",
       "\n",
       "[300 rows x 3 columns]"
      ]
     },
     "execution_count": 896,
     "metadata": {},
     "output_type": "execute_result"
    }
   ],
   "source": [
    "test['Predição'] = 'NaN'\n",
    "for i in range(len(test)):\n",
    "    #NaiveBayes(test.Teste(tweet_test))\n",
    "    test.loc[i, 'Predição'] = NaiveBayes(test.loc[i, 'Teste'])\n",
    "test"
   ]
  },
  {
   "cell_type": "code",
   "execution_count": 897,
   "metadata": {},
   "outputs": [],
   "source": [
    "test.Predição = test.Predição.astype('category')\n",
    "test.Predição.cat.categories = ('Irrelevante', 'Relevante')"
   ]
  },
  {
   "cell_type": "markdown",
   "metadata": {},
   "source": [
    "___\n",
    "### Verificando a performance do Classificador\n",
    "\n",
    "Agora você deve testar o seu classificador com a base de Testes."
   ]
  },
  {
   "cell_type": "code",
   "execution_count": 898,
   "metadata": {},
   "outputs": [
    {
     "name": "stdout",
     "output_type": "stream",
     "text": [
      "Porcentagem de acertos do Modelo:  67.66666666666666 %\n"
     ]
    }
   ],
   "source": [
    "\n",
    "acertos=np.sum(test['Predição']==test['Classificação'])/test.Classificação.shape[0]\n",
    "\n",
    "print (\"Porcentagem de acertos do Modelo: \", acertos*100,\"%\")"
   ]
  },
  {
   "cell_type": "code",
   "execution_count": 899,
   "metadata": {},
   "outputs": [],
   "source": [
    "relevante_normal = test.Classificação == 'Relevante'\n",
    "relevante_duplo = (test.Classificação == 'Relevante') & (test['Predição'] == 'Relevante')\n",
    "P_relevantes_verdadeiros = (test.loc[relevante_duplo].shape[0]/test.loc[relevante_normal].shape[0])\n",
    "P_relevantes_falsos = 1 - P_relevantes_verdadeiros"
   ]
  },
  {
   "cell_type": "code",
   "execution_count": 900,
   "metadata": {},
   "outputs": [],
   "source": [
    "irrelevante_normal = test.Classificação == 'Irrelevante'\n",
    "irrelevante_duplo = (test.Classificação == 'Irrelevante') & (test['Predição'] == 'Irrelevante')\n",
    "P_irrelevantes_verdadeiros = (test.loc[irrelevante_duplo].shape[0]/test.loc[relevante_normal].shape[0])\n",
    "P_irrelevantes_falsos = 1 - P_relevantes_verdadeiros"
   ]
  },
  {
   "cell_type": "code",
   "execution_count": 901,
   "metadata": {},
   "outputs": [
    {
     "name": "stdout",
     "output_type": "stream",
     "text": [
      "Probabilidade de um tweet RELEVANTE ser considerado RELEVANTE é de 0.1402.\n",
      "Probabilidade de um tweet RELEVANTE ser considerado IRRELEVANTE é de 0.1402.\n",
      "Probabilidade de um tweet IRRELEVANTE ser considerado IRRELEVANTE é de 1.757.\n",
      "Probabilidade de um tweet IRRELEVANTE ser considerado RELEVANTE é de 1.757.\n"
     ]
    }
   ],
   "source": [
    "print(f'Probabilidade de um tweet RELEVANTE ser considerado RELEVANTE é de {P_relevantes_verdadeiros:.4g}.')\n",
    "print(f'Probabilidade de um tweet RELEVANTE ser considerado IRRELEVANTE é de {P_relevantes_verdadeiros:.4g}.')\n",
    "print(f'Probabilidade de um tweet IRRELEVANTE ser considerado IRRELEVANTE é de {P_irrelevantes_verdadeiros:.4g}.')\n",
    "print(f'Probabilidade de um tweet IRRELEVANTE ser considerado RELEVANTE é de {P_irrelevantes_verdadeiros:.4g}.')"
   ]
  },
  {
   "cell_type": "markdown",
   "metadata": {},
   "source": [
    "## Porque não posso alimentar minha base de Treinamento automaticamente usando o próprio classificador, aplicado a novos tweets?"
   ]
  },
  {
   "attachments": {},
   "cell_type": "markdown",
   "metadata": {},
   "source": [
    "Por se tratar de um classificador com duas etapas, a primeira na qual se desenvolve o modelo e ajusta seus parâmetros de acordo com a amostra de treinamento e a segunda sendo o teste de performance do modelo, comparando a nova amostra de teste com a de treinamento, é inviável obter uma nova amostra de treinamento com o classificador, pois a classe de treinamento é a base dos parâmetros do classificador.\n"
   ]
  },
  {
   "cell_type": "markdown",
   "metadata": {},
   "source": [
    "## Diferentes cenários de uso para o classificador Naive-Bayes:"
   ]
  },
  {
   "cell_type": "markdown",
   "metadata": {},
   "source": [
    "##### Classificar um e-mail como spam ou não;\n",
    "\n",
    "Identificando as palavras mais frequentes em spams e usando-as como chave da classificação.\n",
    "\n",
    "##### Calcular as probabilidades em cima de diagnóstico de doenças;\n",
    "\n",
    "Assim podendo calcular a probabilidade de uma pessoa que fez o teste para uma doença e teve seu resultado positivo, de ser ou não um portador da doença.\n",
    "\n",
    "##### Classificar o sentimento transmitido por um tweet;\n"
   ]
  },
  {
   "cell_type": "markdown",
   "metadata": {},
   "source": [
    "## Possíveis melhorias para o classificador Naive-Bayes:"
   ]
  },
  {
   "attachments": {},
   "cell_type": "markdown",
   "metadata": {},
   "source": [
    "#### Utilizar probabilidades logarítmicas\n",
    "Usar logaritmos, para facilitar na hora do cálculo e evitar problemas de erro de multiplicação e ou divisão, por usarmos números muito pequenos, e eventualmente excedendo a capacidade do computador de fazer estas operações.\n",
    "\n",
    "Para evitarmos trabalhar com números muito pequenos, podemos utilizar a probabilidade logaritmica (logaritmo das valores de probabilidade)\n",
    "\n",
    "A função logaritmica mapeia os valores da probabilidade, em um range de (0, 1) a (-\\inf, 0] range. \n",
    "\n",
    "Precisamos lembrar que as operações de multiplicação viram somas quando trabalhamos com funções logaritmicas. Por isso, pegar o logaritmo da equação inteira nos retorna:\n",
    "\n",
    "$$log(P(Ci|A)) = P(∑log(P(aj|Ci))*log(P(Ci)\\hspace{3cm}\\$$\n",
    "\n",
    "Esse método de mapeamento funciona o Naive Bayes pois, para classificar precisamos saber qual categoria possui a maior probabilidade em vez de procurar o valor especifico daquela probabilidade. Utilizar o logaritmo não vai mudar a ordem dos scores de probabilidade das categorias. Assim, ainda podemos decidir qual classe possui a maior probabilidade de acontecer. \n",
    "\n",
    "#### Utilizar outras distribuições:\n",
    "Para fazer o uso do Método de Naive Bayes com variáveis qualitativas, fazemos o cálculo da frequência observada para cada uma das variáveis.\n",
    "\n",
    "Porém, se quisessemos utilizar variáveis quantitativas para montar o nosso classificador, poderiamos utilizar a Gaussian distribution para descobrir a densidade de cada variável. Ou, dependendo da disposição dos dados que você deseja observar, poderia utilizar outras funções que descrevam melhor essa disposição, como a exponencial.\n",
    "\n",
    "#### Remover features correlacionadas\n",
    "\n",
    "As features, quando altamente correlacionadas, são contadas duas vezes no modelo. Essas contagens duplas levam para uma super estimação da importância dessas features. Assim, a performance do classificador Naive Bayes diminui.\n",
    "\n",
    "Precisamos eliminar a correlação das features, e assumir que elas são independentres. Para detectar e eliminar tais correlações, podemos utilizar uma matriz de correlação para comparar as duplas correlacionadas.\n",
    "\n",
    "De outra forma, podermos fazer a seleção das features baseada em sua probabilidade. Assim, podemos explorar as probabilidades combinadas de diferentes features, e tentar entender a predição delas na variável final.\n",
    "\n",
    "No Python, podemos utilizar a biblioteca Seaborn para plotar mapas de correlação (heatmaps) e mapas de hierarquia de correlação, baseados na similaridade de linhas e colunas do dataset.\n",
    "\n",
    "\n"
   ]
  },
  {
   "cell_type": "markdown",
   "metadata": {},
   "source": [
    "___\n",
    "### Concluindo\n"
   ]
  },
  {
   "cell_type": "markdown",
   "metadata": {},
   "source": [
    "##### Faça um comparativo qualitativo sobre os percentuais obtidos para que possa discutir a performance do seu classificador.\n",
    "\n",
    "A partir de todos os dados calculados, chegamos à conclusão que apesar de termos um número razoável de acertos (, (67.6%), nosso classificador poderia apresentar uma margem de erro menor caso o número de tweets relevantes e o número de tweets irrelevantes fosse mais próximo um do outro, e se fossem implementadas diferentes técnicas de filtração para a obtenção destes. Outra forma de aprimorar o classificador poderia ser a utilização de categorias intermediarias, assim, filtrando ainda mais o conteúdo de todos os tweets."
   ]
  },
  {
   "cell_type": "markdown",
   "metadata": {},
   "source": [
    "##### Explique como são tratadas as mensagens com dupla negação e sarcasmo\n",
    "\n",
    "Uma parte fundamental que pode explicar a baixa eficácia do nosso modelo é justamente a grande presença de mensagens\n",
    "com tom de ironia ou sarcasmo, pois nesses tweets, aparecem palavras que normalmente seriam encontradas em tweets relevantes, porém não especificam nenhum sentimento real do cliente a respeito dos produtos da marca."
   ]
  },
  {
   "cell_type": "markdown",
   "metadata": {},
   "source": [
    "##### Proponha um plano de expansão. Por que eles devem continuar financiando o seu projeto?\n",
    "\n",
    "Levando em consideração a importância que a análise de dados possui na pesquisa de mercado e na pesquisa de satisfação dos clientes com os produtos ofertados pela empresa, é de extrema importância que eles se envolvam cada vez mais no desejo dos clientes, e também nos problemas que eles possam relatar sobre os produtos.\n",
    "\n",
    "Por isso, com um empenho maior em produzir um Classificador com uma melhor performance, e que consiga filtrar grande parte dos tweets de menor relevância para poder focar nos tweets de maior relevância, além de ter uma atualização periódica dos dados e um dataframe mais abrangente ,acredito que a Xiaomi Brasil deveria continuar investindo na pesquisa da sua área de mercado para focar no sentimento dos seus clientes em relação aos produtos desenvolvidos e comercializados pela empresa."
   ]
  },
  {
   "cell_type": "markdown",
   "metadata": {},
   "source": [
    "___\n",
    "### Qualidade do Classificador a partir de novas separações dos tweets entre Treinamento e Teste\n",
    "\n",
    "Caso for fazer esse item do Projeto"
   ]
  },
  {
   "cell_type": "code",
   "execution_count": null,
   "metadata": {},
   "outputs": [],
   "source": [
    "train = pd.read_excel(filename, sheet_name = 'Treinamento')\n",
    "test = pd.read_excel(filename, sheet_name = 'Teste')\n",
    "\n",
    "train['Tweets'] = train.Treinamento\n",
    "train.Tweets\n",
    "test['Tweets'] = test.Teste"
   ]
  },
  {
   "cell_type": "code",
   "execution_count": null,
   "metadata": {},
   "outputs": [],
   "source": [
    "dados = train.append(test)\n",
    "dados = dados.drop(columns=['Treinamento'])\n",
    "dados = dados.drop(columns=['Teste'])\n",
    "dados"
   ]
  },
  {
   "cell_type": "code",
   "execution_count": null,
   "metadata": {},
   "outputs": [],
   "source": [
    "from sklearn.model_selection import train_test_split"
   ]
  },
  {
   "cell_type": "code",
   "execution_count": null,
   "metadata": {},
   "outputs": [],
   "source": [
    "Y = dados['Classificação']\n",
    "#X = dados.drop(columns=['Base MSRP', 'Make', 'Battery Electric Vehicle (BEV)'])\n",
    "#X = dados[['Model Year', 'Electric Range', 'Premium']]\n",
    "X = dados['Tweets']\n",
    "X"
   ]
  },
  {
   "cell_type": "code",
   "execution_count": null,
   "metadata": {},
   "outputs": [],
   "source": [
    "X_train, X_test, y_train, y_test = train_test_split(X, Y, test_size=0.5)"
   ]
  },
  {
   "cell_type": "code",
   "execution_count": null,
   "metadata": {},
   "outputs": [],
   "source": [
    "X_train"
   ]
  },
  {
   "cell_type": "markdown",
   "metadata": {},
   "source": [
    "___\n",
    "## Aperfeiçoamento:\n",
    "\n",
    "Os trabalhos vão evoluir em conceito dependendo da quantidade de itens avançados:\n",
    "\n",
    "* Limpar: \\n, :, \", ', (, ), etc SEM remover emojis\n",
    "* Corrigir separação de espaços entre palavras e emojis ou entre emojis e emojis\n",
    "* Propor outras limpezas e transformações que não afetem a qualidade da informação ou classificação\n",
    "* Criar categorias intermediárias de relevância baseadas na probabilidade: ex.: muito relevante, relevante, neutro, irrelevante, muito irrelevante (3 categorias: C, mais categorias conta para B)\n",
    "* Explicar por que não posso usar o próprio classificador para gerar mais amostras de treinamento\n",
    "* Propor diferentes cenários para Naïve Bayes fora do contexto do projeto\n",
    "* Sugerir e explicar melhorias reais com indicações concretas de como implementar (indicar como fazer e indicar material de pesquisa)\n"
   ]
  },
  {
   "cell_type": "markdown",
   "metadata": {},
   "source": [
    "___\n",
    "## Referências"
   ]
  },
  {
   "cell_type": "markdown",
   "metadata": {},
   "source": [
    "[Naive Bayes and Text Classification](https://arxiv.org/pdf/1410.5329.pdf)  **Mais completo**\n",
    "\n",
    "[A practical explanation of a Naive Bayes Classifier](https://monkeylearn.com/blog/practical-explanation-naive-bayes-classifier/) **Mais simples**\n",
    "\n",
    "[Cleaning Text Data with Python](https://towardsdatascience.com/cleaning-text-data-with-python-b69b47b97b76) **Cleanup Text Function**\n",
    "\n",
    "[Laplace smoothing in Naïve Bayes algorithm](https://towardsdatascience.com/laplace-smoothing-in-na%C3%AFve-bayes-algorithm-9c237a8bdece) **Método de La Place Smoothing**\n",
    "\n",
    "[Naive Bayes Classifier From Scratch in Python](https://machinelearningmastery.com/naive-bayes-classifier-scratch-python/) **Naive Bayes Classifier from scratch**\n",
    "\n",
    "[In Depth: Naive Bayes Classification](https://jakevdp.github.io/PythonDataScienceHandbook/05.05-naive-bayes.html) **Confusion Matrix**\n",
    "\n",
    "[Better Naive Bayes: 12 Tips To Get The Most From The Naive Bayes Algorithm](https://machinelearningmastery.com/better-naive-bayes/) **How to improve Naive Bayes**\n",
    "\n",
    "[How to Improve Naive Bayes Classification Performance?](https://www.baeldung.com/cs/naive-bayes-classification-performance) **How to improve Naive Bayes performance**"
   ]
  },
  {
   "cell_type": "code",
   "execution_count": null,
   "metadata": {},
   "outputs": [],
   "source": []
  }
 ],
 "metadata": {
  "kernelspec": {
   "display_name": "Python 3",
   "language": "python",
   "name": "python3"
  },
  "language_info": {
   "codemirror_mode": {
    "name": "ipython",
    "version": 3
   },
   "file_extension": ".py",
   "mimetype": "text/x-python",
   "name": "python",
   "nbconvert_exporter": "python",
   "pygments_lexer": "ipython3",
   "version": "3.7.4"
  }
 },
 "nbformat": 4,
 "nbformat_minor": 4
}
