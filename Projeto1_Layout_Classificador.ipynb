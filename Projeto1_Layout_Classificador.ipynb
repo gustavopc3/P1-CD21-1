{
 "cells": [
  {
   "cell_type": "markdown",
   "metadata": {},
   "source": [
    "# Projeto 1 - Ciência dos Dados"
   ]
  },
  {
   "cell_type": "markdown",
   "metadata": {},
   "source": [
    "Nome: Gustavo Pinheiro de Carvalho\n",
    "\n",
    "Nome: Maria Eduarda Matta Mercer Mourão"
   ]
  },
  {
   "cell_type": "markdown",
   "metadata": {},
   "source": [
    "Atenção: Serão permitidos grupos de três pessoas, mas com uma rubrica mais exigente. Grupos deste tamanho precisarão fazer um questionário de avaliação de trabalho em equipe"
   ]
  },
  {
   "cell_type": "markdown",
   "metadata": {},
   "source": [
    "___\n",
    "Carregando algumas bibliotecas:"
   ]
  },
  {
   "cell_type": "code",
   "execution_count": 4,
   "metadata": {},
   "outputs": [],
   "source": [
    "%matplotlib inline\n",
    "import pandas as pd\n",
    "import matplotlib.pyplot as plt\n",
    "import numpy as np\n",
    "import os"
   ]
  },
  {
   "cell_type": "code",
   "execution_count": 5,
   "metadata": {
    "scrolled": false
   },
   "outputs": [
    {
     "name": "stdout",
     "output_type": "stream",
     "text": [
      "Esperamos trabalhar no diretório\n",
<<<<<<< HEAD
      "/Users/gustavopinheiro/P1-CD21-1\n"
=======
      "/Users/gustavopinheiro/OneDrive - Insper - Institudo de Ensino e Pesquisa/Ciência dos Dados/Projeto 1/Obtenção dos Tweets\n"
>>>>>>> 9d141e2e131e9876167ce7991a242357769327be
     ]
    }
   ],
   "source": [
    "print('Esperamos trabalhar no diretório')\n",
    "print(os.getcwd())"
   ]
  },
  {
   "cell_type": "markdown",
   "metadata": {},
   "source": [
    "Carregando a base de dados com os tweets classificados como relevantes e não relevantes:"
   ]
  },
  {
   "cell_type": "code",
<<<<<<< HEAD
   "execution_count": 3,
=======
   "execution_count": 6,
>>>>>>> 9d141e2e131e9876167ce7991a242357769327be
   "metadata": {},
   "outputs": [],
   "source": [
    "filename = 'Xiaomi.xlsx'"
   ]
  },
  {
   "cell_type": "code",
<<<<<<< HEAD
   "execution_count": 4,
=======
   "execution_count": 7,
>>>>>>> 9d141e2e131e9876167ce7991a242357769327be
   "metadata": {},
   "outputs": [
    {
     "data": {
      "text/html": [
       "<div>\n",
       "<style scoped>\n",
       "    .dataframe tbody tr th:only-of-type {\n",
       "        vertical-align: middle;\n",
       "    }\n",
       "\n",
       "    .dataframe tbody tr th {\n",
       "        vertical-align: top;\n",
       "    }\n",
       "\n",
       "    .dataframe thead th {\n",
       "        text-align: right;\n",
       "    }\n",
       "</style>\n",
       "<table border=\"1\" class=\"dataframe\">\n",
       "  <thead>\n",
       "    <tr style=\"text-align: right;\">\n",
       "      <th></th>\n",
       "      <th>Treinamento</th>\n",
<<<<<<< HEAD
       "      <th>Classificação</th>\n",
=======
       "      <th>Unnamed: 1</th>\n",
>>>>>>> 9d141e2e131e9876167ce7991a242357769327be
       "    </tr>\n",
       "  </thead>\n",
       "  <tbody>\n",
       "    <tr>\n",
       "      <td>0</td>\n",
       "      <td>@baixinho04 xiaomi seria uma boa opção. eu ten...</td>\n",
       "      <td>1.0</td>\n",
       "    </tr>\n",
       "    <tr>\n",
       "      <td>1</td>\n",
       "      <td>ainda bem q tenho xiaomi e ele tá cm 73%, dura...</td>\n",
       "      <td>0.0</td>\n",
       "    </tr>\n",
       "    <tr>\n",
       "      <td>2</td>\n",
       "      <td>@tetenc555 @naegiwcat eu vó compra um xiaomi r...</td>\n",
       "      <td>0.0</td>\n",
       "    </tr>\n",
       "    <tr>\n",
       "      <td>3</td>\n",
       "      <td>@10icarocaldas por esse preço tu comprar o xia...</td>\n",
       "      <td>0.0</td>\n",
       "    </tr>\n",
       "    <tr>\n",
       "      <td>4</td>\n",
       "      <td>vcs que tem xiaomi sabiam que dá p/ usar o you...</td>\n",
       "      <td>0.0</td>\n",
       "    </tr>\n",
       "  </tbody>\n",
       "</table>\n",
       "</div>"
      ],
      "text/plain": [
<<<<<<< HEAD
       "                                         Treinamento  Classificação\n",
       "0  @baixinho04 xiaomi seria uma boa opção. eu ten...            1.0\n",
       "1  ainda bem q tenho xiaomi e ele tá cm 73%, dura...            0.0\n",
       "2  @tetenc555 @naegiwcat eu vó compra um xiaomi r...            0.0\n",
       "3  @10icarocaldas por esse preço tu comprar o xia...            0.0\n",
       "4  vcs que tem xiaomi sabiam que dá p/ usar o you...            0.0"
      ]
     },
     "execution_count": 4,
=======
       "                                         Treinamento  Unnamed: 1\n",
       "0  @baixinho04 xiaomi seria uma boa opção. eu ten...         1.0\n",
       "1  ainda bem q tenho xiaomi e ele tá cm 73%, dura...         0.0\n",
       "2  @tetenc555 @naegiwcat eu vó compra um xiaomi r...         0.0\n",
       "3  @10icarocaldas por esse preço tu comprar o xia...         0.0\n",
       "4  vcs que tem xiaomi sabiam que dá p/ usar o you...         0.0"
      ]
     },
     "execution_count": 7,
>>>>>>> 9d141e2e131e9876167ce7991a242357769327be
     "metadata": {},
     "output_type": "execute_result"
    }
   ],
   "source": [
    "train = pd.read_excel(filename)\n",
    "train.head(5)"
   ]
  },
  {
   "cell_type": "code",
<<<<<<< HEAD
   "execution_count": 5,
=======
   "execution_count": 8,
>>>>>>> 9d141e2e131e9876167ce7991a242357769327be
   "metadata": {},
   "outputs": [
    {
     "data": {
      "text/html": [
       "<div>\n",
       "<style scoped>\n",
       "    .dataframe tbody tr th:only-of-type {\n",
       "        vertical-align: middle;\n",
       "    }\n",
       "\n",
       "    .dataframe tbody tr th {\n",
       "        vertical-align: top;\n",
       "    }\n",
       "\n",
       "    .dataframe thead th {\n",
       "        text-align: right;\n",
       "    }\n",
       "</style>\n",
       "<table border=\"1\" class=\"dataframe\">\n",
       "  <thead>\n",
       "    <tr style=\"text-align: right;\">\n",
       "      <th></th>\n",
       "      <th>Teste</th>\n",
       "      <th>Classificação</th>\n",
       "    </tr>\n",
       "  </thead>\n",
       "  <tbody>\n",
       "    <tr>\n",
       "      <td>0</td>\n",
       "      <td>@luffyoficial_ entt amg,  omo eu ainda não ten...</td>\n",
<<<<<<< HEAD
       "      <td>0</td>\n",
=======
       "      <td>0.0</td>\n",
>>>>>>> 9d141e2e131e9876167ce7991a242357769327be
       "    </tr>\n",
       "    <tr>\n",
       "      <td>1</td>\n",
       "      <td>a xiaomi me prometeu qualidade</td>\n",
<<<<<<< HEAD
       "      <td>0</td>\n",
=======
       "      <td>0.0</td>\n",
>>>>>>> 9d141e2e131e9876167ce7991a242357769327be
       "    </tr>\n",
       "    <tr>\n",
       "      <td>2</td>\n",
       "      <td>algum sugar daddy on pra me dar o robo aspirad...</td>\n",
<<<<<<< HEAD
       "      <td>0</td>\n",
=======
       "      <td>0.0</td>\n",
>>>>>>> 9d141e2e131e9876167ce7991a242357769327be
       "    </tr>\n",
       "    <tr>\n",
       "      <td>3</td>\n",
       "      <td>@xiaomibrasil me salva aí, xiaomi com os bugs....</td>\n",
<<<<<<< HEAD
       "      <td>0</td>\n",
=======
       "      <td>0.0</td>\n",
>>>>>>> 9d141e2e131e9876167ce7991a242357769327be
       "    </tr>\n",
       "    <tr>\n",
       "      <td>4</td>\n",
       "      <td>meu celular ja ta em fim de carreira n vejo a ...</td>\n",
<<<<<<< HEAD
       "      <td>0</td>\n",
=======
       "      <td>0.0</td>\n",
>>>>>>> 9d141e2e131e9876167ce7991a242357769327be
       "    </tr>\n",
       "  </tbody>\n",
       "</table>\n",
       "</div>"
      ],
      "text/plain": [
       "                                               Teste  Classificação\n",
<<<<<<< HEAD
       "0  @luffyoficial_ entt amg,  omo eu ainda não ten...              0\n",
       "1                     a xiaomi me prometeu qualidade              0\n",
       "2  algum sugar daddy on pra me dar o robo aspirad...              0\n",
       "3  @xiaomibrasil me salva aí, xiaomi com os bugs....              0\n",
       "4  meu celular ja ta em fim de carreira n vejo a ...              0"
      ]
     },
     "execution_count": 5,
=======
       "0  @luffyoficial_ entt amg,  omo eu ainda não ten...            0.0\n",
       "1                     a xiaomi me prometeu qualidade            0.0\n",
       "2  algum sugar daddy on pra me dar o robo aspirad...            0.0\n",
       "3  @xiaomibrasil me salva aí, xiaomi com os bugs....            0.0\n",
       "4  meu celular ja ta em fim de carreira n vejo a ...            0.0"
      ]
     },
     "execution_count": 8,
>>>>>>> 9d141e2e131e9876167ce7991a242357769327be
     "metadata": {},
     "output_type": "execute_result"
    }
   ],
   "source": [
    "test = pd.read_excel(filename, sheet_name = 'Teste')\n",
    "test.head(5)"
   ]
  },
  {
   "cell_type": "code",
   "execution_count": 10,
   "metadata": {},
   "outputs": [
    {
     "data": {
      "text/plain": [
       "0.0    0.649819\n",
       "1.0    0.350181\n",
       "Name: Classificação, dtype: float64"
      ]
     },
     "execution_count": 10,
     "metadata": {},
     "output_type": "execute_result"
    }
   ],
   "source": [
    "test.Classificação.value_counts(True)"
   ]
  },
  {
   "cell_type": "markdown",
   "metadata": {},
   "source": [
    "___\n",
    "## Classificador automático de sentimento\n"
   ]
  },
  {
   "cell_type": "markdown",
   "metadata": {},
   "source": [
    "A marca escolhida para o desenvolvimento do classificador Naive-Bayes foi a Xiaomi, marca de origem chinesa que divide opiniões quanto a sua qualidade e aceitabilidade dentro do mercado nacional de eletrônicos. Essa empresa comercializa diversos tipos de aparelhos, como smartphones, smartwatches, câmeras e até scooters elétricas. \n",
    "\n",
    "Pelo objetivo de fazer uma pesquisa sobre a aceitação da marca dentro do mercado brasileiro, assumimos como relevantes todos os tweets que contém uma opinião a respeito da marca e dos seus produtos, tanto positivas como negativas. \n",
    "\n",
    "Como esses produtos costumam estar associados a sorteios e ações de publicidade dentro do Twitter, decidimos categorizar como não relevantes esses tweets, além das mensagens que não expressavam nenhum tipo de opinião dos consumidores."
   ]
  },
  {
   "cell_type": "markdown",
   "metadata": {},
   "source": [
    "### Definindo as variáveis qualitativas como categóricas:"
   ]
  },
  {
   "cell_type": "markdown",
   "metadata": {},
   "source": [
    "#### Treinamento"
   ]
  },
  {
   "cell_type": "code",
   "execution_count": 7,
   "metadata": {},
   "outputs": [],
   "source": [
    "train['Classificação'] = train['Classificação'].astype('category')"
   ]
  },
  {
   "cell_type": "code",
   "execution_count": 8,
   "metadata": {},
   "outputs": [],
   "source": [
    "train.Classificação.cat.categories = ['Não relevante', 'Relevante']"
   ]
  },
  {
   "cell_type": "code",
   "execution_count": 9,
   "metadata": {},
   "outputs": [],
   "source": [
    "train.Classificação = pd.Categorical(train.Classificação, categories=['Não relevante', 'Relevante'], ordered=False)"
   ]
  },
  {
   "cell_type": "code",
   "execution_count": 11,
   "metadata": {},
   "outputs": [
    {
     "data": {
      "text/html": [
       "<div>\n",
       "<style scoped>\n",
       "    .dataframe tbody tr th:only-of-type {\n",
       "        vertical-align: middle;\n",
       "    }\n",
       "\n",
       "    .dataframe tbody tr th {\n",
       "        vertical-align: top;\n",
       "    }\n",
       "\n",
       "    .dataframe thead th {\n",
       "        text-align: right;\n",
       "    }\n",
       "</style>\n",
       "<table border=\"1\" class=\"dataframe\">\n",
       "  <thead>\n",
       "    <tr style=\"text-align: right;\">\n",
       "      <th></th>\n",
       "      <th>Treinamento</th>\n",
       "      <th>Classificação</th>\n",
       "    </tr>\n",
       "  </thead>\n",
       "  <tbody>\n",
       "    <tr>\n",
       "      <td>0</td>\n",
       "      <td>@baixinho04 xiaomi seria uma boa opção. eu ten...</td>\n",
       "      <td>Relevante</td>\n",
       "    </tr>\n",
       "    <tr>\n",
       "      <td>1</td>\n",
       "      <td>ainda bem q tenho xiaomi e ele tá cm 73%, dura...</td>\n",
       "      <td>Não relevante</td>\n",
       "    </tr>\n",
       "    <tr>\n",
       "      <td>2</td>\n",
       "      <td>@tetenc555 @naegiwcat eu vó compra um xiaomi r...</td>\n",
       "      <td>Não relevante</td>\n",
       "    </tr>\n",
       "    <tr>\n",
       "      <td>3</td>\n",
       "      <td>@10icarocaldas por esse preço tu comprar o xia...</td>\n",
       "      <td>Não relevante</td>\n",
       "    </tr>\n",
       "    <tr>\n",
       "      <td>4</td>\n",
       "      <td>vcs que tem xiaomi sabiam que dá p/ usar o you...</td>\n",
       "      <td>Não relevante</td>\n",
       "    </tr>\n",
       "    <tr>\n",
       "      <td>5</td>\n",
       "      <td>@10icarocaldas xiaomi é o melhor celular custo...</td>\n",
       "      <td>Relevante</td>\n",
       "    </tr>\n",
       "    <tr>\n",
       "      <td>6</td>\n",
       "      <td>@_lucast7 @g1 verdade, mas pelo menos o preço ...</td>\n",
       "      <td>Não relevante</td>\n",
       "    </tr>\n",
       "    <tr>\n",
       "      <td>7</td>\n",
       "      <td>a xiaomi lançou um celular com a acabamento em...</td>\n",
       "      <td>Não relevante</td>\n",
       "    </tr>\n",
       "    <tr>\n",
       "      <td>8</td>\n",
       "      <td>@mathmj @madunixs @affectionmauro xiaomi alem ...</td>\n",
       "      <td>Relevante</td>\n",
       "    </tr>\n",
       "    <tr>\n",
       "      <td>9</td>\n",
       "      <td>@nn_carvalhosa @g1 no caso da xiaomi o consumi...</td>\n",
       "      <td>Não relevante</td>\n",
       "    </tr>\n",
       "  </tbody>\n",
       "</table>\n",
       "</div>"
      ],
      "text/plain": [
       "                                         Treinamento  Classificação\n",
       "0  @baixinho04 xiaomi seria uma boa opção. eu ten...      Relevante\n",
       "1  ainda bem q tenho xiaomi e ele tá cm 73%, dura...  Não relevante\n",
       "2  @tetenc555 @naegiwcat eu vó compra um xiaomi r...  Não relevante\n",
       "3  @10icarocaldas por esse preço tu comprar o xia...  Não relevante\n",
       "4  vcs que tem xiaomi sabiam que dá p/ usar o you...  Não relevante\n",
       "5  @10icarocaldas xiaomi é o melhor celular custo...      Relevante\n",
       "6  @_lucast7 @g1 verdade, mas pelo menos o preço ...  Não relevante\n",
       "7  a xiaomi lançou um celular com a acabamento em...  Não relevante\n",
       "8  @mathmj @madunixs @affectionmauro xiaomi alem ...      Relevante\n",
       "9  @nn_carvalhosa @g1 no caso da xiaomi o consumi...  Não relevante"
      ]
     },
     "execution_count": 11,
     "metadata": {},
     "output_type": "execute_result"
    }
   ],
   "source": [
    "train.head(10)"
   ]
  },
  {
   "cell_type": "markdown",
   "metadata": {},
   "source": [
    "#### Teste"
   ]
  },
  {
   "cell_type": "code",
   "execution_count": 12,
   "metadata": {},
   "outputs": [],
   "source": [
    "test['Classificação'] = test['Classificação'].astype('category')"
   ]
  },
  {
   "cell_type": "code",
   "execution_count": 13,
   "metadata": {},
   "outputs": [],
   "source": [
    "test.Classificação.cat.categories = ['Não relevante', 'Relevante']"
   ]
  },
  {
   "cell_type": "code",
   "execution_count": 14,
   "metadata": {},
   "outputs": [],
   "source": [
    "test.Classificação = pd.Categorical(test.Classificação, categories=['Não relevante', 'Relevante'], ordered=False)"
   ]
  },
  {
   "cell_type": "code",
   "execution_count": 15,
   "metadata": {},
   "outputs": [
    {
     "data": {
      "text/html": [
       "<div>\n",
       "<style scoped>\n",
       "    .dataframe tbody tr th:only-of-type {\n",
       "        vertical-align: middle;\n",
       "    }\n",
       "\n",
       "    .dataframe tbody tr th {\n",
       "        vertical-align: top;\n",
       "    }\n",
       "\n",
       "    .dataframe thead th {\n",
       "        text-align: right;\n",
       "    }\n",
       "</style>\n",
       "<table border=\"1\" class=\"dataframe\">\n",
       "  <thead>\n",
       "    <tr style=\"text-align: right;\">\n",
       "      <th></th>\n",
       "      <th>Teste</th>\n",
       "      <th>Classificação</th>\n",
       "    </tr>\n",
       "  </thead>\n",
       "  <tbody>\n",
       "    <tr>\n",
       "      <td>0</td>\n",
       "      <td>@luffyoficial_ entt amg,  omo eu ainda não ten...</td>\n",
       "      <td>Não relevante</td>\n",
       "    </tr>\n",
       "    <tr>\n",
       "      <td>1</td>\n",
       "      <td>a xiaomi me prometeu qualidade</td>\n",
       "      <td>Não relevante</td>\n",
       "    </tr>\n",
       "    <tr>\n",
       "      <td>2</td>\n",
       "      <td>algum sugar daddy on pra me dar o robo aspirad...</td>\n",
       "      <td>Não relevante</td>\n",
       "    </tr>\n",
       "    <tr>\n",
       "      <td>3</td>\n",
       "      <td>@xiaomibrasil me salva aí, xiaomi com os bugs....</td>\n",
       "      <td>Não relevante</td>\n",
       "    </tr>\n",
       "    <tr>\n",
       "      <td>4</td>\n",
       "      <td>meu celular ja ta em fim de carreira n vejo a ...</td>\n",
       "      <td>Não relevante</td>\n",
       "    </tr>\n",
       "    <tr>\n",
       "      <td>5</td>\n",
       "      <td>a xiaomi mi band 6 estará mesmo a chegar?\\nhtt...</td>\n",
       "      <td>Não relevante</td>\n",
       "    </tr>\n",
       "    <tr>\n",
       "      <td>6</td>\n",
       "      <td>xiaomi não decepciona em nada 👏</td>\n",
       "      <td>Relevante</td>\n",
       "    </tr>\n",
       "    <tr>\n",
       "      <td>7</td>\n",
       "      <td>@wos4you vai ser o mesmo lugar q eu vou mandar...</td>\n",
       "      <td>Não relevante</td>\n",
       "    </tr>\n",
       "    <tr>\n",
       "      <td>8</td>\n",
       "      <td>@kaiiirtss xiaomi sksksks</td>\n",
       "      <td>Não relevante</td>\n",
       "    </tr>\n",
       "    <tr>\n",
       "      <td>9</td>\n",
       "      <td>@jopedrobf gastou dinheiro atoa... a não ser q...</td>\n",
       "      <td>Não relevante</td>\n",
       "    </tr>\n",
       "  </tbody>\n",
       "</table>\n",
       "</div>"
      ],
      "text/plain": [
       "                                               Teste  Classificação\n",
       "0  @luffyoficial_ entt amg,  omo eu ainda não ten...  Não relevante\n",
       "1                     a xiaomi me prometeu qualidade  Não relevante\n",
       "2  algum sugar daddy on pra me dar o robo aspirad...  Não relevante\n",
       "3  @xiaomibrasil me salva aí, xiaomi com os bugs....  Não relevante\n",
       "4  meu celular ja ta em fim de carreira n vejo a ...  Não relevante\n",
       "5  a xiaomi mi band 6 estará mesmo a chegar?\\nhtt...  Não relevante\n",
       "6                    xiaomi não decepciona em nada 👏      Relevante\n",
       "7  @wos4you vai ser o mesmo lugar q eu vou mandar...  Não relevante\n",
       "8                          @kaiiirtss xiaomi sksksks  Não relevante\n",
       "9  @jopedrobf gastou dinheiro atoa... a não ser q...  Não relevante"
      ]
     },
     "execution_count": 15,
     "metadata": {},
     "output_type": "execute_result"
    }
   ],
   "source": [
    "test.head(10)"
   ]
  },
  {
   "cell_type": "markdown",
   "metadata": {},
   "source": [
    "### Estudo dos valores e quantidades de tweets para cada categoria"
   ]
  },
  {
   "cell_type": "markdown",
   "metadata": {},
   "source": [
    "#### Treinamento"
   ]
  },
  {
   "cell_type": "code",
   "execution_count": 16,
   "metadata": {},
   "outputs": [
    {
     "data": {
      "text/plain": [
       "Não relevante    0.732441\n",
       "Relevante        0.267559\n",
       "Name: Classificação, dtype: float64"
      ]
     },
     "execution_count": 16,
     "metadata": {},
     "output_type": "execute_result"
    }
   ],
   "source": [
    "train.Classificação.value_counts(True)"
   ]
  },
  {
   "cell_type": "code",
   "execution_count": 19,
   "metadata": {},
   "outputs": [
    {
     "data": {
      "text/plain": [
       "<matplotlib.axes._subplots.AxesSubplot at 0x117b1d910>"
      ]
     },
     "execution_count": 19,
     "metadata": {},
     "output_type": "execute_result"
    },
    {
     "data": {
      "image/png": "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\n",
      "text/plain": [
       "<Figure size 432x288 with 1 Axes>"
      ]
     },
     "metadata": {},
     "output_type": "display_data"
    }
   ],
   "source": [
    "train.value_counts = train.Classificação.value_counts()\n",
    "train.value_counts.plot(kind='pie', title='Divisão por categorias de relevância', autopct=\"%.2f\")"
   ]
  },
  {
   "cell_type": "markdown",
   "metadata": {},
   "source": [
    "#### Teste"
   ]
  },
  {
   "cell_type": "code",
   "execution_count": 20,
   "metadata": {},
   "outputs": [
    {
     "data": {
      "text/plain": [
       "Não relevante    0.643333\n",
       "Relevante        0.356667\n",
       "Name: Classificação, dtype: float64"
      ]
     },
     "execution_count": 20,
     "metadata": {},
     "output_type": "execute_result"
    }
   ],
   "source": [
    "test.Classificação.value_counts(True)"
   ]
  },
  {
   "cell_type": "code",
   "execution_count": 21,
   "metadata": {},
   "outputs": [
    {
     "name": "stderr",
     "output_type": "stream",
     "text": [
      "/Users/gustavopinheiro/opt/anaconda3/lib/python3.7/site-packages/ipykernel_launcher.py:1: UserWarning: Pandas doesn't allow columns to be created via a new attribute name - see https://pandas.pydata.org/pandas-docs/stable/indexing.html#attribute-access\n",
      "  \"\"\"Entry point for launching an IPython kernel.\n"
     ]
    },
    {
     "data": {
      "text/plain": [
       "<matplotlib.axes._subplots.AxesSubplot at 0x115690450>"
      ]
     },
     "execution_count": 21,
     "metadata": {},
     "output_type": "execute_result"
    },
    {
     "data": {
      "image/png": "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\n",
      "text/plain": [
       "<Figure size 432x288 with 1 Axes>"
      ]
     },
     "metadata": {},
     "output_type": "display_data"
    }
   ],
   "source": [
    "test.value_counts = test.Classificação.value_counts()\n",
    "test.value_counts.plot(kind='pie', title='Divisão por categorias de relevância', autopct=\"%.2f\")"
   ]
  },
  {
   "cell_type": "markdown",
   "metadata": {},
   "source": [
    "### Função para limpeza dos tweets:"
   ]
  },
  {
   "cell_type": "code",
   "execution_count": 24,
   "metadata": {},
   "outputs": [],
   "source": [
    "import re\n",
    "\n",
    "def cleanup(tweet_og):\n",
    "    tweet = tweet_og.lower()\n",
    "    tweet = re.sub(\"https*\\S+\", \" \", tweet_og) # Removendo URL\n",
    "    tweet = re.sub(\"#\\S+\", \" \", tweet_og) # Removendo Hashtags\n",
    "    tweet = re.sub('\\s{2,}', \" \", tweet_og) # Removendo os espaços múltiplos\n",
    "    tweet = \" \".join(re.findall(\"(\\w+|[^\\w ]+)\",tweet_og)) # Adiciona espaços entre os Emojis\n",
    "    tweet = re.sub('\\s*([@])\\s*', r' \\1', tweet_og) # Realiza a junção dos @ previamente separados\n",
    "    tweet = re.sub(\"@\\S+\", \" \", tweet_og) # Remove menções de usuários\n",
    "    #tweet = re.sub('[%s]' % re.escape(string.punctuation), ' ', tweet_og) # Remove aspas\n",
    "    tweet = re.sub('\\n','',tweet_og) \n",
    "    tweet = re.sub('rt','',tweet_og) # Remove o 'rt': retweet\n",
    "    tweet = re.sub(re.compile(\"\"\"[!-',.:)\"(?;#@]\"\"\"), '', tweet_og) # Remove as pontuações e os sinais\n",
    "    \n",
    "    return tweet\n",
    "    \n",
    "    \n",
    "    \n",
    "# Limpar: \\n, :, \", ', (, ), etc SEM remover emojis \n",
    "# Corrigir separação de espaços entre palavras e emojis ou entre emojis e emojis\n",
    "# Propor outras limpezas e transformações que não afetem a qualidade da informação ou classificação\n",
    "# Criar categorias intermediárias de relevância baseadas na probabilidade: ex.: muito relevante, relevante, neutro, irrelevante, muito irrelevante (3 categorias: C, mais categorias conta para B)\n",
    "# Explicar por que não posso usar o próprio classificador para gerar mais amostras de treinamento\n",
    "# Propor diferentes cenários para Naïve Bayes fora do contexto do projeto\n",
    "# Sugerir e explicar melhorias reais com indicações concretas de como implementar (indicar como fazer e indicar material de pesquisa)"
   ]
  },
  {
   "cell_type": "code",
   "execution_count": 25,
   "metadata": {},
   "outputs": [
    {
     "ename": "AttributeError",
     "evalue": "'DataFrame' object has no attribute 'lower'",
     "output_type": "error",
     "traceback": [
      "\u001b[0;31m---------------------------------------------------------------------------\u001b[0m",
      "\u001b[0;31mAttributeError\u001b[0m                            Traceback (most recent call last)",
      "\u001b[0;32m<ipython-input-25-c7a852f1f935>\u001b[0m in \u001b[0;36m<module>\u001b[0;34m\u001b[0m\n\u001b[0;32m----> 1\u001b[0;31m \u001b[0mtrain_limpo\u001b[0m \u001b[0;34m=\u001b[0m \u001b[0mcleanup\u001b[0m\u001b[0;34m(\u001b[0m\u001b[0mtrain\u001b[0m\u001b[0;34m)\u001b[0m\u001b[0;34m\u001b[0m\u001b[0;34m\u001b[0m\u001b[0m\n\u001b[0m\u001b[1;32m      2\u001b[0m \u001b[0mprint\u001b[0m\u001b[0;34m(\u001b[0m\u001b[0mtrain\u001b[0m\u001b[0;34m)\u001b[0m\u001b[0;34m\u001b[0m\u001b[0;34m\u001b[0m\u001b[0m\n",
      "\u001b[0;32m<ipython-input-24-6ca7d8ed038e>\u001b[0m in \u001b[0;36mcleanup\u001b[0;34m(tweet_og)\u001b[0m\n\u001b[1;32m      2\u001b[0m \u001b[0;34m\u001b[0m\u001b[0m\n\u001b[1;32m      3\u001b[0m \u001b[0;32mdef\u001b[0m \u001b[0mcleanup\u001b[0m\u001b[0;34m(\u001b[0m\u001b[0mtweet_og\u001b[0m\u001b[0;34m)\u001b[0m\u001b[0;34m:\u001b[0m\u001b[0;34m\u001b[0m\u001b[0;34m\u001b[0m\u001b[0m\n\u001b[0;32m----> 4\u001b[0;31m     \u001b[0mtweet\u001b[0m \u001b[0;34m=\u001b[0m \u001b[0mtweet_og\u001b[0m\u001b[0;34m.\u001b[0m\u001b[0mlower\u001b[0m\u001b[0;34m(\u001b[0m\u001b[0;34m)\u001b[0m\u001b[0;34m\u001b[0m\u001b[0;34m\u001b[0m\u001b[0m\n\u001b[0m\u001b[1;32m      5\u001b[0m     \u001b[0mtweet\u001b[0m \u001b[0;34m=\u001b[0m \u001b[0mre\u001b[0m\u001b[0;34m.\u001b[0m\u001b[0msub\u001b[0m\u001b[0;34m(\u001b[0m\u001b[0;34m\"https*\\S+\"\u001b[0m\u001b[0;34m,\u001b[0m \u001b[0;34m\" \"\u001b[0m\u001b[0;34m,\u001b[0m \u001b[0mtweet_og\u001b[0m\u001b[0;34m)\u001b[0m \u001b[0;31m# Removendo URL\u001b[0m\u001b[0;34m\u001b[0m\u001b[0;34m\u001b[0m\u001b[0m\n\u001b[1;32m      6\u001b[0m     \u001b[0mtweet\u001b[0m \u001b[0;34m=\u001b[0m \u001b[0mre\u001b[0m\u001b[0;34m.\u001b[0m\u001b[0msub\u001b[0m\u001b[0;34m(\u001b[0m\u001b[0;34m\"#\\S+\"\u001b[0m\u001b[0;34m,\u001b[0m \u001b[0;34m\" \"\u001b[0m\u001b[0;34m,\u001b[0m \u001b[0mtweet_og\u001b[0m\u001b[0;34m)\u001b[0m \u001b[0;31m# Removendo Hashtags\u001b[0m\u001b[0;34m\u001b[0m\u001b[0;34m\u001b[0m\u001b[0m\n",
      "\u001b[0;32m~/opt/anaconda3/lib/python3.7/site-packages/pandas/core/generic.py\u001b[0m in \u001b[0;36m__getattr__\u001b[0;34m(self, name)\u001b[0m\n\u001b[1;32m   5177\u001b[0m             \u001b[0;32mif\u001b[0m \u001b[0mself\u001b[0m\u001b[0;34m.\u001b[0m\u001b[0m_info_axis\u001b[0m\u001b[0;34m.\u001b[0m\u001b[0m_can_hold_identifiers_and_holds_name\u001b[0m\u001b[0;34m(\u001b[0m\u001b[0mname\u001b[0m\u001b[0;34m)\u001b[0m\u001b[0;34m:\u001b[0m\u001b[0;34m\u001b[0m\u001b[0;34m\u001b[0m\u001b[0m\n\u001b[1;32m   5178\u001b[0m                 \u001b[0;32mreturn\u001b[0m \u001b[0mself\u001b[0m\u001b[0;34m[\u001b[0m\u001b[0mname\u001b[0m\u001b[0;34m]\u001b[0m\u001b[0;34m\u001b[0m\u001b[0;34m\u001b[0m\u001b[0m\n\u001b[0;32m-> 5179\u001b[0;31m             \u001b[0;32mreturn\u001b[0m \u001b[0mobject\u001b[0m\u001b[0;34m.\u001b[0m\u001b[0m__getattribute__\u001b[0m\u001b[0;34m(\u001b[0m\u001b[0mself\u001b[0m\u001b[0;34m,\u001b[0m \u001b[0mname\u001b[0m\u001b[0;34m)\u001b[0m\u001b[0;34m\u001b[0m\u001b[0;34m\u001b[0m\u001b[0m\n\u001b[0m\u001b[1;32m   5180\u001b[0m \u001b[0;34m\u001b[0m\u001b[0m\n\u001b[1;32m   5181\u001b[0m     \u001b[0;32mdef\u001b[0m \u001b[0m__setattr__\u001b[0m\u001b[0;34m(\u001b[0m\u001b[0mself\u001b[0m\u001b[0;34m,\u001b[0m \u001b[0mname\u001b[0m\u001b[0;34m,\u001b[0m \u001b[0mvalue\u001b[0m\u001b[0;34m)\u001b[0m\u001b[0;34m:\u001b[0m\u001b[0;34m\u001b[0m\u001b[0;34m\u001b[0m\u001b[0m\n",
      "\u001b[0;31mAttributeError\u001b[0m: 'DataFrame' object has no attribute 'lower'"
     ]
    }
   ],
   "source": [
    "train_limpo = cleanup(train)\n",
    "print(train)"
   ]
  },
  {
   "cell_type": "markdown",
   "metadata": {},
   "source": [
    "___\n",
    "### Montando um Classificador Naive-Bayes\n",
    "\n",
    "Considerando apenas as mensagens da planilha Treinamento, ensine  seu classificador."
   ]
  },
  {
   "cell_type": "code",
   "execution_count": null,
   "metadata": {},
   "outputs": [],
   "source": []
  },
  {
   "cell_type": "code",
   "execution_count": null,
   "metadata": {},
   "outputs": [],
   "source": []
  },
  {
   "cell_type": "code",
   "execution_count": null,
   "metadata": {},
   "outputs": [],
   "source": []
  },
  {
   "cell_type": "markdown",
   "metadata": {},
   "source": [
    "___\n",
    "### Verificando a performance do Classificador\n",
    "\n",
    "Agora você deve testar o seu classificador com a base de Testes."
   ]
  },
  {
   "cell_type": "code",
   "execution_count": null,
   "metadata": {},
   "outputs": [],
   "source": []
  },
  {
   "cell_type": "code",
   "execution_count": null,
   "metadata": {},
   "outputs": [],
   "source": []
  },
  {
   "cell_type": "code",
   "execution_count": null,
   "metadata": {},
   "outputs": [],
   "source": []
  },
  {
   "cell_type": "markdown",
   "metadata": {},
   "source": [
    "___\n",
    "### Concluindo"
   ]
  },
  {
   "cell_type": "code",
   "execution_count": null,
   "metadata": {},
   "outputs": [],
   "source": []
  },
  {
   "cell_type": "code",
   "execution_count": null,
   "metadata": {},
   "outputs": [],
   "source": []
  },
  {
   "cell_type": "code",
   "execution_count": null,
   "metadata": {},
   "outputs": [],
   "source": []
  },
  {
   "cell_type": "markdown",
   "metadata": {},
   "source": [
    "___\n",
    "### Qualidade do Classificador a partir de novas separações dos tweets entre Treinamento e Teste\n",
    "\n",
    "Caso for fazer esse item do Projeto"
   ]
  },
  {
   "cell_type": "code",
   "execution_count": null,
   "metadata": {},
   "outputs": [],
   "source": []
  },
  {
   "cell_type": "code",
   "execution_count": null,
   "metadata": {},
   "outputs": [],
   "source": []
  },
  {
   "cell_type": "code",
   "execution_count": null,
   "metadata": {},
   "outputs": [],
   "source": []
  },
  {
   "cell_type": "markdown",
   "metadata": {},
   "source": [
    "___\n",
    "## Aperfeiçoamento:\n",
    "\n",
    "Os trabalhos vão evoluir em conceito dependendo da quantidade de itens avançados:\n",
    "\n",
    "* Limpar: \\n, :, \", ', (, ), etc SEM remover emojis \n",
    "* Corrigir separação de espaços entre palavras e emojis ou entre emojis e emojis\n",
    "* Propor outras limpezas e transformações que não afetem a qualidade da informação ou classificação\n",
    "* Criar categorias intermediárias de relevância baseadas na probabilidade: ex.: muito relevante, relevante, neutro, irrelevante, muito irrelevante (3 categorias: C, mais categorias conta para B)\n",
    "* Explicar por que não posso usar o próprio classificador para gerar mais amostras de treinamento\n",
    "* Propor diferentes cenários para Naïve Bayes fora do contexto do projeto\n",
    "* Sugerir e explicar melhorias reais com indicações concretas de como implementar (indicar como fazer e indicar material de pesquisa)\n"
   ]
  },
  {
   "cell_type": "markdown",
   "metadata": {},
   "source": [
    "___\n",
    "## Referências"
   ]
  },
  {
   "cell_type": "markdown",
   "metadata": {},
   "source": [
    "[Naive Bayes and Text Classification](https://arxiv.org/pdf/1410.5329.pdf)  **Mais completo**\n",
    "\n",
    "[A practical explanation of a Naive Bayes Classifier](https://monkeylearn.com/blog/practical-explanation-naive-bayes-classifier/) **Mais simples**\n",
    "\n",
    "[Cleaning Text Data with Python](https://towardsdatascience.com/cleaning-text-data-with-python-b69b47b97b76) **Função de Limpeza**"
   ]
  },
  {
   "cell_type": "code",
   "execution_count": null,
   "metadata": {},
   "outputs": [],
   "source": []
  }
 ],
 "metadata": {
  "kernelspec": {
   "display_name": "Python 3",
   "language": "python",
   "name": "python3"
  },
  "language_info": {
   "codemirror_mode": {
    "name": "ipython",
    "version": 3
   },
   "file_extension": ".py",
   "mimetype": "text/x-python",
   "name": "python",
   "nbconvert_exporter": "python",
   "pygments_lexer": "ipython3",
   "version": "3.7.4"
  }
 },
 "nbformat": 4,
 "nbformat_minor": 4
}
