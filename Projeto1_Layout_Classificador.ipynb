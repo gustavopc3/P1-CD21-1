{
 "cells": [
  {
   "cell_type": "markdown",
   "metadata": {},
   "source": [
    "# Projeto 1 - Ciência dos Dados"
   ]
  },
  {
   "cell_type": "markdown",
   "metadata": {},
   "source": [
    "Nome: Gustavo Pinheiro de Carvalho\n",
    "\n",
    "Nome: Maria Eduarda Matta Mercer Mourão"
   ]
  },
  {
   "cell_type": "markdown",
   "metadata": {},
   "source": [
    "Atenção: Serão permitidos grupos de três pessoas, mas com uma rubrica mais exigente. Grupos deste tamanho precisarão fazer um questionário de avaliação de trabalho em equipe"
   ]
  },
  {
   "cell_type": "markdown",
   "metadata": {},
   "source": [
    "___\n",
    "Carregando algumas bibliotecas:"
   ]
  },
  {
   "cell_type": "code",
   "execution_count": 303,
   "metadata": {},
   "outputs": [],
   "source": [
    "%matplotlib inline\n",
    "import pandas as pd\n",
    "import matplotlib.pyplot as plt\n",
    "import numpy as np\n",
    "import os"
   ]
  },
  {
   "cell_type": "code",
   "execution_count": 304,
   "metadata": {
    "scrolled": false
   },
   "outputs": [
    {
     "name": "stdout",
     "output_type": "stream",
     "text": [
      "Esperamos trabalhar no diretório\n",
      "/Users/gustavopinheiro/P1-CD21-1\n"
     ]
    }
   ],
   "source": [
    "print('Esperamos trabalhar no diretório')\n",
    "print(os.getcwd())"
   ]
  },
  {
   "cell_type": "markdown",
   "metadata": {},
   "source": [
    "### Carregando a base de dados com os tweets classificados como relevantes e não relevantes:"
   ]
  },
  {
   "cell_type": "code",
   "execution_count": 332,
   "metadata": {},
   "outputs": [],
   "source": [
    "filename = 'Xiaomi.xlsx'"
   ]
  },
  {
   "cell_type": "code",
   "execution_count": 333,
   "metadata": {},
   "outputs": [
    {
     "data": {
      "text/html": [
       "<div>\n",
       "<style scoped>\n",
       "    .dataframe tbody tr th:only-of-type {\n",
       "        vertical-align: middle;\n",
       "    }\n",
       "\n",
       "    .dataframe tbody tr th {\n",
       "        vertical-align: top;\n",
       "    }\n",
       "\n",
       "    .dataframe thead th {\n",
       "        text-align: right;\n",
       "    }\n",
       "</style>\n",
       "<table border=\"1\" class=\"dataframe\">\n",
       "  <thead>\n",
       "    <tr style=\"text-align: right;\">\n",
       "      <th></th>\n",
       "      <th>Treinamento</th>\n",
       "      <th>Classificação</th>\n",
       "    </tr>\n",
       "  </thead>\n",
       "  <tbody>\n",
       "    <tr>\n",
       "      <td>0</td>\n",
       "      <td>@baixinho04 xiaomi seria uma boa opção. eu ten...</td>\n",
       "      <td>1</td>\n",
       "    </tr>\n",
       "    <tr>\n",
       "      <td>1</td>\n",
       "      <td>ainda bem q tenho xiaomi e ele tá cm 73%, dura...</td>\n",
       "      <td>0</td>\n",
       "    </tr>\n",
       "    <tr>\n",
       "      <td>2</td>\n",
       "      <td>@tetenc555 @naegiwcat eu vó compra um xiaomi r...</td>\n",
       "      <td>0</td>\n",
       "    </tr>\n",
       "    <tr>\n",
       "      <td>3</td>\n",
       "      <td>@10icarocaldas por esse preço tu comprar o xia...</td>\n",
       "      <td>0</td>\n",
       "    </tr>\n",
       "    <tr>\n",
       "      <td>4</td>\n",
       "      <td>vcs que tem xiaomi sabiam que dá p/ usar o you...</td>\n",
       "      <td>0</td>\n",
       "    </tr>\n",
       "  </tbody>\n",
       "</table>\n",
       "</div>"
      ],
      "text/plain": [
       "                                         Treinamento  Classificação\n",
       "0  @baixinho04 xiaomi seria uma boa opção. eu ten...              1\n",
       "1  ainda bem q tenho xiaomi e ele tá cm 73%, dura...              0\n",
       "2  @tetenc555 @naegiwcat eu vó compra um xiaomi r...              0\n",
       "3  @10icarocaldas por esse preço tu comprar o xia...              0\n",
       "4  vcs que tem xiaomi sabiam que dá p/ usar o you...              0"
      ]
     },
     "execution_count": 333,
     "metadata": {},
     "output_type": "execute_result"
    }
   ],
   "source": [
    "train = pd.read_excel(filename)\n",
    "train.head(5)"
   ]
  },
  {
   "cell_type": "code",
   "execution_count": 334,
   "metadata": {},
   "outputs": [
    {
     "data": {
      "text/html": [
       "<div>\n",
       "<style scoped>\n",
       "    .dataframe tbody tr th:only-of-type {\n",
       "        vertical-align: middle;\n",
       "    }\n",
       "\n",
       "    .dataframe tbody tr th {\n",
       "        vertical-align: top;\n",
       "    }\n",
       "\n",
       "    .dataframe thead th {\n",
       "        text-align: right;\n",
       "    }\n",
       "</style>\n",
       "<table border=\"1\" class=\"dataframe\">\n",
       "  <thead>\n",
       "    <tr style=\"text-align: right;\">\n",
       "      <th></th>\n",
       "      <th>Teste</th>\n",
       "      <th>Classificação</th>\n",
       "    </tr>\n",
       "  </thead>\n",
       "  <tbody>\n",
       "    <tr>\n",
       "      <td>0</td>\n",
       "      <td>@luffyoficial_ entt amg,  omo eu ainda não ten...</td>\n",
       "      <td>0</td>\n",
       "    </tr>\n",
       "    <tr>\n",
       "      <td>1</td>\n",
       "      <td>a xiaomi me prometeu qualidade</td>\n",
       "      <td>0</td>\n",
       "    </tr>\n",
       "    <tr>\n",
       "      <td>2</td>\n",
       "      <td>algum sugar daddy on pra me dar o robo aspirad...</td>\n",
       "      <td>0</td>\n",
       "    </tr>\n",
       "    <tr>\n",
       "      <td>3</td>\n",
       "      <td>@xiaomibrasil me salva aí, xiaomi com os bugs....</td>\n",
       "      <td>0</td>\n",
       "    </tr>\n",
       "    <tr>\n",
       "      <td>4</td>\n",
       "      <td>meu celular ja ta em fim de carreira n vejo a ...</td>\n",
       "      <td>0</td>\n",
       "    </tr>\n",
       "  </tbody>\n",
       "</table>\n",
       "</div>"
      ],
      "text/plain": [
       "                                               Teste  Classificação\n",
       "0  @luffyoficial_ entt amg,  omo eu ainda não ten...              0\n",
       "1                     a xiaomi me prometeu qualidade              0\n",
       "2  algum sugar daddy on pra me dar o robo aspirad...              0\n",
       "3  @xiaomibrasil me salva aí, xiaomi com os bugs....              0\n",
       "4  meu celular ja ta em fim de carreira n vejo a ...              0"
      ]
     },
     "execution_count": 334,
     "metadata": {},
     "output_type": "execute_result"
    }
   ],
   "source": [
    "test = pd.read_excel(filename, sheet_name = 'Teste')\n",
    "test.head(5)"
   ]
  },
  {
   "cell_type": "markdown",
   "metadata": {},
   "source": [
    "### Definindo as variáveis qualitativas como categóricas"
   ]
  },
  {
   "cell_type": "markdown",
   "metadata": {},
   "source": [
    "#### Treinamento"
   ]
  },
  {
   "cell_type": "code",
   "execution_count": 335,
   "metadata": {},
   "outputs": [
    {
     "data": {
      "text/html": [
       "<div>\n",
       "<style scoped>\n",
       "    .dataframe tbody tr th:only-of-type {\n",
       "        vertical-align: middle;\n",
       "    }\n",
       "\n",
       "    .dataframe tbody tr th {\n",
       "        vertical-align: top;\n",
       "    }\n",
       "\n",
       "    .dataframe thead th {\n",
       "        text-align: right;\n",
       "    }\n",
       "</style>\n",
       "<table border=\"1\" class=\"dataframe\">\n",
       "  <thead>\n",
       "    <tr style=\"text-align: right;\">\n",
       "      <th></th>\n",
       "      <th>Treinamento</th>\n",
       "      <th>Classificação</th>\n",
       "    </tr>\n",
       "  </thead>\n",
       "  <tbody>\n",
       "    <tr>\n",
       "      <td>0</td>\n",
       "      <td>@baixinho04 xiaomi seria uma boa opção. eu ten...</td>\n",
       "      <td>Relevante</td>\n",
       "    </tr>\n",
       "    <tr>\n",
       "      <td>1</td>\n",
       "      <td>ainda bem q tenho xiaomi e ele tá cm 73%, dura...</td>\n",
       "      <td>Irrelevnte</td>\n",
       "    </tr>\n",
       "    <tr>\n",
       "      <td>2</td>\n",
       "      <td>@tetenc555 @naegiwcat eu vó compra um xiaomi r...</td>\n",
       "      <td>Irrelevnte</td>\n",
       "    </tr>\n",
       "    <tr>\n",
       "      <td>3</td>\n",
       "      <td>@10icarocaldas por esse preço tu comprar o xia...</td>\n",
       "      <td>Irrelevnte</td>\n",
       "    </tr>\n",
       "    <tr>\n",
       "      <td>4</td>\n",
       "      <td>vcs que tem xiaomi sabiam que dá p/ usar o you...</td>\n",
       "      <td>Irrelevnte</td>\n",
       "    </tr>\n",
       "    <tr>\n",
       "      <td>5</td>\n",
       "      <td>@10icarocaldas xiaomi é o melhor celular custo...</td>\n",
       "      <td>Relevante</td>\n",
       "    </tr>\n",
       "    <tr>\n",
       "      <td>6</td>\n",
       "      <td>@_lucast7 @g1 verdade, mas pelo menos o preço ...</td>\n",
       "      <td>Irrelevnte</td>\n",
       "    </tr>\n",
       "    <tr>\n",
       "      <td>7</td>\n",
       "      <td>a xiaomi lançou um celular com a acabamento em...</td>\n",
       "      <td>Irrelevnte</td>\n",
       "    </tr>\n",
       "    <tr>\n",
       "      <td>8</td>\n",
       "      <td>@mathmj @madunixs @affectionmauro xiaomi alem ...</td>\n",
       "      <td>Relevante</td>\n",
       "    </tr>\n",
       "    <tr>\n",
       "      <td>9</td>\n",
       "      <td>@nn_carvalhosa @g1 no caso da xiaomi o consumi...</td>\n",
       "      <td>Irrelevnte</td>\n",
       "    </tr>\n",
       "  </tbody>\n",
       "</table>\n",
       "</div>"
      ],
      "text/plain": [
       "                                         Treinamento Classificação\n",
       "0  @baixinho04 xiaomi seria uma boa opção. eu ten...     Relevante\n",
       "1  ainda bem q tenho xiaomi e ele tá cm 73%, dura...    Irrelevnte\n",
       "2  @tetenc555 @naegiwcat eu vó compra um xiaomi r...    Irrelevnte\n",
       "3  @10icarocaldas por esse preço tu comprar o xia...    Irrelevnte\n",
       "4  vcs que tem xiaomi sabiam que dá p/ usar o you...    Irrelevnte\n",
       "5  @10icarocaldas xiaomi é o melhor celular custo...     Relevante\n",
       "6  @_lucast7 @g1 verdade, mas pelo menos o preço ...    Irrelevnte\n",
       "7  a xiaomi lançou um celular com a acabamento em...    Irrelevnte\n",
       "8  @mathmj @madunixs @affectionmauro xiaomi alem ...     Relevante\n",
       "9  @nn_carvalhosa @g1 no caso da xiaomi o consumi...    Irrelevnte"
      ]
     },
     "execution_count": 335,
     "metadata": {},
     "output_type": "execute_result"
    }
   ],
   "source": [
    "\n",
    "train.Classificação = train.Classificação.astype('category')\n",
    "train.Classificação.cat.categories = ('Irrelevnte', 'Relevante')\n",
    "train.head(10)"
   ]
  },
  {
   "cell_type": "markdown",
   "metadata": {},
   "source": [
    "#### Teste"
   ]
  },
  {
   "cell_type": "code",
   "execution_count": 336,
   "metadata": {},
   "outputs": [
    {
     "data": {
      "text/html": [
       "<div>\n",
       "<style scoped>\n",
       "    .dataframe tbody tr th:only-of-type {\n",
       "        vertical-align: middle;\n",
       "    }\n",
       "\n",
       "    .dataframe tbody tr th {\n",
       "        vertical-align: top;\n",
       "    }\n",
       "\n",
       "    .dataframe thead th {\n",
       "        text-align: right;\n",
       "    }\n",
       "</style>\n",
       "<table border=\"1\" class=\"dataframe\">\n",
       "  <thead>\n",
       "    <tr style=\"text-align: right;\">\n",
       "      <th></th>\n",
       "      <th>Teste</th>\n",
       "      <th>Classificação</th>\n",
       "    </tr>\n",
       "  </thead>\n",
       "  <tbody>\n",
       "    <tr>\n",
       "      <td>0</td>\n",
       "      <td>@luffyoficial_ entt amg,  omo eu ainda não ten...</td>\n",
       "      <td>Irrelevante</td>\n",
       "    </tr>\n",
       "    <tr>\n",
       "      <td>1</td>\n",
       "      <td>a xiaomi me prometeu qualidade</td>\n",
       "      <td>Irrelevante</td>\n",
       "    </tr>\n",
       "    <tr>\n",
       "      <td>2</td>\n",
       "      <td>algum sugar daddy on pra me dar o robo aspirad...</td>\n",
       "      <td>Irrelevante</td>\n",
       "    </tr>\n",
       "    <tr>\n",
       "      <td>3</td>\n",
       "      <td>@xiaomibrasil me salva aí, xiaomi com os bugs....</td>\n",
       "      <td>Irrelevante</td>\n",
       "    </tr>\n",
       "    <tr>\n",
       "      <td>4</td>\n",
       "      <td>meu celular ja ta em fim de carreira n vejo a ...</td>\n",
       "      <td>Irrelevante</td>\n",
       "    </tr>\n",
       "    <tr>\n",
       "      <td>5</td>\n",
       "      <td>a xiaomi mi band 6 estará mesmo a chegar?\\nhtt...</td>\n",
       "      <td>Irrelevante</td>\n",
       "    </tr>\n",
       "    <tr>\n",
       "      <td>6</td>\n",
       "      <td>xiaomi não decepciona em nada 👏</td>\n",
       "      <td>Relevante</td>\n",
       "    </tr>\n",
       "    <tr>\n",
       "      <td>7</td>\n",
       "      <td>@wos4you vai ser o mesmo lugar q eu vou mandar...</td>\n",
       "      <td>Irrelevante</td>\n",
       "    </tr>\n",
       "    <tr>\n",
       "      <td>8</td>\n",
       "      <td>@kaiiirtss xiaomi sksksks</td>\n",
       "      <td>Irrelevante</td>\n",
       "    </tr>\n",
       "    <tr>\n",
       "      <td>9</td>\n",
       "      <td>@jopedrobf gastou dinheiro atoa... a não ser q...</td>\n",
       "      <td>Irrelevante</td>\n",
       "    </tr>\n",
       "  </tbody>\n",
       "</table>\n",
       "</div>"
      ],
      "text/plain": [
       "                                               Teste Classificação\n",
       "0  @luffyoficial_ entt amg,  omo eu ainda não ten...   Irrelevante\n",
       "1                     a xiaomi me prometeu qualidade   Irrelevante\n",
       "2  algum sugar daddy on pra me dar o robo aspirad...   Irrelevante\n",
       "3  @xiaomibrasil me salva aí, xiaomi com os bugs....   Irrelevante\n",
       "4  meu celular ja ta em fim de carreira n vejo a ...   Irrelevante\n",
       "5  a xiaomi mi band 6 estará mesmo a chegar?\\nhtt...   Irrelevante\n",
       "6                    xiaomi não decepciona em nada 👏     Relevante\n",
       "7  @wos4you vai ser o mesmo lugar q eu vou mandar...   Irrelevante\n",
       "8                          @kaiiirtss xiaomi sksksks   Irrelevante\n",
       "9  @jopedrobf gastou dinheiro atoa... a não ser q...   Irrelevante"
      ]
     },
     "execution_count": 336,
     "metadata": {},
     "output_type": "execute_result"
    }
   ],
   "source": [
    "test.Classificação = test.Classificação.astype('category')\n",
    "test.Classificação.cat.categories = ('Irrelevante', 'Relevante')\n",
    "test.head(10)"
   ]
  },
  {
   "cell_type": "markdown",
   "metadata": {},
   "source": [
    "### Estudo dos valores e quantidades de tweets de cada classificação"
   ]
  },
  {
   "cell_type": "markdown",
   "metadata": {},
   "source": [
    "#### Treinamento"
   ]
  },
  {
   "cell_type": "code",
   "execution_count": 337,
   "metadata": {},
   "outputs": [
    {
     "data": {
      "text/plain": [
       "Irrelevnte    0.733333\n",
       "Relevante     0.266667\n",
       "Name: Classificação, dtype: float64"
      ]
     },
     "execution_count": 337,
     "metadata": {},
     "output_type": "execute_result"
    }
   ],
   "source": [
    "train.Classificação.value_counts(True)"
   ]
  },
  {
   "cell_type": "code",
   "execution_count": 338,
   "metadata": {},
   "outputs": [
    {
     "name": "stdout",
     "output_type": "stream",
     "text": [
      "-------------------------------------------------------\n",
      "Irrelevante\n",
      "-------------------------------------------------------\n",
      "contagem               = 220\n",
      "---------------------------------------------\n",
      "Relevante\n",
      "---------------------------------------------\n",
      "contagem               = 80\n"
     ]
    }
   ],
   "source": [
    "train_classificacao = train.Classificação.value_counts()\n",
    "i=0\n",
    "for title, var_quanti in (('Irrelevante', train_classificacao[0]), ('Relevante', train_classificacao[1])):\n",
    "    print('-' * 5 * len(title))\n",
    "    print(title)\n",
    "    print('-' * 5 * len(title))\n",
    "    print(f'contagem               = {train_classificacao[i]}')\n",
    "    i += 1"
   ]
  },
  {
   "cell_type": "markdown",
   "metadata": {},
   "source": [
    "##### Gráfico"
   ]
  },
  {
   "cell_type": "code",
   "execution_count": 339,
   "metadata": {},
   "outputs": [
    {
     "data": {
      "text/plain": [
       "<matplotlib.axes._subplots.AxesSubplot at 0x1a1cb3c750>"
      ]
     },
     "execution_count": 339,
     "metadata": {},
     "output_type": "execute_result"
    },
    {
     "data": {
      "image/png": "[encoded data removed]",
      "text/plain": [
       "<Figure size 432x288 with 1 Axes>"
      ]
     },
     "metadata": {},
     "output_type": "display_data"
    }
   ],
   "source": [
    "train_classificacao = train.Classificação.value_counts()\n",
    "train_classificacao.plot(kind='pie', title='Quantidade de tweets por categoria', autopct=\"%.2f\")"
   ]
  },
  {
   "cell_type": "markdown",
   "metadata": {},
   "source": [
    "#### Teste"
   ]
  },
  {
   "cell_type": "code",
   "execution_count": 340,
   "metadata": {},
   "outputs": [
    {
     "data": {
      "text/plain": [
       "Irrelevante    0.643333\n",
       "Relevante      0.356667\n",
       "Name: Classificação, dtype: float64"
      ]
     },
     "execution_count": 340,
     "metadata": {},
     "output_type": "execute_result"
    }
   ],
   "source": [
    "test.Classificação.value_counts(True)"
   ]
  },
  {
   "cell_type": "markdown",
   "metadata": {},
   "source": [
    "##### Gráfico"
   ]
  },
  {
   "cell_type": "code",
   "execution_count": 341,
   "metadata": {},
   "outputs": [
    {
     "data": {
      "text/plain": [
       "<matplotlib.axes._subplots.AxesSubplot at 0x1a1cb279d0>"
      ]
     },
     "execution_count": 341,
     "metadata": {},
     "output_type": "execute_result"
    },
    {
     "data": {
      "image/png": "[encoded data removed]",
      "text/plain": [
       "<Figure size 432x288 with 1 Axes>"
      ]
     },
     "metadata": {},
     "output_type": "display_data"
    }
   ],
   "source": [
    "\n",
    "test_classificacao.plot(kind='pie', title='Quantidade de tweets por categoria', autopct=\"%.2f\")"
   ]
  },
  {
   "cell_type": "code",
   "execution_count": 342,
   "metadata": {},
   "outputs": [
    {
     "name": "stdout",
     "output_type": "stream",
     "text": [
      "-------------------------------------------------------\n",
      "Irrelevante\n",
      "-------------------------------------------------------\n",
      "contagem               = 193\n",
      "---------------------------------------------\n",
      "Relevante\n",
      "---------------------------------------------\n",
      "contagem               = 107\n"
     ]
    }
   ],
   "source": [
    "test_classificacao = test.Classificação.value_counts()\n",
    "i=0\n",
    "for title, var_quanti in (('Irrelevante', test_classificacao[0]), ('Relevante', test_classificacao[1])):\n",
    "    print('-' * 5 * len(title))\n",
    "    print(title)\n",
    "    print('-' * 5 * len(title))\n",
    "    print(f'contagem               = {test_classificacao[i]}')\n",
    "    i += 1"
   ]
  },
  {
   "cell_type": "markdown",
   "metadata": {},
   "source": [
    "___\n",
    "## Classificador automático de sentimento\n"
   ]
  },
  {
   "cell_type": "markdown",
   "metadata": {},
   "source": [
    "Faça aqui uma descrição do seu produto e o que considerou como relevante ou não relevante na classificação dos tweets.\n",
    "\n",
    " A marca escolhida para o classificador Naive-Bayes foi a Xiaomi, empresa chinesa de eletrônicos que divide opiniões a respeito da qualidade e da aceitabilidade dos seus produtos no mercado brasileiro. \n",
    "\n",
    "Consideramos como relevantes todos aqueles tweets que expressavam opiniões dos usuários e consumidores sobre os produtos da marca, tanto positivos como negativos. Assim, podemos selecionar os tweets que podem apontar a situação atual da marca, e também os problemas e acertos nos produtos comercializados nacionalmente.\n",
    "\n",
    "Como estamos obtendo nossas informações do Twitter, decidimos considerar como não relevantes os tweets que não expressavam nenhum tipo de opinião, ou aqueles que eram a respeito de sorteios e premiações, algo bem comum dentro dessa plataforma."
   ]
  },
  {
   "cell_type": "markdown",
   "metadata": {},
   "source": [
    "Portanto, durante a análise, encontramos a necessidade de cálculas as seguintes probabilidades para que nosso classificador desempenhasse a função desejada:\n",
    "\n",
    "- $P(Tweet|Classificação)$: probabilidade do tweet pertencer a categoria Relevante;\n",
    "- $P(Classificação)$: probabilidade da categoria dentre o total de tweets (TREINAMENTO);\n",
    "- $P(Tweet)$: probabilidade de uma frase ocorrer na língua portuguesa. XXX\n",
    "- $P(Palavra|Classificação)$: probabilidade de uma palavra ser de dada categoria;\n",
    "- $P(Classificação|Tweet)$: probabilidade de dado tweet ser classificado com alguma das categorias;"
   ]
  },
  {
   "cell_type": "markdown",
   "metadata": {},
   "source": [
    "Para fazer o cálculo das probabilidades, começamos com o básico do Naive-Bayes:\n",
    "\n",
    "$$P(Classificação)=\\frac{∑(PalavrasDaClassificação)}{∑(PalavrasDoVocabulário)}\\hspace{3cm}\\mbox{(I)}$$\n",
    "\n",
    "Onde a probabilidade de um tweet ser de dada classificação P(Tweet|Classificação) seria calculado pela probabilidade de classificação de cada palavra (ou emoji) presente no tweet.\n",
    "\n",
    "$$P(Tweet|Classificação) = P(Palavra1|Classificação)*P(Palavra2|Classificação)*P(Palavra3|Classificação)\\hspace{3cm}\\mbox{(II)}$$\n",
    "\n",
    "Onde a probabilidade de uma dessas palavras pertencencer a uma dada classificação ficaria definida por:\n",
    "\n",
    "$$P(Palavra|Classificação) = \\frac{∑(ApariçõesDaPalavraNaClassificação)}{∑(PalavrasDaClassificação)}\\hspace{3cm}\\mbox{(III)}$$\n",
    "\n",
    "Para que a probabilidade de uma dada palavra ser classificada por uma das categorias fosse calculada, surgiu um grande problema: O que aconteceria caso surgisse uma palavra nova que não estivesse previamente inserida em uma das categorias?\n",
    "\n",
    "Entra ai a necessidade de aplicarmos o 'La Place Smoothing', que é justamente uma técnica que lida com a possibilidade de uma probabilidade de uma palavra que não esta no treinamento receber probabilidade zero. Podemos representar P(Palavra|Classificação) por:\n",
    "\n",
    "$$P(Palavra|Classificação)=\\frac{∑(ApariçõesDaPalavraNaClassificação)+1}{∑(PalavrasDaClassificação) + ∑(Vocabulário)}\\hspace{3cm}\\mbox{(IV)}$$\n",
    "\n",
    "Assim, podemos calcular a probabilidade de um tweet ser categorizado com umas das categorias:\n",
    "\n",
    "$$P(Classificação|Tweet) = P(PalavrasNoTweet|Classificação)*P(Classificação)\\hspace{3cm}\\mbox{(V)}$$"
   ]
  },
  {
   "cell_type": "markdown",
   "metadata": {},
   "source": [
    "### Função de limpeza dos tweets:"
   ]
  },
  {
   "cell_type": "code",
   "execution_count": 343,
   "metadata": {},
   "outputs": [],
   "source": [
    "import re\n",
    "#stop_words = stopwords.words(\"english\")\n",
    "# A ideia de remover as 'stop words' é retirar as palavras que não tem conrtribuição de significado para o texto.\n",
    "\n",
    "def cleanup(tweet_og):\n",
    "    tweet = re.sub(r'http\\S+', '', tweet_og, flags=re.MULTILINE) # Remove as URL\n",
    "    tweet = \" \".join(re.findall(\"(\\w+|[^\\w ]+)\",tweet_og)) # Adiciona espaços entre os Emojis\n",
    "    tweet = re.sub(re.compile(\"\"\"[!-',.:)\"(?;#@]\"\"\"), '', tweet_og) # Remove as pontuações\n",
    "    tweet = re.sub('\\s{2,}', ' ', tweet_og) # Remove espaços múltiplos\n",
    "    tweet = re.sub('#\\S+', ' ', tweet_og) # Remove Hashtags\n",
    "    tweet = re.sub('@\\S+', ' ', tweet_og) # Remove menções de usuários\n",
    "    tweet = re.sub('\\n','',tweet_og) #Remove '\\n'\n",
    "    tweet = re.sub('rt','',tweet_og) #Remove os 'rt'\n",
    "    tweet = tweet_og.lower() # Transforma o texto em letras minúsculas\n",
    "    \n",
    "    \n",
    "    return tweet\n"
   ]
  },
  {
   "cell_type": "markdown",
   "metadata": {},
   "source": [
    "#### Teste funçao de limpeza:"
   ]
  },
  {
   "cell_type": "code",
   "execution_count": 344,
   "metadata": {},
   "outputs": [
    {
     "name": "stdout",
     "output_type": "stream",
     "text": [
      "['xiaomi', 'é', 'muito', 'boa', '👏,', 'kkkkkkk', 'mesmooo']\n"
     ]
    }
   ],
   "source": [
    "tweet_teste = 'Xiaomi é muito boa 👏, kkkkkkk mesmooo'\n",
    "tweet_teste = cleanup(tweet_teste)\n",
    "tweet_teste = tweet_teste.split()\n",
    "print(tweet_teste)"
   ]
  },
  {
   "cell_type": "markdown",
   "metadata": {},
   "source": [
    "___\n",
    "### Montando um Classificador Naive-Bayes\n",
    "\n",
    "A ideia de criar uma classe para o nosso Classificador Naive-Bayes é que poderemos utiliza-la para diferentes datasets \n",
    "\n",
    "Considerando apenas as mensagens da planilha Treinamento, ensine  seu classificador."
   ]
  },
  {
   "cell_type": "code",
   "execution_count": 345,
   "metadata": {},
   "outputs": [
    {
     "name": "stdout",
     "output_type": "stream",
     "text": [
      "['ainda', 'bem', 'q', 'tenho', 'xiaomi', 'e', 'ele', 'tá', 'cm', '73%,', 'dura', 'até', '2025', '@naegiwcat', 'eu', 'vó', 'compra', 'um', 'xiaomi', 'redminote', '9', 'por', 'esse', 'preço', 'tu', 'comprar', 'o', 'xiaomi', 'redmi', 'note', '10', 'vcs', 'que', 'tem', 'xiaomi', 'sabiam', 'que', 'dá', 'p/', 'usar', 'o', 'youtube', 'como', 'se', 'fosse', 'youtube', 'premium', 'de', 'graça????', 'descobri', 'agora', '@g1', 'verdade,', 'mas', 'pelo', 'menos', 'o', 'preço', 'dos', 'fones', 'sem', 'fio', 'da', 'xiaomi', 'são', '100', 'conto,', 'os', 'da', 'apple', 'são', '1k', '😂', 'a', 'xiaomi', 'lançou', 'um', 'celular', 'com', 'a', 'acabamento', 'em', 'glitter', 'kkkkkk', 'leve', 'todo', 'meu', 'dinheiro', 'por', 'favor', '@g1', 'no', 'caso', 'da', 'xiaomi', 'o', 'consumidor', 'poderá', 'escolher', 'se', 'o', 'carregador', 'vem', 'ou', 'não', 'na', 'caixa.', 'um', 'tijolo', 'xiaomi', 'né', 'amada', 'xiaomi', 'mi', 'stick', 'versão', 'global', '(aliexpress)', 'r$133,63', '(6x', 'sem', 'juros)', 'cupom:', 'realme12', 'cupom:', 'mibr12', 'cupons', 'de', 'primeira', 'compra', 'cupom', 'do', 'vendedor', 'r$5,95', 'em', 'compras', 'de', 'ou', 'mais', 'r$202,38', 'frete', 'grátis', '📡', '🚀black', 'shark', '4:', 'xiaomi', 'confirma', 'detalhes', 'do', 'ecrã', '💡', '#zirigozagroup', '#e-commerce', '#marketing', '#enkil.es', '#8020', '🔔', 'tenho', 'um', 'amigo', 'que', 'vende', 'os', 'da', 'xiaomi', 'baratin', 'daqui', 'a', 'pouco', 'o', 'xiaomi', 'vem', 'na', 'caixa', 'do', 'cel', 'umas', 'ferramentas', 'pra', 'vc', 'trocar', 'a', 'tela', 'caso', 'ela', 'fique', 'rachada', 'hahaha', 'resetei', 'meu', 'celular', 'baixei', 'o', 'insta', 'e', 'j', 'tem', 'aquele', 'botão', 'lixo', 'de', 'loja', '🙏🙏🙏🙏🙏', 'nunca', 'foi', 'sorte', 'sempre', 'foi', 'xiaomi', 'travadassa', 'a', 'xiaomi', 'atualizou', 'esses', 'dias', 'com', 'esse', 'modo', 'escuro,', 'ai', 'coloca', 'os', 'aplicativos', 'no', 'modo', 'escuro', 'mesmo', 'que', 'não', 'tenha,', 'sabe?', 'o', 'celular', 'força', 'promoções', 'especiais', 'aliexpress', 'hoje', 'às', '21h', 'redragon', 'gw900', 'apex', 'usb', 'hd', 'webcam', 'r$154,03', 'cupom:', 'sdcamera', '//', 'xiaomi', 'band', '5', 'r$58,65', 'cupom:', 'sdmiband55', 'pincéis', 'de', 'maquiagem', 'r$71,09', 'cupom:', 'sdmakeup', 'https://t.co/7tha68rf36', 'se', 'eles', 'tem', 'medo', 'é', 'pq', 'fazem', 'isso', 'tambem...abre', 'o', 'olho', 'gurizada', 'fã', 'de', 'huawei', 'e', 'xiaomi', 'multa', 'o', 'xiaomi', 'pq', 'não', 'vem', 'c', 'fone', 'dahora', 'q', 'a', 'xiaomi', 'tem', 'até', 'aparador', 'de', 'barba', 'pelo', 'celular', 'n', 'funciona', 'msm,', 'tentei', 'entrar', 'no', 'meu', 'xiaomi', 'e', 'n', 'aparece', 'o', 'emoji', 'xiaomi', 'mi', '11', 'ultra', 'dará', 'um', 'passo', 'atrás', 'no', 'carregamento', 'rápido', 'https://t.co/dqgacpbund', 'nossa', 'twitter', 'que', 'câmera', 'horrivel', 'nem', 'parece', 'que', 'to', 'usando', 'um', 'xiaomi', 'eu', 'escolheria', 'um', 'xiaomi', '#luto🛒', 'versão', 'global', 'xiaomi', 'redmi', 'nota', '10', '4gb', '64gb/4gb', '128gb/6gb', '128gb', 'snapdragon', '678', '33w', '🛍', 'loja:', '#aliexpress', '🏷', 'cupom:', 'aent10', '💵', 'preço:', 'r$', '1139.83:', '(frete', 'grátis!)', 'parcele', 'em', 'até', '6x', 'sem', 'juros!', '📲', 'link:', 'lojas', 'parceiras:', 'https://t.co/viv18szif2', 'xiaomi', 'eu', 'te', 'odeio', '@bolsocontext', 'acabei', 'de', 'perceber', 'que', 'parece', 'um', 'celular', 'da', 'xiaomi', 'mais', 'uma', 'pro', 'bonde', 'das', 'testemunhas', 'de', 'xiaomi', 'rom', 'nussantara', 'android', '11', 'para', 'mi', '8', 'lite', 'e', 'aparelhos', 'xiaomi', 'https://t.co/ui10xcctmy', '@10icarocaldas', 'mano', 'na', 'amazon', 'tá', 'sendo', 'o', 'melhor', 'lugar', 'pra', 'comprar.', 'essa', 'cor', 'dele', 'aumenta', 'um', 'pouco', 'o', 'preço', 'se', 'pegar', 'na', 'cor', 'preta,', 'ele', 'deve', 'sair', '1.100', 'somando', 'o', 'frente.', 'meu', 'xiaomi', 'está', 'morrendo', '😟😟😟', 'será', 'se', 'multa', 'a', 'xiaomi', 'e', 'a', 'samsung', 'também?', '@g1', 'xiaomi', 'já', 'tá', 'vindo', 'sem', 'fone.', 'nesses', 'dias', 'vem', 'só', 'a', 'caixa,', 'sem', 'celular.', 'xiaomi', 'empresa', 'que', 'eu', 'tanto', 'amo,', 'hoje', 'é', 'meu', 'aniversário,', 'ficaria', 'muito,', 'muito,', 'muito', 'feliz', 'em', 'receber', 'um', 'mi', '10t', 'pro❤️❤️❤️', '(sério', 'hoje', 'é', 'meu', 'aniversário)', '@g1', 'pior', 'é', 'que', 'virou', 'tendência.', 'samsung', 'e', 'xiaomi', 'tbm', 'tiraram', 'mark', 'e', 'jackson', 'botem', 'o', 'xiaomi', 'na', 'marca', 'de', 'vocês', 'pq', 'eu', 'quero', 'capinha', 'e', 'tenho', 'dito.', 'aliás', 'fico', 'com', 'uma', 'dúvida', 'aqui...', 'celular', 'da', 'asus', 'ou', 'xiaomi?', 'ppromoção', 'imperdível!!', '😱🔝🔝', 'lançamento!', 'novo', 'amazfit', 'bip!', 'estoque', 'no', 'brasil', 'xiaomi', 'amazfit', 'bip', 'u', '🤑', 'a', 'partir', 'de', 'r$379,00', 'em', '10x', 'sem', 'juros', '🛒compre', 'na', 'amazon:', 'https://t.co/qvu99qxcbe', 'o', 'xiaomi', '10t', '5g', '128gb/8gb', 'possui', 'o', 'novo', 'sistema', 'operacional', 'android', '10', 'que', 'incorpora', 'respostas', 'inteligentes', 'e', 'ações', 'sugeridas', 'para', 'todos', 'os', 'seus', 'aplicativos.', 'studio', 'center,', 'o', 'mundo', 'inteiro', 'em', 'um', 'só', 'lugar!', '#vemprostudiocenter', '#studiocenter', '#fronteira', '#paraguay', '#importados', 'quero', 'ser', 'aluno', 'dessa', 'escola,', 'só', 'troca', 'o', 'iphone', 'por', 'samsung', 'ou', 'xiaomi', 'podia', 'multar', 'a', 'xiaomi', 'por', 'n', 'vir', 'fone', 'na', 'caixa', 'aaah', 'verdade', 'aquele', 'negócio', 'acho', 'que', 'voce', 'me', 'falou', 'uma', 'vez', 'mas', 'o', 'meu', 'é', 'xiaomi.', 'obrigada', 'não', 'sei', 'oq', 'seria', 'de', 'mim', 'nesse', 'jogo', 'sem', 'suas', 'ajudas', 'kkkkkkkkkk', 'qual', 'o', 'preconceito', 'com', 'xiaomi', 'mano?', 'eu', 'uso', 'xiaomi.', 'e', 'te', 'digo', 'que', 'é', 'bom!', 'eu', 'tenho', 'o', 'redmi', 'note', '9s.', 'conheço', 'um', 'fornecedor', 'que', 'vende.', 'qual', 'você', 'quer?', 'samsung,', 'xiaomi', 'são', 'as', 'próximas', '🎶você', 'e', 'sua', 'amiguinha', 'quer', 'subir...', 'no', 'meu', 'patinete', 'elétrico?🎶', 'não', 'rimou,', 'mas', 'vem', 'conhecer', 'o', 'mi', 'electric', 'scooter', 'que', 'você', 'vai', 'ficar', 'apaixonadinha', '🥰🛴', 'https://t.co/sf2hbl4sy3', '🔥oferta', 'relâmpago', 'só', 'hoje🔥', '🛒suporte', 'do', 'tripé', 'de', 'nagnahz', '40', 'polegada', 'universal', 'fotografia', 'para', 'gopro', 'iphone', 'samsung', 'xiaomi', 'huawei', 'telefone', 'alumínio', '#aliexpress', 'comprar👉🏽https://t.co/3o7ogq5jzj', '🏷️', '#cupom:', 'novo', 'usuário+phsduqh5', '🔥r$', '70,12🇧🇷', '🔥€', '8,63🇪🇺', '💳', 'em', 'até', '6x', 'sem', 'juros', 'eu', 'tenho', 'um', 'xiaomi', 'redmi', 'note', '9.', 'paguei', '1200', 'meu', 'único', 'arrependimento', 'com', 'a', 'xiaomi', 'foi', 'por', 'não', 'ter', 'comprado', 'antes!', 'muito', 'in', 'love', 'pelo', 'meu', 'celular,', 'bom', 'de', 'tudooo🥰🥰🥰🥰🥰🥰', '@netuno598', '@xboxsemjogo', 'já', 'pensaram', 'se', 'for', 'seguir', 'essa', 'lógica', 'a', 'ferro', 'e', 'fogo.', 'todo', 'celular', 'que', 'usa', 'android', 'é', 'da', 'google.', 'galaxy', 'da', 'samsung?', 'nãaaooo', 'é', 'da', 'google.', 'redmi', 'da', 'xiaomi?', 'nãooooo', 'é', 'da', 'google.', 'motog', 'da', 'motorola?', 'nãaaoooo', 'é', 'da', 'google.', 'c2', 'da', 'nokia?', 'nãaaooooo', 'é', 'da', 'google.', 'pense', 'mt', 'toda', 'vez', 'que', 'vc', 'comprar', 'aquele', 'produto', 'mais', 'barato', 'no', 'aliexpress/wish,', 'assistir', 'os', 'seus', 'tiktoks', 'ou', 'ent', 'comprar', 'o', 'teu', 'celular', 'da', 'xiaomi/huawei/samsung', 'pq', 'tudo', 'isso', 'listado', 'tem', 'origem', 'na', 'ásia.', 'não', 'adianta', 'nada', 'consumir', 'até', 'o', 'talo', 'esses', 'produtos', 'e', 'não', 'falar', 'sobre', 'o', 'assunto', 'pensando', 'em', 'adquirir', 'um', 'xiaomi', 'já', 'que', 'meu', 'samsungzinho', 'tá', 'dando', 'uns', 'bugs', 'estranhos.', 'te', 'cuida,', 'samsung:', 'vazam', 'imagens', 'do', 'futuro', 'celular', 'dobr?vel', 'da', 'xiaomi', 'ta', 'maluco', 'kkkkk', 'tô', 'feliz', 'com', 'meu', 'xiaomi', '10', 'milhões', 'é', 'esmola', 'pra', 'essa', 'empresinha', 'safada,', 'fvck', 'apple', 'ascenda', 'xiaomi', 'fica', 'desculpa', 'xiaomi', 'melhore😭😭😭', '#goloud🛒', 'xiaomi', 'mijia', 'stytj02ym', '2', 'in', '1', 'robot', 'vacuum', 'mop', 'vacuum', 'cleaner', 'sweeping', '🛍', 'loja:', '#banggood', '🏷', 'cupom:', 'bgcngxmrpu', 'ou', 'bgcnxvfdete', '💵', 'preço:', 'r$', '2247.20', '(já', 'incluso', 'o', 'frete!)', '💳', 'parcele', 'em', 'até', '12x', '📲', 'link:', 'lojas', 'parceiras:', 'https://t.co/va8jk67jtu', 'venha', 'para', 'o', 'lado', 'xiaomi', 'da', 'força', 'criança', 'é', 'quase', 'certo', 'do', 'escolhido', 'ser', 'o', 'note', '9', 'mesmo.', 'o', 'seu', 'é', 'xiaomi?', 'vou', 'dar', 'uma', 'olhada', 'em', 'uns', 'reviews', 'fechando', 'mais', 'uma', 'venda', 'nunca', 'foi', 'sorte', 'sempre', 'foi', 'xiaomi.', '#compremcomigo', 'meu', 'xiaomi', 'não', 'tá', 'ligando', 'e', 'eu', 'espero', 'mesmo', 'que', 'ele', 'esteja', 'só', 'descarregado', 'da', 'xiaomi?', 'eu', 'vi', 'q', 'era', '200$', 'eu', 'acho', 'pessoal', 'que', 'usa', 'xiaomi', 'venham', 'aqui', 'rapidão', 'vc', 'deveria', 'vir', 'pro', 'reino', 'de', 'xiaomi.', 'venha', 'ser', 'testemunha', 'junto', 'comigo!', 'kkkkkkkk', 'eu', 'amo', 'meu', 'xiaomi', 'e', 'inclusive', 'ele', 'ta', 'sem', 'capinha', 'e', 'sem', 'película,', 'eu', 'havia', 'dito', 'que', 'ele', 'estava', 'intacto,', 'so', 'foi', 'eu', 'falar', 'isso', 'que', 'o', 'bicho', 'caiu', 'e', 'trincou', 'o', 'vidro', 'traseiro', 'sofro', 'com', 'a', 'falta', 'se', 'capinha', 'bonita', 'para', 'xiaomi', 'mi', '8', 'só', 'queria', 'um', 'xiaomi', 'igual', 'do', 'meu', 'irmão', '🌕', 'lua', 'crescente', 'côncava', '34%', '📍cuiabá,', 'mt,', 'brasil', '⏱️', '19/3/2021', '18:21', '📷', 'celular', 'xiaomi', 'mia2', ',', 'f/1.8', ',', '4.07mm', '(+lightroom)', '🔭', 'telescópio', 'refletor,', 'd=114mm,', 'f=500mm,', 'ocular', '23mm,', 'barlow', '2x', '#lua', '#moon', '#luacrescente', '#luna', '#telescope', '#telescopio', '#matogrosso', '#cuiaba', '#ceudemt', 'é', 'o', 'xiaomi', 'anjo', 'ela', 'n', 'eh', 'boa', 'não', 'cara', 'eu', 'esqueci', 'a', 'senha', 'da', 'pasta', 'privada', 'do', 'xiaomi', 'onde', 'tinha', 'senha', 'e', 'email', 'dos', 'bgl,algm', 'sabe', 'como', 'recuperar', 'ou', 'só', 'formatando', 'msm?', '👉🏻', '[prime]', 'smartphone', 'xiaomi', 'redmi', '9i', '128gb', '4gb', 'ram', 'global', 'preto', '#xiaomi', '#bbb', '#bbb21', '💰', 'preço', 'da', 'oferta:', 'r$1.169,90', '💻', 'https://t.co/un733j3ihf', '@_lucast7', 'vc', 'pode', 'escolher', 'se', 'o', 'seu', 'xiaomi', 'vem', 'ou', 'n', 'sem', 'carregador,', 'tem', 'essa', 'opção', ':)', 'xiaomi', 'meu', 'celular', 'redmi', 'note', '6', 'pro', 'não', 'sai', 'da', 'tela', 'inicial', 'que', 'aparece', 'a', 'logo', '+', '\"https://t.co/ajcebreubz\"', 'e', 'eu', 'tentei', 'de', 'tudo', 'e', 'não', 'sai', 'disso', 'por', 'favor', 'me', 'deem', 'uma', 'solução', 'ou', 'um', 'celular', 'novo', '&lt;3', 'me', 'ajudem', 'por', 'favor', 'help', 'felizmente,', 'xiaomi', 'rainha', 'e', 'sensata', 'não', 'está', 'indo', 'nessa', 'vibe', 'a', 'única', 'instituição', 'que', 'funciona', 'normalmente', 'nesse', 'país', 'alô', 'dona', 'a', 'senhora', 'é', 'a', 'próxima,', 'viu?', 'a', 'aproximação', 'da', 'xiaomi,', 'de', 'oferecer', 'a', 'opção', 'de', 'escolher', 'se', 'quer', 'ou', 'não', 'o', 'carregador', 'sem', 'custo', 'adicional', 'algum', 'é', 'a', 'única', 'correta', 'nesse', 'rebuceteio', 'imperdível', 'preço', 'e', 'aparelho!', 'redmi', 'note', '10', '-', '64gb', 'ou', '128gb.', 'lançamento', '2021,', 'link', 'de', 'compra:', '#redminote10', '#celulares', '#xiaomi', '#smartphone', '#brasil', '#importação', '#desconto', '#oportunidade', '#oferta', 'xiaomi', 'm1', 'eu', 'acho', 'amg', 'vc', 'acha', 'q', 'vale', 'a', 'pena', 'a', 'balança', 'da', 'xiaomi?', 'vc', 'comprou', 'por', 'onde?', 'cupons', 'aliexpress', 'válidos', 'para', 'primeira', 'compra/contas', 'novas', 'r$24,30', 'de', 'desconto', 'em', 'r$30,37', 'cupom:', 'chinacoupon4', 'r$36,45', 'de', 'desconto', 'em', 'r$121,50', 'cupom:', 'chinacoupon6', 'r$48,60)', 'de', 'desconto', 'em', 'r$243,00', 'cupom:', 'chinacoupon8', 'reki🛒', 'original', 'xiaomi', 'mi', 'portable', 'bluetooth', 'speaker', '16w', 'hifi', 'bass', 'tws', 'wireless', 'soundbar', 'ipx7', '🛍', 'loja:', '#banggood', '🏷', 'cupom:', 'bgmiss99', '💵', 'preço:', 'r$', '282.48', '(já', 'incluso', 'o', 'frete!)', '💳', 'parcele', 'em', 'até', '12x', '📲', 'link:', 'lojas', 'parceiras:', 'https://t.co/rzxnkox20h', 'não...só', 'grife', '!', 'venha', 'pra', 'igreja', 'universal', 'do', 'reino', 'do', 'xiaomi', 'e', 'seja', 'feliz', 'por', 'menos', 'da', 'metade', 'do', 'preço', 'saiba', 'como', 'foi', 'ganhar', 'na', 'máquina', 'de', 'pegar', 'celular', '#máquina', '#jogo', '#fliperama', '#game', '#sorte', '#celular', '#smartphone', '#sorteio', '#sorteios', '#videogames', '#gamer', '#apple', '#samsung', '#promocao', '#motorola', '#xiaomi', '#tecnologia', '#promoção', '#telefonia', '#celulares', '#android', 'defende', 'xiaomi', 'mas', 'não', 'pode', 'ver', 'um', 'iphone', '11', 'que', 'quer', 'um', 'também', 'queria', 'o', 'poder', 'da', 'xiaomi', 'sobre', 'minha', 'vida,', 'quem', 'sabe', 'daqui', 'uns', '5', 'anos', 'imilab', 'ec3', 'smart', 'outdoor', 'ipptz', '270°', 'camera', 'ip66', 'waterproof', '2k', 'hd', 'infrared', 'night', 'vision', 'wifi', 'surveillance', 'camera', '(aliexpress)', 'r$', '291,07', '(6x', 'sem', 'juros)', 'cupom:', 'lllaaa', 'frete', 'grátis', 'cód.', 'l', '@snapdragon', 'pera', 'aí', 'só', '732g', 'poderia', 'ser', 'um', '865', 'sei', 'lá', 'pq', 'um', '732', 'já', 'é', 'meio', 'para', 'trás!', 'então', 'niantic.', 'eu', 'uso', 'uma', 'mi', 'fit', 'e', 'fico', 'andando', 'pra', 'lá', 'e', 'pra', 'cá', 'no', 'corredor', 'da', 'minha', 'casa.', 'isso', 'porque', 'se', 'sair', 'na', 'rua', 'corro', 'risco', 'de', 'vida.', 'só', 'tenho', 'medo', 'de', 'ser', 'banido', 'do', 'jogo,', 'como', 'já', 'aconteceu', 'antes,', 'simplesmente', 'porque', 'o', 'aparelho', 'que', 'uso', 'é', 'xiaomi.', 'xiaomi', 'mi', 'stick', 'versão', 'global', '(aliexpress)', 'r$133,63', '(6x', 'sem', 'juros)', 'cupom:', 'realme12', 'cupom:', 'mibr12', 'cupons', 'de', 'primeira', 'compra', 'cupom', 'do', 'vendedor', 'r$5,95', 'em', 'compras', 'de', 'ou', 'mais', 'r$202,38', 'frete', 'grátis', 'filhos', 'da', 'puta', 'comedores', 'de', 'morcego', 'pqp', 'menos', 'de', 'dois', 'anos', 'de', 'uso', 'e', 'essa', 'merda', 'de', 'celular', 'tá', 'viciado,@xiaomi', 'me', 'dá', 'outro', 'ai', 'caralho', 'essa', 'é', 'a', 'luz', 'do', 'meu', 'quarto', 'mesmo', 'obrigado', 'xiaomi', 'e', 'alexa', 'quase', 'acreditei,', 'mas', 'o', 'seu', 'cell', 'é', 'xiaomi', '👀', 'vende', 'e', 'parcela', 'um', 'xiaomi', 'participem', 'e', 'convidem', 'seus', 'amigos', 'para', 'participarem:', 'canal', 'telegram', 'amazfit', 'xiaomi', 'promoções', 'e', 'cupons', 'br:', 'grupo', 'facebook', 'amazfit', 'xiaomi', 'promoções', 'e', 'cupons', 'br:', 'meu', 'xiaomi', 'é', 'lindo', 'e', 'não', 'liga', 'pra', 'haters', 'tenho', 'apego', 'no', 'meu', 'xiaomi', 'mas', 'se', 'vim', 'um', 'membro', 'junto', 'eu', 'cogito', 'a', 'ideia', 'me', 'recomenda', 'algum?', 'eu', 'tinha', 'um', 'da', 'xiaomi,', 'mas', 'o', 'que', 'tinha', 'quebrou', '😐', 'a', 'cada', '100', 'tweets', 'pelomenos', '4', 'é', 'fo', 'rhuan', 'reclamando', 'do', 'seu', 'xiaomi', 'se', 'o', 'xiao', 'tivesse', 'celular', 'seria', 'um', 'xiaomi', 'redmi7', 'eu', 'tava', 'de', 'olho', 'no', 'librem', '5,', 'inclusive.', 'mas', 'eu', 'precisei', 'trocar', 'e', 'as', 'reviews', 'disseram', 'que', 'não', 'tava', 'rolando,', 'pelo', 'menos', 'por', 'enquanto.', 'aí', 'estamos', 'de', 'xiaomi', 'u.u', '@naegiwcat', 'mas', 'manoela', 'como', 'assim', 'seu', 'celular', 'eh', 'xiaomi', 'e', 'n', 'roda', 'genshin?', '@samsungbrasil', 'justo,', 'mas', 'podia', 'ter', 'pego', 'um', 'xiaomi', 'pica', 'bateria', 'eterna(é', 'meme)', 'xiaomi', 'redmi', 'note', '8', 'e', '9', 'são', 'brabo', 'se', 'louco', 'menina', 'do', 'nada', 'chegou', 'uma', 'notificação', 'perguntando', 'se', 'era', 'eu', 'e', 'que', 'a', 'minha', 'senha', 'tava', 'bloqueada', 'pq', 'teve', 'uma', 'tentativa', 'por', 'um', 'xiaomi', 'kkkkkkkkk', '46957', 'celular', 'xiaomi', 'mi', 'note', '10', 'lite', 'versão', 'global/dual/tela', '6.47”', '/', '128gb', '/', '6gb', 'ram', '-', 'marketplace', '|', 'r$', '2.899,00', '|', 'o', 'app', 'de', 'temas', 'que', 'veio', 'no', 'meu', 'celular', 'mesmo', '(é', 'xiaomi)', 'vou', 'deixar', 'a', 'treta', 'e', 'sair.', 'iphone&gt;xiaomi&gt;&gt;&gt;&gt;&gt;samsung', 'um', 'amigo', 'me', 'indicou', 'a71', 'eu', 'tô', 'pensando', 'bastante..', 'mas', 'tô', 'com', 'fogo', 'pra', 'xiaomi', 'e', 'apple', 'nada', 'mais', 'favelado', 'calcanhar', 'ressecado', 'do', 'que', 'por', 'o', 'cartão', 'do', 'bando', 'dentro', 'da', 'capinha', 'do', 'xiaomi', 'versão', 'global', 'xiaomi', 'redmi', 'nota', '9t', '5g', '4gb', '64gb/128gb', 'smartphone', 'dimensão', '800u', 'nfc', '5000mah', '48mp', 'câmera', 'https://t.co/vsgflfio6l', 'hugo💵', 'preço:versão', 'gloal', 'xiaomi', 'redmi', 'nota', '10', '4gb', 'ram', '64gb/128gb', '🛍', 'loja:', '#aliexpress', '💳r$', '1.184,53', '-', '4gb', '64gb', '💳r$', '1.363,10', '-', '4gb', '128gb', 'preço', 'final', '📲', 'link:', 'lojas', 'parceiras:', 'https://t.co/b69toehqsw', 'foda', 'querer', 'comprar', 'um', 'xiaomi', 'e', 'não', 'confiar', 'em', 'nenhum', 'site', 'pensando', 'em', 'comprar', 'um', 'xiaomi', 'so', 'nao', 'sei', 'qual', 'eu', 'vi', 'gente', 'que', 'falou', 'mal', 'de', 'iphone', 'a', 'vida', 'toda', 'defender', 'xiaomi', 'e', 'agora', 'comprar', 'iphone', '🤣', 'nossa', 'uma', 'monogâmica', 'que', 'ainda', 'por', 'cima', 'louva', 'xiaomi', 'no', 'meu', 'tweet', 'inteligente', 'eca', 'lançamento', 'eminente?', 'surgem', 'a', 'primeira', 'imagem', 'da', 'xiaomi', 'mi', 'band', '6', '@g1', 'importando', 'sai', 'mais', 'barato', 'que', 'qualquer', 'produto', 'dela', 'vendido', 'aqui,', 'não', 'faz', 'diferença', 'ela', 'vender', 'aqui,', 'o', 'ruim', 'é', 'os', 'funcionários', 'perderem', 'emprego.', 'mas', 'em', 'preço', 'vai', 'ser', 'uns', '1mil', 'r$', 'a+', 'que', 'a', 'xiaomi', 'antes', 'de', 'vender', 'oficial', 'no', 'br', 'aqui', 'tá', 'assim!!!', 'que', 'nem', 'os', 'que', 'ficam', 'no', 'teclado,', 'no', 'caso', 'xiaomi', 'tô', 'quase', 'virando', 'um', 'fã', 'da', 'xiaomi.', 'acho', 'isso', 'meio', 'perigoso.', 'não', 'tenho', 'experiência', 'com', 'essa', 'marca,', 'mas', 'meu', 'xiaomi', 'me', 'faz', 'surtar', 'umas', '8x', 'por', 'dia', '🙂', '#barmyfabricandostream', 'shadow', 'happiness', '@bts_twt', 'testemunha', 'de', 'xiaomi', 'amigo', 'quase', 'me', 'rendo', 'ao', 'xiaomi', 'saiba', 'como', 'usar', 'o', 'celular', 'sem', 'perder', 'o', 'sono', '#celular', '#dormir', '#sono', '#smartphone', '#brasil', '#apple', '#boanoite', '#samsung', '#amor', '#motorola', '#pijama', '#xiaomi', '#cama', '#saude', '#tecnologia', '#conforto', '#telefonia', '#celulares', '#boanoitee', '#paz', '#android', '#vida', '#acessorios', '#mulher', '@g1', 'como', 'assim,', 'a', 'xiaomi', 'aderiu', 'a', 'isso', 'tb...', 'céus!', '😳😩😁', 'promoções', 'aliexpress', 'hoje', 'às', '21h', 'xiaomi', 'band', '5', '$9,9(r$58,65)', 'cupom:', 'sdmiband55', 'radio', 'control', 'car', 'toys', '$24(r$142,18)', 'cupom:', 'sdtoycar', 'edifier', 'tws1', 'pro', '$19(r$112,56)', 'cupom:', 'sdedifier', 'https://t.co/zafswh5ogs', '@btspurplebullet', 'oi', 'amg,', 'o', 'meu', 'tbm', 'é', 'da', 'xiaomi', 'e', 'eu', 'divido', 'a', 'tela', 'apertando', 'e', 'segurando', 'no', 'botão', 'de', '\"voltar\".', 'ele', 'é', 'mais', 'ou', 'menos', 'assim', '→', '◀️(esse', 'triângulo)', 'note', '7,', 'vc', 'tb', 'tem', 'xiaomi?', 'eu', 'uso', 'xiaomi', 'é', 'diferente', 'kkkk', 'xiaomi', 'atualiza', 'meu', 'celular', 'sua', 'vagabunda', 'vida,', 'eu', 'tô', 'na', 'era', 'xiaomi........', 'no', 'meu', 'ver...', 'compra', 'sem', 'carregador', 'quem', 'quer...', 'não', 'entendi', 'o', 'pq', 'da', 'multa,', 'mas', 'se', 'multou...', 'que', 'sirva', 'de', 'lição', 'para', 'as', 'outras', 'não', 'virem', 'fazer', 'o', 'mesmo...', 'tá', 'ouvindo', 'xiaomi.', '😁😁😁', 'sim', 'amg,', 'eu', 'usei', 'xiaomi', 'um', 'ano,', 'ai', 'no', 'carnaval', 'do', 'ano', 'passado', 'roubaram', 'enqt', 'eu', 'dançava', 'não', 'compra', 'xiaomi', 'lançamento', 'eminente?', 'surgem', 'a', 'primeira', 'imagem', 'da', 'xiaomi', 'mi', 'band', '6', 'https://t.co/cpwhbogh96', 'a', 'xiaomi', 'colocou', 'como', 'opcional', '(se', 'comprar', 'no', 'site', 'deles),', 'a', 'samsung', 'não', 'sei.', 'ele', 'tá', 'em', 'loop', 'infinito', 'na', 'tela', 'inicial,', 'ai', 'eu', 'tentei', 'instalar', 'o', 'sistema', 'lá,', 'mas', 'fica', 'aparecendo', 'q', 'o', 'tal', 'do', 'bootloader', 'ta', 'bloqueado', 'e', 'aparentemente', 'eh', 'impossivel', 'desbloquear', 'isso', 'em', 'um', 'xiaomi', 'sem', 'ele', 'estar', 'ligado', 'eu', 'to', 'desde', 'as', '10', 'da', 'manha', 'nisso', 'e', 'ate', 'agora', 'nadaaaaa', 'batoré🛒', 'xiaomi', 'redmi', '9t', '4gb', '64gb/4gb', '128gb/6gb', '128gb', 'snapdragon', '662', '6000mah', '🛍', 'loja:', '#aliexpress', '🏷️', '#cupom:', 'não', 'precisa', '💵', 'preço:', 'r$', '946,43', 'já', 'com', 'frete', 'e', 'seguro!', '💳', 'parcele', 'em', 'até', '6x', 'sem', 'juros!', '📲', 'link:', 'lojas', 'parceiras:', 'https://t.co/pxjkwgzng3', 'alguém', 'com', 'indicação', 'ou', 'contra', 'indicação', '⚠️⚠️', 'do', 'xiaomi?', '⚠️⚠️', 'xiaomi', 'vc', 'me', 'prometeu', 'e', 'não', 'tá', 'cumprindo', 'em', 'termos', 'de', 'que?', 'o', 'ios', 'é', 'um', 'bom', 'sistema,', 'roda', 'liso,', 'mas', 'bateria', 'é', 'um', 'problema', 'sério.', 'e', 'o', 'custo', 'do', 'iphone', 'é', 'superior', 'a', 'um', 'xiaomi', 'e', 'dependendo', 'do', 'samsung,', 'também', 'é.', 'eu', 'também', 'prefiro', 'a', 'câmera', 'do', 'iphone.', 'mas,', 'o', 'iphone', 'custa', 'muito', 'mais,', 'então', 'o', 'custo-benefício', 'não', 'é', 'tão', 'bom', 'assim', 'vamos', 'comigo', 'então', 'espalhar', 'a', 'palavra', 'da', 'xiaomi', '@madunixs', 'nem', 'iphone,', 'nem', 'samsung', 'xiaomi', 'põe', 'pra', 'mamar', 'as', 'duas', 'xiaomi', 'do', 'exo', 'top', '5', 'mais', 'lindos', 'da', 'coreia', 'por', 'isso', 'que', 'eu', 'prefiro', 'xiaomi.', 'iphone', 'é', 'só', 'modinha.', 'eu', 'com', 'o', 'meu', 'xiaomi', 'e', 'o', 'iphone', 'da', 'empresa', 'kkkkkkkkk', 'venha', 'para', 'a', 'xiaomi', 'kkkkkkk', 'gente', '48', 'no', 'fone', 'da', 'xiaomi', 'ctz', 'q', 'é', 'paraguai', 'hseieiwishajai', 'o', 'vizinho', 'da', 'frente', 'e', 'o', 'de', 'trás', 'daqui', 'tb', 'são', 'djs', 'de', 'aparelhagem', 'e', 'usam', 'essas', 'caixas', 'enormes', 'kkkkkkk', 'não', 'tem', 'o', 'menor', 'cabimento', 'preciso', 'urgentemente', 'da', 'minha', 'caixa', 'pq', 'o', 'xiaomi', 'não', 'dá', 'conta', 'xiaomi', 'você', 'deveria', 'me', 'patrocinar,', 'não', 'acho', 'justo', 'eu', 'querer', 'seus', 'produtos', 'e', 'não', 'ter', 'dinheiro', 'pra', 'comprar', 'cm', 'td', 'isso', 'de', 'bateria', 'da', 'pra', 'assistir', 'um', 'pornozão', 'de', '1', 'hora', 'caso', 'seu', 'celular', 'for', 'xiaomi', '#ad', 'ia', 'falar', 'p', 'gnt', 'jogar', 'mas', 'seu', 'xiaomi', 'deve', 'morrer', 'no', 'meio', 'da', 'partida', 'a', 'olsen', 'e', 'o', 'bettany', 'prometeram', 'uma', 'aparição', 'grandiosa', 'na', 'série', 'e', 'só', 'teve', 'o', 'xiaomi', 'branco', 'e', 'vocês', 'querem', 'falar', 'mal', 'de', 'tfatws', 'kk', 'se', 'você', 'acha', 'que', 'ter', 'um', 'iphone/xiaomi', 'é', 'ostentação,', 'conheça', 'uma', 'torradeira', 'com', 'wi-fi', 'e', 'redes', 'sociais', 'inclusa', '📡', '🚀poco', 'x3', 'pro', 'com', 'detalhes', 'revelados', 'por', 'loja', 'oficial', 'da', 'xiaomi', '💡', '#zirigozagroup', '#e-commerce', '#marketing', '#enkil.es', '#8020', '🔔', 'xiaomi', 'manda', 'abraços', '@estadaolink', 'xiaomi', 'tá', 'como...', 'só', 'esperando', 'seu', 'espaço', 'no', 'mercado', 'mercosul', 'aumentar', '@mathmj', 'mas', 'é', 'melhor', 'q', 'xiaomi', 'alguém', 'sabe', 'uma', 'loja', 'confiável', 'que', 'vende', 'xiaomi?', 'smartphone', 'xiaomi', 'redmi', 'note', '9s', 'por:', 'r$1.762,49', 'android', 'os', 'v10.0', 'com', 'qualcomm', 'snapdragon', '720g', 'resolução', 'de', '1080', 'x', '2400', 'px', 'memoria', 'ram', '6gb', '+', '128gb', 'armazenamento', 'interno', 'camera', 'de', '48', '+', '8', '+', '2', '+', '5', 'mp', '8000', 'x', '6000', 'px.tela', 'resistente.', 'vem', 'dar', 'uma', 'olhadinha👀', '➡https://t.co/516ij2wafd', 'xiaomi', 'tá', 'na', 'mira', 'tbm', 'por', 'aqui..', 'tô', 'afim', 'ahh', 'é', 'da', 'xiaomi', 'né?', 'nem', 'iphone', 'você', 'tem,', 'babaca.', 'comprou', 'xiaomi', 'com', 'raylan.', 'kkkkkk', 'não', 'fala', 'do', 'meu', 'xiaomi', 'sapatao', 'xiaomi', 'mi', '11', 'ultra', 'deve', 'ser', 'o', 'primeiro', 'a', 'contar', 'com', 'sensor', 'de', '50', 'mp', 'da', 'samsung', 'joão', 'gomes🛒', 'xiaomi', 'mijia', 'writing', 'tablet', '10/13.5', 'inch', 'small', 'lcd', 'blackboard', 'ultra', 'thin', 'digital', 'drawing', 'board', 'electronic', '🛍', 'loja:', '#banggood', 'cupom:', 'bgud326', '💵', 'preço:', 'r$', '94.15', '💳', 'parcele', 'em', 'até', '12x', '📲', 'link:', 'ojas', 'parceiras:', 'https://t.co/kwce24xz28', 'quem', 'lembra', '?', '#celular', '#iphone', '#smartphone', '#samsung', '#celulares', '#o', '#apple', '#tecnologia', '#xiaomi', '#motorola', '#assistenciatecnica', '#android', '#a', '#acessorios', '#brasil', '#redminote', '#case', '#pro', '#mi', '#plus', '#s', '#lg', '#instagram', '#internet', '#huawei', '#tablet', '#phone', '#mobile', '#instagood', '#bhfyp', 'era', 'uma', 'vez', 'um', 'xiaomi,', 'pq', 'eu', 'vou', 'compra', 'a', 'controladora', '!', 'xiaomi', 'mi', 'alguma', 'coisa', 'sim', 'eu', 'sou', 'o', 'maior', 'inimigo', 'da', 'xiaomi', 'o', 'papai', 'um', 'dia', 'desses', 'tava', 'vendo', 'um', 'xiaomi', 'pra', 'mamãe', 'lá', 'kkkkk', '@felipe_skk', '@maiick_crf', 'colega,', 'pensa', 'assim,', 'se', 'uma', 'empresa', 'pode', 'vender', 'sem', 'carregador,', 'todas', 'as', 'outras', 'vão', 'ter', 'o', 'direito', 'de', 'fazer', 'isso', '(inclusive,', 'samsung', 'e', 'xiaomi', 'fizeram', 'em', 'países', 'com', 'legislação', 'menos', 'rígida),', 'até', 'que', 'vc', 'vai', 'ser', 'obrigado', 'a', 'pagar', 'quanto', 'eles', 'quiserem', 'em', 'um', 'carregador', 'novo', 'esse', 'negócio', 'de', 'comprar', 'coisa', 'da', 'china', 'ferra', 'a', 'cabeça', 'de', 'leigo', 'né.', 'fui', 'ajudar', 'um', 'menino', 'que', 'comprou', 'um', 'roteador', 'da', 'xiaomi', 'que', 'é', 'feito', 'pro', 'mercado', 'de', 'lá', 'e', 'cujo', 'wi-fi', 'de', '5', 'ghz', 'não', 'estava', 'sendo', 'localizado', 'por', 'certos', 'dispositivos.', 'eu', 'deixo', 'no', 'silencioso', 'n', 'ia', 'adiantar', 'nada', ',', 'eu', 'preciso', 'pegar', 'meu', 'chip', 'pq', 'eu', 'vo', 'troca', 'amn', 'pra', 'um', 'xiaomi', 'vou', 'dar', 'um', 'xiaomi', 'pro', 'meu', 'namorado', 'yangyang', 'usar', 'ai', 'vcs', 'ficam', 'combinando', '😍', 'como', 'assim', 'os', 'celulares', 'da', 'xiaomi', 'nao', 'vem', 'com', 'fone', 'de', 'ouvido', 'veeeiii', 'to', 'quase', 'desistindo', 'viu,', 'o', 'bom', 'de', 'comprar', 'celular', 'novo', 'eh', 'o', 'fone', 'q', 'vem', 'aaaafffff', 'xiaomi', 'revela', 'os', 'primeiros', 'teasers', 'da', 'sua', 'nova', 'linha', 'de', 'notebooks', '#notebook', '#xiaomi', 'nesse', 'momento', 'tá', 'tudo', 'caríssimo.', 'mas', 'eu', 'sou', 'testemunha', 'de', 'xiaomi,', 'então', 'tu', 'imagina', 'o', 'que', 'eu', 'diria', 'acabei', 'de', 'ver', 'isto', 'na', 'amazon:', 'fones', 'de', 'ouvido', 'xiaomi', 'redmi', 'airdots', 's', 'lançamento', '2020', 'por', 'xiaomi', 'para', 'r$153.00', 'via', 'é', 'muito', 'gostoso', 'ser', 'xiaomi!!!', 'que', 'duvida', 'se', 'eu', 'compro', 'a', 'pulseira', 'da', 'xiaomi', 'ou', 'da', 'samsung,', 'parece', 'tão', 'igual', 'ahhh,', 'usou', 'o', 'xiaomi', 'pra', 'digitar.', 'precisou', 'pisar', 'nele', 'de', 'novo?', 'a', 'gente', 'vai', 'sempre', 'te', 'apoiar', 'yvisquamor', 'tamo', 'junto', 'yvizinhaaaa', '(maozinha', 'fazendo', 'coração)', 'participem', 'e', 'convidem', 'seus', 'amigos', 'para', 'participarem:', 'canal', 'telegram', 'xiaomi', 'promoções', 'e', 'cupons', 'br:', 'grupo', 'facebook', 'xiaomi', 'promoções', 'e', 'cupons', 'br:', 'página', 'facebook', 'xiaomi:', 'acho', 'que', 'vou', 'adquirir', 'meu', 'primeiro', 'produto', 'da', 'xiaomi,', 'o', 'fone', 'bluetooth,', 'espero', 'que', 'preste', 'o', 'azul', 'deve', 'ser', 'lindo.', 'o', 'som', 'deles', 'é', 'mediano', 'mas', 'se', 'você', 'tiver', 'um', 'xiaomi', 'tem', 'como', 'melhorar', 'no', 'equalizador', 'do', 'celular', 'silêncio', 'que', 'o', 'usuário', 'da', 'xiaomi', 'tá', 'falando', 'sifud', 'era', 'p', 'eu', 'ter', 'comprado', 'um', 'xiaomi', 'mt', 'bom', 'xiaomi', 'hein', 'tá', 'de', 'parabéns', '@camilagamino', 'me', 'arruma', 'um', 'iphone', 'aí', 'poxa', '🥺', 'meu', 'xiaomi', 'precisa', 'humilhar', 'produtos', 'da', 'apple', 'te', 'cuida,', 'samsung:', 'vazam', 'imagens', 'do', 'futuro', 'celular', 'dobrável', 'da', 'xiaomi', 'é', 'xiaomi?', 'se', 'for', 'tá', 'explicado..', '#barmyfabricandostream', 'shadow', 'happiness', 'pode', 'acabar', 'a', 'qualquer', 'momento', '👀', 'smartphone', 'xiaomi', 'redmi', '9i', '128gb', '4gb', 'ram', 'global', 'preto', '📱📱📱📱📱', '❌de', 'r$1.179,90', '🎯', 'por', 'apenas:', 'r$1.099,00', '⚠️', 'frete', 'varia', 'por', 'região', '🛒', 'compre', 'aqui:', '#promocao', '#oferta', 'é', 'da', 'xiaomi...', 'ainda', 'não', 'vi', 'ao', 'vivo.', 'mas', 'já', 'me', 'disseram', 'que', 'é', 'muito', 'legal!', 'essa', 'empresa', 'chinesa', 'faz', 'coisas', 'incríveis.', 'tem', 'até', 'para', 'lata!', 'você', 'comprou??', 'se', 'apple', 'sair', 'do', 'brasil,', 'vai', 'estar', 'se', 'prestando', 'um', 'favor.', 'um', 'país', 'onde', 'só', 'tem', 'fodido', 'comprando', 'xiaomi', 'achando', 'que', 'tá', 'bombando,', 'não', 'merece', 'mesmo', 'ter', 'uma', 'divisão', 'aqui.', 'qual', 'o', 'seu', 'celular', 'amg???', 'quando', 'eu', 'tinha', 'xiaomi', 'o', 'meu', 'ficava', 'assim', 'tbm', 'huawei', 'sempre', 'vai', 'ser', 'melhor', 'q', 'xiaomi,', 'mas', 'decidi', 'ter', 'uma', 'experiência', 'xiaomi', 'e', 'me', 'arrependo', 'kkkkkkkk', 'meu', 'xiaomi', 'e', 'uma', 'delicinha', '9vinha', 'vc', 'tem', 'um', 'samsung', 'aceitando', 'o', 'fone', 'rosa', 'sem', 'fio', 'da', 'xiaomi', 'de', 'mimo,', 'pq...', 'novas', 'imagens', 'revela', 'possível', 'dispositivo', 'dobrável', 'da', 'xiaomi', '...', '#huawei', '#samsung', 'acabei', 'de', 'descobrir', 'a', 'função', '\"segundo', 'espaço\"', 'do', 'xiaomi', 'hahaha', 'nos', 'sites', 'que', 'fala', 'sobre,', 'diz', 'que', 'é', 'pra', 'qnd', 'for', 'emprestar', 'o', 'celular', 'p', 'alguém,', 'a', 'pessoa', 'não', 'ver', 'suas', 'coisas', 'pessoais', 'kkkkkkkkkkk', 'na', 'minha', 'opinião', 'só', 'serve', 'pra', 'duas', 'coisas:', 'enganar', 'o(a)', 'parceiro', '(a)', 'ou', 'enganar', 'a', 'polícia', 'isso', 'ou', 'aquilo?', 'xiaomi', 'x', 'iphone', 'nike', 'x', 'adidas', 'frio', 'x', 'calor', 'dia', 'x', 'noite', 'hamburguer', 'x', 'hotdog', 'coxinha', 'x', 'pastel', 'brigadeiro', 'x', 'beijinho', 'carro', 'x', 'moto', 'navio', 'x', 'avião', 'youtube', 'x', 'tiktok', 'instagram', 'x', 'twitter', 'bbb', 'x', 'a', 'fazenda', 'usem', 'a', 'tag:', 'sextou', 'bb', 'com', 'icaro', 'e', 'gilmar', 'menina', 'eu', 'só', 'sei', 'que', 'o', 'airpods', 'funciona', 'no', 'xiaomi', 'kkkk', 'mas', 'deve', 'funcionar', 'cupom', 'aliexpress', 'cupom', 'de', 'primeira', 'compra', 'válido', 'para', 'vários', 'produtos', 'do', 'site', '$12(r$71,43)', 'em', 'compras', 'acima', 'de$20(r$119,05)', 'cupom:mibr12', 'cupom:realme12', '@lovpjmin', '@bts_twt', 'é', 'xiaomi,', 'mas', 'já', 'descobri', 'como', 'faz', '@xiaomibrasil', 'você', 'pode', 'seguir', 'esse', 'tutorial', 'que', 'fiz', 'pra', 'fotografar', 'a', 'via', 'láctea', 'com', 'seu', 'xiaomi', '@juninhorufi', '@updatechartuc', 'não', 'é', 'o', 'que', 'os', 'testes', 'mostram,', 'um', 'youtuber', 'fez', 'um', 'teste', 'entre', 'o', 's21', 'ultra', 'e', 'o', 'iphone', '12', 'pro', 'max,', 'e', 'o', 's21', 'ultra', 'venceu', 'quando', 'eu', 'citei', 'a', 'xiaomi,', 'estava', 'falando', 'da', 'linha', 'mi', 'dela,', 'que', 'muitas', 'vezes', 'fica', 'ao', 'mesmo', 'nível', 'da', 'samsung/apple', 'q', 'arrependimento', 'de', 'atualizar', 'o', 'sistema', 'da', 'xiaomi', 'no', 'meu', 'mia3', '😭😭😭', 'tá', 'travando', 'muuuuuito', 'e', 'acabando', 'a', 'bateria', 'mais', 'rápido', 'que', 'nunca.', 'além', 'de', 'tá', 'esquentandoooo!!!', 'aaaaaaaa', 'odieeeeeiii', 'me', 'da', 'um', 'celular', 'desses', 'pega', 'seu', 'xiaomi', 'e', 'seja', 'feliz', 'só', 'passando', 'p', 'dizer', 'q:', 'xiaomi', '&gt;&gt;&gt;&gt;&gt;&gt;&gt;&gt;&gt;&gt;&gt;&gt;&gt;&gt;&gt;&gt;&gt;', 'iphone', 'quase', 'comprei', 'o', 'xiaomi', 'redmi', 'note', '10', 'pro!', 'que', 'aparelho', 'incrível!', 'e', 'que', 'preço', 'bom!', 'daí', 'fui', 'converter', 'e', 'na', 'atual', 'cotação', 'do', 'dólar,', 'sai', 'quase', 'o', 'mesmo', 'preço', 'do', 'galaxy', 's20', 'fe', '(forno', 'edition).', 'uma', 'pena.', ':/', 'discípula', 'da', 'xiaomi', 'te', 'cuida,', 'samsung:', 'vazam', 'imagens', 'do', 'futuro', 'celular', 'dobr?vel', 'da', 'xiaomi', 'https://t.co/ihqdut0coi', 'sexta', 'feira,', '19', 'de', 'março', 'de', '2021,', 'as', '18h15', 'meu', 'xiaomi', 'travou', 'pela', 'primeira', 'vez', 'xiaomi', 'mi', 'band', '5(aliexpress)', 'r$91,01', '(6x', 'sem', 'juros)', 'cupom:', 'realme12', 'cupom:', 'mibr12', 'cupons', 'de', 'primeira', 'compra', 'frete', 'grátis', '@kaynnanlopes', '@ferrisicaro', 'essa', 'matéria', 'é', 'antiga,', 'a', 'xiaomi', 'já', 'voltou', 'atrás', 'nisso', 'e', 'disse', 'que', 'vai', 'botar', 'carregador', 'no', 'celular', 'sim.', 'provavelmente', 'por', 'culpa', 'do', 'hate', 'que', 'ela', 'levou', 'alg', 'sabe', 'se', 'dá', 'pra', 'aumentar', 'a', 'sensibilidade', 'do', 'microfone', 'do', 'airdots', 'da', 'xiaomi?', 'eu', 'posso', 'comprovar', 'pelo', 'meu', 'lugar', 'de', 'fala', 'que', 'todo', 'mundo', 'que', 'tem', 'xiaomi', 'só', 'termina', 'falas', 'com', 'essa', 'info:', '\"sim', 'pois', 'meu', 'xiaomi', 'não', 'descarrega', 'tem', 'um', 'trimestre\"', 'então,', 'o', 'meu', 'xiaomi', 'veio', 'com', 'ela', 'instalada,', 'prontinha', 'pra', 'usar', '😁', 'e', 'sim', 'essa', 'função', 'ela', 'é', 'incrível', 'curto', 'muito', 'também', '✨!', 'técnico', 'em', 'informática,', 'aparelhos', 'celulares', 'notebooks,', 'as', 'vezes', 'monto', 'algum', 'hack', 'de', 'ti,', 'não', 'tenho', 'diploma,', 'aprendi', 'fazendo', 'é', 'assim', 'que', 'me', 'viro,', 'e', 'vendo', 'uns', 'aparelhos', 'da', 'xiaomi', 'tb😉', '@bts_twt', 'adm', 'todos', 'os', 'celulares', 'tem', 'como', 'dividir', 'a', 'tela?', 'pq', 'o', 'meu', 'é', 'da', 'xiaomi', 'e', 'eu', 'não', 'sei', 'como', 'faz', 'fui', 'ver', 'de', 'comprar', 'outro', 'celular', 'no', 'mesmo', 'modelo', 'que', 'eu', 'meu.', 'em', '2019,', 'meu', 'celular', 'era', 'o', 'celular', 'do', 'ano,', 'o', 'xiaomi', '9,', 'paguei', 'r$1.900,00', 'em', '2021,', 'o', 'exato', 'celular', 'está', 'r$2.900,00,', 'na', 'mesma', 'loja.', 'que', 'coisa', 'mais', 'louca', 'e', 'absurdaaa', 'meu', 'xiaomi', 'chegou,', 'e', 'amanhã', 'já', 'vou', 'sair', 'batendo', 'de', 'porta', 'em', 'porta', 'para', 'espalhar', 'a', 'palavra', 'dos', 'testemunhas', 'da', 'xaiomi']\n"
     ]
    }
   ],
   "source": [
    "# Classificador Naive Bayes Primário:\n",
    "\n",
    "# Aplicando função de limpeza\n",
    "\n",
    "relevante = []\n",
    "irrelevante = [] \n",
    "\n",
    "for tweet in range(len(train.Treinamento)):\n",
    "    tweet_treinamento = cleanup(train.Treinamento[tweet]).split()\n",
    "    for palavra in tweet_treinamento:\n",
    "         if palavra[0] == '@' or palavra[:5] == 'https':\n",
    "            tweet_treinamento.remove(palavra)\n",
    "    \n",
    "#print(tweet_treinamento)\n",
    "    \n",
    "\n",
    "    for i in range(len(tweet_treinamento)):\n",
    "        if train.Classificação[tweet] == 'Relevante':\n",
    "            relevante.append(tweet_treinamento[i])\n",
    "        else:# train.Classificação[tweet] == 'Irrelevante':\n",
    "            irrelevante.append(tweet_treinamento[i])\n",
    "            \n",
    "print(irrelevante)\n",
    "\n",
    "# Cálculo e contagem de palavras (\"dicionário com todas as palavras da planilha TREINAMENTO)\n",
    "\n",
    "# for classificacao in train['Classificação']:\n",
    "#     if classificacao == 'Relevante':\n",
    "#         lista_probabilidade.append(classificacao)\n",
    "#     elif classificacao == 'Irrelevante':\n",
    "#         lista_probabilidade.append(classificacao)"
   ]
  },
  {
   "cell_type": "code",
   "execution_count": 346,
   "metadata": {},
   "outputs": [
    {
     "data": {
      "text/plain": [
       "0      xiaomi\n",
       "1       seria\n",
       "2         uma\n",
       "3         boa\n",
       "4      opção.\n",
       "5          eu\n",
       "6       tenho\n",
       "7    motorola\n",
       "8           e\n",
       "9           a\n",
       "dtype: object"
      ]
     },
     "execution_count": 346,
     "metadata": {},
     "output_type": "execute_result"
    }
   ],
   "source": [
    "relevante\n",
    "serie_relevante = pd.Series(relevante)\n",
    "serie_relevante.head(10)"
   ]
  },
  {
   "cell_type": "code",
   "execution_count": 347,
   "metadata": {},
   "outputs": [
    {
     "data": {
      "text/plain": [
       "xiaomi       70\n",
       "o            49\n",
       "e            42\n",
       "é            38\n",
       "eu           37\n",
       "             ..\n",
       "aconteceu     1\n",
       "huawei.       1\n",
       "geral,        1\n",
       "kindle        1\n",
       "mta           1\n",
       "Length: 627, dtype: int64"
      ]
     },
     "execution_count": 347,
     "metadata": {},
     "output_type": "execute_result"
    }
   ],
   "source": [
    "tabela_relevante = serie_relevante.value_counts()\n",
    "tabela_relevante"
   ]
  },
  {
   "cell_type": "code",
   "execution_count": 348,
   "metadata": {},
   "outputs": [
    {
     "data": {
      "text/plain": [
       "xiaomi       0.046698\n",
       "o            0.032688\n",
       "e            0.028019\n",
       "é            0.025350\n",
       "eu           0.024683\n",
       "               ...   \n",
       "aconteceu    0.000667\n",
       "huawei.      0.000667\n",
       "geral,       0.000667\n",
       "kindle       0.000667\n",
       "mta          0.000667\n",
       "Length: 627, dtype: float64"
      ]
     },
     "execution_count": 348,
     "metadata": {},
     "output_type": "execute_result"
    }
   ],
   "source": [
    "tabela_relevante_relativa = serie_relevante.value_counts(True)\n",
    "tabela_relevante_relativa"
   ]
  },
  {
   "cell_type": "code",
   "execution_count": 349,
   "metadata": {},
   "outputs": [
    {
     "data": {
      "text/plain": [
       "0     ainda\n",
       "1       bem\n",
       "2         q\n",
       "3     tenho\n",
       "4    xiaomi\n",
       "5         e\n",
       "6       ele\n",
       "7        tá\n",
       "8        cm\n",
       "9      73%,\n",
       "dtype: object"
      ]
     },
     "execution_count": 349,
     "metadata": {},
     "output_type": "execute_result"
    }
   ],
   "source": [
    "irrelevante\n",
    "serie_irrelevante = pd.Series(irrelevante)\n",
    "serie_irrelevante.head(10)"
   ]
  },
  {
   "cell_type": "code",
   "execution_count": 350,
   "metadata": {},
   "outputs": [
    {
     "data": {
      "text/plain": [
       "xiaomi              179\n",
       "o                    92\n",
       "e                    77\n",
       "de                   73\n",
       "da                   71\n",
       "                   ... \n",
       "@btspurplebullet      1\n",
       "nível                 1\n",
       "shark                 1\n",
       "📱📱📱📱📱                 1\n",
       "td                    1\n",
       "Length: 1655, dtype: int64"
      ]
     },
     "execution_count": 350,
     "metadata": {},
     "output_type": "execute_result"
    }
   ],
   "source": [
    "tabela_irrelevante = serie_irrelevante.value_counts()\n",
    "tabela_irrelevante"
   ]
  },
  {
   "cell_type": "code",
   "execution_count": 351,
   "metadata": {},
   "outputs": [
    {
     "data": {
      "text/plain": [
       "xiaomi              0.044694\n",
       "o                   0.022971\n",
       "e                   0.019226\n",
       "de                  0.018227\n",
       "da                  0.017728\n",
       "                      ...   \n",
       "@btspurplebullet    0.000250\n",
       "nível               0.000250\n",
       "shark               0.000250\n",
       "📱📱📱📱📱               0.000250\n",
       "td                  0.000250\n",
       "Length: 1655, dtype: float64"
      ]
     },
     "execution_count": 351,
     "metadata": {},
     "output_type": "execute_result"
    }
   ],
   "source": [
    "tabela_irrelevante_relativa = serie_irrelevante.value_counts(True)\n",
    "tabela_irrelevante_relativa"
   ]
  },
  {
   "cell_type": "code",
   "execution_count": 354,
   "metadata": {},
   "outputs": [
    {
     "data": {
      "text/plain": [
       "array([  1,   2,   3,   4,   5,   6,   7,   8,   9,  10,  11,  12,  13,\n",
       "        14,  15,  16,  17,  18,  19,  20,  22,  23,  25,  26,  27,  28,\n",
       "        30,  32,  33,  37,  40,  51,  54,  55,  76,  87,  88,  94, 106,\n",
       "       119, 141, 249])"
      ]
     },
     "execution_count": 354,
     "metadata": {},
     "output_type": "execute_result"
    }
   ],
   "source": [
    "serie_vocabulario = pd.Series(relevante + irrelevante)\n",
    "tabela_vocabulario = np.unique(serie_vocabulario)\n",
    "tabela_vocabulario"
   ]
  },
  {
   "cell_type": "code",
   "execution_count": 355,
   "metadata": {},
   "outputs": [
    {
     "data": {
      "text/plain": [
       "xiaomi     0.045240\n",
       "o          0.025618\n",
       "e          0.021621\n",
       "de         0.019259\n",
       "que        0.017078\n",
       "             ...   \n",
       "voltou     0.000182\n",
       "5000mah    0.000182\n",
       "1.100      0.000182\n",
       "ascenda    0.000182\n",
       "td         0.000182\n",
       "Length: 2026, dtype: float64"
      ]
     },
     "execution_count": 355,
     "metadata": {},
     "output_type": "execute_result"
    }
   ],
   "source": [
    "\n",
    "tabela_vocabulario_relativa"
   ]
  },
  {
   "cell_type": "code",
   "execution_count": 357,
   "metadata": {},
   "outputs": [
    {
     "name": "stdout",
     "output_type": "stream",
     "text": [
      "Total de palavras: 2056\n",
      "Total de palavras relevantes: 627\n",
      "Total de palavras não relevantes: 1655\n"
     ]
    }
   ],
   "source": [
    "# Cálculo e contagem de palavras:\n",
    "        \n",
    "palavras_relevante = [[palavra, relevante.count(palavra)] for palavra in set(relevante)]\n",
    "palavras_irrelevante = [[palavra, irrelevante.count(palavra)] for palavra in set(irrelevante)]\n",
    "vocabulario = np.unique(palavras_relevante + palavras_irrelevante)\n",
    "\n",
    "#print(palavras_relevante)\n",
    "        \n",
    "print('Total de palavras:', len(vocabulario))\n",
    "print('Total de palavras relevantes:', len(palavras_relevante))\n",
    "print('Total de palavras não relevantes:', len(palavras_irrelevante))"
   ]
  },
  {
   "cell_type": "code",
   "execution_count": null,
   "metadata": {},
   "outputs": [],
   "source": []
  },
  {
   "cell_type": "code",
   "execution_count": 326,
   "metadata": {},
   "outputs": [
    {
     "name": "stdout",
     "output_type": "stream",
     "text": [
      "['@luffyoficial_', 'entt', 'amg,', 'omo', 'eu', 'ainda', 'não', 'tenho', 'meu', 'próprio', 'dinheiro,', 'minha', 'mãe', 'disse', 'que', 'eu', 'poderia', 'pegar', 'um', 'por', 'até', '1400,', 'e', 'é', 'difícil', 'achar', 'um', 'celular', 'atual,', 'e', 'que', 'seja', 'bom', 'para', 'o', 'que', 'eu', 'quero,', 'mas', 'infelizmente', 'é', 'minha', 'única', 'opção', 'agr.', 'e', 'ai', 'eu', 'achei', 'o', 'xiaomi,', 'mas', 'ainda', 'estou', 'receosa.']\n",
      "['a', 'xiaomi', 'me', 'prometeu', 'qualidade']\n",
      "['algum', 'sugar', 'daddy', 'on', 'pra', 'me', 'dar', 'o', 'robo', 'aspirador', 'roborock', 'xiaomi', 's5', 'max?', '🥺']\n",
      "['@xiaomibrasil', 'me', 'salva', 'aí,', 'xiaomi', 'com', 'os', 'bugs..', 'após', 'atualização,', 'reiniciou', 'e', 'olha', 'a', 'merda', 'aí..', 'https://t.co/xrspip3o7o']\n",
      "['meu', 'celular', 'ja', 'ta', 'em', 'fim', 'de', 'carreira', 'n', 'vejo', 'a', 'hora', 'de', 'comprar', 'um', 'xiaomi']\n",
      "['a', 'xiaomi', 'mi', 'band', '6', 'estará', 'mesmo', 'a', 'chegar?', 'https://t.co/flgnfgtyeb', 'https://t.co/xiqddpxbgj']\n",
      "['xiaomi', 'não', 'decepciona', 'em', 'nada', '👏']\n",
      "['@wos4you', 'vai', 'ser', 'o', 'mesmo', 'lugar', 'q', 'eu', 'vou', 'mandar', 'tu', 'procurar', 'seu', 'xiaomi', 'tv', 'https://t.co/9orpwzowe9']\n",
      "['@kaiiirtss', 'xiaomi', 'sksksks']\n",
      "['@jopedrobf', 'gastou', 'dinheiro', 'atoa...', 'a', 'não', 'ser', 'que', 'a', 'escova', 'seja', 'da', 'xiaomi']\n",
      "['mano', 'eu', 'ganhei', 'aquele', 'fone', 'sem', 'fio', 'da', 'xiaomi', 'de', 'aniversário', 'e', 'a', 'surra', 'que', 'ele', 'da', 'num', 'airpod']\n",
      "['corte', 'do', 'eua', 'liberou', 'xiaomi', 'de', 'lista', 'negra', 'do', 'departamento', 'de', 'defesa', 'nacional.', 'confira', '....', 'via', '@prog_brasil', 'https://t.co/quebkclvmj']\n",
      "['@baguitriste', 'tu', 'precisa', 'de', '1', 'galinha,', 'um', 'xiaomi,', '3', 'reais,', 'chinelo', 'azul', 'da', 'havaiana', 'e', 'criatividade']\n",
      "['tô', 'aderindo', 'a', 'todos', 'os', 'acessórios', 'da', 'xiaomi', '🥵🥵', 'mds', 'muito', 'bom', 'porém', 'o', 'celular', 'não']\n",
      "['2', 'pcs-', 'elough', 'quick', 'charge', '3.0', 'usb', 'charger', 'for', 'iphone', '11', '7', 'xiaomi', 'samsung', 'huawei', '5v', '3a', 'digital', 'display', 'fast', 'charging', 'wall', 'phone', 'charger', '(aliexpress)', 'r$', '55,60', '(r$27,8', 'cada)', '(6x', 'sem', 'juros)', 'cupom:', '10menos2', 'frete', 'grátis', 'cód.', 'l', 'https://t.co/djrzjyhcfp']\n",
      "['@andrepandelot', '@10icarocaldas', 'comprei', 'meu', 'xiaomi', 'dia', '30', 'de', 'novembro', 'de', '2019', 'e', 'até', 'hoje', 'coloquei', 'pra', 'carregar', '2', 'vezes', 'só']\n",
      "['promoções', 'aliexpress', 'https://t.co/wna6txut53', 'hoje', 'às', '21h', 'xiaomi', 'band', '5', '$9,9(r$58,65)', 'cupom:', 'sdmiband55', 'https://t.co/nbodb7fdz1', 'radio', 'control', 'car', 'toys', '$24(r$142,18)', 'cupom:', 'sdtoycar', 'https://t.co/xaomtlvfxl', 'edifier', 'tws1', 'pro', '$19(r$112,56)', 'cupom:', 'sdedifier', 'https://t.co/jmnvtlmvwa', 'https://t.co/7ieztidh5r']\n",
      "['@daniel_miorim', 'deus', 'me', 'livre', 'ter', 'um', 'iphone,', 'prefiro', 'comprar', 'um', 'xiaomi', 'bem', 'simplezinho', 'e', 'o', 'usar', 'o', 'resto', 'da', 'grana', 'em', 'shitcoin']\n",
      "['@velvetdiets', 'enquanto', 'aqui', 'em', 'casa', 'vc', 'olha', 'a', 'geladeira', 'e', 'só', 'tem', 'um', 'resto', 'de', 'comida', 'do', 'almoço,', 'um', 'queijo,', 'as', 'vezes', 'nem', 'isso', 'tem,', 'eu', 'nem', 'me', 'considero', 'pobre', 'pq', 'n', 'passo', 'fome,', 'eu', 'tenho', 'um', 'tablet,', 'minha', 'mãe', 'tem', 'um', 'xiaomi,', 'eu', 'tenho', 'oq', 'quero', 'mas', 'a', 'diferença', 'é', 'a', 'gnt', 'ficou', 'um', 'ano', 'inteiro', 'juntando']\n",
      "['mandaram', '100', 'travazap', 'no', 'grupo', 'do', 'cllr', 'e', 'nenhum', 'conseguiu', 'derrubar', 'meu', 'xiaomi']\n",
      "['uma', 'coisa', 'que', 'me', 'decepciona', 'muito', 'no', 'celular', 'da', 'xiaomi', 'é', 'o', 'aplicativo', 'de', 'câmera', 'dele,', 'é', 'horrível.', 'lento', 'pra', 'porra', 'e', 'fica', 'apresentando', 'erros.']\n",
      "['a', 'joom', 'vende', 'eletrodomésticos', 'da', 'xiaomi!???', 'what']\n",
      "['@clairored', '@cherryminaswan', '@updatechartuc', 'meu', 'pai', 'usa', 'a', 'xiaomi,', 'e', 'não', 'é', 'melhor', 'em', 'termos', 'de', 'câmera', 'não,', 'a', 'bateria', 'é', 'bem', 'melhor,', 'mas', 'a', 'câmera', 'não']\n",
      "['esse', 'fone', 'sem', 'fio', 'da', 'xiaomi', 'vale', 'o', 'investimento?', 'tô', 'pensando', 'em', 'comprar', 'ele']\n",
      "['camera', 'lazarenta', 'de', 'ruim', 'tudo', 'embaçada', 'tnc', 'xiaomi']\n",
      "['xiaomi', 'mi', 'band', '5(aliexpress)', 'r$91,01', '(6x', 'sem', 'juros)', 'cupom:', 'realme12', 'cupom:', 'mibr12', 'cupons', 'de', 'primeira', 'compra', 'frete', 'grátis', 'https://t.co/8rcbvit3lg']\n",
      "['queria', 'tanto', 'sair', 'do', 'iphone', 'e', 'voltar', 'pro', 'xiaomi', '😏']\n",
      "['@flickerwallshs1', 'eu', 'com', 'eu', 'xiaomi', 'na', 'mão', '✊']\n",
      "['poco', 'x3', 'pro', 'está', 'mesmo', 'ao', 'virar', 'da', 'esquina', 'e,', 'as', 'suas', 'fotografias', 'vão', 'impressionar!', '#poco', '#xiaomi', '#pocox3pro', '@indiapoco', '@pocoglobal', 'https://t.co/kgf8ezk6el']\n",
      "['@baixinho04', 'o', 'meu', 'xiaomi', 'e', 'super', 'recomendo,', 'a', 'câmera', 'é', 'maravilhosa', 'e', 'o', 'desempenho', 'e', 'bateria', 'maravilhosos']\n",
      "['caraio', 'bateria', 'da', 'xiaomi', 'é', 'realmente', 'tudo', 'isso', 'que', 'dizem,', 'eu', 'venho', 'de', 'um', 'iphone', 'muito', 'mal', 'acostumado', 'mesmo']\n",
      "['cupom', 'aliexpress', 'cupom', 'de', 'primeira', 'compra', 'válido', 'para', 'vários', 'produtos', 'do', 'site', '$12(r$71,43)', 'em', 'compras', 'acima', 'de$20(r$119,05)', 'cupom:', 'mibr12', 'cupom:', 'realme12', 'https://t.co/mvejhnfwfm']\n",
      "['@juninhorufi', '@cherryminaswan', '@updatechartuc', 'nem', 'vem', 'com', 'essa', 'desculpa', 'de', 'câmera', 'não', 'pq', 'xiaomi', 'já', 'tá', 'dando', 'de', 'mil', 'a', 'zero', 'a', 'muitooo', 'tempo,', 'as', 'pessoas', 'compram', 'por', 'status', 'sim', 'pq', 'não', 'tem', 'nada', 'de', 'bom', 'nesse', 'celular']\n",
      "['@thayyshp', 'sim,', 'achei', 'um', 'xiaomi', 'em', 'conta', 'e', 'com', 'uma', 'bateria', 'estrondosa', 'poco', 'm3']\n",
      "['@elderdiaz__', '@xiaomi', 'es', 'como', 'huawei?']\n",
      "['@moltencs', '@guizin_y', 'lógico', 'tá', 'usando', 'um', 'xiaomi', 'mi', 'note', '2', '32gb', 'quer', 'oq']\n",
      "['@giubilugs', 'giubs,', 'tive', 'iphone', 'por', 'anos', 'aí', 'me', 'recusei', 'a', 'pagar', 'tão', 'caro', 'quando', 'tive', 'q', 'trocar', 'e', 'tô', 'usando', 'xiaomi,', 'não', 'tenho', 'reclamação', 'nenhuma', 'pra', 'fazer!!', 'dá', 'uma', 'olhada,', 'pra', 'mim', 'compensou', 'super']\n",
      "['@alacktic', 'muito', 'obrigado!', 'assim', 'que', 'meu', 'xiaomi', 'velho', 'de', 'guerra', 'recarregar', 'eu', 'vou', 'ver', 'se', 'mostrob', 'a', 'albânia,', 'outro', 'raro', 'país', 'que', 'ainda', 'recebe', 'brasileiros.']\n",
      "['xiaomi', 'black', 'shark', '4:', 'revelados', 'mais', 'pormenores', 'do', 'smartphone', 'gaming', 'https://t.co/cfbmydwqv5', 'https://t.co/ojonkia2d3']\n",
      "['2', 'anos', 'de', 'xiaomi', 'hj', 'e', 'o', 'bicho', 'ainda', 'não', 'tá', 'travando', 'os', '900', 'reais', 'mais', 'bem', 'gastos', 'da', 'minha', 'vida🤝']\n",
      "['eu', 'e', 'mais', '3', 'amigos', 'temos', 'xiaomi', 'e', 'todos', 'tem', 'o', 'mesmo', 'toque', 'e', 'som', 'de', 'notificação....', 'isso', 'é', 'difícil']\n",
      "['@thegoodvirgo_', '@g1', 'eu', 'vejo', 'que', 'cada', 'um', 'enfia', 'o', 'dinheiro', 'no', 'cu', 'de', 'várias', 'formas...', 'uma', 'dessas', 'formas', 'é', 'comprar', 'celular', 'sem', 'carregador', '(', 'e', 'não', 'tem', 'essa', 'de', 'apple', 'n.', 'xiaomi', 'e', 'samsung', 'tbm', 'fazem', 'isso', ')']\n",
      "['na', 'saga', 'atras', 'de', 'airdots', 'xiaomi', 'com', 'entrega', 'urgente', 'as', 'avaliaçoes', 'sao', 'metade', '⭐️⭐️⭐️⭐️⭐️', 'produto', 'original', 'excelente', 'super', 'recomendo', 'supriu', 'todas', 'as', 'expectativas', 'metade', '⭐️', 'pessimo', 'falsificado', 'cheio', 'de', 'ruído', 'pior', 'compra', 'da', 'minha', 'vida', 'em', 'uma', 'semana', 'o', 'fone', 'explodiu', 'no', 'meu', 'ouviso']\n",
      "['@juliocesarajr', 'kd', 'o', 'testemunha', 'da', 'xiaomi', 'agora']\n",
      "['usando', 'meu', 'celular', 'sem', 'recarregar', 'por', '12h', 'ininterruptas', 'e', 'ele', 'tá', '41%', 'sou', 'testemunha', 'de', 'xiaomi']\n",
      "['xiaomi', 'qualquer', 'coisa', 'kkkk', 'https://t.co/cvpkxhxlz4']\n",
      "['@zaumoraes', 'essa', 'da', 'sala', 'que', 'fica', 'quase', 'igual', 'a', 'música', 'é', 'xiaomi.', 'as', 'outras', 'positivo', 'haha']\n",
      "['xiaomi', 'miui', '12:', 'conheça', 'o', 'android', 'turbinado', 'dos', 'celulares', 'mi', 'e', 'redmi', '|', 'celular', '|', 'techtudo', 'https://t.co/9ikbac9e3c']\n",
      "['@10icarocaldas', 'poco', 'x3', 'nfc', '(subsidiária', 'da', 'xiaomi),', 'tem', 'erro', 'não', 'e', 'o', 'preço', 'é', 'de', 'intermediário']\n",
      "['thelma', 'original', 'xiaomi', 'mi', 'mochila', '10l', 'saco', '8', 'cores', '165g', 'urbano', 'lazer', 'esportes', 'peito', '🛍', 'loja:', '#aliexpress', '🏷️', '#cupom:', '10menos2', '💵', 'preço:', 'r$58,64', 'já', 'com', 'frete', 'e', 'seguro!', '💳', 'parcele', 'em', 'até', '6x', 'sem', 'juros!', '📲', 'link:', 'https://t.co/anpmh7vsoq', 'lojas', 'parceiras:', 'https://t.co/xqn5bnm5i3', 'https://t.co/mz4eorwzjf']\n",
      "['@izukc4l', 'mds', 'que', 'tristeza,', 'roubaram', 'meu', 'xiaomi']\n",
      "['19%', 'sem', 'carregador,', 'xiaomi', 'se', 'supera', 'e', 'guenta', 'até', '00h', 'pfv']\n",
      "['pelo', 'amor', 'de', 'deus', 'alguém', 'me', 'fala', 'se', 'vende', 'xiaomi', 'em', 'loja', 'física']\n",
      "['@n__evil', 'se', 'for', 'da', 'xiaomi', 'mesmo', 'tá', 'valendo', 'muito', 'a', 'pena,', 'pq', 'o', 'que', 'eu', 'tô', 'pensando', 'em', 'comprar', 'é', 'de', '30', 'reais', 'kkkkk']\n",
      "['quase', 'comprando', 'um', 'xiaomi,', 'mas', 'cadê', 'que', 'consigo', 'desapegar', 'de', 'iphone?']\n",
      "['por', 'isso', 'que', 'a', 'apple', 'é', 'filha', 'da', 'xiaomi', 'https://t.co/k0b3hskal0']\n",
      "['to', 'muito', 'puto', 'o', 'lixo', 'do', 'meu', 'xiaomi', 'começou', 'a', 'reiniciar', 'sozinho', 'do', 'nada']\n",
      "['bora', 'você', 'que', 'tem', 'um', 'xiaomi', 'vai', 'tomar', 'no', 'cu', 'rapidão']\n",
      "['@gabezitu', '@tasjessica', 'igual', 'a', 'xiaomi', 'está', 'fazendo!']\n",
      "['#provadoanjo🛒', 'xiaomi', 'mijia', '1c', '2', 'in', '1', 'smart', 'robot', 'vacuum', 'cleaner', 'mop', 'visual', 'dynamic', 'navigation', 'vslam,', '🛍', 'loja:', '#banggood', '💵', 'preço:', 'r$', '1588.42', '(já', 'incluso', 'o', 'frete!)', '💳', 'parcele', 'em', 'até', '12x', '📲', 'link:', 'https://t.co/a0vwxpou9n', 'lojas', 'parceiras:', 'https://t.co/xqn5bnm5i3', 'https://t.co/b29orjhoit']\n",
      "['@updatechartuc', 'espero', 'que', 'processe', 'a', 'xiaomi', 'por', 'vender', 'sem', 'fone', 'e', 'a', 'samsung', 'por', 'vender', 'os', 'notes', 'sem', 'as', 'ponteiras', '(da', 'caneta)', 'e', 'sem', 'carregador', 'e', 'fone', 'também.']\n",
      "['kkkkkkkeu', 'não', 'duvido', 'que', 'a', 'xiaomi', 'dê', 'essa', 'surra', 'de', 'obsolescências', 'não', 'programada', 'https://t.co/sbximbva2t']\n",
      "['samsung', 'meu', 'filho', 'pq', 'vc', 'ta', 'parecendo', 'xiaomi?']\n",
      "['@maiamore_', 'uso', 'xiaomi', 'e', 'é', 'bom']\n",
      "['@10icarocaldas', 'xiaomi,', 'comprei', 'o', 'meu', 'semana', 'passada']\n",
      "['a', 'xiaomi', 'é', 'incrível', 'mano', 'vsfd']\n",
      "['@g1', 'vai', 'multar', 'a', 'samsung', 'e', 'a', 'xiaomi', 'também?', 'que', 'já', 'estão', 'seguindo', 'essa', 'ideia?']\n",
      "['fiquei', 'doida', 'nesse', 'xiaomi', '🥺']\n",
      "['xiaomi', 'mi', 'band', '6:', 'primeira', 'imagem', 'real', 'apanhada', 'online', 'https://t.co/b06i6v1evs', 'https://t.co/lu8432khoz']\n",
      "['@cristianespina', '@humbertoismae14', '@g1', 'então...', 'não...', 'compra!!!!!', 'tem', 'a', 'samsung,', 'lg,', 'motorola,', 'xiaomi,', 'realme,', 'nokia,', 'positivo,', 'asus,', 'vivo,', 'huawei....', 'e', 'caralhadas', 'de', 'outras', 'marcas.', 'você', 'não', 'é', 'obrigada', 'a', 'comprar', 'um', 'iphone...', 'nesse', 'caso', 'você', 'tem', 'opções,', 'milhares', 'de', 'opções.']\n",
      "['@10icarocaldas', 'xiaomi', 'é', 'vida']\n",
      "['multa', 'a', 'xiaomi', 'também,', 'por', 'vender', 'celular', 'sem', 'fone', 'https://t.co/ya6ea3t9sv']\n",
      "['eu', 'passei', 'mais', 'de', 'ano', 'ouvindo', 'música', 'de', 'um', 'lado', 'só', 'pq', 'era', 'o', 'q', 'pegava', 'do', 'meu', 'xiaomi', 'falso', 'q', 'a', 'banggood', 'me', 'enviou,', 'agora', 'to', 'aqui', 'maravilhada', 'com', 'o', 'headphone', 'stereo', 'da', 'empresa', 'como', 'se', 'fosse', 'algo', 'inovador']\n",
      "['a', 'internet', 'voltou', 'mas', 'já', 'desinstalei', 'o', 'jogo', 'que', 'ódio', 'dessa', 'merda', 'de', 'telefone,', 'só', 'trava', 'essa', 'desgraça', 'xiaomi', 'sua', 'puta,', 'te', 'odeio.', 'vcs', 'me', 'prometeram', 'https://t.co/0xbsnjnmgr']\n",
      "['@assimdisseojoao', 'infelizmente', 'meu', 'xiaomi', 'não', 'tem', 'garantia', 'contra', 'exposição', 'a', 'radiação', 'desse', 'vacilo,', 'e', 'agora', 'pegou', 'câncer', 'online', ':(']\n",
      "['oq', 'será', 'que', 'o', 'fiona', 'xiaomi', 'ta', 'fazendo', 'agr']\n",
      "['@aliciabeninca', 'eu', 'antes', 'de', 'comprar', 'o', 'meu', 'ouvi', 'uma', 'glr', 'que', 'comprou', 'em', 'outras', 'lojas', '\"certas\"', 'reclamando', 'aí', 'preferi', 'n', 'arriscar', 'e', 'comprei', 'no', 'site', 'da', 'xiaomi', 'msm', 'nem', 'amazon', 'eu', 'arrisquei', 'pq', 'eh', 'o', 'vendedor', 'que', 'coloca', 'lá', 'né']\n",
      "['me', 'tornei', 'aquilo', 'que', 'mais', 'temia,', 'xau', 'xiaomi']\n",
      "['dei', 'um', 'xiaomi', 'pra', 'mamae', 'no', 'aniversário', 'dela', 'acho', 'q', 'ela', 'ainda', 'nao', 'precisou', 'colocar', 'p', 'carregar', 'slc']\n",
      "['@dundermilfs', 'aaaaa', 'sim,', 'o', 'meu', 'é', 'xiaomi']\n",
      "['@g1', 'depois', 'a', 'apple', 'sai', 'do', 'brasil', 'não', 'adianta', 'chorar', '😭😭😭😭😭😭', 'fodase', 'fico', 'com', 'meu', 'xiaomi', 'que', 'vem', 'com', 'carregador']\n",
      "['isso', 'q', 'da', 'fazer', 'live', 'em', 'xiaomi', 'https://t.co/bhwygvhttg']\n",
      "['3', 'pcs', '-', 'kuulaa', 'mini', 'usb', 'car', 'charger', 'quick', 'charge', '4.0', 'pd', '3.0', '36w', 'fast', 'charging', 'charger', 'for', 'iphone', 'huawei', 'xiaomi', 'mi', 'type', 'c', 'mobile', 'phone', '(aliexpress)', 'r$', '59,35', '(r$19,78', 'cada)', '(6x', 'sem', 'juros)', 'cupom:', '10menos2', 'frete', 'grátis', 'cód.', 'l', 'https://t.co/qywsq3ciln']\n",
      "['lançamento', 'eminente?', 'surgem', 'a', 'primeira', 'imagem', 'da', 'xiaomi', 'mi', 'band', '6', 'https://t.co/9bezw9dsg7']\n",
      "['@gui25br', 'lian', 'li', 'e', 'o', 'cara', 'vendendo', 'por', '700', 'conto,', 'acho', 'que', 'anuncio', 'não', 'durou', 'meia', 'hr.', 'tipo', 'quando', 'vendi', 'meu', 'primeiro', 'xiaomi', 'no', 'mercado', 'livre.']\n",
      "['te', 'cuida,', 'samsung:', 'vazam', 'imagens', 'do', 'futuro', 'celular', 'dobrável', 'da', 'xiaomi', 'https://t.co/igclfmdax8']\n",
      "['eu', 'coloquei', 'meu', 'xiaomi', 'na', 'tomada', 'as', '21h', 'e', 'fui', 'estudar,', 'terminei', 'agora,', 'já', 'está', 'em', '100%.', '(obs:', 'dura', 'ao', 'menos', '10h', 'de', 'uso', 'contínuo).', '🥵']\n",
      "['@mari_steyer', 'amiga', 'e', 'qnt', 'tá', 'os', 'telefones?', 'hahaha', 'queria', 'tanto', 'um', 'da', 'xiaomi']\n",
      "['meu', 'airdots', 'parou', 'de', 'funcionar', 'caralho', 'xiaomi', 'te', 'odeio']\n",
      "['@10icarocaldas', 'põe', 'mais', '200', 'reais', 'que', 'você', 'acha', 'um', 'note', '7', 'ou', '8', 'da', 'xiaomi.', 'bem', 'melhor']\n",
      "['tem', 'meia', 'hora', 'que', 'eu', 'tô', 'escutando', 'essa', 'música', 'no', 'volume', 'máximo', 'do', 'xiaomi', '(pra', 'quem', 'não', 'sabe', 'equivale', 'a', 'um', 'paredão', 'de', 'som)...', 'quem', 'vê', 'até', 'pensa', 'que', 'tô', 'festando']\n",
      "['@maiamore_', 'falaram', 'q', 'da', 'xiaomi', 'é', 'bom']\n",
      "['o', 'mi', 'car', 'pode', 'estar', 'saindo', 'da', 'garagem!', '#tecmundo', 'https://t.co/jsjdacufc3']\n",
      "['@trasdelrbd', 'xiaomi', 'uma', 'vez', 'no', 'dia']\n",
      "['@xdsfalicia', 'amiga', 'eu', 'era', 'cadelinha', 'da', 'xiaomi', 'voltei', 'pra', 'apple', 'e', 'hoje', 'agradeço', 'pq', 'nossa', 'os', 'jogos', 'rodam', 'melhor', 'kkkk']\n",
      "['@wollioti', '@mathmj', '@madunixs', 'xiaomi', 'é', 'mais', 'interessante', 'que', 'maçã']\n",
      "['minha', 'vontade', 'era', 'de', 'debuiar', 'o', 'cll', 'no', 'chão', 'não', 'comprem', 'xiaomi']\n",
      "['@comewitnessme', 'eu', 'não', 'comprei', 'mas', 'já', 'vi', 'várias', 'análises', 'e', 'recomendam', 'bastante', 'os', 'airdots', 'da', 'xiaomi']\n",
      "['xiaomi', 'note', '10', 'ou', 'o', 'galaxy', 'm51?🤔🤔']\n",
      "['poco', 'x3', 'pro:', 'loja', 'oficial', 'da', 'xiaomi', 'revela', 'todos', 'os', 'segredos', 'antes', 'da', 'apresentação', 'https://t.co/ywaq0tettq', 'https://t.co/kdpj3ky0ke']\n",
      "['xiaomi', 'poco', 'm3', '64gb', '4gb', 'ram', 'versão', 'global', 'preto', 'https://t.co/pnwwcctprl']\n",
      "['meu', 'deus', 'que', 'ódio', 'não', 'tem', 'nenhum', 'fone', 'da', 'xiaomi', 'que', 'seja', 'venda', 'nacional', 'tudo', 'demora', 'um', 'mês', 'pra', 'chegar']\n",
      "['@boleirogruno911', '@g1', 'noia', '🤝', 'apple', 'vender', 'smartphone', 'sem', 'carregador', 'noia', '🤝', 'samsung', 'vender', 'smartphone', 'sem', 'carregador', 'noia', '🤝', 'xiaomi', 'vender', 'smartphone', 'sem', 'carregador', 'noia', '🤝', 'lg', 'essa', 'aí', 'ngm', 'liga', 'todo', 'mundo', 'quer', 'que', 'acabe']\n",
      "['@madurezende12', '@lu2zyy', '@rreinaldoliv18', '@g1', 'não', 'é', 'pra', 'rir,', 'não', 'sou', 'a', 'favor', 'da', 'multa,', 'mas', 'tem', 'muita', 'informação', 'errada', 'gerada', 'aqui,', 'iphone', 'não', 'é', 'produzido', 'no', 'brasil', 'sendo', 'assim', 'não', 'tem', 'grande', 'diferença', 'em', 'qual', 'empresa', 'é', 'vendido,', 'o', 'micro', 'também', 'paga', 'impostos,', 'xiaomi', 'já', 'tinha', 'smartphone', 'aqui', 'antes', 'de', 'vim', 'oficialmente']\n",
      "['xiaomi', 'sdjqr01rr', 'vacuum,', 'w,', '55', 'décibels,', 'blanc', 'https://t.co/wpnmlc0nlw', '#robotsaspirateurs']\n",
      "['poco', 'x3', 'pro:', 'loja', 'oficial', 'da', 'xiaomi', 'deixa', 'escapar', 'especificações!', 'https://t.co/dizgwfzu4z', 'https://t.co/ktw2wsoimc']\n",
      "['@simplejcrz', 'poco', 'x3,', 'melhor', 'custo', 'benéfico', 'da', 'xiaomi', 'no', 'momento', 'ou', 'samsung', 'm51', 'bateria', 'infinita']\n",
      "['@anasemsal', 'não', 'é', 'do', 'cll,', 'é', 'dessa', 'merda', 'incompetente', 'dessa', 'xiaomi', 'fodeu', 'todo', 'o', 'celular,', 'era', 'uma', 'delícia', 'na', 'miui', '11', 'era', 'o', 'meu', 'orgulho,', 'mas', 'a', 'xiaomi', 'ta', 'conseguindo', 'foder', 'minha', 'vida,', 'coisa', 'que', 'eu', 'nunca', 'achei', 'que', 'fosse', 'fazer']\n",
      "['@zbstore', '@zhongpotter', '@henrycosmic', 'adm', 'nao', 'tenho', 'tiktok', 'e', 'nao', 'tenho', 'espaço', 'pra', 'baixar', 'pra', 'seguir', 'vcs', ':(', '(msm', 'q', 'tenha', '4gb', 'se', 'eu', 'baixo', 'mais', 'q', 'isso', 'meu', 'celular', 'trava', 'todo', 'xiaomi', 'vc', 'me', 'prometeu)', 'https://t.co/jtndyzqtga']\n",
      "['crlh', 'e', 'foda', 'achar', 'a', 'capa', 'pra', 'esse', 'xiaomi.👎🏾']\n",
      "['@laraanjito', 'tinha', 'que', 'ser', 'essa', 'máquina.', 'sou', 'fan', 'da', 'xiaomi,', 'mas', 'das', 'gamas', 'mais', 'baixas.']\n",
      "['@ferrisicaro', '@g1', 'xiaomi', 'vem', 'com', 'carregador', 'foda-se']\n",
      "['te', 'cuida,', 'samsung:', 'vazam', 'imagens', 'do', 'futuro', 'celular', 'dobr?vel', 'da', 'xiaomi', 'https://t.co/f7yos05wcg']\n",
      "['@guizisx', 'vc', 'não', 'tinha', 'um', 'xiaomi']\n",
      "['promoções', 'aliexpress', 'https://t.co/4tsfje3bxi', 'hoje', 'às', '21h', 'redragon', 'gw900', 'hd', 'webcam', 'r$154,03', 'cupom:sdcamera', 'https:', '//', 'https://t.co/ywkcuw715l', 'xiaomi', 'band', '5', 'r$58,65', 'cupom:sdmiband55', 'https://t.co/sl8mzbozbm', 'pincéis', 'de', 'maquiagem', 'r$71,09', 'cupom:sdmakeup', 'https://t.co/otnakf8hgf', 'https://t.co/6anuznnknb']\n",
      "['meu', 'irmão', 'tem', 'uma', 'lâmpada', 'da', 'xiaomi', 'e', 'quando', 'o', 'servidor', 'da', 'empresa', 'dele', 'cai', 'ela', 'fica', 'vermelha,', 'esse', 'desgraçado', 'tá', 'na', 'casa', 'da', 'namorada', 'e', 'essa', 'desgraça', 'já', 'caiu', 'duas', 'vezes', 'e', 'eu', 'não', 'sei', 'mais', 'se', 'é', 'o', 'servidor', 'ou', 'se', 'é', 'o', 'capeta', 'tirando', 'uma', 'comigo']\n",
      "['@luciglub', 'tudo', 'da', 'xiaomi', 'eh', 'bom', 'amiga']\n",
      "['@hugotiburcio_', 'veja', 'os', 'fones', 'da', 'xiaomi', 'e', 'haylou']\n",
      "['@thiamluz', 'xiaomi', 'mi', '8', 'lite,', 'não', 'tenho', 'com', 'tanta', 'frequência,', 'mas', 'já', 'me', 'ocorreu', 'tela', 'preta,', 'crash.', 'os', 'mais', 'frequentes', 'são', 'drop', 'rates,', 'trocar', 'a', 'arma', 'errada', 'ao', 'lootear,', 'desync,', 'grudar', 'em', 'paredes,', 'quinas,', 'mesmo', 'que', 'por', 'instantes', '(já', 'morri', 'por', 'conta', 'disso)...']\n",
      "['@jukeboxjnts', '@_lucast7', '@g1', 'a', 'xiaomi', 'sempre', 'vendeu', 'sem', 'fone,', 'é', 'da', 'cultura', 'das', 'empresas', 'chinesas.']\n",
      "['cupom', 'aliexpress', '$2(r$11,98)', 'em', 'compras', 'de', '$10(r$59,90)', 'cupom:', '10menos2', 'válido', 'para', 'todos', 'produtos', 'da', 'página:', 'https://t.co/dqmxujlwjd', 'https://t.co/lqrhhunwip']\n",
      "['essa', 'nova', 'atualização', 'da', 'xiaomi', 'tá', 'um', 'lixo', 'mermão']\n",
      "['desculpe', 'xiaomers,', 'mas', 'dropei', 'do', 'xiaomi', 'de', 'última', 'hora', 'pq', 'comecei', 'a', 'ver', 'vídeos', 'que', 'não', 'falavam', 'muito', 'bem,', 'fui', 'de', 'motorola', 'mesmo']\n",
      "['morre', 'redmi', 'xiaomi', 't', 'odeio', 'bomba', 'do', 'caralho']\n",
      "['@g1', 'comprem', 'um', 'xiaomi....', 'muito', 'melhor...']\n",
      "['@_lucast7', '@g1', 'a', 'xiaomi', 'vai', 'dar', 'opção', 'de', 'você', 'pegar', 'o', 'carregador', 'de', 'graça', ':)']\n",
      "['@amessymind', 'amiga!', 'iphone', 'em', '2021!!?!?!!', 'ios', 'é', 'tão', 'anos', '2015', '\\U0001f971\\U0001f971', 'hoje', 'a', 'juventude', 'descolada', 'só', 'quer', 'saber', 'da', 'xiaomi']\n",
      "['@rickbigode', '@thsouzareis', 'fora', 'que', 'xiaomi', 'é', 'muito', 'bom', 'mesmo.']\n",
      "['xiaomi', 'é', 'uma', 'giria', 'da', 'bahia', 'q', 'a', 'gente', 'usa', 'pra', 'algum', 'homem', 'que', 'está', 'reclamando/chorando.', 'ex:', '\"chia', 'demais', 'viu,', 'homi\"']\n",
      "['@ourswiftaylor', 'microfone', 'não', 'sei,', 'mas', 'airdots', 'da', 'xiaomi']\n",
      "['@mantovaniilah', 'pega', 'no', 'xiaomi', 'tbm', '😍']\n",
      "['essa', 'tour', 'de', 'foto', 'sem', 'filtro', 'n', 'serve', 'pra', 'mim', 'pq', 'n', 'uso', 'filtro', 'algum,', 'nunca', 'foi', 'deus', 'sempre', 'foi', 'a', 'camera', 'do', 'xiaomi']\n",
      "['@lottusdream', 'meu', 'celular', 'é', 'um', 'xiaomi', 'redmi', 'note', '8+', 'e', 'trava', 'muitooooooo,', 'não', 'tem', 'condições', 'de', 'jogar']\n",
      "['cauan🛒', 'xiaomi', 'mijia', 'ssxcq01xy', 'handheld', 'portable', 'handy', 'car', 'home', 'vacuum', 'cleaner', '120w', '13000pa', '🛍', 'loja:', '#banggood', '🏷', 'cupom:', 'bghkxmutr', '💵', 'preço:', 'r$', '323.63', '(já', 'incluso', 'o', 'frete!)', '💳', 'parcele', 'em', 'até', '12x', '📲', 'link:', 'https://t.co/uvcen8cd4s', 'lojas', 'parceiras:', 'https://t.co/xqn5bnm5i3', 'https://t.co/1wjjl3tjxz']\n",
      "['@maximffwanda', 'qual', 'eh', 'o', 'seu', 'xiaomi', 'amg?']\n",
      "['te', 'cuida,', 'samsung:', 'vazam', 'imagens', 'do', 'futuro', 'celular', 'dobr?vel', 'da', 'xiaomi', 'https://t.co/1fwv7hrcew', 'https://t.co/y3ubchbrjf']\n",
      "['lançamento', 'eminente?', 'surgem', 'a', 'primeira', 'imagem', 'da', 'xiaomi', 'mi', 'band', '6', 'há', 'algum', 'tempo', 'que', 'os', 'rumores', 'sobre', 'uma', 'nova', 'smartband', 'da', 'xiaomi', 'começaram', 'a', 'circular.', 'é', 'óbvio', 'que', 'esta', 'será', 'a', 'mi', 'band', '6,', 'que', 'dará', 'continuidade', 'ao', 'trabalho', 'que', 'a', 'marca', 'chinesa', 'tem...', 'https://t.co/wtuzux5hdr', 'https://t.co/p056ualvrg']\n",
      "['@rulhaa', 'ju', 'serio', 'eu', 'abomino', 'aquele', 'lugar', 'ele', 'chamando', 'o', 'visao', 'de', 'brincalhao', 'brincalhao', 'julia', 'o', 'xiaomi', 'em', 'forma', 'humana', 'alguem', 'tira', 'aquela', 'rede', 'social', 'do', 'ar']\n",
      "['@thaenarey', 'kkkkkkkkkkkkkkkk', 'socorro', 'muljer', 'nao', 'acredito', 'pelo', 'menos', 'foi', 'o', 'de', 'tras', '(inclusive,', 'qual', 'o', 'teu?', 'to', 'querendo', 'comprar', 'um', 'xiaomi)']\n",
      "['@cnnbrasil', 'um', 'telefone', 'bosta', 'com', 'configuração', 'de', 'moto', 'g9', 'em', 'quanto', 'tiver', 'otário', 'para', 'comprar', 'eles', 'vão', 'continuar', 'assim', 'tantas', 'opções', 'melhores', 'como', 'samsung', 's21', '/', 'xiaomi', 'mi', 'note', '10']\n",
      "['@bratzvert', 'e', 'eu', 'to', 'de', 'xiaomi', 'vulgo', 'xaolin']\n",
      "['@mateusgarcez12', '@idoug_', '@oliveiranandx', '@oh_matthh', '@lennonbossa_', 'de', 'xiaomi', 'pra', 'xiaomi', 'também', 'dá', 'pra', 'fazer', 'isso.']\n",
      "['@cat_tryna', 'xiaomi', 'redmi', 'note', '9', 'pro!!', '(na', 'semana', 'passada', 'saiu', 'o', 'redmi', 'note', '10', 'pro,', 'que', 'é', 'melhor', 'mas', 'um', 'bocado', 'mais', 'caro)']\n",
      "['gente', 'comprei', 'esse', 'fone', 'da', 'xiaomi', 'no', 'mercado', 'livre,', 'tá', 'pra', 'chegar', 'alguém', 'que', 'ja', 'tenha', 'comprado,', 'sabe', 'se', 'vale', 'a', 'pena?', 'https://t.co/tdydx1v6xk']\n",
      "['eu/', 'meu', 'sobrenome', 'maldita', 'câmera', 'xiaomi', 'que', 'deixa', 'tudo', 'cinza', 'kkkk', 'https://t.co/mvlszlllih', 'https://t.co/jordq2rtks']\n",
      "['o', 'aplicativo', 'padrao', 'de', 'video', 'do', 'xiaomi', 'tem', 'proteçao', 'contra', 'direitos', 'autorais', 'e', 'impede', 'alguns', 'videos', 'de', 'serem', 'reproduzidos/corta', 'o', 'áudio']\n",
      "['eu', 'quero', 'tanto', 'um', 'celular', 'novo', 'pq', 'esse', 'xiaomi', 'nao', 'ta', 'dando', 'mais,', 'mas', 'eu', 'to', 'com', 'pena', 'de', 'gastar', 'dinheiro']\n",
      "['que', 'multe', 'a', 'xiaomi', 'também,', 'ainda', 'não', 'superei', 'que', 'essas', 'desgraça', 'me', 'vendeu', 'um', 'fone', 'sem', 'carregador', 'https://t.co/aacum2etfg']\n",
      "['@boni_tic', 'tranquilo,', 'pô.', 'eu', 'pretendo', 'continuar', 'com', 'minha', 'webcam', '-', 'uma', 'logitech', 'c270', 'hd', '-', 'mas', 'mudar', 'o', 'microfone.', 'quando', 'uso', 'o', 'mic,', 'geralmente', 'é', 'com', 'um', 'headset', 'corsair', 'hs50.', 'fones', '-', 'quando', 'não', 'tô', 'usando', 'o', 'mic', '-', 'eu', 'intercalo', 'entre', 'um', 'akg', 'k92', 'e', 'um', 'kz', 'zsn.', 'e', 'tô', 'testando', 'xiaomi', 'redmi', 'airdots', '2.']\n",
      "['@ivanrodrigues09', '@fernandoferomal', 'não', 'necessariamente,', 'tem', 'adaptador,', 'ou', 'fones', 'bluetooth', 'né,', 'eu', 'uso', 'um', 'bluetooth', 'da', 'xiaomi', 'kkkk']\n",
      "['@10icarocaldas', 'xiaomi', 'é', 'bom', 'demais,', 'tenho', 'um', '9s', 'de', '128gb.', 'uma', 'nave!', 'mas', 'antes', 'tinha', 'um', 'note', '8,', 'o', 'custo', 'benefício', 'é', 'muito', 'bom.', 'e', 'está', 'na', 'faixa', 'de', 'preço', 'que', 'você', 'quer...']\n",
      "['@faelzinxntj', 'e', 'eu', 'aqui', 'sem', 'conseguir', 'jogar', 'sem', 'todos', 'os', 'pacotes', 'baixados', 'pq', 'meu', 'xiaomi', 'quase', 'não', 'roda', 'mais', 'freefire', '🤡🤡']\n",
      "['@euhenriquemarra', 'xiaomi', 'é', 'custo', 'e', 'benefício...', 'chega', 'ser', 'até', 'mais', 'barato', 'as', 'vezes', 'os', 'moto', 'g', 'e', 'melhores', '!']\n",
      "['comunista', 'mas', 'olha', 'meu', 'tenis', 'da', 'nike', 'casaco', 'da', 'adidas', 'e', 'celular', 'xiaomi', '🙈🤣🤑😝☝️', 'eu', 'amo', 'a', 'china']\n",
      "['amo', 'que', 'a', 'dona', 'xiaomi', 'é', 'daltônica', 'e', 'fica', 'invertendo', 'cor', 'eu', 'não', 'estou', 'mais', 'entendendo', 'isso', 'https://t.co/fkpmiikytj']\n",
      "['@94_lin3', 'amg', 'mesmo', 'que', 'samsung', 'seja', 'mais', 'barato,', 'não', 'vai', 'de', 'samsung,', 'vais', 'passar', 'mt', 'estresse,', 'procura', 'motorola', 'ou', 'xiaomi', 'e', 'vê', 'alguns', 'usados', 'em', 'bom', 'estado.']\n",
      "['@loud_jojo', '@loud_babi', 'mds', 'o', 'xiaomi', 'dele', 'é', 'igual', 'o', 'meu']\n",
      "['baiano', 'não', 'me', 'deu', 'um', 'xiaomi', 'de', 'presente', 'não', 'né', '😍😍📲']\n",
      "['@trasdelrbd', 'xiaomi', 'carrega', 'enquanto', 'durmo,', 'cerca', 'de', 'seis', 'a', 'sete', 'horas.', 'dura', 'o', 'dia', 'todo', 'e', 'eu', 'uso', 'muitoooooooooo']\n",
      "['@10icarocaldas', 'vai', 'pro', 'xiaomi', 'zé']\n",
      "['todo', 'dono', 'de', 'xiaomi', 'só', 'fala', 'bem', 'dele', 'no', 'primeiro', 'mês,', 'incrível']\n",
      "['@eivitorp', '@blogmalapink', '@g1', 'a', 'desculpa', 'que', 'a', 'apple', 'deu', 'para', 'não', 'dar', 'carregador', 'foi', 'questões', 'ecológicas,', 'mas', 'eles', 'vendem', 'separado', 'pra', 'quem', 'precisa,', 'então', 'o', 'que', 'faria', 'ais', 'sentido,', 'era', 'uma', 'opção', 'do', 'consumidor', 'levar', 'ou', 'não', 'o', 'carregador', 'se', 'nenhu', 'preço', 'adicional,', 'como', 'fez', 'a', 'xiaomi']\n",
      "['mano,', 'quero', 'morrer', 'com', 'esse', 'negócio', 'de', '\"twitter', 'for', 'android\",', 'não', 'poderia', 'ser', 'pelo', 'menos', 'twitter', 'for', 'galaxy,', 'twitter', 'for', 'xiaomi', 'sabe?', '😂😂😂']\n",
      "['nossa', 'mas', 'quem', 'e', 'este', 'gatinho', 'que', 'eu', 'vejo', 'na', 'tela', 'do', 'meu', 'xiaomi', 'https://t.co/omafx4yew0']\n",
      "['@biacalixtobb', 'eu', 'tenho', 'um', 'celular', 'relativamente', 'novo', 'chamado', 'redmi', 'note', '9', 'e', 'ele', 'já', 'veio', 'todo', 'bugado.', 'trava', 'horrores!', 'não', 'recomendo', 'xiaomi.', 'vou', 'acompanhar', 'pq', 'quero', 'um', 'cel', 'novo', 'tbm', 'kkkk']\n",
      "['o', 'relógio', 'da', 'xiaomi', 'foi', 'minha', 'melhor', 'aquisição', 'desse', 'ano']\n",
      "['@baixinho04', 'cara', 'a', 'xiaomi', 'tá', 'bem', 'legal', 'em', 'câmera', 'e', 'bateria,', 'sem', 'falar', 'no', 'desempenho...', 'eu', 'nem', 'vou', 'mexer', 'no', 'meu', 'celular,', 'vou', 'trocar', 'por', 'um', 'xiaomi', 'tbm']\n",
      "['@gellersfuck', 'o', 'xiaomi', 'da', '25', 'de', 'março']\n",
      "['@sabrinasteinke', 'kkkkkkkk', 'o', 'cabo', 'pra', 'carregar', 'mas', 'sem', 'o', 'carregador', 'muito', 'bom', 'nota', '0.', 'já', 'falei', 'pra', 'tu', 'vir', 'pro', 'lado', 'xiaomi', 'da', 'força', 'chefinha']\n",
      "['mutuals', 'qual', 'celular', 'eu', 'compro?', 'samsung,', 'xiaomi,', 'lg', 'ou', 'motorola?', 'iphone', 'ta', 'de', 'fora', 'pq', 'ainda', 'n', 'posso', 'https://t.co/lokowra0qe']\n",
      "['o', 'meu', 'xiaomi', 'permite', 'esconder', 'aplicativos', 'e', 'colocar', 'senha', 'neles,', 'além', 'de', 'ngm', 'ver', 'no', 'seu', 'celular', 'ngm', 'pode', 'entrar', 'kasdjkqwjas', 'socorro']\n",
      "['eu', 'amo', 'meu', 'xiaomi', 'mas', 'queria', 'um', 'iphone', 'rpa', 'tirar', 'ft', 'dos', 'meus', 'bolos']\n",
      "['xiaomi', 'e', 'diferenciado', 'mermo,', 'ultima', 'vez', 'que', 'carreguei', 'ele', 'foi', 'quarta']\n",
      "['sim', 'eu', 'sou', 'usuária', 'da', 'xiaomi', 'e', 'se', 'pudesse', 'usava', 'até', 'a', 'escova', 'elétrica', 'da', 'marca']\n",
      "['@______bona', 'eu', 'compraria', 'um', 'iphone', 'so', 'p', 'tira', 'foto', 'todo', 'android', 'q', 'eu', 'pego', 'a', 'camera', 'e', 'ruim', '(provavelmente', 'pq', 'xiaomi', 'e', 'samsung', 'q', 'sao', 'os', 'unicos', 'q', 'pego', 'e', 'de', 'marca', 'chinesa', 'entao', 'eles', 'fazem', 'issonde', 'clarear', 'a', 'pele', 'e', 'blabla)']\n",
      "['@simplejcrz', 'amiga', 'eu', 'sou', 'xiaominion', 'então', 'indico', 'xiaomi']\n",
      "['xiaomi', 'mi', '11', 'ultra', 'deve', 'ser', 'o', 'primeiro', 'a', 'contar', 'com', 'sensor', 'de', '50', 'mp', 'da', 'samsung', 'https://t.co/xvxusqmvds']\n",
      "['@rfaelhenriquee', 'xiaomi', 'da', 'um', 'pau', 'na', 'samsung', 'tô', 'te', 'falando']\n",
      "['não', 'me', 'adaptei', 'nada', 'com', 'iphone', 'prefiro', 'mil', 'vezes', 'meu', 'xiaomi', '😂']\n",
      "['@bruhercu', 'meu', 'xiaomi', 'tá', 'na', 'mão', '✋']\n",
      "['e', 'os', 'testemunhas', 'de', 'xiaomi', 'vão', 'a', 'loucura', 'https://t.co/aiyqjq65bj']\n",
      "['@alefassis44', 'sei', 'lá,', 'essa', 'desgraça', 'desconecta', 'toda', 'hora', 'do', 'meu', 'celular,', 'não', 'carrega', 'direito,', 'descarrega', 'rápido,', 'não', 'tem', 'conectividade', 'direito', 'com', 'meu', 'celular', 'que', 'também', 'é', 'xiaomi,', 'começo', 'a', 'pensar', 'que', 'comprei', 'essa', 'desgraça', 'pirata']\n",
      "['@marcosbretasfla', '@caesalpiniaechi', '😅😅😅😅😅😅....', 'então!', 'https://t.co/dzs2c6j1t0']\n",
      "['@claquinhax', 'pelo', 'que', 'eu', 'vi', 'aqui', 'no', 'meu', 'xiaomi,', 'da', 'sim,', 'é', 'aqui', 'oj']\n",
      "['quem', 'usa', 'xiaomi', 'aqui?']\n",
      "['🔥oferta', 'relâmpago', 'só', 'hoje🔥', '🛒suporte', 'do', 'tripé', 'de', 'nagnahz', '40', 'polegada', 'universal', 'fotografia', 'para', 'gopro', 'iphone', 'samsung', 'xiaomi', 'huawei', 'telefone', 'alumínio', '#aliexpress', 'comprar👉🏽https://t.co/36ygtkmtfu', '🏷️', '#cupom:', 'novo', 'usuário+phsduqh5', '🔥r$', '70,12🇧🇷', '🔥€', '8,63🇪🇺', '💳', 'em', 'até', '6x', 'sem', 'juros']\n",
      "['@evansmcavoy', 'eu', 'achei', 'que', 'compensou', 'muito', 'amiga,', 'tô', 'usando', 'pra', 'desenhar', 'no', 'meu', 'xiaomi', '(não', 'tenho', 'nada', 'da', 'apple)', 'e', 'nossa', 'incrível']\n",
      "['telegram🛒', 'xiaomi', 'redmi', 'nota', '10', '4gb', 'ram', '64gb/128gb', 'snapdragon', '678', '33w', 'amoled', 'display', '🛍', 'loja:', '#aliexpress', '#cupom:', 'não', 'precisa', '💵', 'preço:', 'r$', '1.184,53', 'já', 'com', 'frete', 'e', 'seguro!', '💳', 'parcele', 'em', 'até', '6x', 'sem', 'juros!', '📲', 'link:', 'https://t.co/ytawxyzvgb', 'lojas', 'parceiras:', 'https://t.co/xqn5bnm5i3', 'https://t.co/zbflfgvdtd']\n",
      "['@joohyunius', 'xiaomi', 'é', 'bom', 'amg??', 'tenho', 'que', 'trocar', 'o', 'meu', 'esse', 'ano']\n",
      "['@g1', 'pra', 'que', 'vou', 'querer', 'uma', 'desgraça', 'dessa', 'de', '7,8', 'mil', 'sem', 'carregador', 'fico', 'com', 'meu', 'xiaomi', 'basico', 'mesmo', 'tranquilo.']\n",
      "['@sanriofaggot', 'se', 'for', 'xiaomi/samsung', 'procuras', 'no', 'youtube', 'e', 'tem', 'tutoriais', 'para', 'fazer', 'isso,', 'como', 'para', 'fazer', 'do', 'insta', 'e', 'do', 'yt.', 'senão', 'crias', 'um', 'shortcut', 'da', 'mobile', 'web', 'version', 'do', 'twitter', 'e', 'ya']\n",
      "['@punkdodevops', 'detalhe', 'estou', 'usando', 'o', 'mesmo', 'xiaomi', 'há', '2', 'anos.', 'mi', 'mix', '2s.', 'na', 'linha', 'android', 'já', 'tive', 'motorola', 'e', 'samsung.', 'não', 'estou', 'arrependido']\n",
      "['#arthurescroto🛒', 'xiaomi', 'mijia', 'mini', 'aparador', 'de', 'nariz', 'elétrico', 'portátil', 'orelha', 'nariz', 'cabelo', '🛍', 'loja:', '#aliexpress', '🏷', 'cupom:', '10menos2', 'r$', '58,04', 'já', 'com', 'frete', 'e', 'seguro!', '💳', 'parcele', 'em', 'até', '6x', 'sem', 'juros!', '📲', 'link:', 'https://t.co/ltnzfto2ng', 'lojas', 'parceiras:', 'https://t.co/xqn5bnm5i3', 'https://t.co/4vo4mt1tff']\n",
      "['@tucked18', '@updatechartuc', 'ate', 'o', 'iphone', '5s', 'faz', 'fotos', 'melhores', 'que', 'trava-trava', 'dos', 'xiaomi', 'https://t.co/mu4b2ti2pe']\n",
      "['@mdstales', 'acho', 'q', 'é', 'mais', 'por', 'causa', 'das', 'testemunhas', 'de', 'xiaomi', '🤣']\n",
      "['eu', 'iphoner', 'em', '1000000', 'grupos', 'da', 'xiaomi', 'kkkkk', 'sofro', 'quando', 'leio', 'comentarios', 'sobre', 'a', 'bateria', 'do', 'iphone', 'pois', 'sofro', 'de', 'verdade', 'com', 'isso']\n",
      "['@yfx___', '@jessica41730172', '@alba2alba', '@thegoodvirgo_', '@g1', 'a', 'margem', 'de', 'lucro', 'da', 'xiaomi', 'por', 'exemplo', 'que', 'tem', 'celulares', 'baratos', 'é', 'de', '7%.', '2/']\n",
      "['o', 'lacre', 'por', 'cell', 'mdss,', 'e', 'fala', 'de', 'qualidade', 'quando', 'a', 'huawei', 'tem', 'literalmente', 'as', 'melhores', 'câmeras😭😭', 'isso', 'sem', 'contar', 'pixel,', 'sony,', 'samsung', 'vish', 'a', 'lista', 'é', 'grande', '(até', 'os', 'top', 'de', 'linha', 'da', 'xiaomi', 'tão', 'melhores😭)', 'https://t.co/ina2jbwpyr']\n",
      "['@gabrielhorner', 'ba,', 'que', 'massa!', 'qual', 'tu', 'comprou?', 'xiaomi?']\n",
      "['@decostaangelo', 'amigo', 'mas', 'tu', 'já', 'viu', 'a', 'câmera', 'de', 'um', 'xiaomi???']\n",
      "['cupons', 'aliexpress', 'funcionando', 'válido', 'para', 'os', 'produtos', 'dessa', 'página', 'https://t.co/4tsfje3bxi', 'u$5(r$29,62)', 'desconto', 'em', 'compras', 'de', 'u$35(r$207,34)', 'cupom:', 'sd355', 'u$12(r$71,08)', 'desconto', 'em', 'compras', 'de', 'u$99(r$586,47)', 'cupom:', 'sd9912', 'https://t.co/qvupqsv6hu', 'https://t.co/bitaeropvo']\n",
      "['📡', '🚀xiaomi', 'mi', '11', 'pro', 'e', 'mi', 'mix', '4', 'têm', 'detalhes', 'confirmados', 'em', 'certificação', '💡', '#zirigozagroup', '#e-commerce', '#marketing', '#enkil.es', '#8020', '🔔', 'https://t.co/ncsjq2z1w8']\n",
      "['quem', 'tem', 'celular', 'xiaomi', 'f1', 'que', 'tentou', 'hakear', 'meu', 'facebook', 'e', 'meu', 'instagram,', 'tente', 'novamente', '😘']\n",
      "['@ebsilva2015', '@luizfs22', 'realmente', 'esse', 'tipo', 'de', 'carregamento', 'começou', 'nos', 'top', 'de', 'linha!', 'de', '3', 'anos', 'pra', 'cá', 'começou', 'a', 'ser', 'implantados', 'mais', 'fortemente', 'nos', 'celulares', 'intermediários', 'premium', 'e', 'intermediários,', 'tá', 'começando', 'de', 'um', 'ano', 'pra', 'cá', 'a', 'chegar', 'nos', 'básicos', 'exclusivamente', 'por', 'parte', 'da', 'xiaomi!', '[...]']\n",
      "['@mari_chrry', 'esperando', 'aparecer', 'algum', 'idol', 'c', 'um', 'xiaomi', 'p', 'combinar', 'cmg', '💔']\n",
      "['@precisoviajar', 'eu', 'ñ', 'paro', 'de', 'pensar', 'nisso.', 'lembra', 'q', 'comentei', 'qnd', 'vc', 'comprou', 'a', 'balança', 'da', 'xiaomi', 'q', 'eu', 'tbm', 'estava', 'me', 'cuidando', 'e', 'tal.', 'eu', 'tava', 'treinando', 'tão', 'bem,', 'queimando', 'tanta', 'gordura,', 'peso', 'diminuindo,', 'alimentação', 'massa..', '😫😭', 'agora', 'deu', 'essa', 'brecada', 'e', 'eu', 'ainda', 'não', 'cheguei', 'onde', 'devo.', 'tá', 'foda.']\n",
      "['@isabella_nog', 'é', 'a', 'da', 'xiaomi?']\n",
      "['\"ah', 'mas', 'se', 'comprou', 'iphone', 'é', 'porque', 'tem', 'condições', 'pra', 'isso\",', 'meu', 'amor,', 'eu', 'passei', '1', 'ano', 'economizando', 'para', 'comprar', 'um', 'xiaomi,', 'imagina', 'o', 'povo', 'que', 'quer', 'um', 'iphone??', 'e', 'o', 'pior,', 'querer', 'o', 'iphone', 'e', 'ele', 'vir', 'sem', 'fone', 'e', 'carregador,', 'comprar', 'ambos', 'a', 'parte.', 'vocês', 'são', 'muito', 'burros.']\n",
      "['eu', 'não', 'creio', 'que', 'descobri', 'o', 'gesto', 'de', 'print', 'do', 'samsung', 'sem', 'querer', 'kkk', 'e', 'não', 'é', 'por', 'nada', 'não..', 'mas', 'a', 'samsung', 'precisa', 'aprender', 'sobre', '\"praticidade\"', 'com', 'a', 'xiaomi', 'kkkkkkkkkkkkkk']\n",
      "['@shouzichew', 'ei', 'tio', 'me', 'dá', 'um', 'xiaomi', 'de', 'presente', '🎁']\n",
      "['nem', 'a', 'mão', 'de', 'um', 'gigante', 'consegue', 'segurar', 'esse', 'celular', 'note', 'da', 'xiaomi', 'bicho']\n",
      "['mn,', 'celular', 'da', '#xiaomi', 'é', 'bom', 'para', 'foto', 'mas', 'para', 'vídeo', 'é', 'uma', 'merda🤦🏽\\u200d♂️']\n",
      "['qual', 'marca', 'do', 'seu', 'celular?', '—', 'xiaomi', 'mi', '9t', 'https://t.co/cudvhk604g']\n",
      "['@pretomathe', 'sdds', 'da', 'porra', 'do', 'finado', 'xiaomi']\n",
      "['@paidisanto', '@myrocklee', '@ddevilni', '@samhiddles_', '@calebefernandss', '@stylestme', 'enfia', 'esse', 'xiaomi', 'no', 'teu', 'rabo']\n",
      "['tem', 'como', 'bloquear', 'um', 'prefixo', 'no', 'xiaomi', 'e', 'ninguém', 'me', 'avisa', 'bloqueei', 'o', 'ddd', '11', 'e', 'agora', 'não', 'recebo', 'mais', 'as', '15', 'ligações', 'chatas', 'de', 'são', 'paulo', 'por', 'dia,', 'que', 'maravilha']\n",
      "['@daniel_miorim', 'só', 'concordo', 'com', 'a', 'parte', 'do', 'xiaomi', '&gt;&gt;&gt;&gt;', 'samsung']\n",
      "['xiaomi', 'devolve', 'meu', 'dinheiro', 'sua', 'cachorra']\n",
      "['disponível', 'para', 'samsung', 'e', 'xiaomi!', 'https://t.co/anrfqash5p']\n",
      "['@rrcristiano1', 'vou', 'mamar', 'o', 'dono', 'da', 'xiaomi', 'e', 'já', 'volto', 'aqui']\n",
      "['eu', 'chegando', 'whatsapp', 'que', 'eu', 'nem', 'conheço', 'super', 'tímida', 'pra', 'perguntar', 'iai', 'tu', 'tá', 'vendendo', 'xiaomi', '\\U0001f9cd🏼\\u200d♀️']\n",
      "['\"a', 'caoa', 'cherry,', 'de', 'carros,', 'pulou', 'da', '24ª', 'para', '11ª', 'posição', 'no', 'mercado', 'de', '2017', 'a', '2020.', 'a', 'xiaomi', 'já', 'está', 'entre', 'as', 'líderes', 'em', 'celulares', 'e,', 'há', 'menos', 'de', 'dois', 'meses,', 'chegou', 'ao', 'país', 'a', 'realme,', 'que', 'quer', 'estar', 'entre', 'as', 'principais', 'empresas', 'do', 'país', 'com', 'aparelhos', '5g.\"', 'https://t.co/3kyzagkkv3']\n",
      "['tu', 'quebrou', 'a', 'caneta', 'da', 'mesa', 'jogando', 'osu,', 'conseguiu', 'o', 'xiaomi', 'e', 'um', 'celular', 'falta', 'a', 'cadeira,', 'a', 'mesa', 'e', 'o', 'switch', 'https://t.co/n74zou9hmf']\n",
      "['te', 'cuida,', 'samsung:', 'vazam', 'imagens', 'do', 'futuro', 'celular', 'dobr?vel', 'da', 'xiaomi', 'https://t.co/md9ks0pvhg', 'https://t.co/no4cbq7znx']\n",
      "['gente,', 'decidi', 'que', 'vou', 'comprar', 'outro', 'celular.', 'deixe', 'aqui', 'sua', 'sugestão.', '-', 'r$1500', 'até', 'r$2500', '-', 'sem', 'ser', 'xiaomi', '-', 'sem', 'ser', 'motorola', '(definitivamente', 'não)', '-', 'gosto', 'de', 'espaço,', 'câmera', 'e', 'q', 'n', 'trave', 'pelo', 'amor', 'de', 'dios']\n",
      "['@juninhorufi', '@cherryminaswan', '@updatechartuc', 'se', 'você', 'só', 'acha', 'que', 'iphone', 'tem', 'câmera', 'boa,', 'me', 'desculpa', 'viu,', 'xiaomi,', 'samsung', '(tanto', 'a', 's', 'como', 'a', 'note)', 'e', 'a', 'sony,', 'são', 'do', 'mesmo', 'nível', '(as', 'vezes', 'até', 'superior)']\n",
      "['@andrepandelot', '@10icarocaldas', '@yasyasyaz', 'a', 'única', 'coisa', 'da', 'xiaomi', 'q', 'eu', 'não', 'curto', 'tnt', 'comparado', 'a', 'outros', 'aparelhos', 'é', 'a', 'câmera', '...não', 'sei', 'se', 'com', 'outros', 'tem', 'esse', 'percepção']\n",
      "['@nequitiascurra', '@kaynnanlopes', '@gabtiei', '@ferrisicaro', '@g1', 'o', 'mercado', 'se', 'autorregular', 'kkkkkkkkkk', 'serio?', 'quem', 'manda', 'são', 'os', 'grandes.', 'eu', 'acredito', 'no', 'pouca', 'interferência', 'sem', 'descartar', 'a', 'proteção', 'ao', 'consumidor.', 'ou', 'vc', 'acha', 'que', 'as', 'grandes', 'industrias', 'não', 'vão', 'aproveitar', 'oportunidades', 'para', 'se', 'darem', 'bem', 'https://t.co/tqbsjwhnpq.']\n",
      "['@betodecascais', 'xiaomi', 'é', 'melhor', 'moço']\n",
      "['aprecia', 'esta', 'versão,', '@lxstrxvxn', 'https://t.co/4gtwsoqdas']\n",
      "['@fabiojoose', '@tiagolordelo1', '@ferrisicaro', '@g1', 'se', 'nenhum', 'consumidor', 'aceita,', 'é', 'só', 'não', 'comprar,', 'se', 'ninguém', 'comprar', 'a', 'apple', 'vai', 'parar', 'de', 'fazer', 'isso', 'assim', 'como', 'a', 'xiaomi', 'tentou', 'fazer', 'mas', 'depois', 'que', 'levou', 'hate,', 'voltou', 'a', 'colocar', 'novamente', 'e', 'não', 'indo', 'no', 'papai', 'estado', 'obrigando', 'a', 'empresa', 'de', 'algo', 'que', 'ela', 'não', 'é', 'obrigada.']\n",
      "['deus,', 'eu', 'preciso', 'me', 'decidir.', 'um', 'poco', 'm3', 'ou', 'um', 'redmi', '9?', '#xiaomi']\n",
      "['@8marcelorodrigo', '@mathsnthnl', 'eu', 'e', 'meu', 'xiaomi', 'temos', 'um', 'relacionamento', 'super', 'abusivo.', 'ele', 'me', 'deixa', 'na', 'mão', 'quando', 'preciso', 'e', 'volta', 'quando', 'quer.', 'uma', 'hora', 'eu', 'largo', 'esse', 'ridículo...', '😆😆']\n",
      "['novos', 'topos', 'de', 'gama', 'da', 'xiaomi', 'acabam', 'de', 'ter', 'detalhes', 'confirmados', 'em', 'nova', 'certificação', '🔥', '#xiaomi', '#mi11pro', '#mi11ultra', '#mimix4', 'https://t.co/6c7k745h8b']\n",
      "['se', 'um', 'dia', 'eu', 'falei', 'mal', 'do', 'xiaomi,', 'eu', 'tava', 'muito', 'equivocada', 'celular', 'bom', 'da', 'porra']\n",
      "['@mathcaverna', 'ah', 'sim.', 'eu', 'parti', 'pro', 'lado', 'xiaomi', 'da', 'força', 'pq', 'tava', 'mais', 'barato', 'kkkkkk']\n",
      "['@santanasperces2', '@juninhorufi', '@cherryminaswan', '@updatechartuc', 'eu', 'uso', 'xiaomi', 'e', 'afirmo', 'que', 'sobre', 'qualidade', 'de', 'câmera', 'nenhum', 'cllr', 'está', 'acima', 'do', 'iphone']\n",
      "['so', 'qria', 'fancam', 'da', 'minha', 'rose', 'em', 'otg', 'seria', 'pedir', 'muito', 'xiaomi']\n",
      "['@clairored', '@cherryminaswan', '@updatechartuc', 'não', 'tem', 'nada', 'lá,', 'mas', 'enfim,', 'concordo', 'que', 'a', 'câmera', 'do', 'xiaomi', 'seja', 'bem', 'qualificada,', 'só', 'não', 'acho', 'melhor,', 'ao', 'menos', 'ainda']\n",
      "['@clairored', '@juninhorufi', '@cherryminaswan', '@updatechartuc', 'eu', 'tenho', 'o', '8', 'e', 'eu', 'posso', 'dizer', 'que', 'ele', 'é', 'muito', 'bom', 'nãe', 'importo', 'muito', 'com', 'câmera', 'pois', 'não', 'costumo', 'tirar', 'muitas', 'fotos,', 'eu', 'gosto', 'bastante', 'de', 'xiaomi,', 'aqui', 'em', 'casa', 'todo', 'mundo', 'tem', 'https://t.co/vgcdk6ii3y']\n",
      "['xiaomi', 'obrigado', 'por', 'essa', 'maravilha', 'de', 'fone', '❤️']\n",
      "['@chaech4e', 'uso', 'xiaomi', 'dos', 'mais', 'baratos', 'ainda', '💀💀💀', 'mas', 'é', 'um', 'celular', 'mto', 'bom,', 'meu', 'sonho', 'um', 'note', 'da', 'samsung', 'ou', 'esse', 'galaxy', 'novo', 'q', 'lançou']\n",
      "['veí', 'pq', 'nos', 'meus', 'recomendados', 'de', 'quem', 'seguir', 'apareceu', 'a', 'conta', 'oficial', 'da', 'xiaomi...?']\n",
      "['@kainanfranco', '@nn_carvalhosa', '@lucasdeour', '@g1', 'e', 'com', 'a', 'xiaomi', 'podem', 'escolher', ':)']\n",
      "['@silvioboy_', 'oferece', 'um', 'xiaomi', 'pra', 'ele']\n",
      "['@10icarocaldas', 'xiaomi', 'é', 'a', 'melhor']\n",
      "['derrubei', 'meu', 'celular', 'de', 'uma', 'altura', 'consideravelmente', 'alta', 'pra', 'um', 'celular', 'cair', 'e', 'quebrar,', 'e', 'bateu', 'no', 'meu', 'dedo,', 'mas', 'a', 'xiaomi', 'é', 'mais', 'fácil', 'quebrar', 'o', 'dedo', 'doq', 'o', 'celular,', 'e', 'olha', 'q', 'tá', 'sem', 'película', 'e', 'o', 'fundo', 'eh', 'de', 'vidro']\n",
      "['hoje,', 'em', 'pleno', '2021,', 'poucos', 'anos', 'depois', 'do', 'iphone', 'e', 'galaxy', 's', ',', 'xiaomi', 'mi', ',', 'a', 'gente', 'tem', 'que', 'torcer', 'pra', 'vir', 'com', 'carregador', 'na', 'caixa,', 'e', 'se', 'vier', 'já', 'é', 'motivo', 'de', 'satisfação.', 'infelizmente.']\n",
      "['cara,', 'eu', 'vou', 'ir', 'dnv', 'naquele', 'shopping', 'lá', 'nos', 'cafuné', 'de', 'são', 'paulo', 'só', 'pra', 'comprar', 'outro', 'fone', 'da', 'xiaomi', 'e', 'esse', 'a', 'chuva', 'nao', 'vai', 'levar!!!!!!!!!!!!!!!']\n",
      "['finalmente', 'a', 'xiaomi', 'tirou', 'essa', 'configuração', 'horrível', 'de', 'escurecer', 'os', 'prints']\n",
      "['@kitsuhitsuyy2', 'cadê', 'twitter', 'for', 'xiaomi']\n",
      "['o', 'vinicius', 'tá', 'rindo', 'da', 'minha', 'cara', 'pq', 'eu', 'to', 'procurando', 'celular', 'e', 'tava', 'tentado', 'ao', 'xiaomi,', 'mas', 'to', 'vendo', 'outro', 'e', 'nas', 'diferenças', 'eu', 'disse', '\"tem', 'barômetro\"', 'e', 'ele', 'começou', 'a', 'rir', 'pq', 'ontem', 'eu', 'tava', 'falando', 'que', 'queria', 'barômetro', 'pra', 'saber', 'as', 'altitudes', 'que', 'eu', 'to']\n",
      "['minha', 'mãe:', 'maldito', 'muai', 'thai', 'ela', 'quis', 'dizer', 'o', 'telefone', 'xiaomi', 'dela']\n",
      "['@yatisbored', '@juninhorufi', '@cherryminaswan', '@updatechartuc', 'o', 'foco', 'dessa', 'linha', 'não', 'é', 'câmera,', 'eu', 'estava', 'a', 'todo', 'momento', 'me', 'referindo', 'a', 'linha', 'mi', 'ex:', 'xiaomi', 'mi11', 'mais', 'informações', 'da', 'câmera:', 'https://t.co/uzyvajrwes']\n",
      "['celular,', 'relógio', 'e', 'airdots.', 'será', 'que', 'eu', 'gosto', 'da', 'xiaomi?', 'https://t.co/gf22eh6nby']\n",
      "['@jurislibertario', 'meio', 'complexo,', 'a', 'xiaomi', 'e', 'a', 'samsung', 'também', 'começaram', 'com', 'isso,', 'se', 'vira', 'uma', 'tendência', 'de', 'mercado', 'igual', 'os', 'fones', 'que', 'pararam', 'de', 'vir,', 'fica', 'difícil']\n",
      "['setecentos', 'pau', 'uma', 'barraca', 'da', 'xiaomi']\n",
      "['xiaomi', 'redmi', 'note', '9', 'vs', 'note', '9s', 'vs', 'note', '9', 'pro', '-', 'entenda', 'qual', 'o', 'melhor', 'pra...', 'https://t.co/9csrppijca', 'via', '@youtube']\n",
      "['@daniel_miorim', 'samsung', '&gt;', 'iphone', '&gt;', 'xiaomi.', 'já', 'tive', 'vários', 'modelos', 'das', '3', 'marcas']\n",
      "['agr', 'q', 'eu', 'tenho', 'um', 'xiaomi', 'eu', 'tenho', 'absoluta', 'certeza', 'q', 'eu', 'não', 'mudaria', 'por', 'nada', 'meu', 'deus', 'do', 'ceu', 'que', 'perfeição', 'de', 'configurações']\n",
      "['twitando', 'do', 'meu', 'novo', 'xiaomi,', 'chupa', 'iphone']\n",
      "['gente', 'acho', 'q', 'eu', 'quero', 'ter', 'um', 'iphone', 'dnv', 'cansei', 'de', 'xiaomi', 'mas', 'nao', 'quero', 'ter', 'q', 'pagar', 'por', 'um', 'iphone', 'ent', 'to', 'aceitando', 'de', 'presente', 'ok']\n",
      "['@judai___', 'sim,', 'era', 'só', 'um', 'bug', 'que', 'o', 'xiaomi', 'trava,', 'é', 'só', 'colocar', 'um', 'comando', 'e', 'reinicia']\n",
      "['@guilh_rmino', 'é', 'da', 'mesma', 'seita', 'que', 'os', 'embaixadores', 'de', 'apple', 'e', 'xiaomi']\n",
      "['@rafritasx', 'ish', 'pior', 'que', 'ja', 'vi', 'essa', 'reclamação', 'no', 'grupo', 'de', 'xiaomi', 'que', 'eu', 'to', 'no', 'facebook']\n",
      "['xiaomi', 'segue', 'na', 'justiça', 'para', 'perder', 'selo', 'de', \"'comunista’\", 'nos', 'eua', 'https://t.co/c6m2n1hurl', '#mercado']\n",
      "['meu', 'twitter', 'tá', 'travando', 'mais', 'do', 'que', 'tudo', 'xiaomi', 'vc', 'me', 'paga', 'seu', 'fudido']\n",
      "['os', 'emojis', 'no', 'xiaomi', 'fica', 'mt', 'feio', 'sdds', 'samsung']\n",
      "['\"ainnn', 'você', 'tá', 'com', 'inveja', 'de', 'quem', 'tem', 'um', 'iphone\"', 'amigão', 'vendi', 'o', 'meu,', 'não', 'botei,', 'nem', 'guardei', '1', 'centavo', 'e', 'peguei', 'meu', 'xiaomi...', 'kkkkkkk']\n",
      "['na', 'moralzinha', 'me', 'arrependo', 'fortemente', 'de', 'ter', 'comprado', 'um', 'xiaomi', 'comprei', 'um', 'redmi', 'note', '8', 'e', 'nao', 'é', 'nem', 'um', 'pouco', 'tudo', 'o', 'que', 'me', 'falaram']\n",
      "['@amessymind', 'oi..', 'vc', 'ja', 'ouviu', 'a', 'palavra', 'da', 'xiaomi?']\n",
      "['n', 'suporto', 'mais', 'por', 'o', 'celular', 'p', 'carregar', 'tres', 'vezes', 'ao', 'dia', 'vou', 'trocar', 'pelo', 'xiaomi', 'esse', 'carai']\n",
      "['acho', 'que', 'vou', 'comprar', 'um', 'xiaomi']\n",
      "['tô', 'quase', 'desistindo', 'de', 'comprar', 'o', 'xiaomi', 'redmi', 'note', '8', 'pra', 'comprar', 'o', 'xiaomi', 'redmi', 'note', '9']\n",
      "['@umpotiguar', 'eu', 'uso', 'o', 'da', 'minha', 'pulseira', 'da', 'xiaomi', 'mesmo', 'mas', 'essa', 'porra', 'não', 'marcou', 'hoje']\n",
      "['wang', 'yibo', 'me', 'dê', 'um', 'xiaomi', 'de', 'presente']\n",
      "['@lincos_rocha', '@kaynnanlopes', '@gabtiei', '@ferrisicaro', '@g1', 'o', 'que', 'eu', 'quero', 'dizer', 'é', 'que', 'a', 'obrigação', 'do', 'estado', 'não', 'é', 'interferir', 'na', 'economia,', 'julgando', 'que', 'o', 'livre', 'mercado', 'se', 'auto', 'regula', 'com', 'a', 'lei', 'de', 'oferta', 'e', 'demanda.', 'tem', 'a', 'apple', 'sem', 'carregador?', 'tem', 'a', 'xiaomi', 'botando', 'carregador']\n",
      "['vcs', 'acham', 'que', 'dá', 'pra', 'se', 'exercitar', 'com', 'os', 'airdots', 'da', 'xiaomi', 'ou', 'ele', 'vai', 'cair?']\n",
      "['@10icarocaldas', 'xiaomi.', 'muito', 'mais', 'pelo', 'custo', 'benefício.']\n",
      "['@baikal442', 'achetez', 'xiaomi']\n",
      "['xiaomi', 'cria', 'patente', 'para', 'a', 'sua', 'própria', 'stylus', 'https://t.co/heuprq5lrn', '...', '#apple', '#patentes', 'https://t.co/uimk7wjg5f']\n",
      "['pagar', 'youtube', 'premium', 'pra', 'ver', 'vídeos', 'em', 'segundo', 'plano', 'ou', 'com', 'a', 'tela', 'desligada?', 'meu', 'xiaomi', 'faz', 'isso', 'de', 'graça']\n",
      "['queria', 'trocar', 'meu', 'celular', 'num', 'xiaomi']\n",
      "['partícipe', 'do', 'sorteio', 'de', 'um', 'xiaomi', '9t', 'pro!', 'https://t.co/6ueossvbp6', '#xiaomi', '#sorteio', '#xiaomi9tpro', '#giveaway', '#smartphone', '#sorteo', 'https://t.co/ukfmnugemb']\n",
      "['alguém', 'sabe', 'dividir', 'tela', 'no', 'xiaomi', '9c?']\n",
      "['resetando', 'meu', 'celular', 'pq', 'a', 'xiaomi', 'é', 'uma', 'bomba', 'que', 'delicia']\n",
      "['@_b4rbara', 'só', 'na', 'da', 'xiaomi', 'ou', 'loja', 'especializada', 'em', 'celular', 'importado']\n",
      "['@zekyojn', '@4sirius', 'tava', 'falando', 'do', 'meu', 'xiaomi', 'ate', 'agr', 'agr', 'vem', 'c', 'essa', 'haaa', 'pare', 'nw']\n",
      "['@sangueiatino', 'do', 'xiaomi', 'tbm', 'quando', 'abro', 'o', 'celular', 'da', 'minha', 'mãe', 'viro', 'outra', 'pessoa']\n",
      "['amando', 'esse', 'negócio', 'de', 'carregar', 'o', 'celular', 'dia', 'sim', 'dia', 'não', 'né', 'a', 'xiaomi', 'segue', 'fazendo', 'tudo']\n",
      "['a', 'camera', 'do', 'xiaomi', 'tão', 'natural', 'como', 'a', 'luz', 'do', 'dia', 'https://t.co/0qvakdw2sb']\n",
      "['@costavictorg', '@ljoga', 'é', 'o', 'mi', 'fit,', 'ele', 'é', 'usado', 'qnd', 'vc', 'tem', 'uma', 'mi', 'band', 'que', 'consegue', 'pegar', 'o', 'qnt', 'vc', 'dorme,', 'anda,', 'seus', 'batimentos', 'cardíacos', 'e', 'essas', 'coisas.', 'é', 'uma', 'pulseira', 'inteligente', 'da', 'xiaomi.']\n",
      "['@txcbglow', 'é', 'da', 'balança', 'da', 'xiaomi']\n",
      "['@10icarocaldas', 'tenho', 'xiaomi', 'desde', '2017,', 'nunca', 'tive', 'problemas', 'e', 'tem', 'um', 'custo', 'benefício', 'muito', 'bom,', 'já', 'fiz', 'toda', 'minha', 'família', 'migrar', 'pra', 'xiaomi', 'kkkkkkkkkk']\n",
      "['pra', 'mim', 'quem', 'fala', 'q', 'xiaomi', 'é', 'melhor', 'q', 'iphone', 'é', 'retardado']\n",
      "['meu', 'carregador', 'tá', 'todo', 'fudido', 'mesmo', 'assim', 'não', 'para', 'de', 'funcionar', 'xiaomi', 'eu', 'te', 'amo']\n",
      "['@giopiterr', '@ljoga', 'é', 'um', 'app', 'pra', 'quem', 'tem', 'pulseira,', 'relógio', 'e', 'outras', 'coisas', 'da', 'xiaomi']\n",
      "['já', 'resetei', 'meu', 'airdots', '500', 'vezes', 'e', 'não', 'quer', 'sincronizar,', 'xiaomi', 'vc', 'me', 'prometeu', '🤡🤡']\n",
      "['@10icarocaldas', 'comprei', 'o', 'meu', 'primeiro', 'xiaomi', 'e', 'tô', 'gostando', 'bastante']\n",
      "['@d19niel', 'mano', 'comprei', 'um', 'sem', 'fio', 'da', 'xiaomi']\n"
     ]
    }
   ],
   "source": [
    "# Limpando as planilhas teste:\n",
    "            \n",
    "for tweet in range(len(test.Teste)):\n",
    "    tweet_test = cleanup(test.Teste[tweet]).split()\n",
    "    \n",
    "    print(tweet_test)           "
   ]
  },
  {
   "cell_type": "code",
   "execution_count": 327,
   "metadata": {},
   "outputs": [
    {
     "name": "stdout",
     "output_type": "stream",
     "text": [
      "Probabilidade de uma palavra pertencer a categoria RELEVANTE é de 0.2667.\n",
      "Probabilidade de uma palavra pertencer a categoria IRRELEVANTE é de 0.7333.\n"
     ]
    }
   ],
   "source": [
    "# Calculando as probabilidades das classificações dos Tweets:\n",
    "\n",
    "# 𝑃(𝐶𝑙𝑎𝑠𝑠𝑖𝑓𝑖𝑐𝑎çã𝑜) = ∑(𝑃𝑎𝑙𝑎𝑣𝑟𝑎𝑠 𝐷𝑎 𝐶𝑙𝑎𝑠𝑠𝑖𝑓𝑖𝑐𝑎çã𝑜) / ∑(𝑃𝑎𝑙𝑎𝑣𝑟𝑎𝑠 𝐷𝑜 𝑉𝑜𝑐𝑎𝑏𝑢𝑙á𝑟𝑖𝑜)\n",
    "\n",
    "P_relevante = len(palavras_relevante)/(len(palavras_relevante)+len(palavras_irrelevante))\n",
    "P_irrelevante =  len(palavras_irrelevante)/(len(palavras_relevante)+len(palavras_irrelevante))\n",
    "\n",
    "print(f'Probabilidade de uma palavra pertencer a categoria RELEVANTE é de {prob_relevante:.4g}.')\n",
    "print(f'Probabilidade de uma palavra pertencer a categoria IRRELEVANTE é de {prob_irrelevante:.4g}.')\n",
    "        "
   ]
  },
  {
   "cell_type": "code",
   "execution_count": 358,
   "metadata": {},
   "outputs": [
    {
     "ename": "KeyError",
     "evalue": "'@'",
     "output_type": "error",
     "traceback": [
      "\u001b[0;31m---------------------------------------------------------------------------\u001b[0m",
      "\u001b[0;31mTypeError\u001b[0m                                 Traceback (most recent call last)",
      "\u001b[0;32m~/opt/anaconda3/lib/python3.7/site-packages/pandas/core/indexes/base.py\u001b[0m in \u001b[0;36mget_value\u001b[0;34m(self, series, key)\u001b[0m\n\u001b[1;32m   4735\u001b[0m             \u001b[0;32mtry\u001b[0m\u001b[0;34m:\u001b[0m\u001b[0;34m\u001b[0m\u001b[0;34m\u001b[0m\u001b[0m\n\u001b[0;32m-> 4736\u001b[0;31m                 \u001b[0;32mreturn\u001b[0m \u001b[0mlibindex\u001b[0m\u001b[0;34m.\u001b[0m\u001b[0mget_value_box\u001b[0m\u001b[0;34m(\u001b[0m\u001b[0ms\u001b[0m\u001b[0;34m,\u001b[0m \u001b[0mkey\u001b[0m\u001b[0;34m)\u001b[0m\u001b[0;34m\u001b[0m\u001b[0;34m\u001b[0m\u001b[0m\n\u001b[0m\u001b[1;32m   4737\u001b[0m             \u001b[0;32mexcept\u001b[0m \u001b[0mIndexError\u001b[0m\u001b[0;34m:\u001b[0m\u001b[0;34m\u001b[0m\u001b[0;34m\u001b[0m\u001b[0m\n",
      "\u001b[0;32mpandas/_libs/index.pyx\u001b[0m in \u001b[0;36mpandas._libs.index.get_value_box\u001b[0;34m()\u001b[0m\n",
      "\u001b[0;32mpandas/_libs/index.pyx\u001b[0m in \u001b[0;36mpandas._libs.index.get_value_at\u001b[0;34m()\u001b[0m\n",
      "\u001b[0;32mpandas/_libs/util.pxd\u001b[0m in \u001b[0;36mpandas._libs.util.get_value_at\u001b[0;34m()\u001b[0m\n",
      "\u001b[0;32mpandas/_libs/util.pxd\u001b[0m in \u001b[0;36mpandas._libs.util.validate_indexer\u001b[0;34m()\u001b[0m\n",
      "\u001b[0;31mTypeError\u001b[0m: 'str' object cannot be interpreted as an integer",
      "\nDuring handling of the above exception, another exception occurred:\n",
      "\u001b[0;31mKeyError\u001b[0m                                  Traceback (most recent call last)",
      "\u001b[0;32m<ipython-input-358-a288d70d033b>\u001b[0m in \u001b[0;36m<module>\u001b[0;34m\u001b[0m\n\u001b[1;32m     10\u001b[0m \u001b[0;32mfor\u001b[0m \u001b[0mtweet\u001b[0m \u001b[0;32min\u001b[0m \u001b[0mtweet_test\u001b[0m\u001b[0;34m:\u001b[0m\u001b[0;34m\u001b[0m\u001b[0;34m\u001b[0m\u001b[0m\n\u001b[1;32m     11\u001b[0m     \u001b[0;32mfor\u001b[0m \u001b[0mpalavra\u001b[0m \u001b[0;32min\u001b[0m \u001b[0mtweet\u001b[0m\u001b[0;34m:\u001b[0m\u001b[0;34m\u001b[0m\u001b[0;34m\u001b[0m\u001b[0m\n\u001b[0;32m---> 12\u001b[0;31m         \u001b[0mP_palavra_dado_relevante\u001b[0m \u001b[0;34m*=\u001b[0m \u001b[0;34m(\u001b[0m\u001b[0mtabela_relevante\u001b[0m\u001b[0;34m[\u001b[0m\u001b[0mpalavra\u001b[0m\u001b[0;34m]\u001b[0m \u001b[0;34m+\u001b[0m \u001b[0;36m1\u001b[0m\u001b[0;34m)\u001b[0m\u001b[0;34m/\u001b[0m\u001b[0;34m(\u001b[0m\u001b[0;34m(\u001b[0m\u001b[0mlen\u001b[0m\u001b[0;34m(\u001b[0m\u001b[0mpalavras_relevante\u001b[0m\u001b[0;34m)\u001b[0m \u001b[0;34m+\u001b[0m \u001b[0;34m(\u001b[0m\u001b[0mlen\u001b[0m\u001b[0;34m(\u001b[0m\u001b[0mvocabulario\u001b[0m\u001b[0;34m)\u001b[0m\u001b[0;34m)\u001b[0m\u001b[0;34m)\u001b[0m\u001b[0;34m)\u001b[0m \u001b[0;31m# relevante\u001b[0m\u001b[0;34m\u001b[0m\u001b[0;34m\u001b[0m\u001b[0m\n\u001b[0m\u001b[1;32m     13\u001b[0m         \u001b[0mP_palavra_dado_irrelevante\u001b[0m \u001b[0;34m*=\u001b[0m \u001b[0;34m(\u001b[0m\u001b[0mtabela_irrelevante\u001b[0m\u001b[0;34m[\u001b[0m\u001b[0mpalavra\u001b[0m\u001b[0;34m]\u001b[0m \u001b[0;34m+\u001b[0m \u001b[0;36m1\u001b[0m\u001b[0;34m)\u001b[0m\u001b[0;34m/\u001b[0m\u001b[0;34m(\u001b[0m\u001b[0;34m(\u001b[0m\u001b[0mlen\u001b[0m\u001b[0;34m(\u001b[0m\u001b[0mpalavras_irrelevante\u001b[0m\u001b[0;34m)\u001b[0m \u001b[0;34m+\u001b[0m \u001b[0;34m(\u001b[0m\u001b[0mlen\u001b[0m\u001b[0;34m(\u001b[0m\u001b[0mvocabulario\u001b[0m\u001b[0;34m)\u001b[0m\u001b[0;34m)\u001b[0m\u001b[0;34m)\u001b[0m\u001b[0;34m)\u001b[0m \u001b[0;31m# irrelevante\u001b[0m\u001b[0;34m\u001b[0m\u001b[0;34m\u001b[0m\u001b[0m\n\u001b[1;32m     14\u001b[0m \u001b[0;34m\u001b[0m\u001b[0m\n",
      "\u001b[0;32m~/opt/anaconda3/lib/python3.7/site-packages/pandas/core/series.py\u001b[0m in \u001b[0;36m__getitem__\u001b[0;34m(self, key)\u001b[0m\n\u001b[1;32m   1066\u001b[0m         \u001b[0mkey\u001b[0m \u001b[0;34m=\u001b[0m \u001b[0mcom\u001b[0m\u001b[0;34m.\u001b[0m\u001b[0mapply_if_callable\u001b[0m\u001b[0;34m(\u001b[0m\u001b[0mkey\u001b[0m\u001b[0;34m,\u001b[0m \u001b[0mself\u001b[0m\u001b[0;34m)\u001b[0m\u001b[0;34m\u001b[0m\u001b[0;34m\u001b[0m\u001b[0m\n\u001b[1;32m   1067\u001b[0m         \u001b[0;32mtry\u001b[0m\u001b[0;34m:\u001b[0m\u001b[0;34m\u001b[0m\u001b[0;34m\u001b[0m\u001b[0m\n\u001b[0;32m-> 1068\u001b[0;31m             \u001b[0mresult\u001b[0m \u001b[0;34m=\u001b[0m \u001b[0mself\u001b[0m\u001b[0;34m.\u001b[0m\u001b[0mindex\u001b[0m\u001b[0;34m.\u001b[0m\u001b[0mget_value\u001b[0m\u001b[0;34m(\u001b[0m\u001b[0mself\u001b[0m\u001b[0;34m,\u001b[0m \u001b[0mkey\u001b[0m\u001b[0;34m)\u001b[0m\u001b[0;34m\u001b[0m\u001b[0;34m\u001b[0m\u001b[0m\n\u001b[0m\u001b[1;32m   1069\u001b[0m \u001b[0;34m\u001b[0m\u001b[0m\n\u001b[1;32m   1070\u001b[0m             \u001b[0;32mif\u001b[0m \u001b[0;32mnot\u001b[0m \u001b[0mis_scalar\u001b[0m\u001b[0;34m(\u001b[0m\u001b[0mresult\u001b[0m\u001b[0;34m)\u001b[0m\u001b[0;34m:\u001b[0m\u001b[0;34m\u001b[0m\u001b[0;34m\u001b[0m\u001b[0m\n",
      "\u001b[0;32m~/opt/anaconda3/lib/python3.7/site-packages/pandas/core/indexes/base.py\u001b[0m in \u001b[0;36mget_value\u001b[0;34m(self, series, key)\u001b[0m\n\u001b[1;32m   4742\u001b[0m                     \u001b[0;32mraise\u001b[0m \u001b[0mInvalidIndexError\u001b[0m\u001b[0;34m(\u001b[0m\u001b[0mkey\u001b[0m\u001b[0;34m)\u001b[0m\u001b[0;34m\u001b[0m\u001b[0;34m\u001b[0m\u001b[0m\n\u001b[1;32m   4743\u001b[0m                 \u001b[0;32melse\u001b[0m\u001b[0;34m:\u001b[0m\u001b[0;34m\u001b[0m\u001b[0;34m\u001b[0m\u001b[0m\n\u001b[0;32m-> 4744\u001b[0;31m                     \u001b[0;32mraise\u001b[0m \u001b[0me1\u001b[0m\u001b[0;34m\u001b[0m\u001b[0;34m\u001b[0m\u001b[0m\n\u001b[0m\u001b[1;32m   4745\u001b[0m             \u001b[0;32mexcept\u001b[0m \u001b[0mException\u001b[0m\u001b[0;34m:\u001b[0m  \u001b[0;31m# pragma: no cover\u001b[0m\u001b[0;34m\u001b[0m\u001b[0;34m\u001b[0m\u001b[0m\n\u001b[1;32m   4746\u001b[0m                 \u001b[0;32mraise\u001b[0m \u001b[0me1\u001b[0m\u001b[0;34m\u001b[0m\u001b[0;34m\u001b[0m\u001b[0m\n",
      "\u001b[0;32m~/opt/anaconda3/lib/python3.7/site-packages/pandas/core/indexes/base.py\u001b[0m in \u001b[0;36mget_value\u001b[0;34m(self, series, key)\u001b[0m\n\u001b[1;32m   4728\u001b[0m         \u001b[0mk\u001b[0m \u001b[0;34m=\u001b[0m \u001b[0mself\u001b[0m\u001b[0;34m.\u001b[0m\u001b[0m_convert_scalar_indexer\u001b[0m\u001b[0;34m(\u001b[0m\u001b[0mk\u001b[0m\u001b[0;34m,\u001b[0m \u001b[0mkind\u001b[0m\u001b[0;34m=\u001b[0m\u001b[0;34m\"getitem\"\u001b[0m\u001b[0;34m)\u001b[0m\u001b[0;34m\u001b[0m\u001b[0;34m\u001b[0m\u001b[0m\n\u001b[1;32m   4729\u001b[0m         \u001b[0;32mtry\u001b[0m\u001b[0;34m:\u001b[0m\u001b[0;34m\u001b[0m\u001b[0;34m\u001b[0m\u001b[0m\n\u001b[0;32m-> 4730\u001b[0;31m             \u001b[0;32mreturn\u001b[0m \u001b[0mself\u001b[0m\u001b[0;34m.\u001b[0m\u001b[0m_engine\u001b[0m\u001b[0;34m.\u001b[0m\u001b[0mget_value\u001b[0m\u001b[0;34m(\u001b[0m\u001b[0ms\u001b[0m\u001b[0;34m,\u001b[0m \u001b[0mk\u001b[0m\u001b[0;34m,\u001b[0m \u001b[0mtz\u001b[0m\u001b[0;34m=\u001b[0m\u001b[0mgetattr\u001b[0m\u001b[0;34m(\u001b[0m\u001b[0mseries\u001b[0m\u001b[0;34m.\u001b[0m\u001b[0mdtype\u001b[0m\u001b[0;34m,\u001b[0m \u001b[0;34m\"tz\"\u001b[0m\u001b[0;34m,\u001b[0m \u001b[0;32mNone\u001b[0m\u001b[0;34m)\u001b[0m\u001b[0;34m)\u001b[0m\u001b[0;34m\u001b[0m\u001b[0;34m\u001b[0m\u001b[0m\n\u001b[0m\u001b[1;32m   4731\u001b[0m         \u001b[0;32mexcept\u001b[0m \u001b[0mKeyError\u001b[0m \u001b[0;32mas\u001b[0m \u001b[0me1\u001b[0m\u001b[0;34m:\u001b[0m\u001b[0;34m\u001b[0m\u001b[0;34m\u001b[0m\u001b[0m\n\u001b[1;32m   4732\u001b[0m             \u001b[0;32mif\u001b[0m \u001b[0mlen\u001b[0m\u001b[0;34m(\u001b[0m\u001b[0mself\u001b[0m\u001b[0;34m)\u001b[0m \u001b[0;34m>\u001b[0m \u001b[0;36m0\u001b[0m \u001b[0;32mand\u001b[0m \u001b[0;34m(\u001b[0m\u001b[0mself\u001b[0m\u001b[0;34m.\u001b[0m\u001b[0mholds_integer\u001b[0m\u001b[0;34m(\u001b[0m\u001b[0;34m)\u001b[0m \u001b[0;32mor\u001b[0m \u001b[0mself\u001b[0m\u001b[0;34m.\u001b[0m\u001b[0mis_boolean\u001b[0m\u001b[0;34m(\u001b[0m\u001b[0;34m)\u001b[0m\u001b[0;34m)\u001b[0m\u001b[0;34m:\u001b[0m\u001b[0;34m\u001b[0m\u001b[0;34m\u001b[0m\u001b[0m\n",
      "\u001b[0;32mpandas/_libs/index.pyx\u001b[0m in \u001b[0;36mpandas._libs.index.IndexEngine.get_value\u001b[0;34m()\u001b[0m\n",
      "\u001b[0;32mpandas/_libs/index.pyx\u001b[0m in \u001b[0;36mpandas._libs.index.IndexEngine.get_value\u001b[0;34m()\u001b[0m\n",
      "\u001b[0;32mpandas/_libs/index.pyx\u001b[0m in \u001b[0;36mpandas._libs.index.IndexEngine.get_loc\u001b[0;34m()\u001b[0m\n",
      "\u001b[0;32mpandas/_libs/hashtable_class_helper.pxi\u001b[0m in \u001b[0;36mpandas._libs.hashtable.PyObjectHashTable.get_item\u001b[0;34m()\u001b[0m\n",
      "\u001b[0;32mpandas/_libs/hashtable_class_helper.pxi\u001b[0m in \u001b[0;36mpandas._libs.hashtable.PyObjectHashTable.get_item\u001b[0;34m()\u001b[0m\n",
      "\u001b[0;31mKeyError\u001b[0m: '@'"
     ]
    }
   ],
   "source": [
    "# Calculando as probabilidades de uma palavra ser de dada classificação\n",
    "\n",
    "# P(Tweet|Classificação) = P(Palavra1|Classificação)*P(Palavra2|Classificação)*P(Palavra3|Classificação)\n",
    "\n",
    "# P(Palavra|Classificação) = ∑(𝐴𝑝𝑎𝑟𝑖çõ𝑒𝑠 𝐷𝑎 𝑃𝑎𝑙𝑎𝑣𝑟𝑎)+1 / ∑(𝑃𝑎𝑙𝑎𝑣𝑟𝑎𝑠 𝐷𝑎 𝐶𝑙𝑎𝑠𝑠𝑖𝑓𝑖𝑐𝑎çã𝑜) + ∑(𝑃𝑎𝑙𝑎𝑣𝑟𝑎𝑠𝐷𝑜𝑉𝑜𝑐𝑎𝑏𝑢𝑙á𝑟𝑖𝑜)\n",
    " \n",
    "P_palavra_dado_relevante = 1\n",
    "P_palavra_dado_irrelevante = 1\n",
    "\n",
    "for tweet in tweet_test:\n",
    "    for palavra in tweet:\n",
    "        P_palavra_dado_relevante *= (tabela_relevante[palavra] + 1)/((len(palavras_relevante) + (len(vocabulario)))) # relevante\n",
    "        P_palavra_dado_irrelevante *= (tabela_irrelevante[palavra] + 1)/((len(palavras_irrelevante) + (len(vocabulario)))) # irrelevante          \n",
    "    \n",
    "#print(f'Probabilidade de um tweet pertencer a categoria RELEVANTE é de {prob_tweet_dado_relevante:.4g}.')\n",
    "#print(f'Probabilidade de um tweet pertencer a categoria IRRELEVANTE é de {prob_tweet_dado_irrelevante:.4g}.')"
   ]
  },
  {
   "cell_type": "code",
   "execution_count": 329,
   "metadata": {},
   "outputs": [],
   "source": [
    "# 𝑃(𝐶𝑙𝑎𝑠𝑠𝑖𝑓𝑖𝑐𝑎çã𝑜|𝑇𝑤𝑒𝑒𝑡)=𝑃(𝑃𝑎𝑙𝑎𝑣𝑟𝑎|𝐶𝑙𝑎𝑠𝑠𝑖𝑓𝑖𝑐𝑎çã𝑜)∗𝑃(𝐶𝑙𝑎𝑠𝑠𝑖𝑓𝑖𝑐𝑎çã𝑜)\n",
    "\n",
    "def NaiveBayes(tweet):\n",
    "    P_relevante_dado_tweet = P_palavra_dado_relevante(tweet) * P_relevante\n",
    "    P_irrelevante_dado_tweet = P_palavra_dado_irrelevante(tweet) * P_irrelevante\n",
    "    \n",
    "    P_lista = [P_relevante_dado_tweet,\n",
    "               P_irrelevante_dado_tweet]\n",
    "    \n",
    "    return P_lista.index(max(P_lista))\n",
    "    \n",
    "    # As probabilidade são guardadas em uma lista, para assim, retornar o maior valor dela\n",
    "\n",
    "    \n",
    "    #Já que a lista está ordenada de acordo com as categorias, o index da maior probabilidade será a própria classificação\n",
    "    return P_lista.index(max(P_lista))"
   ]
  },
  {
   "cell_type": "code",
   "execution_count": 330,
   "metadata": {},
   "outputs": [
    {
     "ename": "TypeError",
     "evalue": "'int' object is not callable",
     "output_type": "error",
     "traceback": [
      "\u001b[0;31m---------------------------------------------------------------------------\u001b[0m",
      "\u001b[0;31mTypeError\u001b[0m                                 Traceback (most recent call last)",
      "\u001b[0;32m<ipython-input-330-d1d453e0aa14>\u001b[0m in \u001b[0;36m<module>\u001b[0;34m\u001b[0m\n\u001b[1;32m      1\u001b[0m \u001b[0mtest\u001b[0m\u001b[0;34m.\u001b[0m\u001b[0mloc\u001b[0m\u001b[0;34m[\u001b[0m\u001b[0;34m:\u001b[0m\u001b[0;34m,\u001b[0m \u001b[0;34m'Previsão'\u001b[0m\u001b[0;34m]\u001b[0m \u001b[0;34m=\u001b[0m \u001b[0;36m0\u001b[0m\u001b[0;34m\u001b[0m\u001b[0;34m\u001b[0m\u001b[0m\n\u001b[1;32m      2\u001b[0m \u001b[0;32mfor\u001b[0m \u001b[0mtweet\u001b[0m \u001b[0;32min\u001b[0m \u001b[0mrange\u001b[0m\u001b[0;34m(\u001b[0m\u001b[0mlen\u001b[0m\u001b[0;34m(\u001b[0m\u001b[0mtest\u001b[0m\u001b[0;34m)\u001b[0m\u001b[0;34m)\u001b[0m\u001b[0;34m:\u001b[0m\u001b[0;34m\u001b[0m\u001b[0;34m\u001b[0m\u001b[0m\n\u001b[0;32m----> 3\u001b[0;31m     \u001b[0mtest\u001b[0m\u001b[0;34m.\u001b[0m\u001b[0miloc\u001b[0m\u001b[0;34m[\u001b[0m\u001b[0mi\u001b[0m\u001b[0;34m,\u001b[0m\u001b[0;36m2\u001b[0m\u001b[0;34m]\u001b[0m \u001b[0;34m=\u001b[0m \u001b[0mNaiveBayes\u001b[0m\u001b[0;34m(\u001b[0m\u001b[0mtest\u001b[0m\u001b[0;34m.\u001b[0m\u001b[0mTeste\u001b[0m\u001b[0;34m[\u001b[0m\u001b[0mi\u001b[0m\u001b[0;34m]\u001b[0m\u001b[0;34m)\u001b[0m\u001b[0;34m\u001b[0m\u001b[0;34m\u001b[0m\u001b[0m\n\u001b[0m\u001b[1;32m      4\u001b[0m \u001b[0;34m\u001b[0m\u001b[0m\n\u001b[1;32m      5\u001b[0m \u001b[0mtest\u001b[0m\u001b[0;34m.\u001b[0m\u001b[0mhead\u001b[0m\u001b[0;34m(\u001b[0m\u001b[0;36m10\u001b[0m\u001b[0;34m)\u001b[0m\u001b[0;34m\u001b[0m\u001b[0;34m\u001b[0m\u001b[0m\n",
      "\u001b[0;32m<ipython-input-329-ff3b6d374c70>\u001b[0m in \u001b[0;36mNaiveBayes\u001b[0;34m(tweet)\u001b[0m\n\u001b[1;32m      2\u001b[0m \u001b[0;34m\u001b[0m\u001b[0m\n\u001b[1;32m      3\u001b[0m \u001b[0;32mdef\u001b[0m \u001b[0mNaiveBayes\u001b[0m\u001b[0;34m(\u001b[0m\u001b[0mtweet\u001b[0m\u001b[0;34m)\u001b[0m\u001b[0;34m:\u001b[0m\u001b[0;34m\u001b[0m\u001b[0;34m\u001b[0m\u001b[0m\n\u001b[0;32m----> 4\u001b[0;31m     \u001b[0mP_relevante_dado_tweet\u001b[0m \u001b[0;34m=\u001b[0m \u001b[0mP_palavra_dado_relevante\u001b[0m\u001b[0;34m(\u001b[0m\u001b[0mtweet\u001b[0m\u001b[0;34m)\u001b[0m \u001b[0;34m*\u001b[0m \u001b[0mP_relevante\u001b[0m\u001b[0;34m\u001b[0m\u001b[0;34m\u001b[0m\u001b[0m\n\u001b[0m\u001b[1;32m      5\u001b[0m     \u001b[0mP_irrelevante_dado_tweet\u001b[0m \u001b[0;34m=\u001b[0m \u001b[0mP_palavra_dado_irrelevante\u001b[0m\u001b[0;34m(\u001b[0m\u001b[0mtweet\u001b[0m\u001b[0;34m)\u001b[0m \u001b[0;34m*\u001b[0m \u001b[0mP_irrelevante\u001b[0m\u001b[0;34m\u001b[0m\u001b[0;34m\u001b[0m\u001b[0m\n\u001b[1;32m      6\u001b[0m \u001b[0;34m\u001b[0m\u001b[0m\n",
      "\u001b[0;31mTypeError\u001b[0m: 'int' object is not callable"
     ]
    }
   ],
   "source": [
    "test.loc[:, 'Previsão'] = 0\n",
    "for tweet in range(len(test)):\n",
    "    test.iloc[i,2] = NaiveBayes(test.Teste[i])\n",
    "\n",
    "test.head(10)"
   ]
  },
  {
   "cell_type": "markdown",
   "metadata": {},
   "source": [
    "___\n",
    "### Verificando a performance do Classificador\n",
    "\n",
    "Agora você deve testar o seu classificador com a base de Testes."
   ]
  },
  {
   "cell_type": "code",
   "execution_count": 300,
   "metadata": {},
   "outputs": [
    {
     "name": "stdout",
     "output_type": "stream",
     "text": [
      "Acurácia do Modelo:  0.0 %\n"
     ]
    }
   ],
   "source": [
    "\n",
    "acuracia=np.sum(test['Previsão']==test['Classificação'])/test.Classificação.shape[0]\n",
    "\n",
    "print (\"Acurácia do Modelo: \",acuracia*100,\"%\")"
   ]
  },
  {
   "cell_type": "code",
   "execution_count": null,
   "metadata": {},
   "outputs": [],
   "source": []
  },
  {
   "cell_type": "code",
   "execution_count": null,
   "metadata": {},
   "outputs": [],
   "source": []
  },
  {
   "cell_type": "code",
   "execution_count": null,
   "metadata": {},
   "outputs": [],
   "source": []
  },
  {
   "cell_type": "markdown",
   "metadata": {},
   "source": [
    "## Porque não posso alimentar minha base de Treinamento automaticamente usando o próprio classificador, aplicado a novos tweets?"
   ]
  },
  {
   "attachments": {},
   "cell_type": "markdown",
   "metadata": {},
   "source": [
    "Por se tratar de um classificador com duas etapas, a primeira na qual se desenvolve o modelo e ajusta seus parâmetros de acordo com a amostra de treinamento e a segunda sendo o teste de performance do modelo, comparando a nova amostra de teste com a de treinamento, é inviável obter uma nova amostra de treinamento com o classificador, pois a classe de treinamento é a base dos parâmetros do classificador.\n"
   ]
  },
  {
   "cell_type": "markdown",
   "metadata": {},
   "source": [
    "## Diferentes cenários de uso para o classificador Naive-Bayes:"
   ]
  },
  {
   "cell_type": "markdown",
   "metadata": {},
   "source": [
    "##### Classificar um e-mail como spam ou não;\n",
    "\n",
    "##### Calcular as probabilidades em cima de diagnóstico de doenças;\n",
    "\n",
    "##### Classificar o sentimento transmitido por um tweet;\n"
   ]
  },
  {
   "cell_type": "markdown",
   "metadata": {},
   "source": [
    "## Possíveis melhorias para o classificador Naive-Bayes:"
   ]
  },
  {
   "attachments": {},
   "cell_type": "markdown",
   "metadata": {},
   "source": [
    "#### Utilizar probabilidades logarítmicas\n",
    "Usar logaritmos, para facilitar na hora do cálculo e evitar problemas de erro de multiplicação e ou divisão, por usarmos números muito pequenos, e eventualmente excedendo a capacidade do computador de fazer estas operações.\n",
    "\n",
    "Para evitarmos trabalhar com números muito pequenos, podemos utilizar a probabilidade logaritmica (logaritmo das valores de probabilidade)\n",
    "\n",
    "A função logaritmica mapeia os valores da probabilidade, em um range de (0, 1) a (-\\inf, 0] range. \n",
    "\n",
    "Precisamos lembrar que as operações de multiplicação viram somas quando trabalhamos com funções logaritmicas. Por isso, pegar o logaritmo da equação inteira nos retorna:\n",
    "\n",
    "$$log(P(Ci|A)) = P(∑log(P(aj|Ci))*log(P(Ci)\\hspace{3cm}\\$$\n",
    "\n",
    "Esse método de mapeamento funciona o Naive Bayes pois, para classificar precisamos saber qual categoria possui a maior probabilidade em vez de procurar o valor especifico daquela probabilidade. Utilizar o logaritmo não vai mudar a ordem dos scores de probabilidade das categorias. Assim, ainda podemos decidir qual classe possui a maior probabilidade de acontecer. \n",
    "\n",
    "#### Utilizar outras distribuições:\n",
    "Para fazer o uso do Método de Naive Bayes com variáveis qualitativas, fazemos o cálculo da frequência observada para cada uma das variáveis.\n",
    "\n",
    "Porém, se quisessemos utilizar variáveis quantitativas para montar o nosso classificador, poderiamos utilizar a Gaussian distribution para descobrir a densidade de cada variável. Ou, dependendo da disposição dos dados que você deseja observar, poderia utilizar outras funções que descrevam melhor essa disposição, como a exponencial.\n",
    "\n",
    "#### Remover features correlacionadas\n",
    "\n",
    "As features, quando altamente correlacionadas, são contadas duas vezes no modelo. Essas contagens duplas levam para uma super estimação da importância dessas features. Assim, a performance do classificador Naive Bayes diminui.\n",
    "\n",
    "Precisamos eliminar a correlação das features, e assumir que elas são independentres. Para detectar e eliminar tais correlações, podemos utilizar uma matriz de correlação para comparar as duplas correlacionadas.\n",
    "\n",
    "De outra forma, podermos fazer a seleção das features baseada em sua probabilidade. Assim, podemos explorar as probabilidades combinadas de diferentes features, e tentar entender a predição delas na variável final.\n",
    "\n",
    "No Python, podemos utilizar a biblioteca Seaborn para plotar mapas de correlação (heatmaps) e mapas de hierarquia de correlação, baseados na similaridade de linhas e colunas do dataset.\n",
    "\n",
    "#### \n",
    "\n"
   ]
  },
  {
   "cell_type": "markdown",
   "metadata": {},
   "source": [
    "___\n",
    "### Concluindo\n",
    "\n",
    "Faça um comparativo qualitativo sobre os percentuais obtidos para que possa discutir a\n",
    "performance do seu classificador.\n",
    "\n",
    "Explique como são tratadas as mensagens com dupla negação e sarcasmo.\n",
    "\n",
    "Proponha um plano de expansão. Por que eles devem continuar financiando o seu projeto?"
   ]
  },
  {
   "cell_type": "markdown",
   "metadata": {},
   "source": [
    "##### Faça um comparativo qualitativo sobre os percentuais obtidos para que possa discutir a performance do seu classificador."
   ]
  },
  {
   "cell_type": "markdown",
   "metadata": {},
   "source": [
    "##### Explique como são tratadas as mensagens com dupla negação e sarcasmo\n",
    "\n",
    "Uma parte fundamental que pode explicar a baixa eficácia do nosso modelo é justamente a grande presença de mensagens\n",
    "com tom de ironia ou sarcasmo, pois nesses tweets, aparecem palavras que normalmente seriam encontradas em tweets relevantes, porém não especificam nenhum sentimento real do cliente a respeito dos produtos da marca."
   ]
  },
  {
   "cell_type": "markdown",
   "metadata": {},
   "source": [
    "##### Proponha um plano de expansão. Por que eles devem continuar financiando o seu projeto?\n",
    "\n",
    "Levando em consideração a importância que a análise de dados possui na pesquisa de mercado e na pesquisa de satisfação dos clientes com os produtos ofertados pela empresa, é de extrema importância que eles se envolvam cada vez mais no desejo dos clientes, e também nos problemas que eles possam relatar sobre os produtos.\n",
    "\n",
    "Por isso, com um empenho maior em produzir um Classificador com uma melhor performance, e que consiga filtrar grande parte dos tweets de menor relevância para poder focar nos tweets de maior relevância, além de ter uma atualização periódica dos dados e um dataframe mais abrangente ,acredito que a Xiaomi Brasil deveria continuar investindo na pesquisa da sua área de mercado para focar no sentimento dos seus clientes em relação aos produtos desenvolvidos e comercializados pela empresa."
   ]
  },
  {
   "cell_type": "markdown",
   "metadata": {},
   "source": [
    "___\n",
    "### Qualidade do Classificador a partir de novas separações dos tweets entre Treinamento e Teste\n",
    "\n",
    "Caso for fazer esse item do Projeto"
   ]
  },
  {
   "cell_type": "code",
   "execution_count": 258,
   "metadata": {},
   "outputs": [],
   "source": [
    "train = pd.read_excel(filename, sheet_name = 'Treinamento')\n",
    "test = pd.read_excel(filename, sheet_name = 'Teste')\n",
    "\n",
    "train['Tweets'] = train.Treinamento\n",
    "train.Tweets\n",
    "test['Tweets'] = test.Teste"
   ]
  },
  {
   "cell_type": "code",
   "execution_count": 263,
   "metadata": {},
   "outputs": [
    {
     "data": {
      "text/html": [
       "<div>\n",
       "<style scoped>\n",
       "    .dataframe tbody tr th:only-of-type {\n",
       "        vertical-align: middle;\n",
       "    }\n",
       "\n",
       "    .dataframe tbody tr th {\n",
       "        vertical-align: top;\n",
       "    }\n",
       "\n",
       "    .dataframe thead th {\n",
       "        text-align: right;\n",
       "    }\n",
       "</style>\n",
       "<table border=\"1\" class=\"dataframe\">\n",
       "  <thead>\n",
       "    <tr style=\"text-align: right;\">\n",
       "      <th></th>\n",
       "      <th>Classificação</th>\n",
       "      <th>Tweets</th>\n",
       "    </tr>\n",
       "  </thead>\n",
       "  <tbody>\n",
       "    <tr>\n",
       "      <td>0</td>\n",
       "      <td>1</td>\n",
       "      <td>@baixinho04 xiaomi seria uma boa opção. eu ten...</td>\n",
       "    </tr>\n",
       "    <tr>\n",
       "      <td>1</td>\n",
       "      <td>0</td>\n",
       "      <td>ainda bem q tenho xiaomi e ele tá cm 73%, dura...</td>\n",
       "    </tr>\n",
       "    <tr>\n",
       "      <td>2</td>\n",
       "      <td>0</td>\n",
       "      <td>@tetenc555 @naegiwcat eu vó compra um xiaomi r...</td>\n",
       "    </tr>\n",
       "    <tr>\n",
       "      <td>3</td>\n",
       "      <td>0</td>\n",
       "      <td>@10icarocaldas por esse preço tu comprar o xia...</td>\n",
       "    </tr>\n",
       "    <tr>\n",
       "      <td>4</td>\n",
       "      <td>0</td>\n",
       "      <td>vcs que tem xiaomi sabiam que dá p/ usar o you...</td>\n",
       "    </tr>\n",
       "    <tr>\n",
       "      <td>...</td>\n",
       "      <td>...</td>\n",
       "      <td>...</td>\n",
       "    </tr>\n",
       "    <tr>\n",
       "      <td>295</td>\n",
       "      <td>1</td>\n",
       "      <td>meu carregador tá todo fudido mesmo assim não ...</td>\n",
       "    </tr>\n",
       "    <tr>\n",
       "      <td>296</td>\n",
       "      <td>0</td>\n",
       "      <td>@giopiterr @ljoga é um app pra quem tem pulsei...</td>\n",
       "    </tr>\n",
       "    <tr>\n",
       "      <td>297</td>\n",
       "      <td>1</td>\n",
       "      <td>já resetei meu airdots 500 vezes e não quer si...</td>\n",
       "    </tr>\n",
       "    <tr>\n",
       "      <td>298</td>\n",
       "      <td>1</td>\n",
       "      <td>@10icarocaldas comprei o meu primeiro xiaomi e...</td>\n",
       "    </tr>\n",
       "    <tr>\n",
       "      <td>299</td>\n",
       "      <td>0</td>\n",
       "      <td>@d19niel mano comprei um sem fio da xiaomi</td>\n",
       "    </tr>\n",
       "  </tbody>\n",
       "</table>\n",
       "<p>600 rows × 2 columns</p>\n",
       "</div>"
      ],
      "text/plain": [
       "     Classificação                                             Tweets\n",
       "0                1  @baixinho04 xiaomi seria uma boa opção. eu ten...\n",
       "1                0  ainda bem q tenho xiaomi e ele tá cm 73%, dura...\n",
       "2                0  @tetenc555 @naegiwcat eu vó compra um xiaomi r...\n",
       "3                0  @10icarocaldas por esse preço tu comprar o xia...\n",
       "4                0  vcs que tem xiaomi sabiam que dá p/ usar o you...\n",
       "..             ...                                                ...\n",
       "295              1  meu carregador tá todo fudido mesmo assim não ...\n",
       "296              0  @giopiterr @ljoga é um app pra quem tem pulsei...\n",
       "297              1  já resetei meu airdots 500 vezes e não quer si...\n",
       "298              1  @10icarocaldas comprei o meu primeiro xiaomi e...\n",
       "299              0         @d19niel mano comprei um sem fio da xiaomi\n",
       "\n",
       "[600 rows x 2 columns]"
      ]
     },
     "execution_count": 263,
     "metadata": {},
     "output_type": "execute_result"
    }
   ],
   "source": [
    "dados = train.append(test)\n",
    "dados = dados.drop(columns=['Treinamento'])\n",
    "dados = dados.drop(columns=['Teste'])\n",
    "dados"
   ]
  },
  {
   "cell_type": "code",
   "execution_count": 267,
   "metadata": {},
   "outputs": [],
   "source": [
    "from sklearn.model_selection import train_test_split"
   ]
  },
  {
   "cell_type": "code",
   "execution_count": 268,
   "metadata": {},
   "outputs": [
    {
     "data": {
      "text/plain": [
       "0      @baixinho04 xiaomi seria uma boa opção. eu ten...\n",
       "1      ainda bem q tenho xiaomi e ele tá cm 73%, dura...\n",
       "2      @tetenc555 @naegiwcat eu vó compra um xiaomi r...\n",
       "3      @10icarocaldas por esse preço tu comprar o xia...\n",
       "4      vcs que tem xiaomi sabiam que dá p/ usar o you...\n",
       "                             ...                        \n",
       "295    meu carregador tá todo fudido mesmo assim não ...\n",
       "296    @giopiterr @ljoga é um app pra quem tem pulsei...\n",
       "297    já resetei meu airdots 500 vezes e não quer si...\n",
       "298    @10icarocaldas comprei o meu primeiro xiaomi e...\n",
       "299           @d19niel mano comprei um sem fio da xiaomi\n",
       "Name: Tweets, Length: 600, dtype: object"
      ]
     },
     "execution_count": 268,
     "metadata": {},
     "output_type": "execute_result"
    }
   ],
   "source": [
    "Y = dados['Classificação']\n",
    "#X = dados.drop(columns=['Base MSRP', 'Make', 'Battery Electric Vehicle (BEV)'])\n",
    "#X = dados[['Model Year', 'Electric Range', 'Premium']]\n",
    "X = dados['Tweets']\n",
    "X"
   ]
  },
  {
   "cell_type": "code",
   "execution_count": 269,
   "metadata": {},
   "outputs": [],
   "source": [
    "X_train, X_test, y_train, y_test = train_test_split(X, Y, test_size=0.5)"
   ]
  },
  {
   "cell_type": "code",
   "execution_count": 270,
   "metadata": {},
   "outputs": [
    {
     "data": {
      "text/plain": [
       "198    @luizasearom hseieiwishajai o vizinho da frent...\n",
       "179                     @bruhercu meu xiaomi tá na mão ✋\n",
       "270    @amessymind oi.. vc ja ouviu a palavra da xiaomi?\n",
       "279                            @baikal442 achetez xiaomi\n",
       "92     @minefre vc deveria vir pro reino de xiaomi. v...\n",
       "                             ...                        \n",
       "107    @anasemsal não é do cll, é dessa merda incompe...\n",
       "105    poco x3 pro: loja oficial da xiaomi deixa esca...\n",
       "228      @buzzitos1 sim eu sou o maior inimigo da xiaomi\n",
       "118    @xiaomi @snapdragon pera aí só 732g poderia se...\n",
       "193    @drth84 @marcelorodjr tem o xiaomi muito bom t...\n",
       "Name: Tweets, Length: 300, dtype: object"
      ]
     },
     "execution_count": 270,
     "metadata": {},
     "output_type": "execute_result"
    }
   ],
   "source": [
    "X_train"
   ]
  },
  {
   "cell_type": "markdown",
   "metadata": {},
   "source": [
    "___\n",
    "## Aperfeiçoamento:\n",
    "\n",
    "Os trabalhos vão evoluir em conceito dependendo da quantidade de itens avançados:\n",
    "\n",
    "* Limpar: \\n, :, \", ', (, ), etc SEM remover emojis\n",
    "* Corrigir separação de espaços entre palavras e emojis ou entre emojis e emojis\n",
    "* Propor outras limpezas e transformações que não afetem a qualidade da informação ou classificação\n",
    "* Criar categorias intermediárias de relevância baseadas na probabilidade: ex.: muito relevante, relevante, neutro, irrelevante, muito irrelevante (3 categorias: C, mais categorias conta para B)\n",
    "* Explicar por que não posso usar o próprio classificador para gerar mais amostras de treinamento\n",
    "* Propor diferentes cenários para Naïve Bayes fora do contexto do projeto\n",
    "* Sugerir e explicar melhorias reais com indicações concretas de como implementar (indicar como fazer e indicar material de pesquisa)\n"
   ]
  },
  {
   "cell_type": "markdown",
   "metadata": {},
   "source": [
    "___\n",
    "## Referências"
   ]
  },
  {
   "cell_type": "markdown",
   "metadata": {},
   "source": [
    "[Naive Bayes and Text Classification](https://arxiv.org/pdf/1410.5329.pdf)  **Mais completo**\n",
    "\n",
    "[A practical explanation of a Naive Bayes Classifier](https://monkeylearn.com/blog/practical-explanation-naive-bayes-classifier/) **Mais simples**\n",
    "\n",
    "[Cleaning Text Data with Python](https://towardsdatascience.com/cleaning-text-data-with-python-b69b47b97b76) **Cleanup Text Function**\n",
    "\n",
    "[Laplace smoothing in Naïve Bayes algorithm](https://towardsdatascience.com/laplace-smoothing-in-na%C3%AFve-bayes-algorithm-9c237a8bdece) **Método de La Place Smoothing**\n",
    "\n",
    "[Naive Bayes Classifier From Scratch in Python](https://machinelearningmastery.com/naive-bayes-classifier-scratch-python/) **Naive Bayes Classifier from scratch**\n",
    "\n",
    "[In Depth: Naive Bayes Classification](https://jakevdp.github.io/PythonDataScienceHandbook/05.05-naive-bayes.html) **Confusion Matrix**\n",
    "\n",
    "[Better Naive Bayes: 12 Tips To Get The Most From The Naive Bayes Algorithm](https://machinelearningmastery.com/better-naive-bayes/) **How to improve Naive Bayes**\n",
    "\n",
    "[How to Improve Naive Bayes Classification Performance?](https://www.baeldung.com/cs/naive-bayes-classification-performance) **How to improve Naive Bayes performance**"
   ]
  },
  {
   "cell_type": "code",
   "execution_count": null,
   "metadata": {},
   "outputs": [],
   "source": []
  }
 ],
 "metadata": {
  "kernelspec": {
   "display_name": "Python 3",
   "language": "python",
   "name": "python3"
  },
  "language_info": {
   "codemirror_mode": {
    "name": "ipython",
    "version": 3
   },
   "file_extension": ".py",
   "mimetype": "text/x-python",
   "name": "python",
   "nbconvert_exporter": "python",
   "pygments_lexer": "ipython3",
   "version": "3.7.4"
  }
 },
 "nbformat": 4,
 "nbformat_minor": 4
}
