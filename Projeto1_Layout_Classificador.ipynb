{
 "cells": [
  {
   "cell_type": "markdown",
   "metadata": {},
   "source": [
    "# Projeto 1 - Ciência dos Dados"
   ]
  },
  {
   "cell_type": "markdown",
   "metadata": {},
   "source": [
    "Nome: Gustavo Pinheiro de Carvalho\n",
    "\n",
    "Nome: Maria Eduarda Matta Mercer Mourão"
   ]
  },
  {
   "cell_type": "markdown",
   "metadata": {},
   "source": [
    "Atenção: Serão permitidos grupos de três pessoas, mas com uma rubrica mais exigente. Grupos deste tamanho precisarão fazer um questionário de avaliação de trabalho em equipe"
   ]
  },
  {
   "cell_type": "markdown",
   "metadata": {},
   "source": [
    "___\n",
    "Carregando algumas bibliotecas:"
   ]
  },
  {
   "cell_type": "code",
   "execution_count": 2,
   "metadata": {},
   "outputs": [],
   "source": [
    "%matplotlib inline\n",
    "import pandas as pd\n",
    "import matplotlib.pyplot as plt\n",
    "import numpy as np\n",
    "import os"
   ]
  },
  {
   "cell_type": "code",
   "execution_count": 3,
   "metadata": {
    "scrolled": false
   },
   "outputs": [
    {
     "name": "stdout",
     "output_type": "stream",
     "text": [
      "Esperamos trabalhar no diretório\n",
      "/Users/gustavopinheiro/P1-CD21-1\n"
     ]
    }
   ],
   "source": [
    "print('Esperamos trabalhar no diretório')\n",
    "print(os.getcwd())"
   ]
  },
  {
   "cell_type": "markdown",
   "metadata": {},
   "source": [
    "### Carregando a base de dados com os tweets classificados como relevantes e não relevantes:"
   ]
  },
  {
   "cell_type": "code",
   "execution_count": 4,
   "metadata": {},
   "outputs": [],
   "source": [
    "filename = 'Xiaomi.xlsx'"
   ]
  },
  {
   "cell_type": "code",
   "execution_count": 5,
   "metadata": {},
   "outputs": [
    {
     "data": {
      "text/html": [
       "<div>\n",
       "<style scoped>\n",
       "    .dataframe tbody tr th:only-of-type {\n",
       "        vertical-align: middle;\n",
       "    }\n",
       "\n",
       "    .dataframe tbody tr th {\n",
       "        vertical-align: top;\n",
       "    }\n",
       "\n",
       "    .dataframe thead th {\n",
       "        text-align: right;\n",
       "    }\n",
       "</style>\n",
       "<table border=\"1\" class=\"dataframe\">\n",
       "  <thead>\n",
       "    <tr style=\"text-align: right;\">\n",
       "      <th></th>\n",
       "      <th>Treinamento</th>\n",
       "      <th>Classificação</th>\n",
       "    </tr>\n",
       "  </thead>\n",
       "  <tbody>\n",
       "    <tr>\n",
       "      <td>0</td>\n",
       "      <td>@baixinho04 xiaomi seria uma boa opção. eu ten...</td>\n",
       "      <td>1.0</td>\n",
       "    </tr>\n",
       "    <tr>\n",
       "      <td>1</td>\n",
       "      <td>ainda bem q tenho xiaomi e ele tá cm 73%, dura...</td>\n",
       "      <td>0.0</td>\n",
       "    </tr>\n",
       "    <tr>\n",
       "      <td>2</td>\n",
       "      <td>@tetenc555 @naegiwcat eu vó compra um xiaomi r...</td>\n",
       "      <td>0.0</td>\n",
       "    </tr>\n",
       "    <tr>\n",
       "      <td>3</td>\n",
       "      <td>@10icarocaldas por esse preço tu comprar o xia...</td>\n",
       "      <td>0.0</td>\n",
       "    </tr>\n",
       "    <tr>\n",
       "      <td>4</td>\n",
       "      <td>vcs que tem xiaomi sabiam que dá p/ usar o you...</td>\n",
       "      <td>0.0</td>\n",
       "    </tr>\n",
       "  </tbody>\n",
       "</table>\n",
       "</div>"
      ],
      "text/plain": [
       "                                         Treinamento  Classificação\n",
       "0  @baixinho04 xiaomi seria uma boa opção. eu ten...            1.0\n",
       "1  ainda bem q tenho xiaomi e ele tá cm 73%, dura...            0.0\n",
       "2  @tetenc555 @naegiwcat eu vó compra um xiaomi r...            0.0\n",
       "3  @10icarocaldas por esse preço tu comprar o xia...            0.0\n",
       "4  vcs que tem xiaomi sabiam que dá p/ usar o you...            0.0"
      ]
     },
     "execution_count": 5,
     "metadata": {},
     "output_type": "execute_result"
    }
   ],
   "source": [
    "train = pd.read_excel(filename)\n",
    "train.head(5)"
   ]
  },
  {
   "cell_type": "code",
   "execution_count": 6,
   "metadata": {},
   "outputs": [
    {
     "data": {
      "text/html": [
       "<div>\n",
       "<style scoped>\n",
       "    .dataframe tbody tr th:only-of-type {\n",
       "        vertical-align: middle;\n",
       "    }\n",
       "\n",
       "    .dataframe tbody tr th {\n",
       "        vertical-align: top;\n",
       "    }\n",
       "\n",
       "    .dataframe thead th {\n",
       "        text-align: right;\n",
       "    }\n",
       "</style>\n",
       "<table border=\"1\" class=\"dataframe\">\n",
       "  <thead>\n",
       "    <tr style=\"text-align: right;\">\n",
       "      <th></th>\n",
       "      <th>Teste</th>\n",
       "      <th>Classificação</th>\n",
       "    </tr>\n",
       "  </thead>\n",
       "  <tbody>\n",
       "    <tr>\n",
       "      <td>0</td>\n",
       "      <td>@luffyoficial_ entt amg,  omo eu ainda não ten...</td>\n",
       "      <td>0</td>\n",
       "    </tr>\n",
       "    <tr>\n",
       "      <td>1</td>\n",
       "      <td>a xiaomi me prometeu qualidade</td>\n",
       "      <td>0</td>\n",
       "    </tr>\n",
       "    <tr>\n",
       "      <td>2</td>\n",
       "      <td>algum sugar daddy on pra me dar o robo aspirad...</td>\n",
       "      <td>0</td>\n",
       "    </tr>\n",
       "    <tr>\n",
       "      <td>3</td>\n",
       "      <td>@xiaomibrasil me salva aí, xiaomi com os bugs....</td>\n",
       "      <td>0</td>\n",
       "    </tr>\n",
       "    <tr>\n",
       "      <td>4</td>\n",
       "      <td>meu celular ja ta em fim de carreira n vejo a ...</td>\n",
       "      <td>0</td>\n",
       "    </tr>\n",
       "  </tbody>\n",
       "</table>\n",
       "</div>"
      ],
      "text/plain": [
       "                                               Teste  Classificação\n",
       "0  @luffyoficial_ entt amg,  omo eu ainda não ten...              0\n",
       "1                     a xiaomi me prometeu qualidade              0\n",
       "2  algum sugar daddy on pra me dar o robo aspirad...              0\n",
       "3  @xiaomibrasil me salva aí, xiaomi com os bugs....              0\n",
       "4  meu celular ja ta em fim de carreira n vejo a ...              0"
      ]
     },
     "execution_count": 6,
     "metadata": {},
     "output_type": "execute_result"
    }
   ],
   "source": [
    "test = pd.read_excel(filename, sheet_name = 'Teste')\n",
    "test.head(5)"
   ]
  },
  {
   "cell_type": "markdown",
   "metadata": {},
   "source": [
    "### Definindo as variáveis qualitativas como categóricas"
   ]
  },
  {
   "cell_type": "markdown",
   "metadata": {},
   "source": [
    "#### Treinamento"
   ]
  },
  {
   "cell_type": "code",
   "execution_count": 7,
   "metadata": {},
   "outputs": [
    {
     "data": {
      "text/html": [
       "<div>\n",
       "<style scoped>\n",
       "    .dataframe tbody tr th:only-of-type {\n",
       "        vertical-align: middle;\n",
       "    }\n",
       "\n",
       "    .dataframe tbody tr th {\n",
       "        vertical-align: top;\n",
       "    }\n",
       "\n",
       "    .dataframe thead th {\n",
       "        text-align: right;\n",
       "    }\n",
       "</style>\n",
       "<table border=\"1\" class=\"dataframe\">\n",
       "  <thead>\n",
       "    <tr style=\"text-align: right;\">\n",
       "      <th></th>\n",
       "      <th>Treinamento</th>\n",
       "      <th>Classificação</th>\n",
       "    </tr>\n",
       "  </thead>\n",
       "  <tbody>\n",
       "    <tr>\n",
       "      <td>0</td>\n",
       "      <td>@baixinho04 xiaomi seria uma boa opção. eu ten...</td>\n",
       "      <td>Relevante</td>\n",
       "    </tr>\n",
       "    <tr>\n",
       "      <td>1</td>\n",
       "      <td>ainda bem q tenho xiaomi e ele tá cm 73%, dura...</td>\n",
       "      <td>Irrelevnte</td>\n",
       "    </tr>\n",
       "    <tr>\n",
       "      <td>2</td>\n",
       "      <td>@tetenc555 @naegiwcat eu vó compra um xiaomi r...</td>\n",
       "      <td>Irrelevnte</td>\n",
       "    </tr>\n",
       "    <tr>\n",
       "      <td>3</td>\n",
       "      <td>@10icarocaldas por esse preço tu comprar o xia...</td>\n",
       "      <td>Irrelevnte</td>\n",
       "    </tr>\n",
       "    <tr>\n",
       "      <td>4</td>\n",
       "      <td>vcs que tem xiaomi sabiam que dá p/ usar o you...</td>\n",
       "      <td>Irrelevnte</td>\n",
       "    </tr>\n",
       "    <tr>\n",
       "      <td>5</td>\n",
       "      <td>@10icarocaldas xiaomi é o melhor celular custo...</td>\n",
       "      <td>Relevante</td>\n",
       "    </tr>\n",
       "    <tr>\n",
       "      <td>6</td>\n",
       "      <td>@_lucast7 @g1 verdade, mas pelo menos o preço ...</td>\n",
       "      <td>Irrelevnte</td>\n",
       "    </tr>\n",
       "    <tr>\n",
       "      <td>7</td>\n",
       "      <td>a xiaomi lançou um celular com a acabamento em...</td>\n",
       "      <td>Irrelevnte</td>\n",
       "    </tr>\n",
       "    <tr>\n",
       "      <td>8</td>\n",
       "      <td>@mathmj @madunixs @affectionmauro xiaomi alem ...</td>\n",
       "      <td>Relevante</td>\n",
       "    </tr>\n",
       "    <tr>\n",
       "      <td>9</td>\n",
       "      <td>@nn_carvalhosa @g1 no caso da xiaomi o consumi...</td>\n",
       "      <td>Irrelevnte</td>\n",
       "    </tr>\n",
       "  </tbody>\n",
       "</table>\n",
       "</div>"
      ],
      "text/plain": [
       "                                         Treinamento Classificação\n",
       "0  @baixinho04 xiaomi seria uma boa opção. eu ten...     Relevante\n",
       "1  ainda bem q tenho xiaomi e ele tá cm 73%, dura...    Irrelevnte\n",
       "2  @tetenc555 @naegiwcat eu vó compra um xiaomi r...    Irrelevnte\n",
       "3  @10icarocaldas por esse preço tu comprar o xia...    Irrelevnte\n",
       "4  vcs que tem xiaomi sabiam que dá p/ usar o you...    Irrelevnte\n",
       "5  @10icarocaldas xiaomi é o melhor celular custo...     Relevante\n",
       "6  @_lucast7 @g1 verdade, mas pelo menos o preço ...    Irrelevnte\n",
       "7  a xiaomi lançou um celular com a acabamento em...    Irrelevnte\n",
       "8  @mathmj @madunixs @affectionmauro xiaomi alem ...     Relevante\n",
       "9  @nn_carvalhosa @g1 no caso da xiaomi o consumi...    Irrelevnte"
      ]
     },
     "execution_count": 7,
     "metadata": {},
     "output_type": "execute_result"
    }
   ],
   "source": [
    "\n",
    "train.Classificação = train.Classificação.astype('category')\n",
    "train.Classificação.cat.categories = ('Irrelevnte', 'Relevante')\n",
    "train.head(10)"
   ]
  },
  {
   "cell_type": "markdown",
   "metadata": {},
   "source": [
    "#### Teste"
   ]
  },
  {
   "cell_type": "code",
   "execution_count": 8,
   "metadata": {},
   "outputs": [
    {
     "data": {
      "text/html": [
       "<div>\n",
       "<style scoped>\n",
       "    .dataframe tbody tr th:only-of-type {\n",
       "        vertical-align: middle;\n",
       "    }\n",
       "\n",
       "    .dataframe tbody tr th {\n",
       "        vertical-align: top;\n",
       "    }\n",
       "\n",
       "    .dataframe thead th {\n",
       "        text-align: right;\n",
       "    }\n",
       "</style>\n",
       "<table border=\"1\" class=\"dataframe\">\n",
       "  <thead>\n",
       "    <tr style=\"text-align: right;\">\n",
       "      <th></th>\n",
       "      <th>Teste</th>\n",
       "      <th>Classificação</th>\n",
       "    </tr>\n",
       "  </thead>\n",
       "  <tbody>\n",
       "    <tr>\n",
       "      <td>0</td>\n",
       "      <td>@luffyoficial_ entt amg,  omo eu ainda não ten...</td>\n",
       "      <td>Irrelevante</td>\n",
       "    </tr>\n",
       "    <tr>\n",
       "      <td>1</td>\n",
       "      <td>a xiaomi me prometeu qualidade</td>\n",
       "      <td>Irrelevante</td>\n",
       "    </tr>\n",
       "    <tr>\n",
       "      <td>2</td>\n",
       "      <td>algum sugar daddy on pra me dar o robo aspirad...</td>\n",
       "      <td>Irrelevante</td>\n",
       "    </tr>\n",
       "    <tr>\n",
       "      <td>3</td>\n",
       "      <td>@xiaomibrasil me salva aí, xiaomi com os bugs....</td>\n",
       "      <td>Irrelevante</td>\n",
       "    </tr>\n",
       "    <tr>\n",
       "      <td>4</td>\n",
       "      <td>meu celular ja ta em fim de carreira n vejo a ...</td>\n",
       "      <td>Irrelevante</td>\n",
       "    </tr>\n",
       "    <tr>\n",
       "      <td>5</td>\n",
       "      <td>a xiaomi mi band 6 estará mesmo a chegar?\\nhtt...</td>\n",
       "      <td>Irrelevante</td>\n",
       "    </tr>\n",
       "    <tr>\n",
       "      <td>6</td>\n",
       "      <td>xiaomi não decepciona em nada 👏</td>\n",
       "      <td>Relevante</td>\n",
       "    </tr>\n",
       "    <tr>\n",
       "      <td>7</td>\n",
       "      <td>@wos4you vai ser o mesmo lugar q eu vou mandar...</td>\n",
       "      <td>Irrelevante</td>\n",
       "    </tr>\n",
       "    <tr>\n",
       "      <td>8</td>\n",
       "      <td>@kaiiirtss xiaomi sksksks</td>\n",
       "      <td>Irrelevante</td>\n",
       "    </tr>\n",
       "    <tr>\n",
       "      <td>9</td>\n",
       "      <td>@jopedrobf gastou dinheiro atoa... a não ser q...</td>\n",
       "      <td>Irrelevante</td>\n",
       "    </tr>\n",
       "  </tbody>\n",
       "</table>\n",
       "</div>"
      ],
      "text/plain": [
       "                                               Teste Classificação\n",
       "0  @luffyoficial_ entt amg,  omo eu ainda não ten...   Irrelevante\n",
       "1                     a xiaomi me prometeu qualidade   Irrelevante\n",
       "2  algum sugar daddy on pra me dar o robo aspirad...   Irrelevante\n",
       "3  @xiaomibrasil me salva aí, xiaomi com os bugs....   Irrelevante\n",
       "4  meu celular ja ta em fim de carreira n vejo a ...   Irrelevante\n",
       "5  a xiaomi mi band 6 estará mesmo a chegar?\\nhtt...   Irrelevante\n",
       "6                    xiaomi não decepciona em nada 👏     Relevante\n",
       "7  @wos4you vai ser o mesmo lugar q eu vou mandar...   Irrelevante\n",
       "8                          @kaiiirtss xiaomi sksksks   Irrelevante\n",
       "9  @jopedrobf gastou dinheiro atoa... a não ser q...   Irrelevante"
      ]
     },
     "execution_count": 8,
     "metadata": {},
     "output_type": "execute_result"
    }
   ],
   "source": [
    "test.Classificação = test.Classificação.astype('category')\n",
    "test.Classificação.cat.categories = ('Irrelevante', 'Relevante')\n",
    "test.head(10)"
   ]
  },
  {
   "cell_type": "markdown",
   "metadata": {},
   "source": [
    "### Estudo dos valores e quantidades de tweets de cada classificação"
   ]
  },
  {
   "cell_type": "markdown",
   "metadata": {},
   "source": [
    "#### Treinamento"
   ]
  },
  {
   "cell_type": "code",
   "execution_count": 9,
   "metadata": {},
   "outputs": [
    {
     "data": {
      "text/plain": [
       "Irrelevnte    0.732441\n",
       "Relevante     0.267559\n",
       "Name: Classificação, dtype: float64"
      ]
     },
     "execution_count": 9,
     "metadata": {},
     "output_type": "execute_result"
    }
   ],
   "source": [
    "train.Classificação.value_counts(True)"
   ]
  },
  {
   "cell_type": "code",
   "execution_count": 10,
   "metadata": {},
   "outputs": [
    {
     "name": "stdout",
     "output_type": "stream",
     "text": [
      "-------------------------------------------------------\n",
      "Irrelevante\n",
      "-------------------------------------------------------\n",
      "contagem               = 219\n",
      "---------------------------------------------\n",
      "Relevante\n",
      "---------------------------------------------\n",
      "contagem               = 80\n"
     ]
    }
   ],
   "source": [
    "train_classificacao = train.Classificação.value_counts()\n",
    "i=0\n",
    "for title, var_quanti in (('Irrelevante', train_classificacao[0]), ('Relevante', train_classificacao[1])):\n",
    "    print('-' * 5 * len(title))\n",
    "    print(title)\n",
    "    print('-' * 5 * len(title))\n",
    "    print(f'contagem               = {train_classificacao[i]}')\n",
    "    i += 1"
   ]
  },
  {
   "cell_type": "markdown",
   "metadata": {},
   "source": [
    "##### Gráfico"
   ]
  },
  {
   "cell_type": "code",
   "execution_count": 11,
   "metadata": {},
   "outputs": [
    {
     "data": {
      "text/plain": [
       "<matplotlib.axes._subplots.AxesSubplot at 0x11691f890>"
      ]
     },
     "execution_count": 11,
     "metadata": {},
     "output_type": "execute_result"
    },
    {
     "data": {
      "image/png": "[encoded data removed]",
      "text/plain": [
       "<Figure size 432x288 with 1 Axes>"
      ]
     },
     "metadata": {},
     "output_type": "display_data"
    }
   ],
   "source": [
    "train_classificacao = train.Classificação.value_counts()\n",
    "train_classificacao.plot(kind='pie', title='Quantidade de tweets por categoria', autopct=\"%.2f\")"
   ]
  },
  {
   "cell_type": "markdown",
   "metadata": {},
   "source": [
    "#### Teste"
   ]
  },
  {
   "cell_type": "code",
   "execution_count": 12,
   "metadata": {},
   "outputs": [
    {
     "data": {
      "text/plain": [
       "Irrelevante    0.643333\n",
       "Relevante      0.356667\n",
       "Name: Classificação, dtype: float64"
      ]
     },
     "execution_count": 12,
     "metadata": {},
     "output_type": "execute_result"
    }
   ],
   "source": [
    "test.Classificação.value_counts(True)"
   ]
  },
  {
   "cell_type": "code",
   "execution_count": 13,
   "metadata": {},
   "outputs": [
    {
     "name": "stdout",
     "output_type": "stream",
     "text": [
      "-------------------------------------------------------\n",
      "Irrelevante\n",
      "-------------------------------------------------------\n",
      "contagem               = 193\n",
      "---------------------------------------------\n",
      "Relevante\n",
      "---------------------------------------------\n",
      "contagem               = 107\n"
     ]
    }
   ],
   "source": [
    "test_classificacao = test.Classificação.value_counts()\n",
    "i=0\n",
    "for title, var_quanti in (('Irrelevante', test_classificacao[0]), ('Relevante', test_classificacao[1])):\n",
    "    print('-' * 5 * len(title))\n",
    "    print(title)\n",
    "    print('-' * 5 * len(title))\n",
    "    print(f'contagem               = {test_classificacao[i]}')\n",
    "    i += 1"
   ]
  },
  {
   "cell_type": "markdown",
   "metadata": {},
   "source": [
    "##### Gráfico"
   ]
  },
  {
   "cell_type": "code",
   "execution_count": 14,
   "metadata": {},
   "outputs": [
    {
     "data": {
      "text/plain": [
       "<matplotlib.axes._subplots.AxesSubplot at 0x11692b290>"
      ]
     },
     "execution_count": 14,
     "metadata": {},
     "output_type": "execute_result"
    },
    {
     "data": {
      "image/png": "[encoded data removed]",
      "text/plain": [
       "<Figure size 432x288 with 1 Axes>"
      ]
     },
     "metadata": {},
     "output_type": "display_data"
    }
   ],
   "source": [
    "\n",
    "test_classificacao.plot(kind='pie', title='Quantidade de tweets por categoria', autopct=\"%.2f\")"
   ]
  },
  {
   "cell_type": "code",
   "execution_count": null,
   "metadata": {},
   "outputs": [],
   "source": []
  },
  {
   "cell_type": "markdown",
   "metadata": {},
   "source": [
    "___\n",
    "## Classificador automático de sentimento\n"
   ]
  },
  {
   "cell_type": "markdown",
   "metadata": {},
   "source": [
    "Faça aqui uma descrição do seu produto e o que considerou como relevante ou não relevante na classificação dos tweets.\n",
    "\n",
    " A marca escolhida para o classificador Naive-Bayes foi a Xiaomi, empresa chinesa de eletrônicos que divide opiniões a respeito da qualidade e da aceitabilidade dos seus produtos no mercado brasileiro. \n",
    "\n",
    "Consideramos como relevantes todos aqueles tweets que expressavam opiniões dos usuários e consumidores sobre os produtos da marca, tanto positivos como negativos. Assim, podemos selecionar os tweets que podem apontar a situação atual da marca, e também os problemas e acertos nos produtos comercializados nacionalmente.\n",
    "\n",
    "Como estamos obtendo nossas informações do Twitter, decidimos considerar como não relevantes os tweets que não expressavam nenhum tipo de opinião, ou aqueles que eram a respeito de sorteios e premiações, algo bem comum dentro dessa plataforma."
   ]
  },
  {
   "cell_type": "markdown",
   "metadata": {},
   "source": [
    "Portanto, durante a análise, encontramos a necessidade de cálculas as seguintes probabilidades para que nosso classificador desempenhasse a função desejada:\n",
    "\n",
    "- $P(Tweet|Classificação)$: probabilidade do tweet pertencer a categoria Relevante;\n",
    "- $P(Classificação)$: probabilidade da categoria dentre o total de tweets (TREINAMENTO);\n",
    "- $P(Tweet)$: probabilidade de uma frase ocorrer na língua portuguesa.\n",
    "- $P(Palavra|Classificação)$: probabilidade de uma palavra ser de dada categoria;\n",
    "- $P(Classificação|Tweet)$: probabilidade de dado tweet ser classificado com alguma das categorias;"
   ]
  },
  {
   "cell_type": "markdown",
   "metadata": {},
   "source": [
    "Começamos os cálculos com a ideia primária do Naive-Bayes:\n",
    "\n",
    "$$P(Classificação|Tweet)=\\frac{P(Classificação \\cap Tweet)}{P(Tweet)}=\\frac{P(Tweet|Classificação)P(Classificação)}{P(Tweet)}\\hspace{3cm}\\mbox{(I)}$$\n",
    "\n",
    "Onde a probabilidade de um tweet ser de dada classificação (P(Tweet|Classificação)) seria calculado pela probabilidade de classificação de cada palavra (ou emoji) presente no tweet.\n",
    "\n",
    "$$P(Tweet|Classificação) = P(Palavra 1|Classificação) * P(Palavra 2|Classificação) * P(Palavra 3|Classificação)\\hspace{3cm}\\mbox{(II)}$$\n",
    "\n",
    "Para que a probabilidade de uma dada palavra ser classificada por uma das categorias fosse calculada, surgiu um grande problema: O que aconteceria caso surgisse uma palavra nova que não estivesse previamente inserida em uma das categorias?\n",
    "\n",
    "Entra ai a necessidade de aplicarmos o 'La Place Smoothing', que é justamente uma técnica que lida com a possibilidade de uma probabilidade de uma palavra que não esta no treinamento receber probabilidade zero. Podemos representar P(Palavra Nova|Classificação) por:\n",
    "\n",
    "$$P(Palavra Nova|Classificação)=\\frac{Numbers Of Reviews With Palavra Nova Por Classificação = Classificação + alpha}{N + alpha*K}\\hspace{3cm}\\mbox{(III)}$$\n",
    "\n",
    "alpha: Parâmetro de smoothing (vamos usar =1);\n",
    "\n",
    "K: número de features nos dados;\n",
    "\n",
    "N: número de classificações para cada categoria (somatório).\n",
    "\n",
    "Portanto, a fórmula para novas palavras fica:\n",
    "\n",
    "$$P(Palavra Nova|Classificação)=\\frac{Numbers Of Reviews With Palavra Nova Por Classificação = Classificação + 1}{N + K}\\hspace{3cm}\\mbox{(IV)}$$\n",
    "\n",
    "Assim, podemos calcular a probabilidade de um tweet ser categorizado com umas das categorias:\n",
    "\n",
    "$$P(Classificação|Tweet) = P(Palavra 1|Classificação) * P(Palavra 2|Classificação) * P(Palavra 3|Classificação) *P(Palavra Nova|Classificação)*P(Classificação)\\hspace{2cm}\\mbox{(V)}$$\n",
    "\n",
    "\n"
   ]
  },
  {
   "cell_type": "markdown",
   "metadata": {},
   "source": [
    "### Função de limpeza dos tweets:"
   ]
  },
  {
   "cell_type": "code",
   "execution_count": 15,
   "metadata": {},
   "outputs": [
    {
     "name": "stderr",
     "output_type": "stream",
     "text": [
      "[nltk_data] Downloading package punkt to\n",
      "[nltk_data]     /Users/gustavopinheiro/nltk_data...\n",
      "[nltk_data]   Package punkt is already up-to-date!\n"
     ]
    }
   ],
   "source": [
    "import re\n",
    "import nltk\n",
    "nltk.download('punkt')\n",
    "#stop_words = stopwords.words(\"english\")\n",
    "# A ideia de remover as 'stop words' é retirar as palavras que não tem conrtribuição de significado para o texto.\n",
    "\n",
    "def cleanup(tweet_og):\n",
    "    #tweet = ' '.join([word for word in tweet_og.split(' ') if word not in stop_words]) # Remove as 'stop word'\n",
    "    tweet = re.sub(\"https*\\S+\", \" \", tweet_og) # Remove as URL\n",
    "    tweet = re.sub('\\s{2,}', \" \", tweet_og) # Remove espaços múltiplos\n",
    "    tweet = re.sub(\"#\\S+\", \" \", tweet_og) # Remove Hashtags\n",
    "    tweet = \" \".join(re.findall(\"(\\w+|[^\\w ]+)\",tweet_og)) # Adiciona espaços entre os Emojis\n",
    "    tweet = re.sub(\"@\\S+\", \" \", tweet_og) # Remove menções de usuários\n",
    "    tweet = re.sub(re.compile(\"\"\"[!-',.:)\"(?;#@]\"\"\"), '', tweet_og)  # Remove as pontuações\n",
    "    tweet = re.sub('\\n','',tweet_og) #Remove '\\n'\n",
    "    tweet = re.sub('rt','',tweet_og) #Remove os 'rt'\n",
    "    #tweet = word_tokenize(tweet_og) # Remove caracteres múltiplos\n",
    "    tweet = tweet_og.lower() # Transforma o texto em letras minúsculas\n",
    "    \n",
    "    \n",
    "    return tweet\n"
   ]
  },
  {
   "cell_type": "code",
   "execution_count": 16,
   "metadata": {},
   "outputs": [],
   "source": [
    "import re \n",
    "\n",
    "def cleanup(frase_suja):\n",
    "    frase_limpa = re.sub(r'http\\S+', '', frase_suja, flags=re.MULTILINE) #Removendo Links no Tweet\n",
    "    frase_limpa = \" \".join(re.findall(\"(\\w+|[^\\w ]+)\",frase_limpa)) #Adiciona espaços entre os emojis\n",
    "    frase_limpa = re.sub('\\s*([@])\\s*', r' \\1', frase_limpa) #Juntando @ anteriormente separados\n",
    "    frase_limpa = re.sub(re.compile(\"\"\"[!-',.:)\"(?;#@]\"\"\"), '', frase_limpa) #Removendo pontuações e sinais\n",
    "    frase_limpa = re.sub('rt','',frase_limpa) #Removendo 'rt'\n",
    "    frase_limpa = re.sub('(\\s+)',' ',frase_limpa) #Removendo multiplos espaços\n",
    "    frase_limpa = re.sub('\\n','',frase_limpa) #Removendo '\\n' CASO o algum tweet ainda possua\n",
    "    frase_limpa = frase_limpa.lower() #Deixando todas as letras em minúsculo\n",
    "    \n",
    "    return frase_limpa"
   ]
  },
  {
   "cell_type": "markdown",
   "metadata": {},
   "source": [
    "#### Teste funçao de limpeza:"
   ]
  },
  {
   "cell_type": "code",
   "execution_count": 17,
   "metadata": {},
   "outputs": [
    {
     "name": "stdout",
     "output_type": "stream",
     "text": [
      "['xiaomi', 'é', 'muito', 'boa', '👏', 'kkkkkkk', 'mesmooo']\n"
     ]
    }
   ],
   "source": [
    "tweet_teste = 'Xiaomi é muito boa 👏, kkkkkkk mesmooo'\n",
    "tweet_teste = cleanup(tweet_teste)\n",
    "tweet_teste = tweet_teste.split()\n",
    "print(tweet_teste)"
   ]
  },
  {
   "cell_type": "markdown",
   "metadata": {},
   "source": [
    "___\n",
    "### Montando um Classificador Naive-Bayes\n",
    "\n",
    "A ideia de criar uma classe para o nosso Classificador Naive-Bayes é que poderemos utiliza-la para diferentes \n",
    "\n",
    "Considerando apenas as mensagens da planilha Treinamento, ensine  seu classificador."
   ]
  },
  {
   "cell_type": "code",
   "execution_count": 18,
   "metadata": {},
   "outputs": [],
   "source": [
    "import numpy as np\n",
    "\n",
    "from collections import defaultdict\n"
   ]
  },
  {
   "cell_type": "code",
   "execution_count": 19,
   "metadata": {},
   "outputs": [],
   "source": [
    "\n",
    "from collections import defaultdict\n",
    "\n",
    "class NaiveBayesModel:\n",
    "        \n",
    "    def dictIncrement(self,str_array,dict_index):\n",
    "        str_array=str_array[0]\n",
    "            \n",
    "        for single_word in str_array.split():\n",
    "            #Adiciona quantidade de vezes que a palavra aparece por classificação no dicionário\n",
    "            self.classifications_dicts[dict_index][single_word] += 1\n",
    "            \n",
    "    # Criamos uma função que nos permite introduzir diferentes dados para classificação, desde que estejam na mesma\n",
    "    # formatação.\n",
    "                  \n",
    "    def fit(self,dataset,labels):\n",
    "        self.training_strs=dataset #Strings com os tweets da planilha\n",
    "        self.labels=labels #Strings com as classificações (Relevante e Irrelevante)\n",
    "        self.classifications=np.unique(labels) #Lista com classificações (Só precisamos de 1 valor de cada classificação, por isso a utlização do np.unique)\n",
    "        self.classifications_dicts=np.array([defaultdict(lambda: 0) for i in range(self.classifications.shape[0])]) #Lista de dicionários por classificação\n",
    "        \n",
    "        # La Place smoothing: ???\n",
    "\n",
    "        if not isinstance(self.training_strs,np.ndarray): # Redundância caso não cheguem arrays \n",
    "            self.training_strs=np.array(self.training_strs)\n",
    "            \n",
    "        if not isinstance(self.labels,np.ndarray): # Redundância caso não cheguem arrays \n",
    "            self.labels=np.array(self.labels)\n",
    "            \n",
    "        # Para cada frase pertencente ao dicionário com os tweets, dada a classificação, vamos utilizar a função \n",
    "        #cleanup estabelecida anteriormente para limpar cada frase.\n",
    "    \n",
    "        for i,classification in enumerate(self.classifications): \n",
    "            unique_class_array=self.training_strs[self.labels==classification] # Pega cada frase por classificação           \n",
    "            unique_class_array_cleaned=[cleanup(i) for i in unique_class_array] #Limpa cada frase\n",
    "            \n",
    "            # Cria um dataframe com os tweets já limpos e organizados por classificação\n",
    "            unique_class_array_cleaned=pd.DataFrame(data=unique_class_array_cleaned) # Cria um DF organizado por classificação\n",
    "            \n",
    "            np.apply_along_axis(self.dictIncrement,1,unique_class_array_cleaned,i) # Função dictIncrement\n",
    "            \n",
    "        # Cálculo das probabilidades de cada classificação, onde criamos um dicionário vazio que vai conter as palavras\n",
    "        # e a sua respectiva classificação:\n",
    "        \n",
    "        classification_prob=np.empty(self.classifications.shape[0]) # P(Classificação)\n",
    "        all_words=[] # Dicionário vazio que conterá as palavras\n",
    "        clas_word_counts=np.empty(self.classifications.shape[0]) # Total de Palavras por Classificação\n",
    "        \n",
    "        # Para cada tweet pertencente ao dicionário com os tweets, dada a classificação, vamos calcular a probabilidade\n",
    "        # da classificação, e o número de palavras por classificação, assim permitindo que façamos um dicionário que\n",
    "        # contém as palavras e sua respectiva classificação\n",
    "        \n",
    "        for i,classification in enumerate(self.classifications):\n",
    "            classification_prob[i]=np.sum(self.labels==classification)/float(self.labels.shape[0]) # P(C)=(N° C)/Total de Classificações\n",
    "            clas_word_counts[i]=np.sum(np.array(list(self.classifications_dicts[i].values()))) # nº Palavras/classificação\n",
    "            # Palavras/Classificação no dicionário                         \n",
    "            all_words+=self.classifications_dicts[i].keys() \n",
    "            \n",
    "        # Lista de todas as palavras sem repetição        \n",
    "        self.vocaburary=np.unique(np.array(all_words))\n",
    "        # Total de palavras sem repetição\n",
    "        self.vocaburary_size=self.vocaburary.shape[0]\n",
    "        \n",
    "        # Calculando o denominador fixo para cada classificação \n",
    "        # (número de palavras/classificação + número de palavras sem repetição no vocabulário para cada frase\n",
    "        # pertencente ao dicionário com os tweets, dada a classificação.)\n",
    "        \n",
    "        denominator=np.array([clas_word_counts[i]+self.vocaburary_size for i,classification in enumerate(self.classifications)])\n",
    "        \n",
    "        # Criamos um dicionário com o total de palavras, a probabilidade da classificação e o denominador de cada\n",
    "        # classificação previamente calculado para cada tweet pertencente ao dicionário com os tweets, dada a \n",
    "        # classificação\n",
    "        # [Dict with words({word:word_count}),Classification probability, denominator value]\n",
    "        \n",
    "        self.category_array=[(self.classifications_dicts[i],classification_prob[i],denominator[i]) for i,c in enumerate(self.classifications)]                               \n",
    "        self.category_array=np.array(self.category_array)\n",
    "        \n",
    "    # Criamos uma função para que seja possível fazer a predição da classificação de um tweet pertencente ao grupo\n",
    "    # de tweets separados para o teste do classificador\n",
    "        \n",
    "    def predictStrForEachClassification(self,phrase): \n",
    "        \n",
    "        #\n",
    "        \n",
    "        words_prop=np.zeros(self.classifications.shape[0]) # Guardar a probabilidade para cada frase\n",
    "        \n",
    "        # Probabilidade de encontrar para cada classificação\n",
    "        \n",
    "        for i,classification in enumerate(self.classifications): \n",
    "            phrase=cleanup(phrase) # Aplica a função de limpeza aos tweets de cada classificação\n",
    "            for test_token in phrase.split(): # Divide a frase por palavra                     \n",
    "                \n",
    "                #Numerador                     \n",
    "                test_token_counts=self.category_array[i][0].get(test_token,0)+1\n",
    "                \n",
    "                #Probabilidade para a palavra                          \n",
    "                word_prob=test_token_counts/float(self.category_array[i][2])  # 2 = denominador[]\n",
    "                \n",
    "                #Estamos usando o Log para evitar valores negativos e otimizar o processo\n",
    "                words_prop[i]+=np.log(word_prob)\n",
    "                                              \n",
    "        phrase_prop=np.empty(self.classifications.shape[0])\n",
    "        for i,classification in enumerate(self.classifications):\n",
    "            phrase_prop[i]=words_prop[i]+np.log(self.category_array[i][1])                                  \n",
    "      \n",
    "        return phrase_prop\n",
    "    \n",
    "    # Criamos uma função que vai fornecer as \n",
    "   \n",
    "    def predict(self,test_set): \n",
    "        predictions=[] \n",
    "        for test_str in test_set:                                               \n",
    "            phrase_prop=self.predictStrForEachClassification(test_str) \n",
    "            predictions.append(self.classifications[np.argmax(phrase_prop)])\n",
    "        return np.array(predictions)"
   ]
  },
  {
   "cell_type": "code",
   "execution_count": 20,
   "metadata": {},
   "outputs": [
    {
     "ename": "TypeError",
     "evalue": "'<' not supported between instances of 'float' and 'str'",
     "output_type": "error",
     "traceback": [
      "\u001b[0;31m---------------------------------------------------------------------------\u001b[0m",
      "\u001b[0;31mTypeError\u001b[0m                                 Traceback (most recent call last)",
      "\u001b[0;32m<ipython-input-20-c4df0e3effa9>\u001b[0m in \u001b[0;36m<module>\u001b[0;34m\u001b[0m\n\u001b[1;32m      4\u001b[0m \u001b[0mnb\u001b[0m \u001b[0;34m=\u001b[0m \u001b[0mNaiveBayesModel\u001b[0m\u001b[0;34m(\u001b[0m\u001b[0;34m)\u001b[0m\u001b[0;34m\u001b[0m\u001b[0;34m\u001b[0m\u001b[0m\n\u001b[1;32m      5\u001b[0m \u001b[0;34m\u001b[0m\u001b[0m\n\u001b[0;32m----> 6\u001b[0;31m \u001b[0mnb\u001b[0m\u001b[0;34m.\u001b[0m\u001b[0mfit\u001b[0m\u001b[0;34m(\u001b[0m\u001b[0mtrain_data\u001b[0m\u001b[0;34m,\u001b[0m\u001b[0mtrain_labels\u001b[0m\u001b[0;34m)\u001b[0m\u001b[0;34m\u001b[0m\u001b[0;34m\u001b[0m\u001b[0m\n\u001b[0m\u001b[1;32m      7\u001b[0m \u001b[0;34m\u001b[0m\u001b[0m\n",
      "\u001b[0;32m<ipython-input-19-1f702f1969bc>\u001b[0m in \u001b[0;36mfit\u001b[0;34m(self, dataset, labels)\u001b[0m\n\u001b[1;32m     16\u001b[0m         \u001b[0mself\u001b[0m\u001b[0;34m.\u001b[0m\u001b[0mtraining_strs\u001b[0m\u001b[0;34m=\u001b[0m\u001b[0mdataset\u001b[0m \u001b[0;31m#Strings com os tweets da planilha\u001b[0m\u001b[0;34m\u001b[0m\u001b[0;34m\u001b[0m\u001b[0m\n\u001b[1;32m     17\u001b[0m         \u001b[0mself\u001b[0m\u001b[0;34m.\u001b[0m\u001b[0mlabels\u001b[0m\u001b[0;34m=\u001b[0m\u001b[0mlabels\u001b[0m \u001b[0;31m#Strings com as classificações (Relevante e Irrelevante)\u001b[0m\u001b[0;34m\u001b[0m\u001b[0;34m\u001b[0m\u001b[0m\n\u001b[0;32m---> 18\u001b[0;31m         \u001b[0mself\u001b[0m\u001b[0;34m.\u001b[0m\u001b[0mclassifications\u001b[0m\u001b[0;34m=\u001b[0m\u001b[0mnp\u001b[0m\u001b[0;34m.\u001b[0m\u001b[0munique\u001b[0m\u001b[0;34m(\u001b[0m\u001b[0mlabels\u001b[0m\u001b[0;34m)\u001b[0m \u001b[0;31m#Lista com classificações (Só precisamos de 1 valor de cada classificação, por isso a utlização do np.unique)\u001b[0m\u001b[0;34m\u001b[0m\u001b[0;34m\u001b[0m\u001b[0m\n\u001b[0m\u001b[1;32m     19\u001b[0m         \u001b[0mself\u001b[0m\u001b[0;34m.\u001b[0m\u001b[0mclassifications_dicts\u001b[0m\u001b[0;34m=\u001b[0m\u001b[0mnp\u001b[0m\u001b[0;34m.\u001b[0m\u001b[0marray\u001b[0m\u001b[0;34m(\u001b[0m\u001b[0;34m[\u001b[0m\u001b[0mdefaultdict\u001b[0m\u001b[0;34m(\u001b[0m\u001b[0;32mlambda\u001b[0m\u001b[0;34m:\u001b[0m \u001b[0;36m0\u001b[0m\u001b[0;34m)\u001b[0m \u001b[0;32mfor\u001b[0m \u001b[0mi\u001b[0m \u001b[0;32min\u001b[0m \u001b[0mrange\u001b[0m\u001b[0;34m(\u001b[0m\u001b[0mself\u001b[0m\u001b[0;34m.\u001b[0m\u001b[0mclassifications\u001b[0m\u001b[0;34m.\u001b[0m\u001b[0mshape\u001b[0m\u001b[0;34m[\u001b[0m\u001b[0;36m0\u001b[0m\u001b[0;34m]\u001b[0m\u001b[0;34m)\u001b[0m\u001b[0;34m]\u001b[0m\u001b[0;34m)\u001b[0m \u001b[0;31m#Lista de dicionários por classificação\u001b[0m\u001b[0;34m\u001b[0m\u001b[0;34m\u001b[0m\u001b[0m\n\u001b[1;32m     20\u001b[0m \u001b[0;34m\u001b[0m\u001b[0m\n",
      "\u001b[0;32m<__array_function__ internals>\u001b[0m in \u001b[0;36munique\u001b[0;34m(*args, **kwargs)\u001b[0m\n",
      "\u001b[0;32m~/opt/anaconda3/lib/python3.7/site-packages/numpy/lib/arraysetops.py\u001b[0m in \u001b[0;36munique\u001b[0;34m(ar, return_index, return_inverse, return_counts, axis)\u001b[0m\n\u001b[1;32m    260\u001b[0m     \u001b[0mar\u001b[0m \u001b[0;34m=\u001b[0m \u001b[0mnp\u001b[0m\u001b[0;34m.\u001b[0m\u001b[0masanyarray\u001b[0m\u001b[0;34m(\u001b[0m\u001b[0mar\u001b[0m\u001b[0;34m)\u001b[0m\u001b[0;34m\u001b[0m\u001b[0;34m\u001b[0m\u001b[0m\n\u001b[1;32m    261\u001b[0m     \u001b[0;32mif\u001b[0m \u001b[0maxis\u001b[0m \u001b[0;32mis\u001b[0m \u001b[0;32mNone\u001b[0m\u001b[0;34m:\u001b[0m\u001b[0;34m\u001b[0m\u001b[0;34m\u001b[0m\u001b[0m\n\u001b[0;32m--> 262\u001b[0;31m         \u001b[0mret\u001b[0m \u001b[0;34m=\u001b[0m \u001b[0m_unique1d\u001b[0m\u001b[0;34m(\u001b[0m\u001b[0mar\u001b[0m\u001b[0;34m,\u001b[0m \u001b[0mreturn_index\u001b[0m\u001b[0;34m,\u001b[0m \u001b[0mreturn_inverse\u001b[0m\u001b[0;34m,\u001b[0m \u001b[0mreturn_counts\u001b[0m\u001b[0;34m)\u001b[0m\u001b[0;34m\u001b[0m\u001b[0;34m\u001b[0m\u001b[0m\n\u001b[0m\u001b[1;32m    263\u001b[0m         \u001b[0;32mreturn\u001b[0m \u001b[0m_unpack_tuple\u001b[0m\u001b[0;34m(\u001b[0m\u001b[0mret\u001b[0m\u001b[0;34m)\u001b[0m\u001b[0;34m\u001b[0m\u001b[0;34m\u001b[0m\u001b[0m\n\u001b[1;32m    264\u001b[0m \u001b[0;34m\u001b[0m\u001b[0m\n",
      "\u001b[0;32m~/opt/anaconda3/lib/python3.7/site-packages/numpy/lib/arraysetops.py\u001b[0m in \u001b[0;36m_unique1d\u001b[0;34m(ar, return_index, return_inverse, return_counts)\u001b[0m\n\u001b[1;32m    308\u001b[0m         \u001b[0maux\u001b[0m \u001b[0;34m=\u001b[0m \u001b[0mar\u001b[0m\u001b[0;34m[\u001b[0m\u001b[0mperm\u001b[0m\u001b[0;34m]\u001b[0m\u001b[0;34m\u001b[0m\u001b[0;34m\u001b[0m\u001b[0m\n\u001b[1;32m    309\u001b[0m     \u001b[0;32melse\u001b[0m\u001b[0;34m:\u001b[0m\u001b[0;34m\u001b[0m\u001b[0;34m\u001b[0m\u001b[0m\n\u001b[0;32m--> 310\u001b[0;31m         \u001b[0mar\u001b[0m\u001b[0;34m.\u001b[0m\u001b[0msort\u001b[0m\u001b[0;34m(\u001b[0m\u001b[0;34m)\u001b[0m\u001b[0;34m\u001b[0m\u001b[0;34m\u001b[0m\u001b[0m\n\u001b[0m\u001b[1;32m    311\u001b[0m         \u001b[0maux\u001b[0m \u001b[0;34m=\u001b[0m \u001b[0mar\u001b[0m\u001b[0;34m\u001b[0m\u001b[0;34m\u001b[0m\u001b[0m\n\u001b[1;32m    312\u001b[0m     \u001b[0mmask\u001b[0m \u001b[0;34m=\u001b[0m \u001b[0mnp\u001b[0m\u001b[0;34m.\u001b[0m\u001b[0mempty\u001b[0m\u001b[0;34m(\u001b[0m\u001b[0maux\u001b[0m\u001b[0;34m.\u001b[0m\u001b[0mshape\u001b[0m\u001b[0;34m,\u001b[0m \u001b[0mdtype\u001b[0m\u001b[0;34m=\u001b[0m\u001b[0mnp\u001b[0m\u001b[0;34m.\u001b[0m\u001b[0mbool_\u001b[0m\u001b[0;34m)\u001b[0m\u001b[0;34m\u001b[0m\u001b[0;34m\u001b[0m\u001b[0m\n",
      "\u001b[0;31mTypeError\u001b[0m: '<' not supported between instances of 'float' and 'str'"
     ]
    }
   ],
   "source": [
    "train_data = train['Treinamento']\n",
    "train_labels = train['Classificação']\n",
    "\n",
    "nb = NaiveBayesModel()\n",
    "\n",
    "nb.fit(train_data,train_labels)\n",
    "\n"
   ]
  },
  {
   "cell_type": "code",
   "execution_count": null,
   "metadata": {},
   "outputs": [],
   "source": [
    "train_data = train['Treinamento']\n",
    "train_data"
   ]
  },
  {
   "cell_type": "code",
   "execution_count": null,
   "metadata": {},
   "outputs": [],
   "source": [
    "test_data = test['Teste']\n",
    "test_labels = test['Classificação']\n",
    "\n",
    "novas_classificacoes = nb.predict(test_data)\n",
    "\n"
   ]
  },
  {
   "cell_type": "code",
   "execution_count": null,
   "metadata": {},
   "outputs": [],
   "source": [
    "# Classificador Naive Bayes\n",
    "\n",
    "# Separando as classificações:\n",
    "\n",
    "#class NaiveBayesModel:\n",
    "    \n",
    "    #def fit(self, X, y): # Onde X são os tweets, e y as categorias.\n",
    "        #self.training = X\n",
    "        \n",
    "#for i, classificacao in enumerate(np.unique(train['Classificação'])): # i representa o tweet e classificacao as categorias\n",
    "#    unica_classificacao = self.training[self.y == classificacao]\n",
    "#    unica_classificacao_limpa = [cleanup(i) for i in unica_classificacao]\n",
    "#    unica_classificacao_limpa = pd.DataFrame(data=unica_classificacao_limpa)#\n",
    "    \n",
    "#for i, classificacao in enumerate(np.unique(train['Classificação'])): # i representa o tweet e classificacao as categorias\n",
    "#    unica_classificacao = train.Treinamento[train.Classificacao == classificacao]\n",
    "#    unica_classificacao_limpa = [cleanup(i) for i in unica_classificacao]\n",
    "#    unica_classificacao_limpa = pd.DataFrame(data=unica_classificacao_limpa)\n",
    "    \n",
    "#    unica_classificacao_limpa\n",
    "\n",
    "train_relevantes = train.loc[train['Classificação'] == 'Relevante',:]\n",
    "train_irrelevantes = train.loc[train['Classificação'] == 'Não relevante',:]\n",
    "\n",
    "train_relevantes_tweets = train_relevantes['Treinamento']\n",
    "\n",
    "train_relevantes_tweets\n",
    "\n",
    "\n",
    "\n",
    "lista_train_relevantes_tweets = train_relevantes_tweets.tolist()\n",
    "\n",
    "lista_train_relevantes_tweets\n",
    "\n",
    "#for i in lista_train_relevantes_tweets:\n",
    "    #lista_train_relevantes_tweets_limpos.append(cleanup(i))\n",
    "    \n",
    "#lista_train_relevantes_tweets_limpos\n",
    "\n",
    "#lista_train_relevantes_tweets_limpos = [cleanup(i) for i in lista_train_relevantes_tweets]\n",
    "\n",
    "#lista_train_relevantes_tweets_limpos\n",
    "\n",
    "#for i in lista_train_relevantes_tweets:\n",
    "    \n",
    "    \n",
    "#for i in train_relevantes_tweets:\n",
    " #   train_relevantes_tweets_limpos = cleanup(train_relevantes_tweets[i])\n",
    "    \n",
    "#train_relevantes_tweets_limpos\n",
    "\n",
    "\n",
    "\n",
    "\n",
    "#todas_palavras_relevante = train_relevantes.split()\n",
    "#todas_palavras_irrelevante = train_irrelevantes.split()\n",
    "\n"
   ]
  },
  {
   "cell_type": "code",
   "execution_count": 71,
   "metadata": {},
   "outputs": [
    {
     "ename": "NameError",
     "evalue": "name 'novas_classificacoes' is not defined",
     "output_type": "error",
     "traceback": [
      "\u001b[0;31m---------------------------------------------------------------------------\u001b[0m",
      "\u001b[0;31mNameError\u001b[0m                                 Traceback (most recent call last)",
      "\u001b[0;32m<ipython-input-71-a21ff24372c4>\u001b[0m in \u001b[0;36m<module>\u001b[0;34m\u001b[0m\n\u001b[0;32m----> 1\u001b[0;31m \u001b[0mtest\u001b[0m\u001b[0;34m[\u001b[0m\u001b[0;34m'Predição'\u001b[0m\u001b[0;34m]\u001b[0m \u001b[0;34m=\u001b[0m \u001b[0mnovas_classificacoes\u001b[0m\u001b[0;34m\u001b[0m\u001b[0;34m\u001b[0m\u001b[0m\n\u001b[0m\u001b[1;32m      2\u001b[0m \u001b[0mtest\u001b[0m\u001b[0;34m.\u001b[0m\u001b[0mhead\u001b[0m\u001b[0;34m(\u001b[0m\u001b[0;34m)\u001b[0m\u001b[0;34m\u001b[0m\u001b[0;34m\u001b[0m\u001b[0m\n",
      "\u001b[0;31mNameError\u001b[0m: name 'novas_classificacoes' is not defined"
     ]
    }
   ],
   "source": [
    "test['Predição'] = novas_classificacoes\n",
    "test.head()"
   ]
  },
  {
   "cell_type": "markdown",
   "metadata": {},
   "source": [
    "___\n",
    "### Verificando a performance do Classificador\n",
    "\n",
    "Agora você deve testar o seu classificador com a base de Testes."
   ]
  },
  {
   "cell_type": "code",
   "execution_count": 95,
   "metadata": {},
   "outputs": [],
   "source": [
    "\n",
    "# Classificador Naive Bayes\n",
    "\n",
    "class NaiveBayesModel:\n",
    "\n",
    "    def dictIncrement(self, string_tweet, dict_index):\n",
    "        str_array = str_array[0]\n",
    "\n",
    "       # Cria um dicionário que acrescenta a quantidade de vezes que uma dada palvara aparece em cada classificação\n",
    "        for palavra in string_tweet.split():\n",
    "            self._classes_dict[dict_index][palavra] += 1\n",
    "\n",
    "    def fit(self, X, y):\n",
    "        self.training = X\n",
    "        self.y = y # Ou sem o self\n",
    "        self._classes = np.unique(y) # Lista das categorias\n",
    "        self._classes_dict = np.array([defaultdict(lambda: 0) for i in range(self._classes.shape[0])])\n",
    "        n_classes = len(self._classes) # Número de categorias\n",
    "\n",
    "        for i, classificacao in enumerate(self._classes): # i representa o tweet e classificacao as categorias\n",
    "            unica_classificacao = self.training[self.y == classificacao]\n",
    "            unica_classificacao_limpa = [cleanup(i) for i in unica_classificacao]\n",
    "            unica_classificacao_limpa = pd.DataFrame(data=unica_classificacao_limpa)#\n",
    "\n",
    "            np.apply_along_axis(self.dictIncrement, 1, unica_classificacao_limpa, i)#\n",
    "\n",
    "        P_classificacao = np.empty(self.y.shape[0])\n",
    "        todas_palavras = []\n",
    "        palavras_p_classificacao = np.empty(self.y.shape[0])#\n",
    "\n",
    "        for i, classificacao in enumerate(self.y):\n",
    "            P_classificacao[i] = np.sum(self.y==classificacao)/float(self.y.shape[0])\n",
    "            palavras_p_classificacao[i] = np.sum(np.array(list(self._classes_dict[i].values())))\n",
    "            todas_palavras += self._classes_dict[i].keys()\n",
    "        self.todas_palavras_s_repeticao = np.unique(np.array(todas_palavras))\n",
    "        self.tamanho_todas_palavras_s_repeticao = self.todas_palavras_s_repeticao.shape[0]\n",
    "\n",
    "        denominador = np.array([palavras_p_classificao[i] + self.tamanho_todas_palavras_s_repeticao for i, clssificacao in enumerate(self.y)])\n",
    "\n",
    "        self.lista_categorias = [(self._classes_dict[i], P_classificacao[i], denominador[i]) for i, classificacao in enumerate(self.y)]\n",
    "        self.lista_categorias = np.array(self.lista_categorias)\n",
    "\n",
    "    def predictStrForEachClassification(self, frase):\n",
    "        P_palavra = np.zeros(self.y.shape[0])\n",
    "        for i, classificacao in enumerate(self.y):\n",
    "            frase = cleanup(frase)\n",
    "            for test_token in phrase.split():\n",
    "                test_token_counts = self.lista_categorias[i][0].get(test_token, 0)+1\n",
    "                P_palavra = test_token_counts/float(self,lista_categorias[i][2])\n",
    "\n",
    "                P_palavras[i] += np.log(P_palavra)\n",
    "\n",
    "        P_frase = np.empty(self.y.shape[0])\n",
    "        for i, classificacao in enumerate(self.y):\n",
    "            P_frase[i] = P_palavras[i] + np.log(self._lista_palavras[i][1])\n",
    "        return P_frase\n",
    "\n",
    "    def predict(self, teste):\n",
    "        predicoes = []\n",
    "        for string_teste in teste:\n",
    "            P_frase = self.predictStrForEachClassification(string_test)\n",
    "            predicoes.append(self.y[np.argmax(P_frase)])\n",
    "        return np.array(predicoes)"
   ]
  },
  {
   "cell_type": "code",
   "execution_count": 93,
   "metadata": {},
   "outputs": [
    {
     "ename": "NameError",
     "evalue": "name 'todas_palavras_relevantes' is not defined",
     "output_type": "error",
     "traceback": [
      "\u001b[0;31m---------------------------------------------------------------------------\u001b[0m",
      "\u001b[0;31mNameError\u001b[0m                                 Traceback (most recent call last)",
      "\u001b[0;32m<ipython-input-93-fc0501fea42a>\u001b[0m in \u001b[0;36m<module>\u001b[0;34m\u001b[0m\n\u001b[0;32m----> 1\u001b[0;31m \u001b[0mserie_relevantes\u001b[0m \u001b[0;34m=\u001b[0m \u001b[0mpd\u001b[0m\u001b[0;34m.\u001b[0m\u001b[0mSeries\u001b[0m\u001b[0;34m(\u001b[0m\u001b[0mtodas_palavras_relevantes\u001b[0m\u001b[0;34m)\u001b[0m\u001b[0;34m\u001b[0m\u001b[0;34m\u001b[0m\u001b[0m\n\u001b[0m\u001b[1;32m      2\u001b[0m \u001b[0mserie_relevantes\u001b[0m\u001b[0;34m.\u001b[0m\u001b[0mhead\u001b[0m\u001b[0;34m(\u001b[0m\u001b[0;36m10\u001b[0m\u001b[0;34m)\u001b[0m\u001b[0;34m\u001b[0m\u001b[0;34m\u001b[0m\u001b[0m\n",
      "\u001b[0;31mNameError\u001b[0m: name 'todas_palavras_relevantes' is not defined"
     ]
    }
   ],
   "source": [
    "serie_relevantes = pd.Series(todas_palavras_relevantes)\n",
    "serie_relevantes.head(10)"
   ]
  },
  {
   "cell_type": "code",
   "execution_count": null,
   "metadata": {},
   "outputs": [],
   "source": []
  },
  {
   "cell_type": "code",
   "execution_count": null,
   "metadata": {},
   "outputs": [],
   "source": []
  },
  {
   "cell_type": "code",
   "execution_count": null,
   "metadata": {},
   "outputs": [],
   "source": []
  },
  {
   "cell_type": "markdown",
   "metadata": {},
   "source": [
    "## Porque não posso alimentar minha base de Treinamento automaticamente usando o próprio classificador, aplicado a novos tweets?"
   ]
  },
  {
   "cell_type": "markdown",
   "metadata": {},
   "source": []
  },
  {
   "cell_type": "markdown",
   "metadata": {},
   "source": [
    "## Diferentes cenários de uso para o classificador Naive-Bayes:"
   ]
  },
  {
   "cell_type": "code",
   "execution_count": null,
   "metadata": {},
   "outputs": [],
   "source": []
  },
  {
   "cell_type": "markdown",
   "metadata": {},
   "source": [
    "## Possíveis melhorias para o classificador Naive-Bayes:"
   ]
  },
  {
   "cell_type": "code",
   "execution_count": null,
   "metadata": {},
   "outputs": [],
   "source": []
  },
  {
   "cell_type": "markdown",
   "metadata": {},
   "source": [
    "___\n",
    "### Concluindo"
   ]
  },
  {
   "cell_type": "code",
   "execution_count": null,
   "metadata": {},
   "outputs": [],
   "source": []
  },
  {
   "cell_type": "code",
   "execution_count": null,
   "metadata": {},
   "outputs": [],
   "source": []
  },
  {
   "cell_type": "code",
   "execution_count": null,
   "metadata": {},
   "outputs": [],
   "source": []
  },
  {
   "cell_type": "markdown",
   "metadata": {},
   "source": [
    "___\n",
    "### Qualidade do Classificador a partir de novas separações dos tweets entre Treinamento e Teste\n",
    "\n",
    "Caso for fazer esse item do Projeto"
   ]
  },
  {
   "cell_type": "code",
   "execution_count": null,
   "metadata": {},
   "outputs": [],
   "source": []
  },
  {
   "cell_type": "code",
   "execution_count": null,
   "metadata": {},
   "outputs": [],
   "source": []
  },
  {
   "cell_type": "code",
   "execution_count": null,
   "metadata": {},
   "outputs": [],
   "source": []
  },
  {
   "cell_type": "markdown",
   "metadata": {},
   "source": [
    "___\n",
    "## Aperfeiçoamento:\n",
    "\n",
    "Os trabalhos vão evoluir em conceito dependendo da quantidade de itens avançados:\n",
    "\n",
    "* Limpar: \\n, :, \", ', (, ), etc SEM remover emojis\n",
    "* Corrigir separação de espaços entre palavras e emojis ou entre emojis e emojis\n",
    "* Propor outras limpezas e transformações que não afetem a qualidade da informação ou classificação\n",
    "* Criar categorias intermediárias de relevância baseadas na probabilidade: ex.: muito relevante, relevante, neutro, irrelevante, muito irrelevante (3 categorias: C, mais categorias conta para B)\n",
    "* Explicar por que não posso usar o próprio classificador para gerar mais amostras de treinamento\n",
    "* Propor diferentes cenários para Naïve Bayes fora do contexto do projeto\n",
    "* Sugerir e explicar melhorias reais com indicações concretas de como implementar (indicar como fazer e indicar material de pesquisa)\n"
   ]
  },
  {
   "cell_type": "markdown",
   "metadata": {},
   "source": [
    "___\n",
    "## Referências"
   ]
  },
  {
   "cell_type": "markdown",
   "metadata": {},
   "source": [
    "[Naive Bayes and Text Classification](https://arxiv.org/pdf/1410.5329.pdf)  **Mais completo**\n",
    "\n",
    "[A practical explanation of a Naive Bayes Classifier](https://monkeylearn.com/blog/practical-explanation-naive-bayes-classifier/) **Mais simples**\n",
    "\n",
    "[Cleaning Text Data with Python](https://towardsdatascience.com/cleaning-text-data-with-python-b69b47b97b76) **Cleanup Text Function**\n",
    "\n",
    "[Laplace smoothing in Naïve Bayes algorithm](https://towardsdatascience.com/laplace-smoothing-in-na%C3%AFve-bayes-algorithm-9c237a8bdece) **Método de La Place Smoothing**\n",
    "\n",
    "[Naive Bayes Classifier From Scratch in Python](https://machinelearningmastery.com/naive-bayes-classifier-scratch-python/) **Naive Bayes Classifier from scratch**\n",
    "\n",
    "[In Depth: Naive Bayes Classification](https://jakevdp.github.io/PythonDataScienceHandbook/05.05-naive-bayes.html) **Confusion Matrix**"
   ]
  },
  {
   "cell_type": "code",
   "execution_count": null,
   "metadata": {},
   "outputs": [],
   "source": []
  }
 ],
 "metadata": {
  "kernelspec": {
   "display_name": "Python 3",
   "language": "python",
   "name": "python3"
  },
  "language_info": {
   "codemirror_mode": {
    "name": "ipython",
    "version": 3
   },
   "file_extension": ".py",
   "mimetype": "text/x-python",
   "name": "python",
   "nbconvert_exporter": "python",
   "pygments_lexer": "ipython3",
   "version": "3.7.4"
  }
 },
 "nbformat": 4,
 "nbformat_minor": 4
}
